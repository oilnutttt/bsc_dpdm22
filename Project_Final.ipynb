{
  "nbformat": 4,
  "nbformat_minor": 0,
  "metadata": {
    "colab": {
      "provenance": [],
      "toc_visible": true,
      "include_colab_link": true
    },
    "kernelspec": {
      "name": "python3",
      "display_name": "Python 3"
    },
    "language_info": {
      "name": "python"
    }
  },
  "cells": [
    {
      "cell_type": "markdown",
      "metadata": {
        "id": "view-in-github",
        "colab_type": "text"
      },
      "source": [
        "<a href=\"https://colab.research.google.com/github/oilnutttt/bsc_dpdm22/blob/main/Project_Final.ipynb\" target=\"_parent\"><img src=\"https://colab.research.google.com/assets/colab-badge.svg\" alt=\"Open In Colab\"/></a>"
      ]
    },
    {
      "cell_type": "markdown",
      "source": [
        "https://www.kaggle.com/datasets/ayessa/salary-prediction-classification"
      ],
      "metadata": {
        "id": "y9YOX6KGPx_U"
      }
    },
    {
      "cell_type": "markdown",
      "source": [
        "# รายชื่อสมาชิกกลุ่ม\n",
        "- 3. นางสาวณัชกมล อัมฤตานนท์ 633020439-4\n",
        "- 6. นางสาวทิพเกษร ยอดคุณ 633020442-5\n",
        "- 25. นางสาวปิ่นมนัส สุระเกษ 633021018-3\n",
        "- 34. นางสาวอภิศรา พงษ์เซียงซา 633021027-2"
      ],
      "metadata": {
        "id": "uUgqZNkzM1Uh"
      }
    },
    {
      "cell_type": "markdown",
      "source": [
        "# สไลด์\n",
        "https://www.canva.com/design/DAFeaN7R7Rk/8a-Tv8L1AYjlV7AKroX-sg/edit?utm_content=DAFeaN7R7Rk&utm_campaign=designshare&utm_medium=link2&utm_source=sharebutton"
      ],
      "metadata": {
        "id": "L_mR0hkEMuPv"
      }
    },
    {
      "cell_type": "code",
      "execution_count": 1,
      "metadata": {
        "id": "-tPjona3JGeF"
      },
      "outputs": [],
      "source": [
        "import pandas as pd\n",
        "import os"
      ]
    },
    {
      "cell_type": "code",
      "source": [
        "#cross validation\n",
        "from sklearn.model_selection import cross_val_score\n",
        "from sklearn.model_selection import GridSearchCV\n",
        "from sklearn.model_selection import KFold\n",
        "from sklearn.model_selection import LeaveOneOut\n",
        "#decision tree\n",
        "from sklearn.tree import DecisionTreeClassifier\n",
        "from sklearn.model_selection import train_test_split\n",
        "from sklearn.metrics import accuracy_score\n",
        "from sklearn.tree import plot_tree\n",
        "#Naive Bayes\n",
        "from sklearn.naive_bayes import GaussianNB\n",
        "from sklearn.metrics import classification_report\n",
        "#KNN\n",
        "from sklearn.preprocessing import StandardScaler\n",
        "from sklearn.neighbors import KNeighborsClassifier\n",
        "#association rules\n",
        "from mlxtend.frequent_patterns import apriori\n",
        "from mlxtend.frequent_patterns import association_rules\n",
        "#k-means\n",
        "import numpy as np\n",
        "import matplotlib.pyplot as plt\n",
        "from sklearn.cluster import KMeans"
      ],
      "metadata": {
        "id": "bOimZBhGawWK"
      },
      "execution_count": 2,
      "outputs": []
    },
    {
      "cell_type": "code",
      "source": [
        "#association rules\n",
        "#!pip install apyori\n",
        "#from apyori import apriori"
      ],
      "metadata": {
        "id": "PkOHdWibX_pt"
      },
      "execution_count": 3,
      "outputs": []
    },
    {
      "cell_type": "code",
      "source": [
        "from google.colab import drive \n",
        "drive.mount('/content/gdrive')"
      ],
      "metadata": {
        "colab": {
          "base_uri": "https://localhost:8080/"
        },
        "id": "sNscU628FXay",
        "outputId": "3b1c4901-9965-47cf-a5be-bcf4adebfff8"
      },
      "execution_count": 4,
      "outputs": [
        {
          "output_type": "stream",
          "name": "stdout",
          "text": [
            "Mounted at /content/gdrive\n"
          ]
        }
      ]
    },
    {
      "cell_type": "markdown",
      "source": [
        "# import data"
      ],
      "metadata": {
        "id": "V1v9BOtVwNOp"
      }
    },
    {
      "cell_type": "code",
      "source": [
        "data_salary = pd.read_csv('/content/gdrive/MyDrive/bscpj/salary.csv')\n",
        "print(data_salary.shape)\n",
        "data_salary.head(3)"
      ],
      "metadata": {
        "id": "tdRBJTA2FpXT",
        "colab": {
          "base_uri": "https://localhost:8080/",
          "height": 291
        },
        "outputId": "0532aba8-6439-4f12-d88d-57c3099dcade"
      },
      "execution_count": 5,
      "outputs": [
        {
          "output_type": "stream",
          "name": "stdout",
          "text": [
            "(32561, 15)\n"
          ]
        },
        {
          "output_type": "execute_result",
          "data": {
            "text/plain": [
              "   age          workclass  fnlwgt   education  education-num  \\\n",
              "0   39          State-gov   77516   Bachelors             13   \n",
              "1   50   Self-emp-not-inc   83311   Bachelors             13   \n",
              "2   38            Private  215646     HS-grad              9   \n",
              "\n",
              "        marital-status          occupation    relationship    race    sex  \\\n",
              "0        Never-married        Adm-clerical   Not-in-family   White   Male   \n",
              "1   Married-civ-spouse     Exec-managerial         Husband   White   Male   \n",
              "2             Divorced   Handlers-cleaners   Not-in-family   White   Male   \n",
              "\n",
              "   capital-gain  capital-loss  hours-per-week  native-country  salary  \n",
              "0          2174             0              40   United-States   <=50K  \n",
              "1             0             0              13   United-States   <=50K  \n",
              "2             0             0              40   United-States   <=50K  "
            ],
            "text/html": [
              "\n",
              "  <div id=\"df-80c3f293-d52d-49a2-8211-ae23db9ab00f\">\n",
              "    <div class=\"colab-df-container\">\n",
              "      <div>\n",
              "<style scoped>\n",
              "    .dataframe tbody tr th:only-of-type {\n",
              "        vertical-align: middle;\n",
              "    }\n",
              "\n",
              "    .dataframe tbody tr th {\n",
              "        vertical-align: top;\n",
              "    }\n",
              "\n",
              "    .dataframe thead th {\n",
              "        text-align: right;\n",
              "    }\n",
              "</style>\n",
              "<table border=\"1\" class=\"dataframe\">\n",
              "  <thead>\n",
              "    <tr style=\"text-align: right;\">\n",
              "      <th></th>\n",
              "      <th>age</th>\n",
              "      <th>workclass</th>\n",
              "      <th>fnlwgt</th>\n",
              "      <th>education</th>\n",
              "      <th>education-num</th>\n",
              "      <th>marital-status</th>\n",
              "      <th>occupation</th>\n",
              "      <th>relationship</th>\n",
              "      <th>race</th>\n",
              "      <th>sex</th>\n",
              "      <th>capital-gain</th>\n",
              "      <th>capital-loss</th>\n",
              "      <th>hours-per-week</th>\n",
              "      <th>native-country</th>\n",
              "      <th>salary</th>\n",
              "    </tr>\n",
              "  </thead>\n",
              "  <tbody>\n",
              "    <tr>\n",
              "      <th>0</th>\n",
              "      <td>39</td>\n",
              "      <td>State-gov</td>\n",
              "      <td>77516</td>\n",
              "      <td>Bachelors</td>\n",
              "      <td>13</td>\n",
              "      <td>Never-married</td>\n",
              "      <td>Adm-clerical</td>\n",
              "      <td>Not-in-family</td>\n",
              "      <td>White</td>\n",
              "      <td>Male</td>\n",
              "      <td>2174</td>\n",
              "      <td>0</td>\n",
              "      <td>40</td>\n",
              "      <td>United-States</td>\n",
              "      <td>&lt;=50K</td>\n",
              "    </tr>\n",
              "    <tr>\n",
              "      <th>1</th>\n",
              "      <td>50</td>\n",
              "      <td>Self-emp-not-inc</td>\n",
              "      <td>83311</td>\n",
              "      <td>Bachelors</td>\n",
              "      <td>13</td>\n",
              "      <td>Married-civ-spouse</td>\n",
              "      <td>Exec-managerial</td>\n",
              "      <td>Husband</td>\n",
              "      <td>White</td>\n",
              "      <td>Male</td>\n",
              "      <td>0</td>\n",
              "      <td>0</td>\n",
              "      <td>13</td>\n",
              "      <td>United-States</td>\n",
              "      <td>&lt;=50K</td>\n",
              "    </tr>\n",
              "    <tr>\n",
              "      <th>2</th>\n",
              "      <td>38</td>\n",
              "      <td>Private</td>\n",
              "      <td>215646</td>\n",
              "      <td>HS-grad</td>\n",
              "      <td>9</td>\n",
              "      <td>Divorced</td>\n",
              "      <td>Handlers-cleaners</td>\n",
              "      <td>Not-in-family</td>\n",
              "      <td>White</td>\n",
              "      <td>Male</td>\n",
              "      <td>0</td>\n",
              "      <td>0</td>\n",
              "      <td>40</td>\n",
              "      <td>United-States</td>\n",
              "      <td>&lt;=50K</td>\n",
              "    </tr>\n",
              "  </tbody>\n",
              "</table>\n",
              "</div>\n",
              "      <button class=\"colab-df-convert\" onclick=\"convertToInteractive('df-80c3f293-d52d-49a2-8211-ae23db9ab00f')\"\n",
              "              title=\"Convert this dataframe to an interactive table.\"\n",
              "              style=\"display:none;\">\n",
              "        \n",
              "  <svg xmlns=\"http://www.w3.org/2000/svg\" height=\"24px\"viewBox=\"0 0 24 24\"\n",
              "       width=\"24px\">\n",
              "    <path d=\"M0 0h24v24H0V0z\" fill=\"none\"/>\n",
              "    <path d=\"M18.56 5.44l.94 2.06.94-2.06 2.06-.94-2.06-.94-.94-2.06-.94 2.06-2.06.94zm-11 1L8.5 8.5l.94-2.06 2.06-.94-2.06-.94L8.5 2.5l-.94 2.06-2.06.94zm10 10l.94 2.06.94-2.06 2.06-.94-2.06-.94-.94-2.06-.94 2.06-2.06.94z\"/><path d=\"M17.41 7.96l-1.37-1.37c-.4-.4-.92-.59-1.43-.59-.52 0-1.04.2-1.43.59L10.3 9.45l-7.72 7.72c-.78.78-.78 2.05 0 2.83L4 21.41c.39.39.9.59 1.41.59.51 0 1.02-.2 1.41-.59l7.78-7.78 2.81-2.81c.8-.78.8-2.07 0-2.86zM5.41 20L4 18.59l7.72-7.72 1.47 1.35L5.41 20z\"/>\n",
              "  </svg>\n",
              "      </button>\n",
              "      \n",
              "  <style>\n",
              "    .colab-df-container {\n",
              "      display:flex;\n",
              "      flex-wrap:wrap;\n",
              "      gap: 12px;\n",
              "    }\n",
              "\n",
              "    .colab-df-convert {\n",
              "      background-color: #E8F0FE;\n",
              "      border: none;\n",
              "      border-radius: 50%;\n",
              "      cursor: pointer;\n",
              "      display: none;\n",
              "      fill: #1967D2;\n",
              "      height: 32px;\n",
              "      padding: 0 0 0 0;\n",
              "      width: 32px;\n",
              "    }\n",
              "\n",
              "    .colab-df-convert:hover {\n",
              "      background-color: #E2EBFA;\n",
              "      box-shadow: 0px 1px 2px rgba(60, 64, 67, 0.3), 0px 1px 3px 1px rgba(60, 64, 67, 0.15);\n",
              "      fill: #174EA6;\n",
              "    }\n",
              "\n",
              "    [theme=dark] .colab-df-convert {\n",
              "      background-color: #3B4455;\n",
              "      fill: #D2E3FC;\n",
              "    }\n",
              "\n",
              "    [theme=dark] .colab-df-convert:hover {\n",
              "      background-color: #434B5C;\n",
              "      box-shadow: 0px 1px 3px 1px rgba(0, 0, 0, 0.15);\n",
              "      filter: drop-shadow(0px 1px 2px rgba(0, 0, 0, 0.3));\n",
              "      fill: #FFFFFF;\n",
              "    }\n",
              "  </style>\n",
              "\n",
              "      <script>\n",
              "        const buttonEl =\n",
              "          document.querySelector('#df-80c3f293-d52d-49a2-8211-ae23db9ab00f button.colab-df-convert');\n",
              "        buttonEl.style.display =\n",
              "          google.colab.kernel.accessAllowed ? 'block' : 'none';\n",
              "\n",
              "        async function convertToInteractive(key) {\n",
              "          const element = document.querySelector('#df-80c3f293-d52d-49a2-8211-ae23db9ab00f');\n",
              "          const dataTable =\n",
              "            await google.colab.kernel.invokeFunction('convertToInteractive',\n",
              "                                                     [key], {});\n",
              "          if (!dataTable) return;\n",
              "\n",
              "          const docLinkHtml = 'Like what you see? Visit the ' +\n",
              "            '<a target=\"_blank\" href=https://colab.research.google.com/notebooks/data_table.ipynb>data table notebook</a>'\n",
              "            + ' to learn more about interactive tables.';\n",
              "          element.innerHTML = '';\n",
              "          dataTable['output_type'] = 'display_data';\n",
              "          await google.colab.output.renderOutput(dataTable, element);\n",
              "          const docLink = document.createElement('div');\n",
              "          docLink.innerHTML = docLinkHtml;\n",
              "          element.appendChild(docLink);\n",
              "        }\n",
              "      </script>\n",
              "    </div>\n",
              "  </div>\n",
              "  "
            ]
          },
          "metadata": {},
          "execution_count": 5
        }
      ]
    },
    {
      "cell_type": "markdown",
      "source": [
        "# Data preparation"
      ],
      "metadata": {
        "id": "u4kSU3OdwQvd"
      }
    },
    {
      "cell_type": "markdown",
      "source": [
        "## สร้างคอลัมน์ ID ให้กับข้อมูล"
      ],
      "metadata": {
        "id": "dex1fZKWcSWh"
      }
    },
    {
      "cell_type": "code",
      "source": [
        "#data_salary['ID'] = data_salary.reset_index().index"
      ],
      "metadata": {
        "id": "9TFrgK8TcRpL"
      },
      "execution_count": 6,
      "outputs": []
    },
    {
      "cell_type": "markdown",
      "source": [
        "## Select columns"
      ],
      "metadata": {
        "id": "ouUCrcNGRXo1"
      }
    },
    {
      "cell_type": "code",
      "source": [
        "data_salary.columns"
      ],
      "metadata": {
        "id": "BdzzthqBQhPE",
        "colab": {
          "base_uri": "https://localhost:8080/"
        },
        "outputId": "2a7c33d1-4fdb-44c5-b63a-120ceffc70e7"
      },
      "execution_count": 7,
      "outputs": [
        {
          "output_type": "execute_result",
          "data": {
            "text/plain": [
              "Index(['age', 'workclass', 'fnlwgt', 'education', 'education-num',\n",
              "       'marital-status', 'occupation', 'relationship', 'race', 'sex',\n",
              "       'capital-gain', 'capital-loss', 'hours-per-week', 'native-country',\n",
              "       'salary'],\n",
              "      dtype='object')"
            ]
          },
          "metadata": {},
          "execution_count": 7
        }
      ]
    },
    {
      "cell_type": "code",
      "source": [
        "data = data_salary[['age', 'workclass', 'education', 'marital-status',\n",
        "       'occupation', 'relationship', 'race', 'sex', \n",
        "       'hours-per-week', 'native-country',\n",
        "       'salary']]"
      ],
      "metadata": {
        "id": "TFLWQrwCRA0t"
      },
      "execution_count": 8,
      "outputs": []
    },
    {
      "cell_type": "code",
      "source": [
        "data.shape"
      ],
      "metadata": {
        "id": "_t823ufYRSlP",
        "colab": {
          "base_uri": "https://localhost:8080/"
        },
        "outputId": "a05264f9-d882-428a-ba0d-88d34cbea76d"
      },
      "execution_count": 9,
      "outputs": [
        {
          "output_type": "execute_result",
          "data": {
            "text/plain": [
              "(32561, 11)"
            ]
          },
          "metadata": {},
          "execution_count": 9
        }
      ]
    },
    {
      "cell_type": "markdown",
      "source": [
        "## check missing"
      ],
      "metadata": {
        "id": "D9sSfi0oRgT5"
      }
    },
    {
      "cell_type": "code",
      "source": [
        "data.isnull().any()"
      ],
      "metadata": {
        "id": "9rktdzUFRUms",
        "colab": {
          "base_uri": "https://localhost:8080/"
        },
        "outputId": "8f42488a-5f47-4999-bb8c-2cdf948ad29e"
      },
      "execution_count": 10,
      "outputs": [
        {
          "output_type": "execute_result",
          "data": {
            "text/plain": [
              "age               False\n",
              "workclass         False\n",
              "education         False\n",
              "marital-status    False\n",
              "occupation        False\n",
              "relationship      False\n",
              "race              False\n",
              "sex               False\n",
              "hours-per-week    False\n",
              "native-country    False\n",
              "salary            False\n",
              "dtype: bool"
            ]
          },
          "metadata": {},
          "execution_count": 10
        }
      ]
    },
    {
      "cell_type": "markdown",
      "source": [
        "จากการ check missing พบว่า ไม่มี missing"
      ],
      "metadata": {
        "id": "ZD-bsu4kRtXY"
      }
    },
    {
      "cell_type": "markdown",
      "source": [
        "แต่มีข้อมูลที่ไม่รู้ คือ ?"
      ],
      "metadata": {
        "id": "IQM20l_nEH1j"
      }
    },
    {
      "cell_type": "code",
      "source": [
        "data[(data['workclass'] == ' ?') | (data['occupation'] == ' ?') | (data['native-country'] == ' ?')].shape"
      ],
      "metadata": {
        "id": "CmnEb4C7Ect6",
        "colab": {
          "base_uri": "https://localhost:8080/"
        },
        "outputId": "9089dbc7-3ace-4d64-f037-359c7a21e236"
      },
      "execution_count": 11,
      "outputs": [
        {
          "output_type": "execute_result",
          "data": {
            "text/plain": [
              "(2399, 11)"
            ]
          },
          "metadata": {},
          "execution_count": 11
        }
      ]
    },
    {
      "cell_type": "markdown",
      "source": [
        "จึงทำการ drop ออก"
      ],
      "metadata": {
        "id": "0ae8DnHDER3o"
      }
    },
    {
      "cell_type": "code",
      "source": [
        "data.drop(data.loc[(data['workclass'] == ' ?') | (data['occupation'] == ' ?') | (data['native-country'] == ' ?')].index, inplace=True)"
      ],
      "metadata": {
        "id": "9U6v2LUzEL6O",
        "colab": {
          "base_uri": "https://localhost:8080/"
        },
        "outputId": "860a288f-d65c-4b6c-b986-fd75e034c0ea"
      },
      "execution_count": 12,
      "outputs": [
        {
          "output_type": "stream",
          "name": "stderr",
          "text": [
            "<ipython-input-12-c4d5fc988110>:1: SettingWithCopyWarning: \n",
            "A value is trying to be set on a copy of a slice from a DataFrame\n",
            "\n",
            "See the caveats in the documentation: https://pandas.pydata.org/pandas-docs/stable/user_guide/indexing.html#returning-a-view-versus-a-copy\n",
            "  data.drop(data.loc[(data['workclass'] == ' ?') | (data['occupation'] == ' ?') | (data['native-country'] == ' ?')].index, inplace=True)\n"
          ]
        }
      ]
    },
    {
      "cell_type": "markdown",
      "source": [
        "## เปลี่ยนค่าในคอลัมน์ salary โดย\n",
        "- ' <=50K' เป็น 0\n",
        "- ' >50K' เป็น 1"
      ],
      "metadata": {
        "id": "IEqf2XI2YB4n"
      }
    },
    {
      "cell_type": "code",
      "source": [
        "data['salary'] = data['salary'].map({' <=50K': 0, ' >50K': 1})"
      ],
      "metadata": {
        "id": "by4k619EXzEi",
        "colab": {
          "base_uri": "https://localhost:8080/"
        },
        "outputId": "7704a7b0-66a3-49f7-dfa4-bbadd315cde9"
      },
      "execution_count": 13,
      "outputs": [
        {
          "output_type": "stream",
          "name": "stderr",
          "text": [
            "<ipython-input-13-44f8c87484ba>:1: SettingWithCopyWarning: \n",
            "A value is trying to be set on a copy of a slice from a DataFrame.\n",
            "Try using .loc[row_indexer,col_indexer] = value instead\n",
            "\n",
            "See the caveats in the documentation: https://pandas.pydata.org/pandas-docs/stable/user_guide/indexing.html#returning-a-view-versus-a-copy\n",
            "  data['salary'] = data['salary'].map({' <=50K': 0, ' >50K': 1})\n"
          ]
        }
      ]
    },
    {
      "cell_type": "code",
      "source": [
        "data.head(10)"
      ],
      "metadata": {
        "id": "JwXFd66NcpXp",
        "colab": {
          "base_uri": "https://localhost:8080/",
          "height": 363
        },
        "outputId": "ef124ead-fd96-4f03-ad39-bd6d23357b94"
      },
      "execution_count": 14,
      "outputs": [
        {
          "output_type": "execute_result",
          "data": {
            "text/plain": [
              "   age          workclass   education          marital-status  \\\n",
              "0   39          State-gov   Bachelors           Never-married   \n",
              "1   50   Self-emp-not-inc   Bachelors      Married-civ-spouse   \n",
              "2   38            Private     HS-grad                Divorced   \n",
              "3   53            Private        11th      Married-civ-spouse   \n",
              "4   28            Private   Bachelors      Married-civ-spouse   \n",
              "5   37            Private     Masters      Married-civ-spouse   \n",
              "6   49            Private         9th   Married-spouse-absent   \n",
              "7   52   Self-emp-not-inc     HS-grad      Married-civ-spouse   \n",
              "8   31            Private     Masters           Never-married   \n",
              "9   42            Private   Bachelors      Married-civ-spouse   \n",
              "\n",
              "           occupation    relationship    race      sex  hours-per-week  \\\n",
              "0        Adm-clerical   Not-in-family   White     Male              40   \n",
              "1     Exec-managerial         Husband   White     Male              13   \n",
              "2   Handlers-cleaners   Not-in-family   White     Male              40   \n",
              "3   Handlers-cleaners         Husband   Black     Male              40   \n",
              "4      Prof-specialty            Wife   Black   Female              40   \n",
              "5     Exec-managerial            Wife   White   Female              40   \n",
              "6       Other-service   Not-in-family   Black   Female              16   \n",
              "7     Exec-managerial         Husband   White     Male              45   \n",
              "8      Prof-specialty   Not-in-family   White   Female              50   \n",
              "9     Exec-managerial         Husband   White     Male              40   \n",
              "\n",
              "   native-country  salary  \n",
              "0   United-States       0  \n",
              "1   United-States       0  \n",
              "2   United-States       0  \n",
              "3   United-States       0  \n",
              "4            Cuba       0  \n",
              "5   United-States       0  \n",
              "6         Jamaica       0  \n",
              "7   United-States       1  \n",
              "8   United-States       1  \n",
              "9   United-States       1  "
            ],
            "text/html": [
              "\n",
              "  <div id=\"df-739f8b9e-62ea-42ba-8243-fec89e24fd05\">\n",
              "    <div class=\"colab-df-container\">\n",
              "      <div>\n",
              "<style scoped>\n",
              "    .dataframe tbody tr th:only-of-type {\n",
              "        vertical-align: middle;\n",
              "    }\n",
              "\n",
              "    .dataframe tbody tr th {\n",
              "        vertical-align: top;\n",
              "    }\n",
              "\n",
              "    .dataframe thead th {\n",
              "        text-align: right;\n",
              "    }\n",
              "</style>\n",
              "<table border=\"1\" class=\"dataframe\">\n",
              "  <thead>\n",
              "    <tr style=\"text-align: right;\">\n",
              "      <th></th>\n",
              "      <th>age</th>\n",
              "      <th>workclass</th>\n",
              "      <th>education</th>\n",
              "      <th>marital-status</th>\n",
              "      <th>occupation</th>\n",
              "      <th>relationship</th>\n",
              "      <th>race</th>\n",
              "      <th>sex</th>\n",
              "      <th>hours-per-week</th>\n",
              "      <th>native-country</th>\n",
              "      <th>salary</th>\n",
              "    </tr>\n",
              "  </thead>\n",
              "  <tbody>\n",
              "    <tr>\n",
              "      <th>0</th>\n",
              "      <td>39</td>\n",
              "      <td>State-gov</td>\n",
              "      <td>Bachelors</td>\n",
              "      <td>Never-married</td>\n",
              "      <td>Adm-clerical</td>\n",
              "      <td>Not-in-family</td>\n",
              "      <td>White</td>\n",
              "      <td>Male</td>\n",
              "      <td>40</td>\n",
              "      <td>United-States</td>\n",
              "      <td>0</td>\n",
              "    </tr>\n",
              "    <tr>\n",
              "      <th>1</th>\n",
              "      <td>50</td>\n",
              "      <td>Self-emp-not-inc</td>\n",
              "      <td>Bachelors</td>\n",
              "      <td>Married-civ-spouse</td>\n",
              "      <td>Exec-managerial</td>\n",
              "      <td>Husband</td>\n",
              "      <td>White</td>\n",
              "      <td>Male</td>\n",
              "      <td>13</td>\n",
              "      <td>United-States</td>\n",
              "      <td>0</td>\n",
              "    </tr>\n",
              "    <tr>\n",
              "      <th>2</th>\n",
              "      <td>38</td>\n",
              "      <td>Private</td>\n",
              "      <td>HS-grad</td>\n",
              "      <td>Divorced</td>\n",
              "      <td>Handlers-cleaners</td>\n",
              "      <td>Not-in-family</td>\n",
              "      <td>White</td>\n",
              "      <td>Male</td>\n",
              "      <td>40</td>\n",
              "      <td>United-States</td>\n",
              "      <td>0</td>\n",
              "    </tr>\n",
              "    <tr>\n",
              "      <th>3</th>\n",
              "      <td>53</td>\n",
              "      <td>Private</td>\n",
              "      <td>11th</td>\n",
              "      <td>Married-civ-spouse</td>\n",
              "      <td>Handlers-cleaners</td>\n",
              "      <td>Husband</td>\n",
              "      <td>Black</td>\n",
              "      <td>Male</td>\n",
              "      <td>40</td>\n",
              "      <td>United-States</td>\n",
              "      <td>0</td>\n",
              "    </tr>\n",
              "    <tr>\n",
              "      <th>4</th>\n",
              "      <td>28</td>\n",
              "      <td>Private</td>\n",
              "      <td>Bachelors</td>\n",
              "      <td>Married-civ-spouse</td>\n",
              "      <td>Prof-specialty</td>\n",
              "      <td>Wife</td>\n",
              "      <td>Black</td>\n",
              "      <td>Female</td>\n",
              "      <td>40</td>\n",
              "      <td>Cuba</td>\n",
              "      <td>0</td>\n",
              "    </tr>\n",
              "    <tr>\n",
              "      <th>5</th>\n",
              "      <td>37</td>\n",
              "      <td>Private</td>\n",
              "      <td>Masters</td>\n",
              "      <td>Married-civ-spouse</td>\n",
              "      <td>Exec-managerial</td>\n",
              "      <td>Wife</td>\n",
              "      <td>White</td>\n",
              "      <td>Female</td>\n",
              "      <td>40</td>\n",
              "      <td>United-States</td>\n",
              "      <td>0</td>\n",
              "    </tr>\n",
              "    <tr>\n",
              "      <th>6</th>\n",
              "      <td>49</td>\n",
              "      <td>Private</td>\n",
              "      <td>9th</td>\n",
              "      <td>Married-spouse-absent</td>\n",
              "      <td>Other-service</td>\n",
              "      <td>Not-in-family</td>\n",
              "      <td>Black</td>\n",
              "      <td>Female</td>\n",
              "      <td>16</td>\n",
              "      <td>Jamaica</td>\n",
              "      <td>0</td>\n",
              "    </tr>\n",
              "    <tr>\n",
              "      <th>7</th>\n",
              "      <td>52</td>\n",
              "      <td>Self-emp-not-inc</td>\n",
              "      <td>HS-grad</td>\n",
              "      <td>Married-civ-spouse</td>\n",
              "      <td>Exec-managerial</td>\n",
              "      <td>Husband</td>\n",
              "      <td>White</td>\n",
              "      <td>Male</td>\n",
              "      <td>45</td>\n",
              "      <td>United-States</td>\n",
              "      <td>1</td>\n",
              "    </tr>\n",
              "    <tr>\n",
              "      <th>8</th>\n",
              "      <td>31</td>\n",
              "      <td>Private</td>\n",
              "      <td>Masters</td>\n",
              "      <td>Never-married</td>\n",
              "      <td>Prof-specialty</td>\n",
              "      <td>Not-in-family</td>\n",
              "      <td>White</td>\n",
              "      <td>Female</td>\n",
              "      <td>50</td>\n",
              "      <td>United-States</td>\n",
              "      <td>1</td>\n",
              "    </tr>\n",
              "    <tr>\n",
              "      <th>9</th>\n",
              "      <td>42</td>\n",
              "      <td>Private</td>\n",
              "      <td>Bachelors</td>\n",
              "      <td>Married-civ-spouse</td>\n",
              "      <td>Exec-managerial</td>\n",
              "      <td>Husband</td>\n",
              "      <td>White</td>\n",
              "      <td>Male</td>\n",
              "      <td>40</td>\n",
              "      <td>United-States</td>\n",
              "      <td>1</td>\n",
              "    </tr>\n",
              "  </tbody>\n",
              "</table>\n",
              "</div>\n",
              "      <button class=\"colab-df-convert\" onclick=\"convertToInteractive('df-739f8b9e-62ea-42ba-8243-fec89e24fd05')\"\n",
              "              title=\"Convert this dataframe to an interactive table.\"\n",
              "              style=\"display:none;\">\n",
              "        \n",
              "  <svg xmlns=\"http://www.w3.org/2000/svg\" height=\"24px\"viewBox=\"0 0 24 24\"\n",
              "       width=\"24px\">\n",
              "    <path d=\"M0 0h24v24H0V0z\" fill=\"none\"/>\n",
              "    <path d=\"M18.56 5.44l.94 2.06.94-2.06 2.06-.94-2.06-.94-.94-2.06-.94 2.06-2.06.94zm-11 1L8.5 8.5l.94-2.06 2.06-.94-2.06-.94L8.5 2.5l-.94 2.06-2.06.94zm10 10l.94 2.06.94-2.06 2.06-.94-2.06-.94-.94-2.06-.94 2.06-2.06.94z\"/><path d=\"M17.41 7.96l-1.37-1.37c-.4-.4-.92-.59-1.43-.59-.52 0-1.04.2-1.43.59L10.3 9.45l-7.72 7.72c-.78.78-.78 2.05 0 2.83L4 21.41c.39.39.9.59 1.41.59.51 0 1.02-.2 1.41-.59l7.78-7.78 2.81-2.81c.8-.78.8-2.07 0-2.86zM5.41 20L4 18.59l7.72-7.72 1.47 1.35L5.41 20z\"/>\n",
              "  </svg>\n",
              "      </button>\n",
              "      \n",
              "  <style>\n",
              "    .colab-df-container {\n",
              "      display:flex;\n",
              "      flex-wrap:wrap;\n",
              "      gap: 12px;\n",
              "    }\n",
              "\n",
              "    .colab-df-convert {\n",
              "      background-color: #E8F0FE;\n",
              "      border: none;\n",
              "      border-radius: 50%;\n",
              "      cursor: pointer;\n",
              "      display: none;\n",
              "      fill: #1967D2;\n",
              "      height: 32px;\n",
              "      padding: 0 0 0 0;\n",
              "      width: 32px;\n",
              "    }\n",
              "\n",
              "    .colab-df-convert:hover {\n",
              "      background-color: #E2EBFA;\n",
              "      box-shadow: 0px 1px 2px rgba(60, 64, 67, 0.3), 0px 1px 3px 1px rgba(60, 64, 67, 0.15);\n",
              "      fill: #174EA6;\n",
              "    }\n",
              "\n",
              "    [theme=dark] .colab-df-convert {\n",
              "      background-color: #3B4455;\n",
              "      fill: #D2E3FC;\n",
              "    }\n",
              "\n",
              "    [theme=dark] .colab-df-convert:hover {\n",
              "      background-color: #434B5C;\n",
              "      box-shadow: 0px 1px 3px 1px rgba(0, 0, 0, 0.15);\n",
              "      filter: drop-shadow(0px 1px 2px rgba(0, 0, 0, 0.3));\n",
              "      fill: #FFFFFF;\n",
              "    }\n",
              "  </style>\n",
              "\n",
              "      <script>\n",
              "        const buttonEl =\n",
              "          document.querySelector('#df-739f8b9e-62ea-42ba-8243-fec89e24fd05 button.colab-df-convert');\n",
              "        buttonEl.style.display =\n",
              "          google.colab.kernel.accessAllowed ? 'block' : 'none';\n",
              "\n",
              "        async function convertToInteractive(key) {\n",
              "          const element = document.querySelector('#df-739f8b9e-62ea-42ba-8243-fec89e24fd05');\n",
              "          const dataTable =\n",
              "            await google.colab.kernel.invokeFunction('convertToInteractive',\n",
              "                                                     [key], {});\n",
              "          if (!dataTable) return;\n",
              "\n",
              "          const docLinkHtml = 'Like what you see? Visit the ' +\n",
              "            '<a target=\"_blank\" href=https://colab.research.google.com/notebooks/data_table.ipynb>data table notebook</a>'\n",
              "            + ' to learn more about interactive tables.';\n",
              "          element.innerHTML = '';\n",
              "          dataTable['output_type'] = 'display_data';\n",
              "          await google.colab.output.renderOutput(dataTable, element);\n",
              "          const docLink = document.createElement('div');\n",
              "          docLink.innerHTML = docLinkHtml;\n",
              "          element.appendChild(docLink);\n",
              "        }\n",
              "      </script>\n",
              "    </div>\n",
              "  </div>\n",
              "  "
            ]
          },
          "metadata": {},
          "execution_count": 14
        }
      ]
    },
    {
      "cell_type": "markdown",
      "source": [
        "## Convert categorical variables to numerical"
      ],
      "metadata": {
        "id": "urbIdY6AajHB"
      }
    },
    {
      "cell_type": "markdown",
      "source": [
        "โค้ดดังกล่าวเป็นการแปลงข้อมูลในคอลัมน์ 'workclass' ให้อยู่ในรูปแบบของ category และทำการ encoding เป็นรหัส (codes) ซึ่งจะช่วยให้สามารถนำไปใช้กับแบบจำลองที่รับเฉพาะข้อมูลแบบตัวเลขได้ เช่น decision tree หรือ logistic regression ซึ่งต้องการข้อมูลที่เป็นตัวเลขเท่านั้น โดยรหัสที่ถูกแทนให้จะเป็นตัวเลขที่มีค่าต่างๆ ตามจำนวน category ที่มีในคอลัมน์นั้นๆ"
      ],
      "metadata": {
        "id": "wQIYDMqjaZay"
      }
    },
    {
      "cell_type": "code",
      "source": [
        "data['workclass'] = data['workclass'].astype('category').cat.codes\n",
        "data['education'] = data['education'].astype('category').cat.codes\n",
        "data['marital-status'] = data['marital-status'].astype('category').cat.codes\n",
        "data['occupation'] = data['occupation'].astype('category').cat.codes\n",
        "data['relationship'] = data['relationship'].astype('category').cat.codes\n",
        "data['race'] = data['race'].astype('category').cat.codes\n",
        "data['sex'] = data['sex'].astype('category').cat.codes\n",
        "data['native-country'] = data['native-country'].astype('category').cat.codes"
      ],
      "metadata": {
        "id": "gTBC5tp3SJIi",
        "colab": {
          "base_uri": "https://localhost:8080/"
        },
        "outputId": "c68416f1-d96f-4ed9-f578-6bb522e91270"
      },
      "execution_count": 15,
      "outputs": [
        {
          "output_type": "stream",
          "name": "stderr",
          "text": [
            "<ipython-input-15-4c00740fa26e>:1: SettingWithCopyWarning: \n",
            "A value is trying to be set on a copy of a slice from a DataFrame.\n",
            "Try using .loc[row_indexer,col_indexer] = value instead\n",
            "\n",
            "See the caveats in the documentation: https://pandas.pydata.org/pandas-docs/stable/user_guide/indexing.html#returning-a-view-versus-a-copy\n",
            "  data['workclass'] = data['workclass'].astype('category').cat.codes\n",
            "<ipython-input-15-4c00740fa26e>:2: SettingWithCopyWarning: \n",
            "A value is trying to be set on a copy of a slice from a DataFrame.\n",
            "Try using .loc[row_indexer,col_indexer] = value instead\n",
            "\n",
            "See the caveats in the documentation: https://pandas.pydata.org/pandas-docs/stable/user_guide/indexing.html#returning-a-view-versus-a-copy\n",
            "  data['education'] = data['education'].astype('category').cat.codes\n",
            "<ipython-input-15-4c00740fa26e>:3: SettingWithCopyWarning: \n",
            "A value is trying to be set on a copy of a slice from a DataFrame.\n",
            "Try using .loc[row_indexer,col_indexer] = value instead\n",
            "\n",
            "See the caveats in the documentation: https://pandas.pydata.org/pandas-docs/stable/user_guide/indexing.html#returning-a-view-versus-a-copy\n",
            "  data['marital-status'] = data['marital-status'].astype('category').cat.codes\n",
            "<ipython-input-15-4c00740fa26e>:4: SettingWithCopyWarning: \n",
            "A value is trying to be set on a copy of a slice from a DataFrame.\n",
            "Try using .loc[row_indexer,col_indexer] = value instead\n",
            "\n",
            "See the caveats in the documentation: https://pandas.pydata.org/pandas-docs/stable/user_guide/indexing.html#returning-a-view-versus-a-copy\n",
            "  data['occupation'] = data['occupation'].astype('category').cat.codes\n",
            "<ipython-input-15-4c00740fa26e>:5: SettingWithCopyWarning: \n",
            "A value is trying to be set on a copy of a slice from a DataFrame.\n",
            "Try using .loc[row_indexer,col_indexer] = value instead\n",
            "\n",
            "See the caveats in the documentation: https://pandas.pydata.org/pandas-docs/stable/user_guide/indexing.html#returning-a-view-versus-a-copy\n",
            "  data['relationship'] = data['relationship'].astype('category').cat.codes\n",
            "<ipython-input-15-4c00740fa26e>:6: SettingWithCopyWarning: \n",
            "A value is trying to be set on a copy of a slice from a DataFrame.\n",
            "Try using .loc[row_indexer,col_indexer] = value instead\n",
            "\n",
            "See the caveats in the documentation: https://pandas.pydata.org/pandas-docs/stable/user_guide/indexing.html#returning-a-view-versus-a-copy\n",
            "  data['race'] = data['race'].astype('category').cat.codes\n",
            "<ipython-input-15-4c00740fa26e>:7: SettingWithCopyWarning: \n",
            "A value is trying to be set on a copy of a slice from a DataFrame.\n",
            "Try using .loc[row_indexer,col_indexer] = value instead\n",
            "\n",
            "See the caveats in the documentation: https://pandas.pydata.org/pandas-docs/stable/user_guide/indexing.html#returning-a-view-versus-a-copy\n",
            "  data['sex'] = data['sex'].astype('category').cat.codes\n",
            "<ipython-input-15-4c00740fa26e>:8: SettingWithCopyWarning: \n",
            "A value is trying to be set on a copy of a slice from a DataFrame.\n",
            "Try using .loc[row_indexer,col_indexer] = value instead\n",
            "\n",
            "See the caveats in the documentation: https://pandas.pydata.org/pandas-docs/stable/user_guide/indexing.html#returning-a-view-versus-a-copy\n",
            "  data['native-country'] = data['native-country'].astype('category').cat.codes\n"
          ]
        }
      ]
    },
    {
      "cell_type": "code",
      "source": [
        "data.head(3)"
      ],
      "metadata": {
        "id": "3F8O0ZgRdivt",
        "colab": {
          "base_uri": "https://localhost:8080/",
          "height": 143
        },
        "outputId": "6dc58f3a-930e-4a94-d2f4-f94ee7be727c"
      },
      "execution_count": 16,
      "outputs": [
        {
          "output_type": "execute_result",
          "data": {
            "text/plain": [
              "   age  workclass  education  marital-status  occupation  relationship  race  \\\n",
              "0   39          5          9               4           0             1     4   \n",
              "1   50          4          9               2           3             0     4   \n",
              "2   38          2         11               0           5             1     4   \n",
              "\n",
              "   sex  hours-per-week  native-country  salary  \n",
              "0    1              40              38       0  \n",
              "1    1              13              38       0  \n",
              "2    1              40              38       0  "
            ],
            "text/html": [
              "\n",
              "  <div id=\"df-24df46e2-8246-4435-aedb-cc9b37d41d1c\">\n",
              "    <div class=\"colab-df-container\">\n",
              "      <div>\n",
              "<style scoped>\n",
              "    .dataframe tbody tr th:only-of-type {\n",
              "        vertical-align: middle;\n",
              "    }\n",
              "\n",
              "    .dataframe tbody tr th {\n",
              "        vertical-align: top;\n",
              "    }\n",
              "\n",
              "    .dataframe thead th {\n",
              "        text-align: right;\n",
              "    }\n",
              "</style>\n",
              "<table border=\"1\" class=\"dataframe\">\n",
              "  <thead>\n",
              "    <tr style=\"text-align: right;\">\n",
              "      <th></th>\n",
              "      <th>age</th>\n",
              "      <th>workclass</th>\n",
              "      <th>education</th>\n",
              "      <th>marital-status</th>\n",
              "      <th>occupation</th>\n",
              "      <th>relationship</th>\n",
              "      <th>race</th>\n",
              "      <th>sex</th>\n",
              "      <th>hours-per-week</th>\n",
              "      <th>native-country</th>\n",
              "      <th>salary</th>\n",
              "    </tr>\n",
              "  </thead>\n",
              "  <tbody>\n",
              "    <tr>\n",
              "      <th>0</th>\n",
              "      <td>39</td>\n",
              "      <td>5</td>\n",
              "      <td>9</td>\n",
              "      <td>4</td>\n",
              "      <td>0</td>\n",
              "      <td>1</td>\n",
              "      <td>4</td>\n",
              "      <td>1</td>\n",
              "      <td>40</td>\n",
              "      <td>38</td>\n",
              "      <td>0</td>\n",
              "    </tr>\n",
              "    <tr>\n",
              "      <th>1</th>\n",
              "      <td>50</td>\n",
              "      <td>4</td>\n",
              "      <td>9</td>\n",
              "      <td>2</td>\n",
              "      <td>3</td>\n",
              "      <td>0</td>\n",
              "      <td>4</td>\n",
              "      <td>1</td>\n",
              "      <td>13</td>\n",
              "      <td>38</td>\n",
              "      <td>0</td>\n",
              "    </tr>\n",
              "    <tr>\n",
              "      <th>2</th>\n",
              "      <td>38</td>\n",
              "      <td>2</td>\n",
              "      <td>11</td>\n",
              "      <td>0</td>\n",
              "      <td>5</td>\n",
              "      <td>1</td>\n",
              "      <td>4</td>\n",
              "      <td>1</td>\n",
              "      <td>40</td>\n",
              "      <td>38</td>\n",
              "      <td>0</td>\n",
              "    </tr>\n",
              "  </tbody>\n",
              "</table>\n",
              "</div>\n",
              "      <button class=\"colab-df-convert\" onclick=\"convertToInteractive('df-24df46e2-8246-4435-aedb-cc9b37d41d1c')\"\n",
              "              title=\"Convert this dataframe to an interactive table.\"\n",
              "              style=\"display:none;\">\n",
              "        \n",
              "  <svg xmlns=\"http://www.w3.org/2000/svg\" height=\"24px\"viewBox=\"0 0 24 24\"\n",
              "       width=\"24px\">\n",
              "    <path d=\"M0 0h24v24H0V0z\" fill=\"none\"/>\n",
              "    <path d=\"M18.56 5.44l.94 2.06.94-2.06 2.06-.94-2.06-.94-.94-2.06-.94 2.06-2.06.94zm-11 1L8.5 8.5l.94-2.06 2.06-.94-2.06-.94L8.5 2.5l-.94 2.06-2.06.94zm10 10l.94 2.06.94-2.06 2.06-.94-2.06-.94-.94-2.06-.94 2.06-2.06.94z\"/><path d=\"M17.41 7.96l-1.37-1.37c-.4-.4-.92-.59-1.43-.59-.52 0-1.04.2-1.43.59L10.3 9.45l-7.72 7.72c-.78.78-.78 2.05 0 2.83L4 21.41c.39.39.9.59 1.41.59.51 0 1.02-.2 1.41-.59l7.78-7.78 2.81-2.81c.8-.78.8-2.07 0-2.86zM5.41 20L4 18.59l7.72-7.72 1.47 1.35L5.41 20z\"/>\n",
              "  </svg>\n",
              "      </button>\n",
              "      \n",
              "  <style>\n",
              "    .colab-df-container {\n",
              "      display:flex;\n",
              "      flex-wrap:wrap;\n",
              "      gap: 12px;\n",
              "    }\n",
              "\n",
              "    .colab-df-convert {\n",
              "      background-color: #E8F0FE;\n",
              "      border: none;\n",
              "      border-radius: 50%;\n",
              "      cursor: pointer;\n",
              "      display: none;\n",
              "      fill: #1967D2;\n",
              "      height: 32px;\n",
              "      padding: 0 0 0 0;\n",
              "      width: 32px;\n",
              "    }\n",
              "\n",
              "    .colab-df-convert:hover {\n",
              "      background-color: #E2EBFA;\n",
              "      box-shadow: 0px 1px 2px rgba(60, 64, 67, 0.3), 0px 1px 3px 1px rgba(60, 64, 67, 0.15);\n",
              "      fill: #174EA6;\n",
              "    }\n",
              "\n",
              "    [theme=dark] .colab-df-convert {\n",
              "      background-color: #3B4455;\n",
              "      fill: #D2E3FC;\n",
              "    }\n",
              "\n",
              "    [theme=dark] .colab-df-convert:hover {\n",
              "      background-color: #434B5C;\n",
              "      box-shadow: 0px 1px 3px 1px rgba(0, 0, 0, 0.15);\n",
              "      filter: drop-shadow(0px 1px 2px rgba(0, 0, 0, 0.3));\n",
              "      fill: #FFFFFF;\n",
              "    }\n",
              "  </style>\n",
              "\n",
              "      <script>\n",
              "        const buttonEl =\n",
              "          document.querySelector('#df-24df46e2-8246-4435-aedb-cc9b37d41d1c button.colab-df-convert');\n",
              "        buttonEl.style.display =\n",
              "          google.colab.kernel.accessAllowed ? 'block' : 'none';\n",
              "\n",
              "        async function convertToInteractive(key) {\n",
              "          const element = document.querySelector('#df-24df46e2-8246-4435-aedb-cc9b37d41d1c');\n",
              "          const dataTable =\n",
              "            await google.colab.kernel.invokeFunction('convertToInteractive',\n",
              "                                                     [key], {});\n",
              "          if (!dataTable) return;\n",
              "\n",
              "          const docLinkHtml = 'Like what you see? Visit the ' +\n",
              "            '<a target=\"_blank\" href=https://colab.research.google.com/notebooks/data_table.ipynb>data table notebook</a>'\n",
              "            + ' to learn more about interactive tables.';\n",
              "          element.innerHTML = '';\n",
              "          dataTable['output_type'] = 'display_data';\n",
              "          await google.colab.output.renderOutput(dataTable, element);\n",
              "          const docLink = document.createElement('div');\n",
              "          docLink.innerHTML = docLinkHtml;\n",
              "          element.appendChild(docLink);\n",
              "        }\n",
              "      </script>\n",
              "    </div>\n",
              "  </div>\n",
              "  "
            ]
          },
          "metadata": {},
          "execution_count": 16
        }
      ]
    },
    {
      "cell_type": "markdown",
      "source": [
        "## Split the data into training and testing sets"
      ],
      "metadata": {
        "id": "6HEjslA2bNO1"
      }
    },
    {
      "cell_type": "markdown",
      "source": [
        "X คือ feature หรือตัวแปรที่ใช้ในการทำนาย และ y คือ target หรือผลลัพธ์ที่ต้องการทำนาย"
      ],
      "metadata": {
        "id": "AIAFTeGlz6yp"
      }
    },
    {
      "cell_type": "code",
      "source": [
        "features = ['age', 'workclass', 'education', 'marital-status', 'occupation', 'relationship', 'race', 'sex',  'hours-per-week', 'native-country']\n",
        "X = data[features]\n",
        "y = data['salary']"
      ],
      "metadata": {
        "id": "L6ON4Tfar4Eo"
      },
      "execution_count": 17,
      "outputs": []
    },
    {
      "cell_type": "markdown",
      "source": [
        "โดยแบ่งเป็น train 70% test 30%"
      ],
      "metadata": {
        "id": "96Fy3X7XLCmr"
      }
    },
    {
      "cell_type": "code",
      "source": [
        "X_train, X_test, y_train, y_test = train_test_split(X, y, test_size=0.3, random_state=42)"
      ],
      "metadata": {
        "id": "qNK_3KZZam2A"
      },
      "execution_count": 18,
      "outputs": []
    },
    {
      "cell_type": "markdown",
      "source": [
        "# Decision tree"
      ],
      "metadata": {
        "id": "5ltAEN7swakk"
      }
    },
    {
      "cell_type": "markdown",
      "source": [
        "## ทำ 10-fold-cross-validation เพื่อหาค่า maxdept และ min_samples_split ที่เหมาะสมที่สุด"
      ],
      "metadata": {
        "id": "7cxPn0_4tzC_"
      }
    },
    {
      "cell_type": "code",
      "source": [
        "# Define the Decision Tree model\n",
        "dt = DecisionTreeClassifier(random_state=42)\n",
        "\n",
        "# Define the hyperparameter values to be tested\n",
        "param_grid = {'max_depth': [1,2,3],\n",
        "              'min_samples_split': [2, 4, 6]}\n",
        "\n",
        "# Use Grid Search to find the best hyperparameter combination\n",
        "grid_search = GridSearchCV(dt, param_grid, cv=10, scoring='accuracy')\n",
        "grid_search.fit(X_train, y_train)\n",
        "\n",
        "# Get the best hyperparameter combination and the associated accuracy score\n",
        "best_params = grid_search.best_params_\n",
        "best_score = grid_search.best_score_\n",
        "\n",
        "# Print the results\n",
        "print(\"Best hyperparameters:\", best_params)\n",
        "print(f'Best accuracy score: {best_score:.2f}')"
      ],
      "metadata": {
        "id": "c2SMvERTvFMQ",
        "colab": {
          "base_uri": "https://localhost:8080/"
        },
        "outputId": "ea5be60f-db89-44a0-f9b8-df3340f27274"
      },
      "execution_count": 19,
      "outputs": [
        {
          "output_type": "stream",
          "name": "stdout",
          "text": [
            "Best hyperparameters: {'max_depth': 3, 'min_samples_split': 2}\n",
            "Best accuracy score: 0.79\n"
          ]
        }
      ]
    },
    {
      "cell_type": "markdown",
      "source": [
        "## Define , Train and Predict - evaluate"
      ],
      "metadata": {
        "id": "s2dhjuElwyqZ"
      }
    },
    {
      "cell_type": "code",
      "source": [
        "#Define\n",
        "clf = DecisionTreeClassifier(max_depth=3,min_samples_leaf=2)\n",
        "\n",
        "# Train\n",
        "clf.fit(X_train, y_train)\n",
        "\n",
        "# Evaluate \n",
        "y_pred = clf.predict(X_test)"
      ],
      "metadata": {
        "id": "nlh_RGLJbKAm"
      },
      "execution_count": 20,
      "outputs": []
    },
    {
      "cell_type": "markdown",
      "source": [
        "- max_depth เป็นพารามิเตอร์ที่ใช้กำหนดความลึกของต้นไม้การตัดสินใจ (decision tree) ในการสร้างโมเดล โดยจะกำหนดค่าสูงสุดของระดับที่ต้นไม้จะสามารถสร้างได้ ในที่นี้เรากำหนด max_depth=3 คือต้นไม้จะสามารถสร้างได้สูงสุด 3 ชั้น หรือมีความลึกไม่เกิน 3 ระดับ\n",
        "- min_samples_split เป็นพารามิเตอร์ที่ใช้ในการกำหนดจำนวนตัวอย่างขั้นต่ำที่จะต้องมีในแต่ละโหนด"
      ],
      "metadata": {
        "id": "HMOtjW5Iv8uf"
      }
    },
    {
      "cell_type": "markdown",
      "source": [
        "## accuracy "
      ],
      "metadata": {
        "id": "UctP1R4HJTBr"
      }
    },
    {
      "cell_type": "code",
      "source": [
        "accuracy = accuracy_score(y_test, y_pred)\n",
        "report = classification_report(y_test, y_pred)\n",
        "\n",
        "print(f'Accuracy: {accuracy:.2f}')\n",
        "print('Classification report:\\n', report)"
      ],
      "metadata": {
        "id": "BrlA5CJ8GWy_",
        "colab": {
          "base_uri": "https://localhost:8080/"
        },
        "outputId": "cb8c87d3-50a4-41fe-e41a-fcdc0a84c176"
      },
      "execution_count": 21,
      "outputs": [
        {
          "output_type": "stream",
          "name": "stdout",
          "text": [
            "Accuracy: 0.78\n",
            "Classification report:\n",
            "               precision    recall  f1-score   support\n",
            "\n",
            "           0       0.88      0.82      0.85      6767\n",
            "           1       0.55      0.67      0.60      2282\n",
            "\n",
            "    accuracy                           0.78      9049\n",
            "   macro avg       0.72      0.74      0.73      9049\n",
            "weighted avg       0.80      0.78      0.79      9049\n",
            "\n"
          ]
        }
      ]
    },
    {
      "cell_type": "markdown",
      "source": [
        "### หน้าตาต้นไม้"
      ],
      "metadata": {
        "id": "XLxNJ5G-xdm3"
      }
    },
    {
      "cell_type": "code",
      "source": [
        "# Define the Decision Tree model with max_depth=3\n",
        "dt = DecisionTreeClassifier(max_depth=3, random_state=42)\n",
        "\n",
        "# Fit the model on the training data\n",
        "dt.fit(X_train, y_train)\n",
        "\n",
        "# Visualize the Decision Tree\n",
        "fig, axes = plt.subplots(nrows = 1,ncols = 1,figsize = (4,4), dpi=300)\n",
        "plot_tree(dt, filled=True, feature_names=X.columns, class_names=['0', '1'], ax=axes);"
      ],
      "metadata": {
        "id": "wEuiQIIkl6VF",
        "colab": {
          "base_uri": "https://localhost:8080/",
          "height": 983
        },
        "outputId": "8d6102cc-f9f1-469c-a23b-e086d394fb14"
      },
      "execution_count": 22,
      "outputs": [
        {
          "output_type": "display_data",
          "data": {
            "text/plain": [
              "<Figure size 1200x1200 with 1 Axes>"
            ],
            "image/png": "[encoded data removed]"
          },
          "metadata": {
            "needs_background": "light"
          }
        }
      ]
    },
    {
      "cell_type": "code",
      "source": [
        "from sklearn.tree import export_graphviz\n",
        "import graphviz\n",
        "\n",
        "dot_data = export_graphviz(clf, out_file=None, \n",
        "                           feature_names=X.columns,  \n",
        "                           class_names=y.astype(str).unique(),  \n",
        "                           filled=True, rounded=True,  \n",
        "                           special_characters=True)\n",
        "\n",
        "graph = graphviz.Source(dot_data)\n",
        "graph.render('decision_tree')"
      ],
      "metadata": {
        "id": "U1zJ4bqphIUp",
        "colab": {
          "base_uri": "https://localhost:8080/",
          "height": 35
        },
        "outputId": "2517937f-c6d5-4792-aebc-0b8f98de691f"
      },
      "execution_count": 23,
      "outputs": [
        {
          "output_type": "execute_result",
          "data": {
            "text/plain": [
              "'decision_tree.pdf'"
            ],
            "application/vnd.google.colaboratory.intrinsic+json": {
              "type": "string"
            }
          },
          "metadata": {},
          "execution_count": 23
        }
      ]
    },
    {
      "cell_type": "code",
      "source": [
        "from google.colab import files\n",
        "from google.colab import drive\n",
        "\n",
        "# Mount Google Drive\n",
        "drive.mount('/content/drive')\n",
        "\n",
        "# Download the file from Colab to Google Drive\n",
        "files.download('/content/decision_tree.pdf')\n",
        "\n",
        "# Unmount Google Drive (optional)\n",
        "drive.flush_and_unmount()"
      ],
      "metadata": {
        "id": "bd0LU3PKnL1c",
        "colab": {
          "base_uri": "https://localhost:8080/",
          "height": 34
        },
        "outputId": "ac60afa3-b8b9-4ca0-f00b-795767f4d0f4"
      },
      "execution_count": 24,
      "outputs": [
        {
          "output_type": "stream",
          "name": "stdout",
          "text": [
            "Mounted at /content/drive\n"
          ]
        },
        {
          "output_type": "display_data",
          "data": {
            "text/plain": [
              "<IPython.core.display.Javascript object>"
            ],
            "application/javascript": [
              "\n",
              "    async function download(id, filename, size) {\n",
              "      if (!google.colab.kernel.accessAllowed) {\n",
              "        return;\n",
              "      }\n",
              "      const div = document.createElement('div');\n",
              "      const label = document.createElement('label');\n",
              "      label.textContent = `Downloading \"${filename}\": `;\n",
              "      div.appendChild(label);\n",
              "      const progress = document.createElement('progress');\n",
              "      progress.max = size;\n",
              "      div.appendChild(progress);\n",
              "      document.body.appendChild(div);\n",
              "\n",
              "      const buffers = [];\n",
              "      let downloaded = 0;\n",
              "\n",
              "      const channel = await google.colab.kernel.comms.open(id);\n",
              "      // Send a message to notify the kernel that we're ready.\n",
              "      channel.send({})\n",
              "\n",
              "      for await (const message of channel.messages) {\n",
              "        // Send a message to notify the kernel that we're ready.\n",
              "        channel.send({})\n",
              "        if (message.buffers) {\n",
              "          for (const buffer of message.buffers) {\n",
              "            buffers.push(buffer);\n",
              "            downloaded += buffer.byteLength;\n",
              "            progress.value = downloaded;\n",
              "          }\n",
              "        }\n",
              "      }\n",
              "      const blob = new Blob(buffers, {type: 'application/binary'});\n",
              "      const a = document.createElement('a');\n",
              "      a.href = window.URL.createObjectURL(blob);\n",
              "      a.download = filename;\n",
              "      div.appendChild(a);\n",
              "      a.click();\n",
              "      div.remove();\n",
              "    }\n",
              "  "
            ]
          },
          "metadata": {}
        },
        {
          "output_type": "display_data",
          "data": {
            "text/plain": [
              "<IPython.core.display.Javascript object>"
            ],
            "application/javascript": [
              "download(\"download_72960460-1745-4160-945f-03125ed2f68c\", \"decision_tree.pdf\", 19886)"
            ]
          },
          "metadata": {}
        }
      ]
    },
    {
      "cell_type": "markdown",
      "source": [
        "# Naive Bayes "
      ],
      "metadata": {
        "id": "ir19TV9Qy12s"
      }
    },
    {
      "cell_type": "markdown",
      "source": [
        "## กำหนด features และ target"
      ],
      "metadata": {
        "id": "yScligPbyxZo"
      }
    },
    {
      "cell_type": "markdown",
      "source": [
        "Gaussian Naive Bayes ซึ่งเหมาะสำหรับข้อมูลต่อเนื่องและมีการกระจายตัวของข้อมูล จึงเหมาะสมกับข้อมูล Salary Prediction"
      ],
      "metadata": {
        "id": "4ddsmVrlyqI4"
      }
    },
    {
      "cell_type": "markdown",
      "source": [
        "## Define , Train and Predict - evaluate"
      ],
      "metadata": {
        "id": "SyD4za7v17oO"
      }
    },
    {
      "cell_type": "code",
      "source": [
        "#Define\n",
        "gnb = GaussianNB()\n",
        "\n",
        "#train \n",
        "gnb.fit(X_train, y_train)\n",
        "\n",
        "#test\n",
        "y_pred = gnb.predict(X_test)"
      ],
      "metadata": {
        "id": "WskyERskzDyz"
      },
      "execution_count": 25,
      "outputs": []
    },
    {
      "cell_type": "markdown",
      "source": [
        "## accuracy and Classification report"
      ],
      "metadata": {
        "id": "7KwhRZ4Q19NG"
      }
    },
    {
      "cell_type": "code",
      "source": [
        "accuracy = accuracy_score(y_test, y_pred)\n",
        "report = classification_report(y_test, y_pred)\n",
        "\n",
        "print(f'Accuracy: {accuracy:.2f}')\n",
        "print('Classification report:\\n', report)"
      ],
      "metadata": {
        "id": "horY1hyKG27G",
        "colab": {
          "base_uri": "https://localhost:8080/"
        },
        "outputId": "5522a775-cbaa-476f-b7be-c1af1596782c"
      },
      "execution_count": 26,
      "outputs": [
        {
          "output_type": "stream",
          "name": "stdout",
          "text": [
            "Accuracy: 0.75\n",
            "Classification report:\n",
            "               precision    recall  f1-score   support\n",
            "\n",
            "           0       0.88      0.77      0.82      6767\n",
            "           1       0.51      0.69      0.58      2282\n",
            "\n",
            "    accuracy                           0.75      9049\n",
            "   macro avg       0.69      0.73      0.70      9049\n",
            "weighted avg       0.79      0.75      0.76      9049\n",
            "\n"
          ]
        }
      ]
    },
    {
      "cell_type": "code",
      "source": [
        "scores = cross_val_score(gnb, X_train, y_train, cv=10)\n",
        "print(f'Mean cross-validation score: {scores.mean():.2f}')"
      ],
      "metadata": {
        "id": "o0MFPPY-w9gC",
        "colab": {
          "base_uri": "https://localhost:8080/"
        },
        "outputId": "5c61dda2-2d25-4a7d-832a-29e60fa804d3"
      },
      "execution_count": 27,
      "outputs": [
        {
          "output_type": "stream",
          "name": "stdout",
          "text": [
            "Mean cross-validation score: 0.76\n"
          ]
        }
      ]
    },
    {
      "cell_type": "markdown",
      "source": [
        "โดยทั่วไปแล้ว เราจะใช้ precision และ recall เพื่อประเมินประสิทธิภาพของโมเดล โดย precision คือ ความแม่นยำของโมเดลในการทำนายว่าเป็น positive class และ recall คือ ความแม่นยำของโมเดลในการตรวจจับ positive class"
      ],
      "metadata": {
        "id": "DVZ8166A1kl8"
      }
    },
    {
      "cell_type": "markdown",
      "source": [
        "จากผลลัพธ์ที่ได้จะเห็นได้ว่าโมเดล Naive Bayes ที่ใช้กับข้อมูล Salary Classification มีความแม่นยำในการทำนายประเภทเฉพาะ (class 0) ที่ดีกว่าการทำนายประเภทอื่นๆ (class 1) โดยมีค่า precision และ recall สูงขึ้นสำหรับ class 0 โดยที่มีค่า f1-score สูงสุดที่ 0.82 สำหรับ class 0 และ 0.58 สำหรับ class 1"
      ],
      "metadata": {
        "id": "Dz8Jxsg41g5Q"
      }
    },
    {
      "cell_type": "markdown",
      "source": [
        "- Precision (ค่าความแม่นยำ) คือ อัตราส่วนของจำนวนเคสที่ทำนายถูกต้องเทียบกับจำนวนเคสที่โมเดลทำนายว่าเป็น positive class โดย Precision เพิ่มขึ้นเมื่อโมเดลทำนายถูกต้องและมีจำนวน False Positive น้อยลง\n",
        "\n",
        "- Recall (ค่าความจำเป็น) คือ อัตราส่วนของจำนวนเคสที่ทำนายถูกต้องเทียบกับจำนวนเคสที่เป็น positive class โดย Recall เพิ่มขึ้นเมื่อโมเดลทำนายถูกต้องและมีจำนวน False Negative น้อยลง\n",
        "\n",
        "- F1-score (ค่าเฉลี่ยความแม่นยำและความจำเป็น) คือ ค่าเฉลี่ยเอกลักษณ์ระหว่าง Precision และ Recall ที่สามารถใช้ประเมินประสิทธิภาพของโมเดลได้รวมกัน โดยค่า - - - - F1-score เพิ่มขึ้นเมื่อ Precision และ Recall มีค่าใกล้เคียงกัน\n",
        "\n",
        "- Support (จำนวนเคสในแต่ละ class) คือ จำนวนเคสที่อยู่ในแต่ละ class ซึ่งใช้ในการคำนวณ Precision, Recall และ F1-score ของแต่ละ class\n",
        "\n",
        "สรุปคือ Precision, Recall, F1-score และ Support ใช้ในการวัดประสิทธิภาพของโมเดล Classification โดยที่ Precision และ Recall จะเน้นการทำนายแต่ละ class ให้ถูกต้อง ส่วน F1-score จะใช้รวมประสิทธิภาพของแต่ละ class และใช้ค่า Support เพื่อดูว่าข้อมูลในแต่ละ class มีจำนวนมากน้อยแค่ไหน"
      ],
      "metadata": {
        "id": "9nAFbpSL1rho"
      }
    },
    {
      "cell_type": "markdown",
      "source": [
        "# K-Nearest Neighbor"
      ],
      "metadata": {
        "id": "HRX1KMns49Fe"
      }
    },
    {
      "cell_type": "markdown",
      "source": [
        "โดยวิธีการทำงานของ KNN คือ การหา k จำนวนของ record ที่อยู่ใกล้กับ record ที่เราต้องการ classify และทำการหา class ที่มีจำนวนมากที่สุดใน k record นั้น ๆ แล้วกำหนด class นั้นให้กับ record นั้น ๆ"
      ],
      "metadata": {
        "id": "h26fWbqT5W4c"
      }
    },
    {
      "cell_type": "markdown",
      "source": [
        "ค่า k ควรเลือกตั้งแต่ 1-20 ถ้าเกินนี้ข้อมูลอาจจะ overfitting"
      ],
      "metadata": {
        "id": "dSad37Jr7now"
      }
    },
    {
      "cell_type": "markdown",
      "source": [
        "## หา k ที่ดี"
      ],
      "metadata": {
        "id": "bcIXxnIv9Hbs"
      }
    },
    {
      "cell_type": "markdown",
      "source": [
        "ใช้วิธี GridSearchCV ซึ่งจะทำการทดสอบค่า k ต่าง ๆ และเลือกค่า k ที่ให้ผลลัพธ์ที่ดีที่สุด"
      ],
      "metadata": {
        "id": "I36PXf1Es_2j"
      }
    },
    {
      "cell_type": "code",
      "source": [
        "# กำหนดค่า k ที่ต้องการทดสอบ\n",
        "param_grid = {'n_neighbors': [1, 3, 5, 7, 9, 11, 13, 17, 19]}\n",
        "\n",
        "# สร้างโมเดล KNN\n",
        "knn = KNeighborsClassifier()\n",
        "\n",
        "# ใช้ GridSearchCV ในการหาค่า k ที่ดีที่สุด\n",
        "grid_search = GridSearchCV(knn, param_grid, cv=10, scoring='accuracy')\n",
        "grid_search.fit(X_train, y_train)\n",
        "\n",
        "# แสดงค่า k ที่ดีที่สุด\n",
        "print(\"Best k: \", grid_search.best_params_['n_neighbors'])"
      ],
      "metadata": {
        "id": "NsrVesWT6y7h",
        "colab": {
          "base_uri": "https://localhost:8080/"
        },
        "outputId": "f10b9da5-53a0-4a84-cc04-3f82cede5ac8"
      },
      "execution_count": 28,
      "outputs": [
        {
          "output_type": "stream",
          "name": "stdout",
          "text": [
            "Best k:  13\n"
          ]
        }
      ]
    },
    {
      "cell_type": "markdown",
      "source": [
        "## normalize ข้อมูลด้วย StandardScaler"
      ],
      "metadata": {
        "id": "PAvNeYAW5v79"
      }
    },
    {
      "cell_type": "code",
      "source": [
        "scaler = StandardScaler()\n",
        "\n",
        "X_train = scaler.fit_transform(X_train)\n",
        "X_test = scaler.transform(X_test)"
      ],
      "metadata": {
        "id": "Rxqk-I8J012Z"
      },
      "execution_count": 29,
      "outputs": []
    },
    {
      "cell_type": "markdown",
      "source": [
        "## Define , Train and Predict - evaluate"
      ],
      "metadata": {
        "id": "FL2emzL29AyM"
      }
    },
    {
      "cell_type": "code",
      "source": [
        "#Define\n",
        "knn = KNeighborsClassifier(n_neighbors=13, metric='euclidean')\n",
        "\n",
        "#Train\n",
        "knn.fit(X_train, y_train)\n",
        "\n",
        "#evalution\n",
        "y_pred = knn.predict(X_test)"
      ],
      "metadata": {
        "id": "cXq5dpXL59cG"
      },
      "execution_count": 30,
      "outputs": []
    },
    {
      "cell_type": "markdown",
      "source": [
        "metric='euclidean' คือการระบุวิธีการคำนวณระยะห่างระหว่างจุด ซึ่งคำนวณจากตำแหน่งของจุดในระบบพิกัดสองมิติ หรือมากกว่า 2 มิติก็ได้\n",
        "นิยมใช้กันอย่างแพ่หลาย"
      ],
      "metadata": {
        "id": "fGVD_ogr7Pm2"
      }
    },
    {
      "cell_type": "markdown",
      "source": [
        "## accuracy and Classification report"
      ],
      "metadata": {
        "id": "gy5hKdwm83CE"
      }
    },
    {
      "cell_type": "code",
      "source": [
        "accuracy = accuracy_score(y_test, y_pred)\n",
        "report = classification_report(y_test, y_pred)\n",
        "\n",
        "print(f'Accuracy: {accuracy:.2f}')\n",
        "print('Classification report:\\n', report)"
      ],
      "metadata": {
        "id": "0Co0Qd4i8SC1",
        "colab": {
          "base_uri": "https://localhost:8080/"
        },
        "outputId": "cc3e1ffd-d197-485a-d341-fa7ccdfad695"
      },
      "execution_count": 31,
      "outputs": [
        {
          "output_type": "stream",
          "name": "stdout",
          "text": [
            "Accuracy: 0.81\n",
            "Classification report:\n",
            "               precision    recall  f1-score   support\n",
            "\n",
            "           0       0.86      0.90      0.88      6767\n",
            "           1       0.65      0.57      0.61      2282\n",
            "\n",
            "    accuracy                           0.81      9049\n",
            "   macro avg       0.76      0.73      0.74      9049\n",
            "weighted avg       0.81      0.81      0.81      9049\n",
            "\n"
          ]
        }
      ]
    },
    {
      "cell_type": "code",
      "source": [
        "scores = cross_val_score(knn, X_train, y_train, cv=10)\n",
        "print(f'Mean cross-validation score: {scores.mean():.2f}')"
      ],
      "metadata": {
        "id": "HRymkL-5zqHE",
        "colab": {
          "base_uri": "https://localhost:8080/"
        },
        "outputId": "d60a5168-2c81-4b2e-d535-4531a0be9b1b"
      },
      "execution_count": 32,
      "outputs": [
        {
          "output_type": "stream",
          "name": "stdout",
          "text": [
            "Mean cross-validation score: 0.81\n"
          ]
        }
      ]
    },
    {
      "cell_type": "markdown",
      "source": [
        "# Association rules"
      ],
      "metadata": {
        "id": "1wsASp8mZCGj"
      }
    },
    {
      "cell_type": "markdown",
      "source": [
        "- ในการเรียกใช้ฟังก์ชัน apriori จะมีพารามิเตอร์ use_colnames ซึ่งถ้ากำหนดเป็น True จะใช้ชื่อคอลัมน์ของข้อมูลเป็นชื่อ itemset แทนที่จะใช้ตัวเลขเป็นชื่อ itemset ในการแสดงผลลัพธ์ ซึ่งทำให้ผลลัพธ์ที่ได้ง่ายต่อการอ่านและใช้งานได้ง่ายขึ้น\n",
        "- metric=\"lift\" จึงหมายถึง การใช้ Lift เป็น metric ในการวัดความสัมพันธ์ระหว่าง items ใน transaction โดย Lift คือ ค่าที่ใช้วัดความสัมพันธ์ระหว่างสอง items โดยเปรียบเทียบระหว่างความถี่ที่พบของ item A และ item B ใน transaction กับความถี่ที่พบของ item A และ item B ในกรณีที่ไม่มีความสัมพันธ์กัน ค่า Lift มากกว่า 1 จะหมายถึงสอง items มีความสัมพันธ์กันเป็นพิเศษ โดย Lift ยิ่งมากก็แสดงว่าความสัมพันธ์ระหว่างสอง items ยิ่งเข้มแข็งมากขึ้น\n",
        "- min_threshold=1 ในการวิเคราะห์ผลลัพธ์จาก association_rules หมายถึงการเลือกเฉพาะกฎที่มีค่า lift มากกว่าหรือเท่ากับ 1"
      ],
      "metadata": {
        "id": "7sFnQlR6uPtl"
      }
    },
    {
      "cell_type": "code",
      "source": [
        "# Rename columns to match required names\n",
        "#frequent_itemsets_df = frequent_itemsets_df.rename(columns={'support': 'support', 'itemsets': 'itemsets'})"
      ],
      "metadata": {
        "id": "q9H__k3XQrO8"
      },
      "execution_count": 33,
      "outputs": []
    },
    {
      "cell_type": "code",
      "source": [
        "# convert categorical variables into binary form\n",
        "df = pd.get_dummies(X, columns=['age', 'workclass', 'education', 'marital-status', 'occupation', 'relationship', 'race', 'sex',  'hours-per-week', 'native-country'])\n",
        "\n",
        "# Generate frequent itemsets\n",
        "frequent_itemsets = apriori(df, min_support=0.15, use_colnames=True)\n",
        "\n",
        "# Create DataFrame with support and itemsets columns\n",
        "frequent_itemsets_df = pd.DataFrame(frequent_itemsets)\n",
        "\n",
        "# generate association rules\n",
        "rules = association_rules(frequent_itemsets_df.reset_index(), metric='lift', min_threshold=1)\n",
        "\n",
        "# sort the rules by lift in descending order\n",
        "rules = rules.sort_values(by='lift', ascending=False)\n",
        "\n",
        "# show useful columns only\n",
        "acc = rules[['antecedents', 'consequents', 'support', 'confidence', 'lift']]\n",
        "acc"
      ],
      "metadata": {
        "id": "KBxJdaxATJPA",
        "colab": {
          "base_uri": "https://localhost:8080/",
          "height": 423
        },
        "outputId": "a42569d0-a95e-4ce1-ddcd-d6e7f4d7bab3"
      },
      "execution_count": 34,
      "outputs": [
        {
          "output_type": "execute_result",
          "data": {
            "text/plain": [
              "                                           antecedents  \\\n",
              "829                           (race_4, relationship_0)   \n",
              "816       (sex_1, native-country_38, marital-status_2)   \n",
              "826                (native-country_38, relationship_0)   \n",
              "819                  (race_4, sex_1, marital-status_2)   \n",
              "981                  (race_4, sex_1, marital-status_2)   \n",
              "..                                                 ...   \n",
              "30                                  (marital-status_4)   \n",
              "442                         (hours-per-week_40, sex_1)   \n",
              "441                   (workclass_2, native-country_38)   \n",
              "429  (workclass_2, hours-per-week_40, native-countr...   \n",
              "436                                           (race_4)   \n",
              "\n",
              "                                           consequents   support  confidence  \\\n",
              "829       (sex_1, native-country_38, marital-status_2)  0.352463    0.938885   \n",
              "816                           (race_4, relationship_0)  0.352463    0.924596   \n",
              "826                  (race_4, sex_1, marital-status_2)  0.352463    0.931318   \n",
              "819                (native-country_38, relationship_0)  0.352463    0.931237   \n",
              "981   (workclass_2, native-country_38, relationship_0)  0.235362    0.621847   \n",
              "..                                                 ...       ...         ...   \n",
              "30                                 (native-country_38)  0.294278    0.912605   \n",
              "442                   (workclass_2, native-country_38)  0.214674    0.668008   \n",
              "441                         (hours-per-week_40, sex_1)  0.214674    0.321579   \n",
              "429                                           (race_4)  0.275744    0.860261   \n",
              "436  (workclass_2, hours-per-week_40, native-countr...  0.275744    0.320711   \n",
              "\n",
              "         lift  \n",
              "829  2.462921  \n",
              "816  2.462921  \n",
              "826  2.460619  \n",
              "819  2.460619  \n",
              "981  2.459176  \n",
              "..        ...  \n",
              "30   1.000800  \n",
              "442  1.000668  \n",
              "441  1.000668  \n",
              "429  1.000547  \n",
              "436  1.000547  \n",
              "\n",
              "[1062 rows x 5 columns]"
            ],
            "text/html": [
              "\n",
              "  <div id=\"df-a550a9f6-f310-4867-9ea8-5eda5113f083\">\n",
              "    <div class=\"colab-df-container\">\n",
              "      <div>\n",
              "<style scoped>\n",
              "    .dataframe tbody tr th:only-of-type {\n",
              "        vertical-align: middle;\n",
              "    }\n",
              "\n",
              "    .dataframe tbody tr th {\n",
              "        vertical-align: top;\n",
              "    }\n",
              "\n",
              "    .dataframe thead th {\n",
              "        text-align: right;\n",
              "    }\n",
              "</style>\n",
              "<table border=\"1\" class=\"dataframe\">\n",
              "  <thead>\n",
              "    <tr style=\"text-align: right;\">\n",
              "      <th></th>\n",
              "      <th>antecedents</th>\n",
              "      <th>consequents</th>\n",
              "      <th>support</th>\n",
              "      <th>confidence</th>\n",
              "      <th>lift</th>\n",
              "    </tr>\n",
              "  </thead>\n",
              "  <tbody>\n",
              "    <tr>\n",
              "      <th>829</th>\n",
              "      <td>(race_4, relationship_0)</td>\n",
              "      <td>(sex_1, native-country_38, marital-status_2)</td>\n",
              "      <td>0.352463</td>\n",
              "      <td>0.938885</td>\n",
              "      <td>2.462921</td>\n",
              "    </tr>\n",
              "    <tr>\n",
              "      <th>816</th>\n",
              "      <td>(sex_1, native-country_38, marital-status_2)</td>\n",
              "      <td>(race_4, relationship_0)</td>\n",
              "      <td>0.352463</td>\n",
              "      <td>0.924596</td>\n",
              "      <td>2.462921</td>\n",
              "    </tr>\n",
              "    <tr>\n",
              "      <th>826</th>\n",
              "      <td>(native-country_38, relationship_0)</td>\n",
              "      <td>(race_4, sex_1, marital-status_2)</td>\n",
              "      <td>0.352463</td>\n",
              "      <td>0.931318</td>\n",
              "      <td>2.460619</td>\n",
              "    </tr>\n",
              "    <tr>\n",
              "      <th>819</th>\n",
              "      <td>(race_4, sex_1, marital-status_2)</td>\n",
              "      <td>(native-country_38, relationship_0)</td>\n",
              "      <td>0.352463</td>\n",
              "      <td>0.931237</td>\n",
              "      <td>2.460619</td>\n",
              "    </tr>\n",
              "    <tr>\n",
              "      <th>981</th>\n",
              "      <td>(race_4, sex_1, marital-status_2)</td>\n",
              "      <td>(workclass_2, native-country_38, relationship_0)</td>\n",
              "      <td>0.235362</td>\n",
              "      <td>0.621847</td>\n",
              "      <td>2.459176</td>\n",
              "    </tr>\n",
              "    <tr>\n",
              "      <th>...</th>\n",
              "      <td>...</td>\n",
              "      <td>...</td>\n",
              "      <td>...</td>\n",
              "      <td>...</td>\n",
              "      <td>...</td>\n",
              "    </tr>\n",
              "    <tr>\n",
              "      <th>30</th>\n",
              "      <td>(marital-status_4)</td>\n",
              "      <td>(native-country_38)</td>\n",
              "      <td>0.294278</td>\n",
              "      <td>0.912605</td>\n",
              "      <td>1.000800</td>\n",
              "    </tr>\n",
              "    <tr>\n",
              "      <th>442</th>\n",
              "      <td>(hours-per-week_40, sex_1)</td>\n",
              "      <td>(workclass_2, native-country_38)</td>\n",
              "      <td>0.214674</td>\n",
              "      <td>0.668008</td>\n",
              "      <td>1.000668</td>\n",
              "    </tr>\n",
              "    <tr>\n",
              "      <th>441</th>\n",
              "      <td>(workclass_2, native-country_38)</td>\n",
              "      <td>(hours-per-week_40, sex_1)</td>\n",
              "      <td>0.214674</td>\n",
              "      <td>0.321579</td>\n",
              "      <td>1.000668</td>\n",
              "    </tr>\n",
              "    <tr>\n",
              "      <th>429</th>\n",
              "      <td>(workclass_2, hours-per-week_40, native-countr...</td>\n",
              "      <td>(race_4)</td>\n",
              "      <td>0.275744</td>\n",
              "      <td>0.860261</td>\n",
              "      <td>1.000547</td>\n",
              "    </tr>\n",
              "    <tr>\n",
              "      <th>436</th>\n",
              "      <td>(race_4)</td>\n",
              "      <td>(workclass_2, hours-per-week_40, native-countr...</td>\n",
              "      <td>0.275744</td>\n",
              "      <td>0.320711</td>\n",
              "      <td>1.000547</td>\n",
              "    </tr>\n",
              "  </tbody>\n",
              "</table>\n",
              "<p>1062 rows × 5 columns</p>\n",
              "</div>\n",
              "      <button class=\"colab-df-convert\" onclick=\"convertToInteractive('df-a550a9f6-f310-4867-9ea8-5eda5113f083')\"\n",
              "              title=\"Convert this dataframe to an interactive table.\"\n",
              "              style=\"display:none;\">\n",
              "        \n",
              "  <svg xmlns=\"http://www.w3.org/2000/svg\" height=\"24px\"viewBox=\"0 0 24 24\"\n",
              "       width=\"24px\">\n",
              "    <path d=\"M0 0h24v24H0V0z\" fill=\"none\"/>\n",
              "    <path d=\"M18.56 5.44l.94 2.06.94-2.06 2.06-.94-2.06-.94-.94-2.06-.94 2.06-2.06.94zm-11 1L8.5 8.5l.94-2.06 2.06-.94-2.06-.94L8.5 2.5l-.94 2.06-2.06.94zm10 10l.94 2.06.94-2.06 2.06-.94-2.06-.94-.94-2.06-.94 2.06-2.06.94z\"/><path d=\"M17.41 7.96l-1.37-1.37c-.4-.4-.92-.59-1.43-.59-.52 0-1.04.2-1.43.59L10.3 9.45l-7.72 7.72c-.78.78-.78 2.05 0 2.83L4 21.41c.39.39.9.59 1.41.59.51 0 1.02-.2 1.41-.59l7.78-7.78 2.81-2.81c.8-.78.8-2.07 0-2.86zM5.41 20L4 18.59l7.72-7.72 1.47 1.35L5.41 20z\"/>\n",
              "  </svg>\n",
              "      </button>\n",
              "      \n",
              "  <style>\n",
              "    .colab-df-container {\n",
              "      display:flex;\n",
              "      flex-wrap:wrap;\n",
              "      gap: 12px;\n",
              "    }\n",
              "\n",
              "    .colab-df-convert {\n",
              "      background-color: #E8F0FE;\n",
              "      border: none;\n",
              "      border-radius: 50%;\n",
              "      cursor: pointer;\n",
              "      display: none;\n",
              "      fill: #1967D2;\n",
              "      height: 32px;\n",
              "      padding: 0 0 0 0;\n",
              "      width: 32px;\n",
              "    }\n",
              "\n",
              "    .colab-df-convert:hover {\n",
              "      background-color: #E2EBFA;\n",
              "      box-shadow: 0px 1px 2px rgba(60, 64, 67, 0.3), 0px 1px 3px 1px rgba(60, 64, 67, 0.15);\n",
              "      fill: #174EA6;\n",
              "    }\n",
              "\n",
              "    [theme=dark] .colab-df-convert {\n",
              "      background-color: #3B4455;\n",
              "      fill: #D2E3FC;\n",
              "    }\n",
              "\n",
              "    [theme=dark] .colab-df-convert:hover {\n",
              "      background-color: #434B5C;\n",
              "      box-shadow: 0px 1px 3px 1px rgba(0, 0, 0, 0.15);\n",
              "      filter: drop-shadow(0px 1px 2px rgba(0, 0, 0, 0.3));\n",
              "      fill: #FFFFFF;\n",
              "    }\n",
              "  </style>\n",
              "\n",
              "      <script>\n",
              "        const buttonEl =\n",
              "          document.querySelector('#df-a550a9f6-f310-4867-9ea8-5eda5113f083 button.colab-df-convert');\n",
              "        buttonEl.style.display =\n",
              "          google.colab.kernel.accessAllowed ? 'block' : 'none';\n",
              "\n",
              "        async function convertToInteractive(key) {\n",
              "          const element = document.querySelector('#df-a550a9f6-f310-4867-9ea8-5eda5113f083');\n",
              "          const dataTable =\n",
              "            await google.colab.kernel.invokeFunction('convertToInteractive',\n",
              "                                                     [key], {});\n",
              "          if (!dataTable) return;\n",
              "\n",
              "          const docLinkHtml = 'Like what you see? Visit the ' +\n",
              "            '<a target=\"_blank\" href=https://colab.research.google.com/notebooks/data_table.ipynb>data table notebook</a>'\n",
              "            + ' to learn more about interactive tables.';\n",
              "          element.innerHTML = '';\n",
              "          dataTable['output_type'] = 'display_data';\n",
              "          await google.colab.output.renderOutput(dataTable, element);\n",
              "          const docLink = document.createElement('div');\n",
              "          docLink.innerHTML = docLinkHtml;\n",
              "          element.appendChild(docLink);\n",
              "        }\n",
              "      </script>\n",
              "    </div>\n",
              "  </div>\n",
              "  "
            ]
          },
          "metadata": {},
          "execution_count": 34
        }
      ]
    },
    {
      "cell_type": "markdown",
      "source": [
        "หากกำหนด metric=\"lift\" และ min_threshold=1 จะหมายความว่าเราจะสร้างกฎผสมที่มีค่า lift มากกว่าหรือเท่ากับ 1 เท่านั้น"
      ],
      "metadata": {
        "id": "5TFJxp56OOyC"
      }
    },
    {
      "cell_type": "markdown",
      "source": [
        "# K-means clustering"
      ],
      "metadata": {
        "id": "WGZ997YhR26P"
      }
    },
    {
      "cell_type": "markdown",
      "source": [
        "หาค่า k ที่ดีที่สุด"
      ],
      "metadata": {
        "id": "0EC2-VRQt6l0"
      }
    },
    {
      "cell_type": "markdown",
      "source": [
        "elbow method ซึ่งเป็นการหาค่า K ที่เหมาะสมโดยการ plot ค่า SSE (Sum of Squared Errors) ของแต่ละค่า K และหาจุดที่เกิด elbow ซึ่งเป็นจุดที่ค่า SSE เริ่มลดลงช้าลง ซึ่งจะช่วยในการเลือกค่า K ที่เหมาะสม"
      ],
      "metadata": {
        "id": "VOR6CfRbv4e5"
      }
    },
    {
      "cell_type": "code",
      "source": [
        "import warnings\n",
        "warnings.filterwarnings(\"ignore\", category=FutureWarning)"
      ],
      "metadata": {
        "id": "sDqpTu7xoFJj"
      },
      "execution_count": 35,
      "outputs": []
    },
    {
      "cell_type": "code",
      "source": [
        "# standardize the data\n",
        "feature_array = X.values\n",
        "scaler = StandardScaler()\n",
        "subset_scaled = scaler.fit_transform(feature_array)\n",
        "\n",
        "# calculate SSE for a range of number of cluster\n",
        "sse = []\n",
        "for k in range(1, 11):\n",
        "    kmeans = KMeans(n_clusters=k, init='k-means++', random_state=42)\n",
        "    kmeans.fit(subset_scaled)\n",
        "    sse.append(kmeans.inertia_)\n",
        "\n",
        "# plot SSE for each value of K\n",
        "plt.style.use('ggplot')\n",
        "plt.plot(range(1, 11), sse)\n",
        "plt.xticks(range(1, 11))\n",
        "plt.xlabel(\"Number of Clusters\")\n",
        "plt.ylabel(\"SSE\")\n",
        "plt.show()"
      ],
      "metadata": {
        "id": "vBQG94J6R63S",
        "colab": {
          "base_uri": "https://localhost:8080/",
          "height": 282
        },
        "outputId": "eca16a3e-d45e-4e4b-b01a-59c630783de1"
      },
      "execution_count": 36,
      "outputs": [
        {
          "output_type": "display_data",
          "data": {
            "text/plain": [
              "<Figure size 432x288 with 1 Axes>"
            ],
            "image/png": "[encoded data removed]"
          },
          "metadata": {}
        }
      ]
    },
    {
      "cell_type": "code",
      "source": [
        "# set number of clusters\n",
        "k = 2\n",
        "kmeans = KMeans(n_clusters=k)\n",
        "\n",
        "# fit k-means clustering model\n",
        "kmeans.fit(subset_scaled)\n",
        "\n",
        "# get cluster labels\n",
        "data['cluster'] = kmeans.labels_"
      ],
      "metadata": {
        "id": "xd7MbtypqZoa",
        "colab": {
          "base_uri": "https://localhost:8080/"
        },
        "outputId": "2e627603-ba43-433a-f3e9-af29ae47003d"
      },
      "execution_count": 37,
      "outputs": [
        {
          "output_type": "stream",
          "name": "stderr",
          "text": [
            "<ipython-input-37-69d159c38d94>:9: SettingWithCopyWarning: \n",
            "A value is trying to be set on a copy of a slice from a DataFrame.\n",
            "Try using .loc[row_indexer,col_indexer] = value instead\n",
            "\n",
            "See the caveats in the documentation: https://pandas.pydata.org/pandas-docs/stable/user_guide/indexing.html#returning-a-view-versus-a-copy\n",
            "  data['cluster'] = kmeans.labels_\n"
          ]
        }
      ]
    },
    {
      "cell_type": "code",
      "source": [
        "data.head(5)"
      ],
      "metadata": {
        "id": "s6e-zzvDsJg6",
        "colab": {
          "base_uri": "https://localhost:8080/",
          "height": 206
        },
        "outputId": "97251e99-3f2a-4e2c-b693-557d8840af27"
      },
      "execution_count": 38,
      "outputs": [
        {
          "output_type": "execute_result",
          "data": {
            "text/plain": [
              "   age  workclass  education  marital-status  occupation  relationship  race  \\\n",
              "0   39          5          9               4           0             1     4   \n",
              "1   50          4          9               2           3             0     4   \n",
              "2   38          2         11               0           5             1     4   \n",
              "3   53          2          1               2           5             0     2   \n",
              "4   28          2          9               2           9             5     2   \n",
              "\n",
              "   sex  hours-per-week  native-country  salary  cluster  \n",
              "0    1              40              38       0        0  \n",
              "1    1              13              38       0        0  \n",
              "2    1              40              38       0        0  \n",
              "3    1              40              38       0        0  \n",
              "4    0              40               4       0        1  "
            ],
            "text/html": [
              "\n",
              "  <div id=\"df-15a706d4-1439-4c69-882b-5a0d664daa01\">\n",
              "    <div class=\"colab-df-container\">\n",
              "      <div>\n",
              "<style scoped>\n",
              "    .dataframe tbody tr th:only-of-type {\n",
              "        vertical-align: middle;\n",
              "    }\n",
              "\n",
              "    .dataframe tbody tr th {\n",
              "        vertical-align: top;\n",
              "    }\n",
              "\n",
              "    .dataframe thead th {\n",
              "        text-align: right;\n",
              "    }\n",
              "</style>\n",
              "<table border=\"1\" class=\"dataframe\">\n",
              "  <thead>\n",
              "    <tr style=\"text-align: right;\">\n",
              "      <th></th>\n",
              "      <th>age</th>\n",
              "      <th>workclass</th>\n",
              "      <th>education</th>\n",
              "      <th>marital-status</th>\n",
              "      <th>occupation</th>\n",
              "      <th>relationship</th>\n",
              "      <th>race</th>\n",
              "      <th>sex</th>\n",
              "      <th>hours-per-week</th>\n",
              "      <th>native-country</th>\n",
              "      <th>salary</th>\n",
              "      <th>cluster</th>\n",
              "    </tr>\n",
              "  </thead>\n",
              "  <tbody>\n",
              "    <tr>\n",
              "      <th>0</th>\n",
              "      <td>39</td>\n",
              "      <td>5</td>\n",
              "      <td>9</td>\n",
              "      <td>4</td>\n",
              "      <td>0</td>\n",
              "      <td>1</td>\n",
              "      <td>4</td>\n",
              "      <td>1</td>\n",
              "      <td>40</td>\n",
              "      <td>38</td>\n",
              "      <td>0</td>\n",
              "      <td>0</td>\n",
              "    </tr>\n",
              "    <tr>\n",
              "      <th>1</th>\n",
              "      <td>50</td>\n",
              "      <td>4</td>\n",
              "      <td>9</td>\n",
              "      <td>2</td>\n",
              "      <td>3</td>\n",
              "      <td>0</td>\n",
              "      <td>4</td>\n",
              "      <td>1</td>\n",
              "      <td>13</td>\n",
              "      <td>38</td>\n",
              "      <td>0</td>\n",
              "      <td>0</td>\n",
              "    </tr>\n",
              "    <tr>\n",
              "      <th>2</th>\n",
              "      <td>38</td>\n",
              "      <td>2</td>\n",
              "      <td>11</td>\n",
              "      <td>0</td>\n",
              "      <td>5</td>\n",
              "      <td>1</td>\n",
              "      <td>4</td>\n",
              "      <td>1</td>\n",
              "      <td>40</td>\n",
              "      <td>38</td>\n",
              "      <td>0</td>\n",
              "      <td>0</td>\n",
              "    </tr>\n",
              "    <tr>\n",
              "      <th>3</th>\n",
              "      <td>53</td>\n",
              "      <td>2</td>\n",
              "      <td>1</td>\n",
              "      <td>2</td>\n",
              "      <td>5</td>\n",
              "      <td>0</td>\n",
              "      <td>2</td>\n",
              "      <td>1</td>\n",
              "      <td>40</td>\n",
              "      <td>38</td>\n",
              "      <td>0</td>\n",
              "      <td>0</td>\n",
              "    </tr>\n",
              "    <tr>\n",
              "      <th>4</th>\n",
              "      <td>28</td>\n",
              "      <td>2</td>\n",
              "      <td>9</td>\n",
              "      <td>2</td>\n",
              "      <td>9</td>\n",
              "      <td>5</td>\n",
              "      <td>2</td>\n",
              "      <td>0</td>\n",
              "      <td>40</td>\n",
              "      <td>4</td>\n",
              "      <td>0</td>\n",
              "      <td>1</td>\n",
              "    </tr>\n",
              "  </tbody>\n",
              "</table>\n",
              "</div>\n",
              "      <button class=\"colab-df-convert\" onclick=\"convertToInteractive('df-15a706d4-1439-4c69-882b-5a0d664daa01')\"\n",
              "              title=\"Convert this dataframe to an interactive table.\"\n",
              "              style=\"display:none;\">\n",
              "        \n",
              "  <svg xmlns=\"http://www.w3.org/2000/svg\" height=\"24px\"viewBox=\"0 0 24 24\"\n",
              "       width=\"24px\">\n",
              "    <path d=\"M0 0h24v24H0V0z\" fill=\"none\"/>\n",
              "    <path d=\"M18.56 5.44l.94 2.06.94-2.06 2.06-.94-2.06-.94-.94-2.06-.94 2.06-2.06.94zm-11 1L8.5 8.5l.94-2.06 2.06-.94-2.06-.94L8.5 2.5l-.94 2.06-2.06.94zm10 10l.94 2.06.94-2.06 2.06-.94-2.06-.94-.94-2.06-.94 2.06-2.06.94z\"/><path d=\"M17.41 7.96l-1.37-1.37c-.4-.4-.92-.59-1.43-.59-.52 0-1.04.2-1.43.59L10.3 9.45l-7.72 7.72c-.78.78-.78 2.05 0 2.83L4 21.41c.39.39.9.59 1.41.59.51 0 1.02-.2 1.41-.59l7.78-7.78 2.81-2.81c.8-.78.8-2.07 0-2.86zM5.41 20L4 18.59l7.72-7.72 1.47 1.35L5.41 20z\"/>\n",
              "  </svg>\n",
              "      </button>\n",
              "      \n",
              "  <style>\n",
              "    .colab-df-container {\n",
              "      display:flex;\n",
              "      flex-wrap:wrap;\n",
              "      gap: 12px;\n",
              "    }\n",
              "\n",
              "    .colab-df-convert {\n",
              "      background-color: #E8F0FE;\n",
              "      border: none;\n",
              "      border-radius: 50%;\n",
              "      cursor: pointer;\n",
              "      display: none;\n",
              "      fill: #1967D2;\n",
              "      height: 32px;\n",
              "      padding: 0 0 0 0;\n",
              "      width: 32px;\n",
              "    }\n",
              "\n",
              "    .colab-df-convert:hover {\n",
              "      background-color: #E2EBFA;\n",
              "      box-shadow: 0px 1px 2px rgba(60, 64, 67, 0.3), 0px 1px 3px 1px rgba(60, 64, 67, 0.15);\n",
              "      fill: #174EA6;\n",
              "    }\n",
              "\n",
              "    [theme=dark] .colab-df-convert {\n",
              "      background-color: #3B4455;\n",
              "      fill: #D2E3FC;\n",
              "    }\n",
              "\n",
              "    [theme=dark] .colab-df-convert:hover {\n",
              "      background-color: #434B5C;\n",
              "      box-shadow: 0px 1px 3px 1px rgba(0, 0, 0, 0.15);\n",
              "      filter: drop-shadow(0px 1px 2px rgba(0, 0, 0, 0.3));\n",
              "      fill: #FFFFFF;\n",
              "    }\n",
              "  </style>\n",
              "\n",
              "      <script>\n",
              "        const buttonEl =\n",
              "          document.querySelector('#df-15a706d4-1439-4c69-882b-5a0d664daa01 button.colab-df-convert');\n",
              "        buttonEl.style.display =\n",
              "          google.colab.kernel.accessAllowed ? 'block' : 'none';\n",
              "\n",
              "        async function convertToInteractive(key) {\n",
              "          const element = document.querySelector('#df-15a706d4-1439-4c69-882b-5a0d664daa01');\n",
              "          const dataTable =\n",
              "            await google.colab.kernel.invokeFunction('convertToInteractive',\n",
              "                                                     [key], {});\n",
              "          if (!dataTable) return;\n",
              "\n",
              "          const docLinkHtml = 'Like what you see? Visit the ' +\n",
              "            '<a target=\"_blank\" href=https://colab.research.google.com/notebooks/data_table.ipynb>data table notebook</a>'\n",
              "            + ' to learn more about interactive tables.';\n",
              "          element.innerHTML = '';\n",
              "          dataTable['output_type'] = 'display_data';\n",
              "          await google.colab.output.renderOutput(dataTable, element);\n",
              "          const docLink = document.createElement('div');\n",
              "          docLink.innerHTML = docLinkHtml;\n",
              "          element.appendChild(docLink);\n",
              "        }\n",
              "      </script>\n",
              "    </div>\n",
              "  </div>\n",
              "  "
            ]
          },
          "metadata": {},
          "execution_count": 38
        }
      ]
    },
    {
      "cell_type": "code",
      "source": [
        "data['cluster'].value_counts()"
      ],
      "metadata": {
        "id": "G-ktqm0Htg6v",
        "colab": {
          "base_uri": "https://localhost:8080/"
        },
        "outputId": "6f0e293c-5257-46e1-815d-c3897a6d6b71"
      },
      "execution_count": 39,
      "outputs": [
        {
          "output_type": "execute_result",
          "data": {
            "text/plain": [
              "0    17863\n",
              "1    12299\n",
              "Name: cluster, dtype: int64"
            ]
          },
          "metadata": {},
          "execution_count": 39
        }
      ]
    },
    {
      "cell_type": "code",
      "source": [
        "from sklearn.decomposition import PCA\n",
        "\n",
        "# create PCA object\n",
        "pca = PCA(n_components=2)\n",
        "\n",
        "# fit and transform data\n",
        "principalComponents = pca.fit_transform(subset_scaled)\n",
        "\n",
        "# create dataframe with principal components and cluster labels\n",
        "principalDf = pd.DataFrame(data = principalComponents, columns = ['PC1', 'PC2'])\n",
        "principalDf['cluster'] = kmeans.labels_\n",
        "\n",
        "# plot the principal components colored by cluster\n",
        "fig = plt.figure(figsize = (10, 8))\n",
        "ax = fig.add_subplot(1,1,1) \n",
        "ax.set_xlabel('PC1', fontsize = 15)\n",
        "ax.set_ylabel('PC2', fontsize = 15)\n",
        "ax.set_title('2 component PCA', fontsize = 20)\n",
        "ax.set_facecolor('#0E1124') # เปลี่ยนสีพื้นหลัง\n",
        "targets = [0, 1]\n",
        "colors = ['#7286D3','#BCCEF8']\n",
        "for target, color in zip(targets,colors):\n",
        "    indicesToKeep = principalDf['cluster'] == target\n",
        "    ax.scatter(principalDf.loc[indicesToKeep, 'PC1']\n",
        "               , principalDf.loc[indicesToKeep, 'PC2']\n",
        "               , c = color\n",
        "               , s = 50)\n",
        "ax.legend(targets)\n",
        "ax.grid()"
      ],
      "metadata": {
        "id": "2HdaH9Q_x7xy",
        "colab": {
          "base_uri": "https://localhost:8080/",
          "height": 523
        },
        "outputId": "4c5f183d-2475-4597-c6d0-ccd367cee114"
      },
      "execution_count": 40,
      "outputs": [
        {
          "output_type": "display_data",
          "data": {
            "text/plain": [
              "<Figure size 720x576 with 1 Axes>"
            ],
            "image/png": "[encoded data removed]"
          },
          "metadata": {}
        }
      ]
    },
    {
      "cell_type": "code",
      "source": [
        "c0 = data[data['cluster'] == 0]\n",
        "c0"
      ],
      "metadata": {
        "id": "LPdWLiJzSe2n",
        "colab": {
          "base_uri": "https://localhost:8080/",
          "height": 423
        },
        "outputId": "b701b787-b20d-4d4d-9128-1ff1226c8494"
      },
      "execution_count": 41,
      "outputs": [
        {
          "output_type": "execute_result",
          "data": {
            "text/plain": [
              "       age  workclass  education  marital-status  occupation  relationship  \\\n",
              "0       39          5          9               4           0             1   \n",
              "1       50          4          9               2           3             0   \n",
              "2       38          2         11               0           5             1   \n",
              "3       53          2          1               2           5             0   \n",
              "7       52          4         11               2           3             0   \n",
              "...    ...        ...        ...             ...         ...           ...   \n",
              "32551   32          2          0               2           5             0   \n",
              "32552   43          2          8               2          11             0   \n",
              "32554   53          2         12               2           3             0   \n",
              "32555   22          2         15               4          10             1   \n",
              "32557   40          2         11               2           6             0   \n",
              "\n",
              "       race  sex  hours-per-week  native-country  salary  cluster  \n",
              "0         4    1              40              38       0        0  \n",
              "1         4    1              13              38       0        0  \n",
              "2         4    1              40              38       0        0  \n",
              "3         2    1              40              38       0        0  \n",
              "7         4    1              45              38       1        0  \n",
              "...     ...  ...             ...             ...     ...      ...  \n",
              "32551     0    1              40              38       0        0  \n",
              "32552     4    1              45              38       0        0  \n",
              "32554     4    1              40              38       1        0  \n",
              "32555     4    1              40              38       0        0  \n",
              "32557     4    1              40              38       1        0  \n",
              "\n",
              "[17863 rows x 12 columns]"
            ],
            "text/html": [
              "\n",
              "  <div id=\"df-66a7efca-2971-4a5f-ae75-999a93a6f7e1\">\n",
              "    <div class=\"colab-df-container\">\n",
              "      <div>\n",
              "<style scoped>\n",
              "    .dataframe tbody tr th:only-of-type {\n",
              "        vertical-align: middle;\n",
              "    }\n",
              "\n",
              "    .dataframe tbody tr th {\n",
              "        vertical-align: top;\n",
              "    }\n",
              "\n",
              "    .dataframe thead th {\n",
              "        text-align: right;\n",
              "    }\n",
              "</style>\n",
              "<table border=\"1\" class=\"dataframe\">\n",
              "  <thead>\n",
              "    <tr style=\"text-align: right;\">\n",
              "      <th></th>\n",
              "      <th>age</th>\n",
              "      <th>workclass</th>\n",
              "      <th>education</th>\n",
              "      <th>marital-status</th>\n",
              "      <th>occupation</th>\n",
              "      <th>relationship</th>\n",
              "      <th>race</th>\n",
              "      <th>sex</th>\n",
              "      <th>hours-per-week</th>\n",
              "      <th>native-country</th>\n",
              "      <th>salary</th>\n",
              "      <th>cluster</th>\n",
              "    </tr>\n",
              "  </thead>\n",
              "  <tbody>\n",
              "    <tr>\n",
              "      <th>0</th>\n",
              "      <td>39</td>\n",
              "      <td>5</td>\n",
              "      <td>9</td>\n",
              "      <td>4</td>\n",
              "      <td>0</td>\n",
              "      <td>1</td>\n",
              "      <td>4</td>\n",
              "      <td>1</td>\n",
              "      <td>40</td>\n",
              "      <td>38</td>\n",
              "      <td>0</td>\n",
              "      <td>0</td>\n",
              "    </tr>\n",
              "    <tr>\n",
              "      <th>1</th>\n",
              "      <td>50</td>\n",
              "      <td>4</td>\n",
              "      <td>9</td>\n",
              "      <td>2</td>\n",
              "      <td>3</td>\n",
              "      <td>0</td>\n",
              "      <td>4</td>\n",
              "      <td>1</td>\n",
              "      <td>13</td>\n",
              "      <td>38</td>\n",
              "      <td>0</td>\n",
              "      <td>0</td>\n",
              "    </tr>\n",
              "    <tr>\n",
              "      <th>2</th>\n",
              "      <td>38</td>\n",
              "      <td>2</td>\n",
              "      <td>11</td>\n",
              "      <td>0</td>\n",
              "      <td>5</td>\n",
              "      <td>1</td>\n",
              "      <td>4</td>\n",
              "      <td>1</td>\n",
              "      <td>40</td>\n",
              "      <td>38</td>\n",
              "      <td>0</td>\n",
              "      <td>0</td>\n",
              "    </tr>\n",
              "    <tr>\n",
              "      <th>3</th>\n",
              "      <td>53</td>\n",
              "      <td>2</td>\n",
              "      <td>1</td>\n",
              "      <td>2</td>\n",
              "      <td>5</td>\n",
              "      <td>0</td>\n",
              "      <td>2</td>\n",
              "      <td>1</td>\n",
              "      <td>40</td>\n",
              "      <td>38</td>\n",
              "      <td>0</td>\n",
              "      <td>0</td>\n",
              "    </tr>\n",
              "    <tr>\n",
              "      <th>7</th>\n",
              "      <td>52</td>\n",
              "      <td>4</td>\n",
              "      <td>11</td>\n",
              "      <td>2</td>\n",
              "      <td>3</td>\n",
              "      <td>0</td>\n",
              "      <td>4</td>\n",
              "      <td>1</td>\n",
              "      <td>45</td>\n",
              "      <td>38</td>\n",
              "      <td>1</td>\n",
              "      <td>0</td>\n",
              "    </tr>\n",
              "    <tr>\n",
              "      <th>...</th>\n",
              "      <td>...</td>\n",
              "      <td>...</td>\n",
              "      <td>...</td>\n",
              "      <td>...</td>\n",
              "      <td>...</td>\n",
              "      <td>...</td>\n",
              "      <td>...</td>\n",
              "      <td>...</td>\n",
              "      <td>...</td>\n",
              "      <td>...</td>\n",
              "      <td>...</td>\n",
              "      <td>...</td>\n",
              "    </tr>\n",
              "    <tr>\n",
              "      <th>32551</th>\n",
              "      <td>32</td>\n",
              "      <td>2</td>\n",
              "      <td>0</td>\n",
              "      <td>2</td>\n",
              "      <td>5</td>\n",
              "      <td>0</td>\n",
              "      <td>0</td>\n",
              "      <td>1</td>\n",
              "      <td>40</td>\n",
              "      <td>38</td>\n",
              "      <td>0</td>\n",
              "      <td>0</td>\n",
              "    </tr>\n",
              "    <tr>\n",
              "      <th>32552</th>\n",
              "      <td>43</td>\n",
              "      <td>2</td>\n",
              "      <td>8</td>\n",
              "      <td>2</td>\n",
              "      <td>11</td>\n",
              "      <td>0</td>\n",
              "      <td>4</td>\n",
              "      <td>1</td>\n",
              "      <td>45</td>\n",
              "      <td>38</td>\n",
              "      <td>0</td>\n",
              "      <td>0</td>\n",
              "    </tr>\n",
              "    <tr>\n",
              "      <th>32554</th>\n",
              "      <td>53</td>\n",
              "      <td>2</td>\n",
              "      <td>12</td>\n",
              "      <td>2</td>\n",
              "      <td>3</td>\n",
              "      <td>0</td>\n",
              "      <td>4</td>\n",
              "      <td>1</td>\n",
              "      <td>40</td>\n",
              "      <td>38</td>\n",
              "      <td>1</td>\n",
              "      <td>0</td>\n",
              "    </tr>\n",
              "    <tr>\n",
              "      <th>32555</th>\n",
              "      <td>22</td>\n",
              "      <td>2</td>\n",
              "      <td>15</td>\n",
              "      <td>4</td>\n",
              "      <td>10</td>\n",
              "      <td>1</td>\n",
              "      <td>4</td>\n",
              "      <td>1</td>\n",
              "      <td>40</td>\n",
              "      <td>38</td>\n",
              "      <td>0</td>\n",
              "      <td>0</td>\n",
              "    </tr>\n",
              "    <tr>\n",
              "      <th>32557</th>\n",
              "      <td>40</td>\n",
              "      <td>2</td>\n",
              "      <td>11</td>\n",
              "      <td>2</td>\n",
              "      <td>6</td>\n",
              "      <td>0</td>\n",
              "      <td>4</td>\n",
              "      <td>1</td>\n",
              "      <td>40</td>\n",
              "      <td>38</td>\n",
              "      <td>1</td>\n",
              "      <td>0</td>\n",
              "    </tr>\n",
              "  </tbody>\n",
              "</table>\n",
              "<p>17863 rows × 12 columns</p>\n",
              "</div>\n",
              "      <button class=\"colab-df-convert\" onclick=\"convertToInteractive('df-66a7efca-2971-4a5f-ae75-999a93a6f7e1')\"\n",
              "              title=\"Convert this dataframe to an interactive table.\"\n",
              "              style=\"display:none;\">\n",
              "        \n",
              "  <svg xmlns=\"http://www.w3.org/2000/svg\" height=\"24px\"viewBox=\"0 0 24 24\"\n",
              "       width=\"24px\">\n",
              "    <path d=\"M0 0h24v24H0V0z\" fill=\"none\"/>\n",
              "    <path d=\"M18.56 5.44l.94 2.06.94-2.06 2.06-.94-2.06-.94-.94-2.06-.94 2.06-2.06.94zm-11 1L8.5 8.5l.94-2.06 2.06-.94-2.06-.94L8.5 2.5l-.94 2.06-2.06.94zm10 10l.94 2.06.94-2.06 2.06-.94-2.06-.94-.94-2.06-.94 2.06-2.06.94z\"/><path d=\"M17.41 7.96l-1.37-1.37c-.4-.4-.92-.59-1.43-.59-.52 0-1.04.2-1.43.59L10.3 9.45l-7.72 7.72c-.78.78-.78 2.05 0 2.83L4 21.41c.39.39.9.59 1.41.59.51 0 1.02-.2 1.41-.59l7.78-7.78 2.81-2.81c.8-.78.8-2.07 0-2.86zM5.41 20L4 18.59l7.72-7.72 1.47 1.35L5.41 20z\"/>\n",
              "  </svg>\n",
              "      </button>\n",
              "      \n",
              "  <style>\n",
              "    .colab-df-container {\n",
              "      display:flex;\n",
              "      flex-wrap:wrap;\n",
              "      gap: 12px;\n",
              "    }\n",
              "\n",
              "    .colab-df-convert {\n",
              "      background-color: #E8F0FE;\n",
              "      border: none;\n",
              "      border-radius: 50%;\n",
              "      cursor: pointer;\n",
              "      display: none;\n",
              "      fill: #1967D2;\n",
              "      height: 32px;\n",
              "      padding: 0 0 0 0;\n",
              "      width: 32px;\n",
              "    }\n",
              "\n",
              "    .colab-df-convert:hover {\n",
              "      background-color: #E2EBFA;\n",
              "      box-shadow: 0px 1px 2px rgba(60, 64, 67, 0.3), 0px 1px 3px 1px rgba(60, 64, 67, 0.15);\n",
              "      fill: #174EA6;\n",
              "    }\n",
              "\n",
              "    [theme=dark] .colab-df-convert {\n",
              "      background-color: #3B4455;\n",
              "      fill: #D2E3FC;\n",
              "    }\n",
              "\n",
              "    [theme=dark] .colab-df-convert:hover {\n",
              "      background-color: #434B5C;\n",
              "      box-shadow: 0px 1px 3px 1px rgba(0, 0, 0, 0.15);\n",
              "      filter: drop-shadow(0px 1px 2px rgba(0, 0, 0, 0.3));\n",
              "      fill: #FFFFFF;\n",
              "    }\n",
              "  </style>\n",
              "\n",
              "      <script>\n",
              "        const buttonEl =\n",
              "          document.querySelector('#df-66a7efca-2971-4a5f-ae75-999a93a6f7e1 button.colab-df-convert');\n",
              "        buttonEl.style.display =\n",
              "          google.colab.kernel.accessAllowed ? 'block' : 'none';\n",
              "\n",
              "        async function convertToInteractive(key) {\n",
              "          const element = document.querySelector('#df-66a7efca-2971-4a5f-ae75-999a93a6f7e1');\n",
              "          const dataTable =\n",
              "            await google.colab.kernel.invokeFunction('convertToInteractive',\n",
              "                                                     [key], {});\n",
              "          if (!dataTable) return;\n",
              "\n",
              "          const docLinkHtml = 'Like what you see? Visit the ' +\n",
              "            '<a target=\"_blank\" href=https://colab.research.google.com/notebooks/data_table.ipynb>data table notebook</a>'\n",
              "            + ' to learn more about interactive tables.';\n",
              "          element.innerHTML = '';\n",
              "          dataTable['output_type'] = 'display_data';\n",
              "          await google.colab.output.renderOutput(dataTable, element);\n",
              "          const docLink = document.createElement('div');\n",
              "          docLink.innerHTML = docLinkHtml;\n",
              "          element.appendChild(docLink);\n",
              "        }\n",
              "      </script>\n",
              "    </div>\n",
              "  </div>\n",
              "  "
            ]
          },
          "metadata": {},
          "execution_count": 41
        }
      ]
    },
    {
      "cell_type": "code",
      "source": [
        "c1 = data[data['cluster'] == 1]\n",
        "c1"
      ],
      "metadata": {
        "id": "ZWoQ_m9xaNzs",
        "colab": {
          "base_uri": "https://localhost:8080/",
          "height": 423
        },
        "outputId": "fe80d9d1-0267-4297-f678-04b947525d11"
      },
      "execution_count": 42,
      "outputs": [
        {
          "output_type": "execute_result",
          "data": {
            "text/plain": [
              "       age  workclass  education  marital-status  occupation  relationship  \\\n",
              "4       28          2          9               2           9             5   \n",
              "5       37          2         12               2           3             5   \n",
              "6       49          2          6               3           7             1   \n",
              "8       31          2         12               4           9             1   \n",
              "12      23          2          9               4           0             3   \n",
              "...    ...        ...        ...             ...         ...           ...   \n",
              "32553   32          2         12               4          12             1   \n",
              "32556   27          2          7               2          12             5   \n",
              "32558   58          2         11               6           0             4   \n",
              "32559   22          2         11               4           0             3   \n",
              "32560   52          3         11               2           3             5   \n",
              "\n",
              "       race  sex  hours-per-week  native-country  salary  cluster  \n",
              "4         2    0              40               4       0        1  \n",
              "5         4    0              40              38       0        1  \n",
              "6         2    0              16              22       0        1  \n",
              "8         4    0              50              38       1        1  \n",
              "12        4    0              30              38       0        1  \n",
              "...     ...  ...             ...             ...     ...      ...  \n",
              "32553     1    1              11              35       0        1  \n",
              "32556     4    0              38              38       0        1  \n",
              "32558     4    0              40              38       0        1  \n",
              "32559     4    1              20              38       0        1  \n",
              "32560     4    0              40              38       1        1  \n",
              "\n",
              "[12299 rows x 12 columns]"
            ],
            "text/html": [
              "\n",
              "  <div id=\"df-e5dd5df6-159a-4c1d-b06d-dd77ba347663\">\n",
              "    <div class=\"colab-df-container\">\n",
              "      <div>\n",
              "<style scoped>\n",
              "    .dataframe tbody tr th:only-of-type {\n",
              "        vertical-align: middle;\n",
              "    }\n",
              "\n",
              "    .dataframe tbody tr th {\n",
              "        vertical-align: top;\n",
              "    }\n",
              "\n",
              "    .dataframe thead th {\n",
              "        text-align: right;\n",
              "    }\n",
              "</style>\n",
              "<table border=\"1\" class=\"dataframe\">\n",
              "  <thead>\n",
              "    <tr style=\"text-align: right;\">\n",
              "      <th></th>\n",
              "      <th>age</th>\n",
              "      <th>workclass</th>\n",
              "      <th>education</th>\n",
              "      <th>marital-status</th>\n",
              "      <th>occupation</th>\n",
              "      <th>relationship</th>\n",
              "      <th>race</th>\n",
              "      <th>sex</th>\n",
              "      <th>hours-per-week</th>\n",
              "      <th>native-country</th>\n",
              "      <th>salary</th>\n",
              "      <th>cluster</th>\n",
              "    </tr>\n",
              "  </thead>\n",
              "  <tbody>\n",
              "    <tr>\n",
              "      <th>4</th>\n",
              "      <td>28</td>\n",
              "      <td>2</td>\n",
              "      <td>9</td>\n",
              "      <td>2</td>\n",
              "      <td>9</td>\n",
              "      <td>5</td>\n",
              "      <td>2</td>\n",
              "      <td>0</td>\n",
              "      <td>40</td>\n",
              "      <td>4</td>\n",
              "      <td>0</td>\n",
              "      <td>1</td>\n",
              "    </tr>\n",
              "    <tr>\n",
              "      <th>5</th>\n",
              "      <td>37</td>\n",
              "      <td>2</td>\n",
              "      <td>12</td>\n",
              "      <td>2</td>\n",
              "      <td>3</td>\n",
              "      <td>5</td>\n",
              "      <td>4</td>\n",
              "      <td>0</td>\n",
              "      <td>40</td>\n",
              "      <td>38</td>\n",
              "      <td>0</td>\n",
              "      <td>1</td>\n",
              "    </tr>\n",
              "    <tr>\n",
              "      <th>6</th>\n",
              "      <td>49</td>\n",
              "      <td>2</td>\n",
              "      <td>6</td>\n",
              "      <td>3</td>\n",
              "      <td>7</td>\n",
              "      <td>1</td>\n",
              "      <td>2</td>\n",
              "      <td>0</td>\n",
              "      <td>16</td>\n",
              "      <td>22</td>\n",
              "      <td>0</td>\n",
              "      <td>1</td>\n",
              "    </tr>\n",
              "    <tr>\n",
              "      <th>8</th>\n",
              "      <td>31</td>\n",
              "      <td>2</td>\n",
              "      <td>12</td>\n",
              "      <td>4</td>\n",
              "      <td>9</td>\n",
              "      <td>1</td>\n",
              "      <td>4</td>\n",
              "      <td>0</td>\n",
              "      <td>50</td>\n",
              "      <td>38</td>\n",
              "      <td>1</td>\n",
              "      <td>1</td>\n",
              "    </tr>\n",
              "    <tr>\n",
              "      <th>12</th>\n",
              "      <td>23</td>\n",
              "      <td>2</td>\n",
              "      <td>9</td>\n",
              "      <td>4</td>\n",
              "      <td>0</td>\n",
              "      <td>3</td>\n",
              "      <td>4</td>\n",
              "      <td>0</td>\n",
              "      <td>30</td>\n",
              "      <td>38</td>\n",
              "      <td>0</td>\n",
              "      <td>1</td>\n",
              "    </tr>\n",
              "    <tr>\n",
              "      <th>...</th>\n",
              "      <td>...</td>\n",
              "      <td>...</td>\n",
              "      <td>...</td>\n",
              "      <td>...</td>\n",
              "      <td>...</td>\n",
              "      <td>...</td>\n",
              "      <td>...</td>\n",
              "      <td>...</td>\n",
              "      <td>...</td>\n",
              "      <td>...</td>\n",
              "      <td>...</td>\n",
              "      <td>...</td>\n",
              "    </tr>\n",
              "    <tr>\n",
              "      <th>32553</th>\n",
              "      <td>32</td>\n",
              "      <td>2</td>\n",
              "      <td>12</td>\n",
              "      <td>4</td>\n",
              "      <td>12</td>\n",
              "      <td>1</td>\n",
              "      <td>1</td>\n",
              "      <td>1</td>\n",
              "      <td>11</td>\n",
              "      <td>35</td>\n",
              "      <td>0</td>\n",
              "      <td>1</td>\n",
              "    </tr>\n",
              "    <tr>\n",
              "      <th>32556</th>\n",
              "      <td>27</td>\n",
              "      <td>2</td>\n",
              "      <td>7</td>\n",
              "      <td>2</td>\n",
              "      <td>12</td>\n",
              "      <td>5</td>\n",
              "      <td>4</td>\n",
              "      <td>0</td>\n",
              "      <td>38</td>\n",
              "      <td>38</td>\n",
              "      <td>0</td>\n",
              "      <td>1</td>\n",
              "    </tr>\n",
              "    <tr>\n",
              "      <th>32558</th>\n",
              "      <td>58</td>\n",
              "      <td>2</td>\n",
              "      <td>11</td>\n",
              "      <td>6</td>\n",
              "      <td>0</td>\n",
              "      <td>4</td>\n",
              "      <td>4</td>\n",
              "      <td>0</td>\n",
              "      <td>40</td>\n",
              "      <td>38</td>\n",
              "      <td>0</td>\n",
              "      <td>1</td>\n",
              "    </tr>\n",
              "    <tr>\n",
              "      <th>32559</th>\n",
              "      <td>22</td>\n",
              "      <td>2</td>\n",
              "      <td>11</td>\n",
              "      <td>4</td>\n",
              "      <td>0</td>\n",
              "      <td>3</td>\n",
              "      <td>4</td>\n",
              "      <td>1</td>\n",
              "      <td>20</td>\n",
              "      <td>38</td>\n",
              "      <td>0</td>\n",
              "      <td>1</td>\n",
              "    </tr>\n",
              "    <tr>\n",
              "      <th>32560</th>\n",
              "      <td>52</td>\n",
              "      <td>3</td>\n",
              "      <td>11</td>\n",
              "      <td>2</td>\n",
              "      <td>3</td>\n",
              "      <td>5</td>\n",
              "      <td>4</td>\n",
              "      <td>0</td>\n",
              "      <td>40</td>\n",
              "      <td>38</td>\n",
              "      <td>1</td>\n",
              "      <td>1</td>\n",
              "    </tr>\n",
              "  </tbody>\n",
              "</table>\n",
              "<p>12299 rows × 12 columns</p>\n",
              "</div>\n",
              "      <button class=\"colab-df-convert\" onclick=\"convertToInteractive('df-e5dd5df6-159a-4c1d-b06d-dd77ba347663')\"\n",
              "              title=\"Convert this dataframe to an interactive table.\"\n",
              "              style=\"display:none;\">\n",
              "        \n",
              "  <svg xmlns=\"http://www.w3.org/2000/svg\" height=\"24px\"viewBox=\"0 0 24 24\"\n",
              "       width=\"24px\">\n",
              "    <path d=\"M0 0h24v24H0V0z\" fill=\"none\"/>\n",
              "    <path d=\"M18.56 5.44l.94 2.06.94-2.06 2.06-.94-2.06-.94-.94-2.06-.94 2.06-2.06.94zm-11 1L8.5 8.5l.94-2.06 2.06-.94-2.06-.94L8.5 2.5l-.94 2.06-2.06.94zm10 10l.94 2.06.94-2.06 2.06-.94-2.06-.94-.94-2.06-.94 2.06-2.06.94z\"/><path d=\"M17.41 7.96l-1.37-1.37c-.4-.4-.92-.59-1.43-.59-.52 0-1.04.2-1.43.59L10.3 9.45l-7.72 7.72c-.78.78-.78 2.05 0 2.83L4 21.41c.39.39.9.59 1.41.59.51 0 1.02-.2 1.41-.59l7.78-7.78 2.81-2.81c.8-.78.8-2.07 0-2.86zM5.41 20L4 18.59l7.72-7.72 1.47 1.35L5.41 20z\"/>\n",
              "  </svg>\n",
              "      </button>\n",
              "      \n",
              "  <style>\n",
              "    .colab-df-container {\n",
              "      display:flex;\n",
              "      flex-wrap:wrap;\n",
              "      gap: 12px;\n",
              "    }\n",
              "\n",
              "    .colab-df-convert {\n",
              "      background-color: #E8F0FE;\n",
              "      border: none;\n",
              "      border-radius: 50%;\n",
              "      cursor: pointer;\n",
              "      display: none;\n",
              "      fill: #1967D2;\n",
              "      height: 32px;\n",
              "      padding: 0 0 0 0;\n",
              "      width: 32px;\n",
              "    }\n",
              "\n",
              "    .colab-df-convert:hover {\n",
              "      background-color: #E2EBFA;\n",
              "      box-shadow: 0px 1px 2px rgba(60, 64, 67, 0.3), 0px 1px 3px 1px rgba(60, 64, 67, 0.15);\n",
              "      fill: #174EA6;\n",
              "    }\n",
              "\n",
              "    [theme=dark] .colab-df-convert {\n",
              "      background-color: #3B4455;\n",
              "      fill: #D2E3FC;\n",
              "    }\n",
              "\n",
              "    [theme=dark] .colab-df-convert:hover {\n",
              "      background-color: #434B5C;\n",
              "      box-shadow: 0px 1px 3px 1px rgba(0, 0, 0, 0.15);\n",
              "      filter: drop-shadow(0px 1px 2px rgba(0, 0, 0, 0.3));\n",
              "      fill: #FFFFFF;\n",
              "    }\n",
              "  </style>\n",
              "\n",
              "      <script>\n",
              "        const buttonEl =\n",
              "          document.querySelector('#df-e5dd5df6-159a-4c1d-b06d-dd77ba347663 button.colab-df-convert');\n",
              "        buttonEl.style.display =\n",
              "          google.colab.kernel.accessAllowed ? 'block' : 'none';\n",
              "\n",
              "        async function convertToInteractive(key) {\n",
              "          const element = document.querySelector('#df-e5dd5df6-159a-4c1d-b06d-dd77ba347663');\n",
              "          const dataTable =\n",
              "            await google.colab.kernel.invokeFunction('convertToInteractive',\n",
              "                                                     [key], {});\n",
              "          if (!dataTable) return;\n",
              "\n",
              "          const docLinkHtml = 'Like what you see? Visit the ' +\n",
              "            '<a target=\"_blank\" href=https://colab.research.google.com/notebooks/data_table.ipynb>data table notebook</a>'\n",
              "            + ' to learn more about interactive tables.';\n",
              "          element.innerHTML = '';\n",
              "          dataTable['output_type'] = 'display_data';\n",
              "          await google.colab.output.renderOutput(dataTable, element);\n",
              "          const docLink = document.createElement('div');\n",
              "          docLink.innerHTML = docLinkHtml;\n",
              "          element.appendChild(docLink);\n",
              "        }\n",
              "      </script>\n",
              "    </div>\n",
              "  </div>\n",
              "  "
            ]
          },
          "metadata": {},
          "execution_count": 42
        }
      ]
    },
    {
      "cell_type": "code",
      "source": [
        "c0['age'].mean()"
      ],
      "metadata": {
        "id": "tXCD5r2inY_K",
        "colab": {
          "base_uri": "https://localhost:8080/"
        },
        "outputId": "2f93b358-c0f5-42b1-c266-ce428bfa343c"
      },
      "execution_count": 43,
      "outputs": [
        {
          "output_type": "execute_result",
          "data": {
            "text/plain": [
              "42.21950400268712"
            ]
          },
          "metadata": {},
          "execution_count": 43
        }
      ]
    },
    {
      "cell_type": "code",
      "source": [
        "c1['age'].mean()"
      ],
      "metadata": {
        "id": "DIfRzS40nawX",
        "colab": {
          "base_uri": "https://localhost:8080/"
        },
        "outputId": "41288469-695a-4a54-fd75-059e5cb3344f"
      },
      "execution_count": 44,
      "outputs": [
        {
          "output_type": "execute_result",
          "data": {
            "text/plain": [
              "32.945524026343605"
            ]
          },
          "metadata": {},
          "execution_count": 44
        }
      ]
    },
    {
      "cell_type": "code",
      "source": [
        "width = 0.2 # ความกว้างของแท่ง\n",
        "\n",
        "plt.bar([1, 2],[c0['age'].mean(),c1['age'].mean()],width,color=['#BB8FCE'] ,label='age') \n",
        "\n",
        "plt.title('cluster age')\n",
        "plt.xticks([1,2], ['cluster 0','cluster 1'])\n",
        "plt.legend();"
      ],
      "metadata": {
        "id": "sFKSqjG9cqfL",
        "colab": {
          "base_uri": "https://localhost:8080/",
          "height": 282
        },
        "outputId": "9d014e5f-20dd-49b0-9b37-ce18e4c74f53"
      },
      "execution_count": 45,
      "outputs": [
        {
          "output_type": "display_data",
          "data": {
            "text/plain": [
              "<Figure size 432x288 with 1 Axes>"
            ],
            "image/png": "[encoded data removed]"
          },
          "metadata": {}
        }
      ]
    },
    {
      "cell_type": "code",
      "source": [
        "s0 = c0['sex'].value_counts().reset_index()"
      ],
      "metadata": {
        "id": "3fS8EvpajN7m"
      },
      "execution_count": 46,
      "outputs": []
    },
    {
      "cell_type": "code",
      "source": [
        "s1 = c1['sex'].value_counts().reset_index()"
      ],
      "metadata": {
        "id": "L6mJHaiFjbf_"
      },
      "execution_count": 47,
      "outputs": []
    },
    {
      "cell_type": "code",
      "source": [
        "width = 0.2\n",
        "\n",
        "plt.bar([0.9,1.1],[s0['sex'][0],s0['sex'][1]],width,color=['#FF8800','#DEA6D5']) # ส้ม\n",
        "plt.bar([1.9,2.1],[s1['sex'][0],s1['sex'][1]],width,color=['#FF8800','#DEA6D5']) # ม่วง\n",
        "\n",
        "plt.title('cluster sex')\n",
        "plt.ylabel('Number')\n",
        "plt.xticks([1,2], labels=['cluster 0','cluster 1'])\n",
        "plt.legend();\n",
        "plt.show();\n"
      ],
      "metadata": {
        "id": "CzBAgrOeg7Z7",
        "colab": {
          "base_uri": "https://localhost:8080/",
          "height": 319
        },
        "outputId": "de99a4a9-a675-4340-ee25-986322c923fb"
      },
      "execution_count": 48,
      "outputs": [
        {
          "output_type": "stream",
          "name": "stderr",
          "text": [
            "WARNING:matplotlib.legend:No artists with labels found to put in legend.  Note that artists whose label start with an underscore are ignored when legend() is called with no argument.\n"
          ]
        },
        {
          "output_type": "display_data",
          "data": {
            "text/plain": [
              "<Figure size 432x288 with 1 Axes>"
            ],
            "image/png": "[encoded data removed]"
          },
          "metadata": {}
        }
      ]
    }
  ]
}