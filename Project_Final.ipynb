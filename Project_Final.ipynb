{
  "nbformat": 4,
  "nbformat_minor": 0,
  "metadata": {
    "colab": {
      "provenance": [],
      "toc_visible": true,
      "include_colab_link": true
    },
    "kernelspec": {
      "name": "python3",
      "display_name": "Python 3"
    },
    "language_info": {
      "name": "python"
    }
  },
  "cells": [
    {
      "cell_type": "markdown",
      "metadata": {
        "id": "view-in-github",
        "colab_type": "text"
      },
      "source": [
        "<a href=\"https://colab.research.google.com/github/oilnutttt/bsc_dpdm22/blob/main/Project_Final.ipynb\" target=\"_parent\"><img src=\"https://colab.research.google.com/assets/colab-badge.svg\" alt=\"Open In Colab\"/></a>"
      ]
    },
    {
      "cell_type": "markdown",
      "source": [
        "https://www.kaggle.com/datasets/ayessa/salary-prediction-classification"
      ],
      "metadata": {
        "id": "y9YOX6KGPx_U"
      }
    },
    {
      "cell_type": "markdown",
      "source": [
        "# รายชื่อสมาชิกกลุ่ม\n",
        "- 3. นางสาวณัชกมล อัมฤตานนท์ 633020439-4\n",
        "- 6. นางสาวทิพเกษร ยอดคุณ 633020442-5\n",
        "- 25. นางสาวปิ่นมนัส สุระเกษ 633021018-3\n",
        "- 34. นางสาวอภิศรา พงษ์เซียงซา 633021027-2"
      ],
      "metadata": {
        "id": "uUgqZNkzM1Uh"
      }
    },
    {
      "cell_type": "markdown",
      "source": [
        "# สไลด์\n",
        "https://www.canva.com/design/DAFeaN7R7Rk/8a-Tv8L1AYjlV7AKroX-sg/edit?utm_content=DAFeaN7R7Rk&utm_campaign=designshare&utm_medium=link2&utm_source=sharebutton"
      ],
      "metadata": {
        "id": "L_mR0hkEMuPv"
      }
    },
    {
      "cell_type": "code",
      "execution_count": 1,
      "metadata": {
        "id": "-tPjona3JGeF"
      },
      "outputs": [],
      "source": [
        "import pandas as pd\n",
        "import os"
      ]
    },
    {
      "cell_type": "code",
      "source": [
        "#cross validation\n",
        "from sklearn.model_selection import cross_val_score\n",
        "from sklearn.model_selection import GridSearchCV\n",
        "from sklearn.model_selection import KFold\n",
        "from sklearn.model_selection import LeaveOneOut\n",
        "#decision tree\n",
        "from sklearn.tree import DecisionTreeClassifier\n",
        "from sklearn.model_selection import train_test_split\n",
        "from sklearn.metrics import accuracy_score\n",
        "from sklearn.tree import plot_tree\n",
        "#Naive Bayes\n",
        "from sklearn.naive_bayes import GaussianNB\n",
        "from sklearn.metrics import classification_report\n",
        "#KNN\n",
        "from sklearn.preprocessing import StandardScaler\n",
        "from sklearn.neighbors import KNeighborsClassifier\n",
        "#association rules\n",
        "from mlxtend.frequent_patterns import apriori\n",
        "from mlxtend.frequent_patterns import association_rules\n",
        "#k-means\n",
        "import numpy as np\n",
        "import matplotlib.pyplot as plt\n",
        "from sklearn.cluster import KMeans"
      ],
      "metadata": {
        "id": "bOimZBhGawWK"
      },
      "execution_count": 2,
      "outputs": []
    },
    {
      "cell_type": "code",
      "source": [
        "#association rules\n",
        "#!pip install apyori\n",
        "#from apyori import apriori"
      ],
      "metadata": {
        "id": "PkOHdWibX_pt"
      },
      "execution_count": 3,
      "outputs": []
    },
    {
      "cell_type": "code",
      "source": [
        "import warnings\n",
        "warnings.filterwarnings(\"ignore\", category=FutureWarning)"
      ],
      "metadata": {
        "id": "sDqpTu7xoFJj"
      },
      "execution_count": 4,
      "outputs": []
    },
    {
      "cell_type": "code",
      "source": [
        "from google.colab import drive \n",
        "drive.mount('/content/gdrive')"
      ],
      "metadata": {
        "colab": {
          "base_uri": "https://localhost:8080/"
        },
        "id": "sNscU628FXay",
        "outputId": "33c6039e-9e16-4115-985a-791f32327276"
      },
      "execution_count": 5,
      "outputs": [
        {
          "output_type": "stream",
          "name": "stdout",
          "text": [
            "Mounted at /content/gdrive\n"
          ]
        }
      ]
    },
    {
      "cell_type": "markdown",
      "source": [
        "# import data"
      ],
      "metadata": {
        "id": "V1v9BOtVwNOp"
      }
    },
    {
      "cell_type": "code",
      "source": [
        "data_salary = pd.read_csv('/content/gdrive/MyDrive/bscpj/salary.csv')\n",
        "print(data_salary.shape)\n",
        "data_salary.head(3)"
      ],
      "metadata": {
        "colab": {
          "base_uri": "https://localhost:8080/",
          "height": 291
        },
        "id": "tdRBJTA2FpXT",
        "outputId": "c26948d1-0bf2-4f13-8e30-24c0bf1a5bc7"
      },
      "execution_count": 6,
      "outputs": [
        {
          "output_type": "stream",
          "name": "stdout",
          "text": [
            "(32561, 15)\n"
          ]
        },
        {
          "output_type": "execute_result",
          "data": {
            "text/plain": [
              "   age          workclass  fnlwgt   education  education-num  \\\n",
              "0   39          State-gov   77516   Bachelors             13   \n",
              "1   50   Self-emp-not-inc   83311   Bachelors             13   \n",
              "2   38            Private  215646     HS-grad              9   \n",
              "\n",
              "        marital-status          occupation    relationship    race    sex  \\\n",
              "0        Never-married        Adm-clerical   Not-in-family   White   Male   \n",
              "1   Married-civ-spouse     Exec-managerial         Husband   White   Male   \n",
              "2             Divorced   Handlers-cleaners   Not-in-family   White   Male   \n",
              "\n",
              "   capital-gain  capital-loss  hours-per-week  native-country  salary  \n",
              "0          2174             0              40   United-States   <=50K  \n",
              "1             0             0              13   United-States   <=50K  \n",
              "2             0             0              40   United-States   <=50K  "
            ],
            "text/html": [
              "\n",
              "  <div id=\"df-b679dacb-a077-4b25-a5cc-36483ac6f525\">\n",
              "    <div class=\"colab-df-container\">\n",
              "      <div>\n",
              "<style scoped>\n",
              "    .dataframe tbody tr th:only-of-type {\n",
              "        vertical-align: middle;\n",
              "    }\n",
              "\n",
              "    .dataframe tbody tr th {\n",
              "        vertical-align: top;\n",
              "    }\n",
              "\n",
              "    .dataframe thead th {\n",
              "        text-align: right;\n",
              "    }\n",
              "</style>\n",
              "<table border=\"1\" class=\"dataframe\">\n",
              "  <thead>\n",
              "    <tr style=\"text-align: right;\">\n",
              "      <th></th>\n",
              "      <th>age</th>\n",
              "      <th>workclass</th>\n",
              "      <th>fnlwgt</th>\n",
              "      <th>education</th>\n",
              "      <th>education-num</th>\n",
              "      <th>marital-status</th>\n",
              "      <th>occupation</th>\n",
              "      <th>relationship</th>\n",
              "      <th>race</th>\n",
              "      <th>sex</th>\n",
              "      <th>capital-gain</th>\n",
              "      <th>capital-loss</th>\n",
              "      <th>hours-per-week</th>\n",
              "      <th>native-country</th>\n",
              "      <th>salary</th>\n",
              "    </tr>\n",
              "  </thead>\n",
              "  <tbody>\n",
              "    <tr>\n",
              "      <th>0</th>\n",
              "      <td>39</td>\n",
              "      <td>State-gov</td>\n",
              "      <td>77516</td>\n",
              "      <td>Bachelors</td>\n",
              "      <td>13</td>\n",
              "      <td>Never-married</td>\n",
              "      <td>Adm-clerical</td>\n",
              "      <td>Not-in-family</td>\n",
              "      <td>White</td>\n",
              "      <td>Male</td>\n",
              "      <td>2174</td>\n",
              "      <td>0</td>\n",
              "      <td>40</td>\n",
              "      <td>United-States</td>\n",
              "      <td>&lt;=50K</td>\n",
              "    </tr>\n",
              "    <tr>\n",
              "      <th>1</th>\n",
              "      <td>50</td>\n",
              "      <td>Self-emp-not-inc</td>\n",
              "      <td>83311</td>\n",
              "      <td>Bachelors</td>\n",
              "      <td>13</td>\n",
              "      <td>Married-civ-spouse</td>\n",
              "      <td>Exec-managerial</td>\n",
              "      <td>Husband</td>\n",
              "      <td>White</td>\n",
              "      <td>Male</td>\n",
              "      <td>0</td>\n",
              "      <td>0</td>\n",
              "      <td>13</td>\n",
              "      <td>United-States</td>\n",
              "      <td>&lt;=50K</td>\n",
              "    </tr>\n",
              "    <tr>\n",
              "      <th>2</th>\n",
              "      <td>38</td>\n",
              "      <td>Private</td>\n",
              "      <td>215646</td>\n",
              "      <td>HS-grad</td>\n",
              "      <td>9</td>\n",
              "      <td>Divorced</td>\n",
              "      <td>Handlers-cleaners</td>\n",
              "      <td>Not-in-family</td>\n",
              "      <td>White</td>\n",
              "      <td>Male</td>\n",
              "      <td>0</td>\n",
              "      <td>0</td>\n",
              "      <td>40</td>\n",
              "      <td>United-States</td>\n",
              "      <td>&lt;=50K</td>\n",
              "    </tr>\n",
              "  </tbody>\n",
              "</table>\n",
              "</div>\n",
              "      <button class=\"colab-df-convert\" onclick=\"convertToInteractive('df-b679dacb-a077-4b25-a5cc-36483ac6f525')\"\n",
              "              title=\"Convert this dataframe to an interactive table.\"\n",
              "              style=\"display:none;\">\n",
              "        \n",
              "  <svg xmlns=\"http://www.w3.org/2000/svg\" height=\"24px\"viewBox=\"0 0 24 24\"\n",
              "       width=\"24px\">\n",
              "    <path d=\"M0 0h24v24H0V0z\" fill=\"none\"/>\n",
              "    <path d=\"M18.56 5.44l.94 2.06.94-2.06 2.06-.94-2.06-.94-.94-2.06-.94 2.06-2.06.94zm-11 1L8.5 8.5l.94-2.06 2.06-.94-2.06-.94L8.5 2.5l-.94 2.06-2.06.94zm10 10l.94 2.06.94-2.06 2.06-.94-2.06-.94-.94-2.06-.94 2.06-2.06.94z\"/><path d=\"M17.41 7.96l-1.37-1.37c-.4-.4-.92-.59-1.43-.59-.52 0-1.04.2-1.43.59L10.3 9.45l-7.72 7.72c-.78.78-.78 2.05 0 2.83L4 21.41c.39.39.9.59 1.41.59.51 0 1.02-.2 1.41-.59l7.78-7.78 2.81-2.81c.8-.78.8-2.07 0-2.86zM5.41 20L4 18.59l7.72-7.72 1.47 1.35L5.41 20z\"/>\n",
              "  </svg>\n",
              "      </button>\n",
              "      \n",
              "  <style>\n",
              "    .colab-df-container {\n",
              "      display:flex;\n",
              "      flex-wrap:wrap;\n",
              "      gap: 12px;\n",
              "    }\n",
              "\n",
              "    .colab-df-convert {\n",
              "      background-color: #E8F0FE;\n",
              "      border: none;\n",
              "      border-radius: 50%;\n",
              "      cursor: pointer;\n",
              "      display: none;\n",
              "      fill: #1967D2;\n",
              "      height: 32px;\n",
              "      padding: 0 0 0 0;\n",
              "      width: 32px;\n",
              "    }\n",
              "\n",
              "    .colab-df-convert:hover {\n",
              "      background-color: #E2EBFA;\n",
              "      box-shadow: 0px 1px 2px rgba(60, 64, 67, 0.3), 0px 1px 3px 1px rgba(60, 64, 67, 0.15);\n",
              "      fill: #174EA6;\n",
              "    }\n",
              "\n",
              "    [theme=dark] .colab-df-convert {\n",
              "      background-color: #3B4455;\n",
              "      fill: #D2E3FC;\n",
              "    }\n",
              "\n",
              "    [theme=dark] .colab-df-convert:hover {\n",
              "      background-color: #434B5C;\n",
              "      box-shadow: 0px 1px 3px 1px rgba(0, 0, 0, 0.15);\n",
              "      filter: drop-shadow(0px 1px 2px rgba(0, 0, 0, 0.3));\n",
              "      fill: #FFFFFF;\n",
              "    }\n",
              "  </style>\n",
              "\n",
              "      <script>\n",
              "        const buttonEl =\n",
              "          document.querySelector('#df-b679dacb-a077-4b25-a5cc-36483ac6f525 button.colab-df-convert');\n",
              "        buttonEl.style.display =\n",
              "          google.colab.kernel.accessAllowed ? 'block' : 'none';\n",
              "\n",
              "        async function convertToInteractive(key) {\n",
              "          const element = document.querySelector('#df-b679dacb-a077-4b25-a5cc-36483ac6f525');\n",
              "          const dataTable =\n",
              "            await google.colab.kernel.invokeFunction('convertToInteractive',\n",
              "                                                     [key], {});\n",
              "          if (!dataTable) return;\n",
              "\n",
              "          const docLinkHtml = 'Like what you see? Visit the ' +\n",
              "            '<a target=\"_blank\" href=https://colab.research.google.com/notebooks/data_table.ipynb>data table notebook</a>'\n",
              "            + ' to learn more about interactive tables.';\n",
              "          element.innerHTML = '';\n",
              "          dataTable['output_type'] = 'display_data';\n",
              "          await google.colab.output.renderOutput(dataTable, element);\n",
              "          const docLink = document.createElement('div');\n",
              "          docLink.innerHTML = docLinkHtml;\n",
              "          element.appendChild(docLink);\n",
              "        }\n",
              "      </script>\n",
              "    </div>\n",
              "  </div>\n",
              "  "
            ]
          },
          "metadata": {},
          "execution_count": 6
        }
      ]
    },
    {
      "cell_type": "markdown",
      "source": [
        "# Data preparation"
      ],
      "metadata": {
        "id": "u4kSU3OdwQvd"
      }
    },
    {
      "cell_type": "markdown",
      "source": [
        "## สร้างคอลัมน์ ID ให้กับข้อมูล"
      ],
      "metadata": {
        "id": "dex1fZKWcSWh"
      }
    },
    {
      "cell_type": "code",
      "source": [
        "#data_salary['ID'] = data_salary.reset_index().index"
      ],
      "metadata": {
        "id": "9TFrgK8TcRpL"
      },
      "execution_count": 7,
      "outputs": []
    },
    {
      "cell_type": "markdown",
      "source": [
        "## Select columns"
      ],
      "metadata": {
        "id": "ouUCrcNGRXo1"
      }
    },
    {
      "cell_type": "code",
      "source": [
        "data_salary.columns"
      ],
      "metadata": {
        "colab": {
          "base_uri": "https://localhost:8080/"
        },
        "id": "BdzzthqBQhPE",
        "outputId": "96f5ed2d-c39b-486c-cee0-56673cb473b9"
      },
      "execution_count": 8,
      "outputs": [
        {
          "output_type": "execute_result",
          "data": {
            "text/plain": [
              "Index(['age', 'workclass', 'fnlwgt', 'education', 'education-num',\n",
              "       'marital-status', 'occupation', 'relationship', 'race', 'sex',\n",
              "       'capital-gain', 'capital-loss', 'hours-per-week', 'native-country',\n",
              "       'salary'],\n",
              "      dtype='object')"
            ]
          },
          "metadata": {},
          "execution_count": 8
        }
      ]
    },
    {
      "cell_type": "code",
      "source": [
        "data = data_salary[['age', 'workclass', 'education', 'marital-status',\n",
        "       'occupation', 'relationship', 'race', 'sex', \n",
        "       'hours-per-week', 'native-country',\n",
        "       'salary']]"
      ],
      "metadata": {
        "id": "TFLWQrwCRA0t"
      },
      "execution_count": 9,
      "outputs": []
    },
    {
      "cell_type": "code",
      "source": [
        "data.shape"
      ],
      "metadata": {
        "colab": {
          "base_uri": "https://localhost:8080/"
        },
        "id": "_t823ufYRSlP",
        "outputId": "aa58d4d7-7cb6-4dde-c46e-510e18b14580"
      },
      "execution_count": 10,
      "outputs": [
        {
          "output_type": "execute_result",
          "data": {
            "text/plain": [
              "(32561, 11)"
            ]
          },
          "metadata": {},
          "execution_count": 10
        }
      ]
    },
    {
      "cell_type": "markdown",
      "source": [
        "## check missing"
      ],
      "metadata": {
        "id": "D9sSfi0oRgT5"
      }
    },
    {
      "cell_type": "code",
      "source": [
        "data.isnull().any()"
      ],
      "metadata": {
        "colab": {
          "base_uri": "https://localhost:8080/"
        },
        "id": "9rktdzUFRUms",
        "outputId": "261ba467-8e28-402b-d93b-4e5995a94e44"
      },
      "execution_count": 11,
      "outputs": [
        {
          "output_type": "execute_result",
          "data": {
            "text/plain": [
              "age               False\n",
              "workclass         False\n",
              "education         False\n",
              "marital-status    False\n",
              "occupation        False\n",
              "relationship      False\n",
              "race              False\n",
              "sex               False\n",
              "hours-per-week    False\n",
              "native-country    False\n",
              "salary            False\n",
              "dtype: bool"
            ]
          },
          "metadata": {},
          "execution_count": 11
        }
      ]
    },
    {
      "cell_type": "markdown",
      "source": [
        "จากการ check missing พบว่า ไม่มี missing"
      ],
      "metadata": {
        "id": "ZD-bsu4kRtXY"
      }
    },
    {
      "cell_type": "markdown",
      "source": [
        "แต่มีข้อมูลที่ไม่ทราบค่าซึ่งแสดงในสัญลักษณ์ '?'"
      ],
      "metadata": {
        "id": "IQM20l_nEH1j"
      }
    },
    {
      "cell_type": "code",
      "source": [
        "unknow = data[(data['workclass'] == ' ?') | (data['occupation'] == ' ?') | (data['native-country'] == ' ?')]\n",
        "print(unknow.shape)\n",
        "unknow.head(3)"
      ],
      "metadata": {
        "colab": {
          "base_uri": "https://localhost:8080/",
          "height": 161
        },
        "id": "CmnEb4C7Ect6",
        "outputId": "ec21158b-2eba-45bc-f13d-8e334628b125"
      },
      "execution_count": 12,
      "outputs": [
        {
          "output_type": "stream",
          "name": "stdout",
          "text": [
            "(2399, 11)\n"
          ]
        },
        {
          "output_type": "execute_result",
          "data": {
            "text/plain": [
              "    age workclass      education       marital-status     occupation  \\\n",
              "14   40   Private      Assoc-voc   Married-civ-spouse   Craft-repair   \n",
              "27   54         ?   Some-college   Married-civ-spouse              ?   \n",
              "38   31   Private   Some-college   Married-civ-spouse          Sales   \n",
              "\n",
              "   relationship                 race    sex  hours-per-week native-country  \\\n",
              "14      Husband   Asian-Pac-Islander   Male              40              ?   \n",
              "27      Husband   Asian-Pac-Islander   Male              60          South   \n",
              "38      Husband                White   Male              38              ?   \n",
              "\n",
              "   salary  \n",
              "14   >50K  \n",
              "27   >50K  \n",
              "38   >50K  "
            ],
            "text/html": [
              "\n",
              "  <div id=\"df-b28ead3d-992a-45ea-b5bc-8f88abf1fbb0\">\n",
              "    <div class=\"colab-df-container\">\n",
              "      <div>\n",
              "<style scoped>\n",
              "    .dataframe tbody tr th:only-of-type {\n",
              "        vertical-align: middle;\n",
              "    }\n",
              "\n",
              "    .dataframe tbody tr th {\n",
              "        vertical-align: top;\n",
              "    }\n",
              "\n",
              "    .dataframe thead th {\n",
              "        text-align: right;\n",
              "    }\n",
              "</style>\n",
              "<table border=\"1\" class=\"dataframe\">\n",
              "  <thead>\n",
              "    <tr style=\"text-align: right;\">\n",
              "      <th></th>\n",
              "      <th>age</th>\n",
              "      <th>workclass</th>\n",
              "      <th>education</th>\n",
              "      <th>marital-status</th>\n",
              "      <th>occupation</th>\n",
              "      <th>relationship</th>\n",
              "      <th>race</th>\n",
              "      <th>sex</th>\n",
              "      <th>hours-per-week</th>\n",
              "      <th>native-country</th>\n",
              "      <th>salary</th>\n",
              "    </tr>\n",
              "  </thead>\n",
              "  <tbody>\n",
              "    <tr>\n",
              "      <th>14</th>\n",
              "      <td>40</td>\n",
              "      <td>Private</td>\n",
              "      <td>Assoc-voc</td>\n",
              "      <td>Married-civ-spouse</td>\n",
              "      <td>Craft-repair</td>\n",
              "      <td>Husband</td>\n",
              "      <td>Asian-Pac-Islander</td>\n",
              "      <td>Male</td>\n",
              "      <td>40</td>\n",
              "      <td>?</td>\n",
              "      <td>&gt;50K</td>\n",
              "    </tr>\n",
              "    <tr>\n",
              "      <th>27</th>\n",
              "      <td>54</td>\n",
              "      <td>?</td>\n",
              "      <td>Some-college</td>\n",
              "      <td>Married-civ-spouse</td>\n",
              "      <td>?</td>\n",
              "      <td>Husband</td>\n",
              "      <td>Asian-Pac-Islander</td>\n",
              "      <td>Male</td>\n",
              "      <td>60</td>\n",
              "      <td>South</td>\n",
              "      <td>&gt;50K</td>\n",
              "    </tr>\n",
              "    <tr>\n",
              "      <th>38</th>\n",
              "      <td>31</td>\n",
              "      <td>Private</td>\n",
              "      <td>Some-college</td>\n",
              "      <td>Married-civ-spouse</td>\n",
              "      <td>Sales</td>\n",
              "      <td>Husband</td>\n",
              "      <td>White</td>\n",
              "      <td>Male</td>\n",
              "      <td>38</td>\n",
              "      <td>?</td>\n",
              "      <td>&gt;50K</td>\n",
              "    </tr>\n",
              "  </tbody>\n",
              "</table>\n",
              "</div>\n",
              "      <button class=\"colab-df-convert\" onclick=\"convertToInteractive('df-b28ead3d-992a-45ea-b5bc-8f88abf1fbb0')\"\n",
              "              title=\"Convert this dataframe to an interactive table.\"\n",
              "              style=\"display:none;\">\n",
              "        \n",
              "  <svg xmlns=\"http://www.w3.org/2000/svg\" height=\"24px\"viewBox=\"0 0 24 24\"\n",
              "       width=\"24px\">\n",
              "    <path d=\"M0 0h24v24H0V0z\" fill=\"none\"/>\n",
              "    <path d=\"M18.56 5.44l.94 2.06.94-2.06 2.06-.94-2.06-.94-.94-2.06-.94 2.06-2.06.94zm-11 1L8.5 8.5l.94-2.06 2.06-.94-2.06-.94L8.5 2.5l-.94 2.06-2.06.94zm10 10l.94 2.06.94-2.06 2.06-.94-2.06-.94-.94-2.06-.94 2.06-2.06.94z\"/><path d=\"M17.41 7.96l-1.37-1.37c-.4-.4-.92-.59-1.43-.59-.52 0-1.04.2-1.43.59L10.3 9.45l-7.72 7.72c-.78.78-.78 2.05 0 2.83L4 21.41c.39.39.9.59 1.41.59.51 0 1.02-.2 1.41-.59l7.78-7.78 2.81-2.81c.8-.78.8-2.07 0-2.86zM5.41 20L4 18.59l7.72-7.72 1.47 1.35L5.41 20z\"/>\n",
              "  </svg>\n",
              "      </button>\n",
              "      \n",
              "  <style>\n",
              "    .colab-df-container {\n",
              "      display:flex;\n",
              "      flex-wrap:wrap;\n",
              "      gap: 12px;\n",
              "    }\n",
              "\n",
              "    .colab-df-convert {\n",
              "      background-color: #E8F0FE;\n",
              "      border: none;\n",
              "      border-radius: 50%;\n",
              "      cursor: pointer;\n",
              "      display: none;\n",
              "      fill: #1967D2;\n",
              "      height: 32px;\n",
              "      padding: 0 0 0 0;\n",
              "      width: 32px;\n",
              "    }\n",
              "\n",
              "    .colab-df-convert:hover {\n",
              "      background-color: #E2EBFA;\n",
              "      box-shadow: 0px 1px 2px rgba(60, 64, 67, 0.3), 0px 1px 3px 1px rgba(60, 64, 67, 0.15);\n",
              "      fill: #174EA6;\n",
              "    }\n",
              "\n",
              "    [theme=dark] .colab-df-convert {\n",
              "      background-color: #3B4455;\n",
              "      fill: #D2E3FC;\n",
              "    }\n",
              "\n",
              "    [theme=dark] .colab-df-convert:hover {\n",
              "      background-color: #434B5C;\n",
              "      box-shadow: 0px 1px 3px 1px rgba(0, 0, 0, 0.15);\n",
              "      filter: drop-shadow(0px 1px 2px rgba(0, 0, 0, 0.3));\n",
              "      fill: #FFFFFF;\n",
              "    }\n",
              "  </style>\n",
              "\n",
              "      <script>\n",
              "        const buttonEl =\n",
              "          document.querySelector('#df-b28ead3d-992a-45ea-b5bc-8f88abf1fbb0 button.colab-df-convert');\n",
              "        buttonEl.style.display =\n",
              "          google.colab.kernel.accessAllowed ? 'block' : 'none';\n",
              "\n",
              "        async function convertToInteractive(key) {\n",
              "          const element = document.querySelector('#df-b28ead3d-992a-45ea-b5bc-8f88abf1fbb0');\n",
              "          const dataTable =\n",
              "            await google.colab.kernel.invokeFunction('convertToInteractive',\n",
              "                                                     [key], {});\n",
              "          if (!dataTable) return;\n",
              "\n",
              "          const docLinkHtml = 'Like what you see? Visit the ' +\n",
              "            '<a target=\"_blank\" href=https://colab.research.google.com/notebooks/data_table.ipynb>data table notebook</a>'\n",
              "            + ' to learn more about interactive tables.';\n",
              "          element.innerHTML = '';\n",
              "          dataTable['output_type'] = 'display_data';\n",
              "          await google.colab.output.renderOutput(dataTable, element);\n",
              "          const docLink = document.createElement('div');\n",
              "          docLink.innerHTML = docLinkHtml;\n",
              "          element.appendChild(docLink);\n",
              "        }\n",
              "      </script>\n",
              "    </div>\n",
              "  </div>\n",
              "  "
            ]
          },
          "metadata": {},
          "execution_count": 12
        }
      ]
    },
    {
      "cell_type": "markdown",
      "source": [
        "จึงทำการ drop ออก"
      ],
      "metadata": {
        "id": "0ae8DnHDER3o"
      }
    },
    {
      "cell_type": "code",
      "source": [
        "data.drop(unknow.index, inplace=True)"
      ],
      "metadata": {
        "colab": {
          "base_uri": "https://localhost:8080/"
        },
        "id": "9U6v2LUzEL6O",
        "outputId": "8bcf9d10-7335-4dbe-b67c-1b318363650b"
      },
      "execution_count": 13,
      "outputs": [
        {
          "output_type": "stream",
          "name": "stderr",
          "text": [
            "<ipython-input-13-72853082ba6f>:1: SettingWithCopyWarning: \n",
            "A value is trying to be set on a copy of a slice from a DataFrame\n",
            "\n",
            "See the caveats in the documentation: https://pandas.pydata.org/pandas-docs/stable/user_guide/indexing.html#returning-a-view-versus-a-copy\n",
            "  data.drop(unknow.index, inplace=True)\n"
          ]
        }
      ]
    },
    {
      "cell_type": "markdown",
      "source": [
        "## เปลี่ยนค่าในคอลัมน์ salary \n",
        "- ' <=50K' เป็น 0\n",
        "- ' >50K' เป็น 1"
      ],
      "metadata": {
        "id": "IEqf2XI2YB4n"
      }
    },
    {
      "cell_type": "code",
      "source": [
        "data['salary'] = data['salary'].map({' <=50K': 0, ' >50K': 1})"
      ],
      "metadata": {
        "id": "by4k619EXzEi",
        "colab": {
          "base_uri": "https://localhost:8080/"
        },
        "outputId": "921042b1-88e7-4638-8f0c-cb4a2500bec5"
      },
      "execution_count": 14,
      "outputs": [
        {
          "output_type": "stream",
          "name": "stderr",
          "text": [
            "<ipython-input-14-44f8c87484ba>:1: SettingWithCopyWarning: \n",
            "A value is trying to be set on a copy of a slice from a DataFrame.\n",
            "Try using .loc[row_indexer,col_indexer] = value instead\n",
            "\n",
            "See the caveats in the documentation: https://pandas.pydata.org/pandas-docs/stable/user_guide/indexing.html#returning-a-view-versus-a-copy\n",
            "  data['salary'] = data['salary'].map({' <=50K': 0, ' >50K': 1})\n"
          ]
        }
      ]
    },
    {
      "cell_type": "code",
      "source": [
        "data.head(10)"
      ],
      "metadata": {
        "colab": {
          "base_uri": "https://localhost:8080/",
          "height": 363
        },
        "id": "JwXFd66NcpXp",
        "outputId": "5fe23b05-59b6-4328-9786-299e7b4cd928"
      },
      "execution_count": 15,
      "outputs": [
        {
          "output_type": "execute_result",
          "data": {
            "text/plain": [
              "   age          workclass   education          marital-status  \\\n",
              "0   39          State-gov   Bachelors           Never-married   \n",
              "1   50   Self-emp-not-inc   Bachelors      Married-civ-spouse   \n",
              "2   38            Private     HS-grad                Divorced   \n",
              "3   53            Private        11th      Married-civ-spouse   \n",
              "4   28            Private   Bachelors      Married-civ-spouse   \n",
              "5   37            Private     Masters      Married-civ-spouse   \n",
              "6   49            Private         9th   Married-spouse-absent   \n",
              "7   52   Self-emp-not-inc     HS-grad      Married-civ-spouse   \n",
              "8   31            Private     Masters           Never-married   \n",
              "9   42            Private   Bachelors      Married-civ-spouse   \n",
              "\n",
              "           occupation    relationship    race      sex  hours-per-week  \\\n",
              "0        Adm-clerical   Not-in-family   White     Male              40   \n",
              "1     Exec-managerial         Husband   White     Male              13   \n",
              "2   Handlers-cleaners   Not-in-family   White     Male              40   \n",
              "3   Handlers-cleaners         Husband   Black     Male              40   \n",
              "4      Prof-specialty            Wife   Black   Female              40   \n",
              "5     Exec-managerial            Wife   White   Female              40   \n",
              "6       Other-service   Not-in-family   Black   Female              16   \n",
              "7     Exec-managerial         Husband   White     Male              45   \n",
              "8      Prof-specialty   Not-in-family   White   Female              50   \n",
              "9     Exec-managerial         Husband   White     Male              40   \n",
              "\n",
              "   native-country  salary  \n",
              "0   United-States       0  \n",
              "1   United-States       0  \n",
              "2   United-States       0  \n",
              "3   United-States       0  \n",
              "4            Cuba       0  \n",
              "5   United-States       0  \n",
              "6         Jamaica       0  \n",
              "7   United-States       1  \n",
              "8   United-States       1  \n",
              "9   United-States       1  "
            ],
            "text/html": [
              "\n",
              "  <div id=\"df-fadfd1ea-2135-4f09-9d97-fcb65ff74207\">\n",
              "    <div class=\"colab-df-container\">\n",
              "      <div>\n",
              "<style scoped>\n",
              "    .dataframe tbody tr th:only-of-type {\n",
              "        vertical-align: middle;\n",
              "    }\n",
              "\n",
              "    .dataframe tbody tr th {\n",
              "        vertical-align: top;\n",
              "    }\n",
              "\n",
              "    .dataframe thead th {\n",
              "        text-align: right;\n",
              "    }\n",
              "</style>\n",
              "<table border=\"1\" class=\"dataframe\">\n",
              "  <thead>\n",
              "    <tr style=\"text-align: right;\">\n",
              "      <th></th>\n",
              "      <th>age</th>\n",
              "      <th>workclass</th>\n",
              "      <th>education</th>\n",
              "      <th>marital-status</th>\n",
              "      <th>occupation</th>\n",
              "      <th>relationship</th>\n",
              "      <th>race</th>\n",
              "      <th>sex</th>\n",
              "      <th>hours-per-week</th>\n",
              "      <th>native-country</th>\n",
              "      <th>salary</th>\n",
              "    </tr>\n",
              "  </thead>\n",
              "  <tbody>\n",
              "    <tr>\n",
              "      <th>0</th>\n",
              "      <td>39</td>\n",
              "      <td>State-gov</td>\n",
              "      <td>Bachelors</td>\n",
              "      <td>Never-married</td>\n",
              "      <td>Adm-clerical</td>\n",
              "      <td>Not-in-family</td>\n",
              "      <td>White</td>\n",
              "      <td>Male</td>\n",
              "      <td>40</td>\n",
              "      <td>United-States</td>\n",
              "      <td>0</td>\n",
              "    </tr>\n",
              "    <tr>\n",
              "      <th>1</th>\n",
              "      <td>50</td>\n",
              "      <td>Self-emp-not-inc</td>\n",
              "      <td>Bachelors</td>\n",
              "      <td>Married-civ-spouse</td>\n",
              "      <td>Exec-managerial</td>\n",
              "      <td>Husband</td>\n",
              "      <td>White</td>\n",
              "      <td>Male</td>\n",
              "      <td>13</td>\n",
              "      <td>United-States</td>\n",
              "      <td>0</td>\n",
              "    </tr>\n",
              "    <tr>\n",
              "      <th>2</th>\n",
              "      <td>38</td>\n",
              "      <td>Private</td>\n",
              "      <td>HS-grad</td>\n",
              "      <td>Divorced</td>\n",
              "      <td>Handlers-cleaners</td>\n",
              "      <td>Not-in-family</td>\n",
              "      <td>White</td>\n",
              "      <td>Male</td>\n",
              "      <td>40</td>\n",
              "      <td>United-States</td>\n",
              "      <td>0</td>\n",
              "    </tr>\n",
              "    <tr>\n",
              "      <th>3</th>\n",
              "      <td>53</td>\n",
              "      <td>Private</td>\n",
              "      <td>11th</td>\n",
              "      <td>Married-civ-spouse</td>\n",
              "      <td>Handlers-cleaners</td>\n",
              "      <td>Husband</td>\n",
              "      <td>Black</td>\n",
              "      <td>Male</td>\n",
              "      <td>40</td>\n",
              "      <td>United-States</td>\n",
              "      <td>0</td>\n",
              "    </tr>\n",
              "    <tr>\n",
              "      <th>4</th>\n",
              "      <td>28</td>\n",
              "      <td>Private</td>\n",
              "      <td>Bachelors</td>\n",
              "      <td>Married-civ-spouse</td>\n",
              "      <td>Prof-specialty</td>\n",
              "      <td>Wife</td>\n",
              "      <td>Black</td>\n",
              "      <td>Female</td>\n",
              "      <td>40</td>\n",
              "      <td>Cuba</td>\n",
              "      <td>0</td>\n",
              "    </tr>\n",
              "    <tr>\n",
              "      <th>5</th>\n",
              "      <td>37</td>\n",
              "      <td>Private</td>\n",
              "      <td>Masters</td>\n",
              "      <td>Married-civ-spouse</td>\n",
              "      <td>Exec-managerial</td>\n",
              "      <td>Wife</td>\n",
              "      <td>White</td>\n",
              "      <td>Female</td>\n",
              "      <td>40</td>\n",
              "      <td>United-States</td>\n",
              "      <td>0</td>\n",
              "    </tr>\n",
              "    <tr>\n",
              "      <th>6</th>\n",
              "      <td>49</td>\n",
              "      <td>Private</td>\n",
              "      <td>9th</td>\n",
              "      <td>Married-spouse-absent</td>\n",
              "      <td>Other-service</td>\n",
              "      <td>Not-in-family</td>\n",
              "      <td>Black</td>\n",
              "      <td>Female</td>\n",
              "      <td>16</td>\n",
              "      <td>Jamaica</td>\n",
              "      <td>0</td>\n",
              "    </tr>\n",
              "    <tr>\n",
              "      <th>7</th>\n",
              "      <td>52</td>\n",
              "      <td>Self-emp-not-inc</td>\n",
              "      <td>HS-grad</td>\n",
              "      <td>Married-civ-spouse</td>\n",
              "      <td>Exec-managerial</td>\n",
              "      <td>Husband</td>\n",
              "      <td>White</td>\n",
              "      <td>Male</td>\n",
              "      <td>45</td>\n",
              "      <td>United-States</td>\n",
              "      <td>1</td>\n",
              "    </tr>\n",
              "    <tr>\n",
              "      <th>8</th>\n",
              "      <td>31</td>\n",
              "      <td>Private</td>\n",
              "      <td>Masters</td>\n",
              "      <td>Never-married</td>\n",
              "      <td>Prof-specialty</td>\n",
              "      <td>Not-in-family</td>\n",
              "      <td>White</td>\n",
              "      <td>Female</td>\n",
              "      <td>50</td>\n",
              "      <td>United-States</td>\n",
              "      <td>1</td>\n",
              "    </tr>\n",
              "    <tr>\n",
              "      <th>9</th>\n",
              "      <td>42</td>\n",
              "      <td>Private</td>\n",
              "      <td>Bachelors</td>\n",
              "      <td>Married-civ-spouse</td>\n",
              "      <td>Exec-managerial</td>\n",
              "      <td>Husband</td>\n",
              "      <td>White</td>\n",
              "      <td>Male</td>\n",
              "      <td>40</td>\n",
              "      <td>United-States</td>\n",
              "      <td>1</td>\n",
              "    </tr>\n",
              "  </tbody>\n",
              "</table>\n",
              "</div>\n",
              "      <button class=\"colab-df-convert\" onclick=\"convertToInteractive('df-fadfd1ea-2135-4f09-9d97-fcb65ff74207')\"\n",
              "              title=\"Convert this dataframe to an interactive table.\"\n",
              "              style=\"display:none;\">\n",
              "        \n",
              "  <svg xmlns=\"http://www.w3.org/2000/svg\" height=\"24px\"viewBox=\"0 0 24 24\"\n",
              "       width=\"24px\">\n",
              "    <path d=\"M0 0h24v24H0V0z\" fill=\"none\"/>\n",
              "    <path d=\"M18.56 5.44l.94 2.06.94-2.06 2.06-.94-2.06-.94-.94-2.06-.94 2.06-2.06.94zm-11 1L8.5 8.5l.94-2.06 2.06-.94-2.06-.94L8.5 2.5l-.94 2.06-2.06.94zm10 10l.94 2.06.94-2.06 2.06-.94-2.06-.94-.94-2.06-.94 2.06-2.06.94z\"/><path d=\"M17.41 7.96l-1.37-1.37c-.4-.4-.92-.59-1.43-.59-.52 0-1.04.2-1.43.59L10.3 9.45l-7.72 7.72c-.78.78-.78 2.05 0 2.83L4 21.41c.39.39.9.59 1.41.59.51 0 1.02-.2 1.41-.59l7.78-7.78 2.81-2.81c.8-.78.8-2.07 0-2.86zM5.41 20L4 18.59l7.72-7.72 1.47 1.35L5.41 20z\"/>\n",
              "  </svg>\n",
              "      </button>\n",
              "      \n",
              "  <style>\n",
              "    .colab-df-container {\n",
              "      display:flex;\n",
              "      flex-wrap:wrap;\n",
              "      gap: 12px;\n",
              "    }\n",
              "\n",
              "    .colab-df-convert {\n",
              "      background-color: #E8F0FE;\n",
              "      border: none;\n",
              "      border-radius: 50%;\n",
              "      cursor: pointer;\n",
              "      display: none;\n",
              "      fill: #1967D2;\n",
              "      height: 32px;\n",
              "      padding: 0 0 0 0;\n",
              "      width: 32px;\n",
              "    }\n",
              "\n",
              "    .colab-df-convert:hover {\n",
              "      background-color: #E2EBFA;\n",
              "      box-shadow: 0px 1px 2px rgba(60, 64, 67, 0.3), 0px 1px 3px 1px rgba(60, 64, 67, 0.15);\n",
              "      fill: #174EA6;\n",
              "    }\n",
              "\n",
              "    [theme=dark] .colab-df-convert {\n",
              "      background-color: #3B4455;\n",
              "      fill: #D2E3FC;\n",
              "    }\n",
              "\n",
              "    [theme=dark] .colab-df-convert:hover {\n",
              "      background-color: #434B5C;\n",
              "      box-shadow: 0px 1px 3px 1px rgba(0, 0, 0, 0.15);\n",
              "      filter: drop-shadow(0px 1px 2px rgba(0, 0, 0, 0.3));\n",
              "      fill: #FFFFFF;\n",
              "    }\n",
              "  </style>\n",
              "\n",
              "      <script>\n",
              "        const buttonEl =\n",
              "          document.querySelector('#df-fadfd1ea-2135-4f09-9d97-fcb65ff74207 button.colab-df-convert');\n",
              "        buttonEl.style.display =\n",
              "          google.colab.kernel.accessAllowed ? 'block' : 'none';\n",
              "\n",
              "        async function convertToInteractive(key) {\n",
              "          const element = document.querySelector('#df-fadfd1ea-2135-4f09-9d97-fcb65ff74207');\n",
              "          const dataTable =\n",
              "            await google.colab.kernel.invokeFunction('convertToInteractive',\n",
              "                                                     [key], {});\n",
              "          if (!dataTable) return;\n",
              "\n",
              "          const docLinkHtml = 'Like what you see? Visit the ' +\n",
              "            '<a target=\"_blank\" href=https://colab.research.google.com/notebooks/data_table.ipynb>data table notebook</a>'\n",
              "            + ' to learn more about interactive tables.';\n",
              "          element.innerHTML = '';\n",
              "          dataTable['output_type'] = 'display_data';\n",
              "          await google.colab.output.renderOutput(dataTable, element);\n",
              "          const docLink = document.createElement('div');\n",
              "          docLink.innerHTML = docLinkHtml;\n",
              "          element.appendChild(docLink);\n",
              "        }\n",
              "      </script>\n",
              "    </div>\n",
              "  </div>\n",
              "  "
            ]
          },
          "metadata": {},
          "execution_count": 15
        }
      ]
    },
    {
      "cell_type": "markdown",
      "source": [
        "## Convert categorical variables to numerical"
      ],
      "metadata": {
        "id": "urbIdY6AajHB"
      }
    },
    {
      "cell_type": "markdown",
      "source": [
        "แปลงข้อมูลในคอลัมน์ที่เป็นตัวอักษร ให้อยู่ในรูปแบบของ category และทำการ encoding เป็นรหัส (codes) ซึ่งจะช่วยให้สามารถนำไปใช้กับแบบจำลองที่รับเฉพาะข้อมูลแบบตัวเลขได้ โดยรหัสที่ถูกแทนให้จะเป็นตัวเลขที่มีค่าต่างๆ ตามจำนวน category ที่มีในคอลัมน์นั้นๆ"
      ],
      "metadata": {
        "id": "wQIYDMqjaZay"
      }
    },
    {
      "cell_type": "code",
      "source": [
        "data['workclass'] = data['workclass'].astype('category').cat.codes\n",
        "data['education'] = data['education'].astype('category').cat.codes\n",
        "data['marital-status'] = data['marital-status'].astype('category').cat.codes\n",
        "data['occupation'] = data['occupation'].astype('category').cat.codes\n",
        "data['relationship'] = data['relationship'].astype('category').cat.codes\n",
        "data['race'] = data['race'].astype('category').cat.codes\n",
        "data['sex'] = data['sex'].astype('category').cat.codes\n",
        "data['native-country'] = data['native-country'].astype('category').cat.codes"
      ],
      "metadata": {
        "id": "gTBC5tp3SJIi",
        "colab": {
          "base_uri": "https://localhost:8080/"
        },
        "outputId": "8cfd597d-cd07-4eb0-cb74-7d9e4167e446"
      },
      "execution_count": 16,
      "outputs": [
        {
          "output_type": "stream",
          "name": "stderr",
          "text": [
            "<ipython-input-16-4c00740fa26e>:1: SettingWithCopyWarning: \n",
            "A value is trying to be set on a copy of a slice from a DataFrame.\n",
            "Try using .loc[row_indexer,col_indexer] = value instead\n",
            "\n",
            "See the caveats in the documentation: https://pandas.pydata.org/pandas-docs/stable/user_guide/indexing.html#returning-a-view-versus-a-copy\n",
            "  data['workclass'] = data['workclass'].astype('category').cat.codes\n",
            "<ipython-input-16-4c00740fa26e>:2: SettingWithCopyWarning: \n",
            "A value is trying to be set on a copy of a slice from a DataFrame.\n",
            "Try using .loc[row_indexer,col_indexer] = value instead\n",
            "\n",
            "See the caveats in the documentation: https://pandas.pydata.org/pandas-docs/stable/user_guide/indexing.html#returning-a-view-versus-a-copy\n",
            "  data['education'] = data['education'].astype('category').cat.codes\n",
            "<ipython-input-16-4c00740fa26e>:3: SettingWithCopyWarning: \n",
            "A value is trying to be set on a copy of a slice from a DataFrame.\n",
            "Try using .loc[row_indexer,col_indexer] = value instead\n",
            "\n",
            "See the caveats in the documentation: https://pandas.pydata.org/pandas-docs/stable/user_guide/indexing.html#returning-a-view-versus-a-copy\n",
            "  data['marital-status'] = data['marital-status'].astype('category').cat.codes\n",
            "<ipython-input-16-4c00740fa26e>:4: SettingWithCopyWarning: \n",
            "A value is trying to be set on a copy of a slice from a DataFrame.\n",
            "Try using .loc[row_indexer,col_indexer] = value instead\n",
            "\n",
            "See the caveats in the documentation: https://pandas.pydata.org/pandas-docs/stable/user_guide/indexing.html#returning-a-view-versus-a-copy\n",
            "  data['occupation'] = data['occupation'].astype('category').cat.codes\n",
            "<ipython-input-16-4c00740fa26e>:5: SettingWithCopyWarning: \n",
            "A value is trying to be set on a copy of a slice from a DataFrame.\n",
            "Try using .loc[row_indexer,col_indexer] = value instead\n",
            "\n",
            "See the caveats in the documentation: https://pandas.pydata.org/pandas-docs/stable/user_guide/indexing.html#returning-a-view-versus-a-copy\n",
            "  data['relationship'] = data['relationship'].astype('category').cat.codes\n",
            "<ipython-input-16-4c00740fa26e>:6: SettingWithCopyWarning: \n",
            "A value is trying to be set on a copy of a slice from a DataFrame.\n",
            "Try using .loc[row_indexer,col_indexer] = value instead\n",
            "\n",
            "See the caveats in the documentation: https://pandas.pydata.org/pandas-docs/stable/user_guide/indexing.html#returning-a-view-versus-a-copy\n",
            "  data['race'] = data['race'].astype('category').cat.codes\n",
            "<ipython-input-16-4c00740fa26e>:7: SettingWithCopyWarning: \n",
            "A value is trying to be set on a copy of a slice from a DataFrame.\n",
            "Try using .loc[row_indexer,col_indexer] = value instead\n",
            "\n",
            "See the caveats in the documentation: https://pandas.pydata.org/pandas-docs/stable/user_guide/indexing.html#returning-a-view-versus-a-copy\n",
            "  data['sex'] = data['sex'].astype('category').cat.codes\n",
            "<ipython-input-16-4c00740fa26e>:8: SettingWithCopyWarning: \n",
            "A value is trying to be set on a copy of a slice from a DataFrame.\n",
            "Try using .loc[row_indexer,col_indexer] = value instead\n",
            "\n",
            "See the caveats in the documentation: https://pandas.pydata.org/pandas-docs/stable/user_guide/indexing.html#returning-a-view-versus-a-copy\n",
            "  data['native-country'] = data['native-country'].astype('category').cat.codes\n"
          ]
        }
      ]
    },
    {
      "cell_type": "code",
      "source": [
        "data.head(3)"
      ],
      "metadata": {
        "colab": {
          "base_uri": "https://localhost:8080/",
          "height": 143
        },
        "id": "3F8O0ZgRdivt",
        "outputId": "2d10764b-dafd-467a-97e8-c09b71ce0c5b"
      },
      "execution_count": 17,
      "outputs": [
        {
          "output_type": "execute_result",
          "data": {
            "text/plain": [
              "   age  workclass  education  marital-status  occupation  relationship  race  \\\n",
              "0   39          5          9               4           0             1     4   \n",
              "1   50          4          9               2           3             0     4   \n",
              "2   38          2         11               0           5             1     4   \n",
              "\n",
              "   sex  hours-per-week  native-country  salary  \n",
              "0    1              40              38       0  \n",
              "1    1              13              38       0  \n",
              "2    1              40              38       0  "
            ],
            "text/html": [
              "\n",
              "  <div id=\"df-a389dcf8-ae22-41a9-a1f7-d307dc2ee66e\">\n",
              "    <div class=\"colab-df-container\">\n",
              "      <div>\n",
              "<style scoped>\n",
              "    .dataframe tbody tr th:only-of-type {\n",
              "        vertical-align: middle;\n",
              "    }\n",
              "\n",
              "    .dataframe tbody tr th {\n",
              "        vertical-align: top;\n",
              "    }\n",
              "\n",
              "    .dataframe thead th {\n",
              "        text-align: right;\n",
              "    }\n",
              "</style>\n",
              "<table border=\"1\" class=\"dataframe\">\n",
              "  <thead>\n",
              "    <tr style=\"text-align: right;\">\n",
              "      <th></th>\n",
              "      <th>age</th>\n",
              "      <th>workclass</th>\n",
              "      <th>education</th>\n",
              "      <th>marital-status</th>\n",
              "      <th>occupation</th>\n",
              "      <th>relationship</th>\n",
              "      <th>race</th>\n",
              "      <th>sex</th>\n",
              "      <th>hours-per-week</th>\n",
              "      <th>native-country</th>\n",
              "      <th>salary</th>\n",
              "    </tr>\n",
              "  </thead>\n",
              "  <tbody>\n",
              "    <tr>\n",
              "      <th>0</th>\n",
              "      <td>39</td>\n",
              "      <td>5</td>\n",
              "      <td>9</td>\n",
              "      <td>4</td>\n",
              "      <td>0</td>\n",
              "      <td>1</td>\n",
              "      <td>4</td>\n",
              "      <td>1</td>\n",
              "      <td>40</td>\n",
              "      <td>38</td>\n",
              "      <td>0</td>\n",
              "    </tr>\n",
              "    <tr>\n",
              "      <th>1</th>\n",
              "      <td>50</td>\n",
              "      <td>4</td>\n",
              "      <td>9</td>\n",
              "      <td>2</td>\n",
              "      <td>3</td>\n",
              "      <td>0</td>\n",
              "      <td>4</td>\n",
              "      <td>1</td>\n",
              "      <td>13</td>\n",
              "      <td>38</td>\n",
              "      <td>0</td>\n",
              "    </tr>\n",
              "    <tr>\n",
              "      <th>2</th>\n",
              "      <td>38</td>\n",
              "      <td>2</td>\n",
              "      <td>11</td>\n",
              "      <td>0</td>\n",
              "      <td>5</td>\n",
              "      <td>1</td>\n",
              "      <td>4</td>\n",
              "      <td>1</td>\n",
              "      <td>40</td>\n",
              "      <td>38</td>\n",
              "      <td>0</td>\n",
              "    </tr>\n",
              "  </tbody>\n",
              "</table>\n",
              "</div>\n",
              "      <button class=\"colab-df-convert\" onclick=\"convertToInteractive('df-a389dcf8-ae22-41a9-a1f7-d307dc2ee66e')\"\n",
              "              title=\"Convert this dataframe to an interactive table.\"\n",
              "              style=\"display:none;\">\n",
              "        \n",
              "  <svg xmlns=\"http://www.w3.org/2000/svg\" height=\"24px\"viewBox=\"0 0 24 24\"\n",
              "       width=\"24px\">\n",
              "    <path d=\"M0 0h24v24H0V0z\" fill=\"none\"/>\n",
              "    <path d=\"M18.56 5.44l.94 2.06.94-2.06 2.06-.94-2.06-.94-.94-2.06-.94 2.06-2.06.94zm-11 1L8.5 8.5l.94-2.06 2.06-.94-2.06-.94L8.5 2.5l-.94 2.06-2.06.94zm10 10l.94 2.06.94-2.06 2.06-.94-2.06-.94-.94-2.06-.94 2.06-2.06.94z\"/><path d=\"M17.41 7.96l-1.37-1.37c-.4-.4-.92-.59-1.43-.59-.52 0-1.04.2-1.43.59L10.3 9.45l-7.72 7.72c-.78.78-.78 2.05 0 2.83L4 21.41c.39.39.9.59 1.41.59.51 0 1.02-.2 1.41-.59l7.78-7.78 2.81-2.81c.8-.78.8-2.07 0-2.86zM5.41 20L4 18.59l7.72-7.72 1.47 1.35L5.41 20z\"/>\n",
              "  </svg>\n",
              "      </button>\n",
              "      \n",
              "  <style>\n",
              "    .colab-df-container {\n",
              "      display:flex;\n",
              "      flex-wrap:wrap;\n",
              "      gap: 12px;\n",
              "    }\n",
              "\n",
              "    .colab-df-convert {\n",
              "      background-color: #E8F0FE;\n",
              "      border: none;\n",
              "      border-radius: 50%;\n",
              "      cursor: pointer;\n",
              "      display: none;\n",
              "      fill: #1967D2;\n",
              "      height: 32px;\n",
              "      padding: 0 0 0 0;\n",
              "      width: 32px;\n",
              "    }\n",
              "\n",
              "    .colab-df-convert:hover {\n",
              "      background-color: #E2EBFA;\n",
              "      box-shadow: 0px 1px 2px rgba(60, 64, 67, 0.3), 0px 1px 3px 1px rgba(60, 64, 67, 0.15);\n",
              "      fill: #174EA6;\n",
              "    }\n",
              "\n",
              "    [theme=dark] .colab-df-convert {\n",
              "      background-color: #3B4455;\n",
              "      fill: #D2E3FC;\n",
              "    }\n",
              "\n",
              "    [theme=dark] .colab-df-convert:hover {\n",
              "      background-color: #434B5C;\n",
              "      box-shadow: 0px 1px 3px 1px rgba(0, 0, 0, 0.15);\n",
              "      filter: drop-shadow(0px 1px 2px rgba(0, 0, 0, 0.3));\n",
              "      fill: #FFFFFF;\n",
              "    }\n",
              "  </style>\n",
              "\n",
              "      <script>\n",
              "        const buttonEl =\n",
              "          document.querySelector('#df-a389dcf8-ae22-41a9-a1f7-d307dc2ee66e button.colab-df-convert');\n",
              "        buttonEl.style.display =\n",
              "          google.colab.kernel.accessAllowed ? 'block' : 'none';\n",
              "\n",
              "        async function convertToInteractive(key) {\n",
              "          const element = document.querySelector('#df-a389dcf8-ae22-41a9-a1f7-d307dc2ee66e');\n",
              "          const dataTable =\n",
              "            await google.colab.kernel.invokeFunction('convertToInteractive',\n",
              "                                                     [key], {});\n",
              "          if (!dataTable) return;\n",
              "\n",
              "          const docLinkHtml = 'Like what you see? Visit the ' +\n",
              "            '<a target=\"_blank\" href=https://colab.research.google.com/notebooks/data_table.ipynb>data table notebook</a>'\n",
              "            + ' to learn more about interactive tables.';\n",
              "          element.innerHTML = '';\n",
              "          dataTable['output_type'] = 'display_data';\n",
              "          await google.colab.output.renderOutput(dataTable, element);\n",
              "          const docLink = document.createElement('div');\n",
              "          docLink.innerHTML = docLinkHtml;\n",
              "          element.appendChild(docLink);\n",
              "        }\n",
              "      </script>\n",
              "    </div>\n",
              "  </div>\n",
              "  "
            ]
          },
          "metadata": {},
          "execution_count": 17
        }
      ]
    },
    {
      "cell_type": "markdown",
      "source": [
        "## Split the data into training and testing sets"
      ],
      "metadata": {
        "id": "6HEjslA2bNO1"
      }
    },
    {
      "cell_type": "markdown",
      "source": [
        "X คือ feature หรือตัวแปรที่ใช้ในการทำนาย และ y คือ target หรือผลลัพธ์ที่ต้องการทำนาย"
      ],
      "metadata": {
        "id": "AIAFTeGlz6yp"
      }
    },
    {
      "cell_type": "code",
      "source": [
        "features = ['age', 'workclass', 'education', 'marital-status', 'occupation', 'relationship', 'race', 'sex',  'hours-per-week', 'native-country']\n",
        "X = data[features]\n",
        "y = data['salary']"
      ],
      "metadata": {
        "id": "L6ON4Tfar4Eo"
      },
      "execution_count": 18,
      "outputs": []
    },
    {
      "cell_type": "markdown",
      "source": [
        "โดยแบ่งเป็น train 70% test 30%"
      ],
      "metadata": {
        "id": "96Fy3X7XLCmr"
      }
    },
    {
      "cell_type": "code",
      "source": [
        "X_train, X_test, y_train, y_test = train_test_split(X, y, test_size=0.3, random_state=42)"
      ],
      "metadata": {
        "id": "qNK_3KZZam2A"
      },
      "execution_count": 19,
      "outputs": []
    },
    {
      "cell_type": "markdown",
      "source": [
        "# Decision tree"
      ],
      "metadata": {
        "id": "5ltAEN7swakk"
      }
    },
    {
      "cell_type": "markdown",
      "source": [
        "##  GridSearchCV\n",
        "ใช้วิธีการทำ Grid Search โดยกำหนดค่าพารามิเตอร์ต่างๆ ของ Decision Tree และใช้ cross_val_score\n",
        "ในการทำ cross-validation แล้วหาค่าเฉลี่ยของคะแนนที่ได้จากทุก fold ของข้อมูล\n",
        "ซึ่งผลลัพธ์ที่ได้จะแสดงค่าพารามิเตอร์ที่ดีที่สุดและค่าเฉลี่ยของคะแนน accuracy ที่ได้จาก cross-validation\n",
        "ในที่นี้เราจะเลือกเป็น 10-fold-cross-validation"
      ],
      "metadata": {
        "id": "7cxPn0_4tzC_"
      }
    },
    {
      "cell_type": "code",
      "source": [
        "# Define the Decision Tree model\n",
        "dt = DecisionTreeClassifier(random_state=42)\n",
        "\n",
        "# Define the hyperparameter values to be tested\n",
        "param_grid = {'max_depth': [1,2,3],\n",
        "              'min_samples_split': [2, 4, 6]}\n",
        "\n",
        "# Use Grid Search to find the best hyperparameter combination\n",
        "grid_search = GridSearchCV(dt, param_grid, cv=10, scoring='accuracy')\n",
        "grid_search.fit(X_train, y_train)\n",
        "\n",
        "# Get the best hyperparameter combination and the associated accuracy score\n",
        "best_params = grid_search.best_params_\n",
        "best_score = grid_search.best_score_\n",
        "\n",
        "# Print the results\n",
        "print(\"Best hyperparameters:\", best_params)\n",
        "print(f'Best accuracy score: {best_score:.2f}')"
      ],
      "metadata": {
        "colab": {
          "base_uri": "https://localhost:8080/"
        },
        "id": "c2SMvERTvFMQ",
        "outputId": "61545f9d-4ac1-42ca-ff37-f3ed3eea7a44"
      },
      "execution_count": 20,
      "outputs": [
        {
          "output_type": "stream",
          "name": "stdout",
          "text": [
            "Best hyperparameters: {'max_depth': 3, 'min_samples_split': 2}\n",
            "Best accuracy score: 0.79\n"
          ]
        }
      ]
    },
    {
      "cell_type": "markdown",
      "source": [
        "จาก output จะเห็นว่า max dept ที่เหมาะสมที่สุดคือ 5 และ min samples split ที่เหมาะสมที่สุดคือ 2\n",
        "โดยที่ Best accuracy score คือ 0.79 "
      ],
      "metadata": {
        "id": "DTjsS0Epx0xx"
      }
    },
    {
      "cell_type": "markdown",
      "source": [
        "## Define , Train and Predict - evaluate"
      ],
      "metadata": {
        "id": "s2dhjuElwyqZ"
      }
    },
    {
      "cell_type": "code",
      "source": [
        "#Define\n",
        "clf = DecisionTreeClassifier(max_depth=3,min_samples_leaf=2)\n",
        "\n",
        "# Train\n",
        "clf.fit(X_train, y_train)\n",
        "\n",
        "# Evaluate \n",
        "y_pred = clf.predict(X_test)"
      ],
      "metadata": {
        "id": "nlh_RGLJbKAm"
      },
      "execution_count": 21,
      "outputs": []
    },
    {
      "cell_type": "markdown",
      "source": [
        "## Accuracy , Classification report and Mean cross-validation"
      ],
      "metadata": {
        "id": "UctP1R4HJTBr"
      }
    },
    {
      "cell_type": "code",
      "source": [
        "accuracy = accuracy_score(y_test, y_pred)\n",
        "report = classification_report(y_test, y_pred)\n",
        "\n",
        "print(f'Accuracy: {accuracy:.2f}')\n",
        "print('Classification report:\\n', report)"
      ],
      "metadata": {
        "colab": {
          "base_uri": "https://localhost:8080/"
        },
        "id": "BrlA5CJ8GWy_",
        "outputId": "cad3d5d6-c49a-44cf-90d0-8de9b778c388"
      },
      "execution_count": 22,
      "outputs": [
        {
          "output_type": "stream",
          "name": "stdout",
          "text": [
            "Accuracy: 0.78\n",
            "Classification report:\n",
            "               precision    recall  f1-score   support\n",
            "\n",
            "           0       0.88      0.82      0.85      6767\n",
            "           1       0.55      0.67      0.60      2282\n",
            "\n",
            "    accuracy                           0.78      9049\n",
            "   macro avg       0.72      0.74      0.73      9049\n",
            "weighted avg       0.80      0.78      0.79      9049\n",
            "\n"
          ]
        }
      ]
    },
    {
      "cell_type": "markdown",
      "source": [
        "- accuracy ของข้อมูลนี้คือ 78%\n",
        "- classification report จาก precision และ recall จะเห็นได้ว่าโมเดลนี้ มีความแม่นยำในการทำนายclass 0 ดีกว่าการทำนาย\n",
        "class 1 ก็คือ การทำนายเงินเดือนที่น้อยกว่าหรือเท่ากับ 5 หมื่น มีความแม่นยำกว่า การทำนายเงินเดือนที่ ที่มากกว่า 5\n",
        "หมื่นดอลล่า\n",
        "โดยที่มีค่า f1-score สูงสุดที่ 0.85 สำหรับ class 0 และ 0.60 สำหรับ class 1\n"
      ],
      "metadata": {
        "id": "YNp-Q8pb-x2c"
      }
    },
    {
      "cell_type": "code",
      "source": [
        "scores = cross_val_score(clf, X_train, y_train, cv=10)\n",
        "print(f'Mean cross-validation score: {scores.mean():.2f}')"
      ],
      "metadata": {
        "colab": {
          "base_uri": "https://localhost:8080/"
        },
        "outputId": "4392ad86-2429-41d0-a889-9c4f447bd8a0",
        "id": "QUZ6ZLaF-6OE"
      },
      "execution_count": 23,
      "outputs": [
        {
          "output_type": "stream",
          "name": "stdout",
          "text": [
            "Mean cross-validation score: 0.79\n"
          ]
        }
      ]
    },
    {
      "cell_type": "markdown",
      "source": [
        "ค่า Mean cross-validation score หรือ ค่าเฉลี่ยของประสิทธิภาพของโมเดลในแต่ละ fold มีค่า 79%"
      ],
      "metadata": {
        "id": "K2yHY-8M-6OF"
      }
    },
    {
      "cell_type": "markdown",
      "source": [
        "### หน้าตาต้นไม้"
      ],
      "metadata": {
        "id": "XLxNJ5G-xdm3"
      }
    },
    {
      "cell_type": "code",
      "source": [
        "# Define the Decision Tree model with max_depth=3\n",
        "dt = DecisionTreeClassifier(max_depth=3, random_state=42)\n",
        "\n",
        "# Fit the model on the training data\n",
        "dt.fit(X_train, y_train)\n",
        "\n",
        "# Visualize the Decision Tree\n",
        "fig, axes = plt.subplots(nrows = 1,ncols = 1,figsize = (4,4), dpi=300)\n",
        "plot_tree(dt, filled=True, feature_names=X.columns, class_names=['0', '1'], ax=axes);"
      ],
      "metadata": {
        "colab": {
          "base_uri": "https://localhost:8080/",
          "height": 983
        },
        "id": "wEuiQIIkl6VF",
        "outputId": "30e91561-78d5-4877-9381-36914909e51f"
      },
      "execution_count": 24,
      "outputs": [
        {
          "output_type": "display_data",
          "data": {
            "text/plain": [
              "<Figure size 1200x1200 with 1 Axes>"
            ],
            "image/png": "[encoded data removed]"
          },
          "metadata": {
            "needs_background": "light"
          }
        }
      ]
    },
    {
      "cell_type": "markdown",
      "source": [
        "Sample คือ จำนวนข้อมูลที่กันได้กับ node จากภาพจะเห็นว่าจำนวน sample จะลดลงเรื่อยๆ เนื่องจาก มี\n",
        "การตัดสินใจลงมาเรื่อยๆ\n",
        "\n",
        "gini คือค่าบ่งชี้ความบริสุทธิ์ของ node จากภาพจะเห็นว่าค่าค่อยข้างต่ำ คือ น้อยกว่า 0.5 นั่นแปลว่า ข้อมูล\n",
        "อยู่ใน class เดียวกัน แต่ในบาง node ก็มีค่า gini=0.5 เช่น age น้อยกว่าหรือเท่ากับ 35.5 หรือ education\n",
        "น้อยกว่าหรือเท่ากับ 6.5 ซึ่งนั่นแปลว่า ข้อมูลใน node นั้นอยู่ใน 2 class เท่าๆกัน"
      ],
      "metadata": {
        "id": "jMSwJR8iyMV-"
      }
    },
    {
      "cell_type": "markdown",
      "source": [
        "การนำภาพไฟล์ภาพออกมา"
      ],
      "metadata": {
        "id": "23WxNzZYyAty"
      }
    },
    {
      "cell_type": "code",
      "source": [
        "from sklearn.tree import export_graphviz\n",
        "import graphviz\n",
        "\n",
        "dot_data = export_graphviz(clf, out_file=None, \n",
        "                           feature_names=X.columns,  \n",
        "                           class_names=y.astype(str).unique(),  \n",
        "                           filled=True, rounded=True,  \n",
        "                           special_characters=True)\n",
        "\n",
        "graph = graphviz.Source(dot_data)\n",
        "graph.render('decision_tree')"
      ],
      "metadata": {
        "colab": {
          "base_uri": "https://localhost:8080/",
          "height": 35
        },
        "id": "U1zJ4bqphIUp",
        "outputId": "ef9bb64e-61da-4cf4-ef94-fe1274a5a876"
      },
      "execution_count": 25,
      "outputs": [
        {
          "output_type": "execute_result",
          "data": {
            "text/plain": [
              "'decision_tree.pdf'"
            ],
            "application/vnd.google.colaboratory.intrinsic+json": {
              "type": "string"
            }
          },
          "metadata": {},
          "execution_count": 25
        }
      ]
    },
    {
      "cell_type": "code",
      "source": [
        "from google.colab import files\n",
        "from google.colab import drive\n",
        "\n",
        "# Mount Google Drive\n",
        "drive.mount('/content/drive')\n",
        "\n",
        "# Download the file from Colab to Google Drive\n",
        "files.download('/content/decision_tree.pdf')\n",
        "\n",
        "# Unmount Google Drive (optional)\n",
        "drive.flush_and_unmount()"
      ],
      "metadata": {
        "colab": {
          "base_uri": "https://localhost:8080/",
          "height": 34
        },
        "id": "bd0LU3PKnL1c",
        "outputId": "557e50d2-764c-49fe-ca05-1f8de6a3d12c"
      },
      "execution_count": 26,
      "outputs": [
        {
          "output_type": "stream",
          "name": "stdout",
          "text": [
            "Mounted at /content/drive\n"
          ]
        },
        {
          "output_type": "display_data",
          "data": {
            "text/plain": [
              "<IPython.core.display.Javascript object>"
            ],
            "application/javascript": [
              "\n",
              "    async function download(id, filename, size) {\n",
              "      if (!google.colab.kernel.accessAllowed) {\n",
              "        return;\n",
              "      }\n",
              "      const div = document.createElement('div');\n",
              "      const label = document.createElement('label');\n",
              "      label.textContent = `Downloading \"${filename}\": `;\n",
              "      div.appendChild(label);\n",
              "      const progress = document.createElement('progress');\n",
              "      progress.max = size;\n",
              "      div.appendChild(progress);\n",
              "      document.body.appendChild(div);\n",
              "\n",
              "      const buffers = [];\n",
              "      let downloaded = 0;\n",
              "\n",
              "      const channel = await google.colab.kernel.comms.open(id);\n",
              "      // Send a message to notify the kernel that we're ready.\n",
              "      channel.send({})\n",
              "\n",
              "      for await (const message of channel.messages) {\n",
              "        // Send a message to notify the kernel that we're ready.\n",
              "        channel.send({})\n",
              "        if (message.buffers) {\n",
              "          for (const buffer of message.buffers) {\n",
              "            buffers.push(buffer);\n",
              "            downloaded += buffer.byteLength;\n",
              "            progress.value = downloaded;\n",
              "          }\n",
              "        }\n",
              "      }\n",
              "      const blob = new Blob(buffers, {type: 'application/binary'});\n",
              "      const a = document.createElement('a');\n",
              "      a.href = window.URL.createObjectURL(blob);\n",
              "      a.download = filename;\n",
              "      div.appendChild(a);\n",
              "      a.click();\n",
              "      div.remove();\n",
              "    }\n",
              "  "
            ]
          },
          "metadata": {}
        },
        {
          "output_type": "display_data",
          "data": {
            "text/plain": [
              "<IPython.core.display.Javascript object>"
            ],
            "application/javascript": [
              "download(\"download_6cc0fea7-c0b0-4c27-a844-038482555f5c\", \"decision_tree.pdf\", 19886)"
            ]
          },
          "metadata": {}
        }
      ]
    },
    {
      "cell_type": "markdown",
      "source": [
        "# Naive Bayes "
      ],
      "metadata": {
        "id": "ir19TV9Qy12s"
      }
    },
    {
      "cell_type": "markdown",
      "source": [
        "Gaussian Naive Bayes ซึ่งเหมาะสำหรับข้อมูลต่อเนื่องและมีการกระจายตัวของข้อมูล จึงเหมาะสมกับข้อมูล Salary Prediction"
      ],
      "metadata": {
        "id": "4ddsmVrlyqI4"
      }
    },
    {
      "cell_type": "markdown",
      "source": [
        "## GridSearchCV\n",
        "กำหนด param_grid ของ var_smoothing ที่แบ่งค่าตั้งแต่ 1 ถึง 10 ยกกำลัง -9 เป็นจำนวน 100 จุดและใช้ cross-validation เพื่อหาค่า var_smoothing ที่ดีที่สุด\n"
      ],
      "metadata": {
        "id": "lQtwOR0DATZS"
      }
    },
    {
      "cell_type": "code",
      "source": [
        "# กำหนดค่า var_smoothing ที่จะทดสอบ\n",
        "param_grid = {'var_smoothing': np.logspace(0,-9, num=100)}\n",
        "\n",
        "# สร้างตัวแบบ GaussianNB\n",
        "gnb = GaussianNB()\n",
        "\n",
        "# ใช้ GridSearchCV ในการหาค่า var_smoothing ที่ดีที่สุด\n",
        "grid_search = GridSearchCV(gnb, param_grid=param_grid, cv=10, scoring='accuracy')\n",
        "grid_search.fit(X_train, y_train)\n",
        "\n",
        "# แสดงค่า var_smoothing ที่ดีที่สุดและค่าความแม่นยำที่ได้\n",
        "print(\"Best var_smoothing:\", grid_search.best_params_)\n",
        "print(f'Accuracy: {grid_search.best_score_:.2f}')"
      ],
      "metadata": {
        "colab": {
          "base_uri": "https://localhost:8080/"
        },
        "id": "-LJAXyE4ATDw",
        "outputId": "dffe674b-ed17-45b4-dbd8-477c0129f1bf"
      },
      "execution_count": 27,
      "outputs": [
        {
          "output_type": "stream",
          "name": "stdout",
          "text": [
            "Best var_smoothing: {'var_smoothing': 0.01}\n",
            "Accuracy: 0.78\n"
          ]
        }
      ]
    },
    {
      "cell_type": "markdown",
      "source": [
        "## Define , Train and Predict - evaluate"
      ],
      "metadata": {
        "id": "SyD4za7v17oO"
      }
    },
    {
      "cell_type": "code",
      "source": [
        "#Define\n",
        "gnb = GaussianNB(var_smoothing = 0.01)\n",
        "\n",
        "#train \n",
        "gnb.fit(X_train, y_train)\n",
        "\n",
        "#test\n",
        "y_pred = gnb.predict(X_test)"
      ],
      "metadata": {
        "id": "WskyERskzDyz"
      },
      "execution_count": 28,
      "outputs": []
    },
    {
      "cell_type": "markdown",
      "source": [
        "## Accuracy , Classification report and Mean cross-validation"
      ],
      "metadata": {
        "id": "7KwhRZ4Q19NG"
      }
    },
    {
      "cell_type": "code",
      "source": [
        "accuracy = accuracy_score(y_test, y_pred)\n",
        "report = classification_report(y_test, y_pred)\n",
        "\n",
        "print(f'Accuracy: {accuracy:.2f}')\n",
        "print('Classification report:\\n', report)"
      ],
      "metadata": {
        "colab": {
          "base_uri": "https://localhost:8080/"
        },
        "id": "horY1hyKG27G",
        "outputId": "0249ee4f-7c88-49af-ed86-a645d284a06b"
      },
      "execution_count": 29,
      "outputs": [
        {
          "output_type": "stream",
          "name": "stdout",
          "text": [
            "Accuracy: 0.78\n",
            "Classification report:\n",
            "               precision    recall  f1-score   support\n",
            "\n",
            "           0       0.85      0.85      0.85      6767\n",
            "           1       0.56      0.55      0.56      2282\n",
            "\n",
            "    accuracy                           0.78      9049\n",
            "   macro avg       0.71      0.70      0.70      9049\n",
            "weighted avg       0.78      0.78      0.78      9049\n",
            "\n"
          ]
        }
      ]
    },
    {
      "cell_type": "markdown",
      "source": [
        "- accuracy ของข้อมูลนี้คือ 78%\n",
        "- classification report จาก precision และ recall จะเห็นได้ว่าโมเดลนี้ มีความแม่นยำในการทำนายclass 0 ดีกว่าการทำนาย\n",
        "class 1 ก็คือ การทำนายเงินเดือนที่น้อยกว่าหรือเท่ากับ 5 หมื่น มีความแม่นยำกว่า การทำนายเงินเดือนที่ ที่มากกว่า 5\n",
        "หมื่นดอลล่า\n",
        "โดยที่มีค่า f1-score สูงสุดที่ 0.85 สำหรับ class 0 และ 0.56 สำหรับ class 1\n"
      ],
      "metadata": {
        "id": "zfJCuOhvIKo1"
      }
    },
    {
      "cell_type": "code",
      "source": [
        "scores = cross_val_score(gnb, X_train, y_train, cv=10)\n",
        "print(f'Mean cross-validation score: {scores.mean():.2f}')"
      ],
      "metadata": {
        "colab": {
          "base_uri": "https://localhost:8080/"
        },
        "id": "o0MFPPY-w9gC",
        "outputId": "be9b56c9-9c5b-4337-de1c-646ae1fc9e27"
      },
      "execution_count": 30,
      "outputs": [
        {
          "output_type": "stream",
          "name": "stdout",
          "text": [
            "Mean cross-validation score: 0.78\n"
          ]
        }
      ]
    },
    {
      "cell_type": "markdown",
      "source": [
        "ค่า Mean cross-validation score หรือ ค่าเฉลี่ยของประสิทธิภาพของโมเดลในแต่ละ fold มีค่า 78%"
      ],
      "metadata": {
        "id": "uu_apYEvIVfl"
      }
    },
    {
      "cell_type": "markdown",
      "source": [
        "# K-Nearest Neighbor"
      ],
      "metadata": {
        "id": "HRX1KMns49Fe"
      }
    },
    {
      "cell_type": "markdown",
      "source": [
        "## GridSearchCV\n",
        "ใช้วิธี GridSearchCV ทำการทดสอบค่า k ต่าง ๆ และเลือกค่า k ที่ให้ผลลัพธ์ที่ดีที่สุด\n",
        "ที่กำหนดค่า n_neighbors ในที่นี้เราจะเลือกเป็น 10-fold-cross-validation\n",
        "\n",
        "ค่า k ควรเลือกตั้งแต่ 1-20 ถ้าเกินนี้ข้อมูล\n",
        "อาจจะ overfitting"
      ],
      "metadata": {
        "id": "I36PXf1Es_2j"
      }
    },
    {
      "cell_type": "code",
      "source": [
        "# กำหนดค่า k ที่ต้องการทดสอบ\n",
        "param_grid = {'n_neighbors': [1, 3, 5, 7, 9, 11, 13, 17, 19]}\n",
        "\n",
        "# สร้างโมเดล KNN\n",
        "knn = KNeighborsClassifier()\n",
        "\n",
        "# ใช้ GridSearchCV ในการหาค่า k ที่ดีที่สุด\n",
        "grid_search = GridSearchCV(knn, param_grid, cv=10, scoring='accuracy')\n",
        "grid_search.fit(X_train, y_train)\n",
        "\n",
        "# แสดงค่า k ที่ดีที่สุด\n",
        "print(\"Best k: \", grid_search.best_params_['n_neighbors'])"
      ],
      "metadata": {
        "colab": {
          "base_uri": "https://localhost:8080/"
        },
        "id": "NsrVesWT6y7h",
        "outputId": "a7b42967-ed8f-4fd4-89a9-582cea032410"
      },
      "execution_count": 31,
      "outputs": [
        {
          "output_type": "stream",
          "name": "stdout",
          "text": [
            "Best k:  13\n"
          ]
        }
      ]
    },
    {
      "cell_type": "markdown",
      "source": [
        "จาก out put จะได้ k ที่ดีที่สุด คือ 13"
      ],
      "metadata": {
        "id": "8jPlyBUS4qv0"
      }
    },
    {
      "cell_type": "markdown",
      "source": [
        "## normalize ข้อมูลด้วย StandardScaler\n",
        "ทำให้ค่าของแต่ละ feature อยู่ในช่วง\n",
        "เดียวกันและช่วยให้โมเดลไม่มี bias ในการเรียนรู้จาก feature"
      ],
      "metadata": {
        "id": "PAvNeYAW5v79"
      }
    },
    {
      "cell_type": "code",
      "source": [
        "scaler = StandardScaler()\n",
        "\n",
        "X_train = scaler.fit_transform(X_train)\n",
        "X_test = scaler.transform(X_test)"
      ],
      "metadata": {
        "id": "Rxqk-I8J012Z"
      },
      "execution_count": 32,
      "outputs": []
    },
    {
      "cell_type": "markdown",
      "source": [
        "## Define , Train and Predict - evaluate"
      ],
      "metadata": {
        "id": "FL2emzL29AyM"
      }
    },
    {
      "cell_type": "markdown",
      "source": [
        "metric='euclidean' คือการระบุวิธีการคำนวณระยะห่างระหว่างจุด ซึ่งคำนวณจากตำแหน่งของจุดในระบบพิกัดสองมิติ หรือมากกว่า 2 มิติก็ได้\n",
        "นิยมใช้กันอย่างแพ่หลาย"
      ],
      "metadata": {
        "id": "fGVD_ogr7Pm2"
      }
    },
    {
      "cell_type": "code",
      "source": [
        "#Define\n",
        "knn = KNeighborsClassifier(n_neighbors=13, metric='euclidean')\n",
        "\n",
        "#Train\n",
        "knn.fit(X_train, y_train)\n",
        "\n",
        "#evalution\n",
        "y_pred = knn.predict(X_test)"
      ],
      "metadata": {
        "id": "cXq5dpXL59cG"
      },
      "execution_count": 33,
      "outputs": []
    },
    {
      "cell_type": "markdown",
      "source": [
        "## Accuracy , Classification report and Mean cross-validation"
      ],
      "metadata": {
        "id": "gy5hKdwm83CE"
      }
    },
    {
      "cell_type": "code",
      "source": [
        "accuracy = accuracy_score(y_test, y_pred)\n",
        "report = classification_report(y_test, y_pred)\n",
        "\n",
        "print(f'Accuracy: {accuracy:.2f}')\n",
        "print('Classification report:\\n', report)"
      ],
      "metadata": {
        "colab": {
          "base_uri": "https://localhost:8080/"
        },
        "id": "0Co0Qd4i8SC1",
        "outputId": "c344eb7f-8149-43e6-a7bd-4910d19a8b2f"
      },
      "execution_count": 34,
      "outputs": [
        {
          "output_type": "stream",
          "name": "stdout",
          "text": [
            "Accuracy: 0.81\n",
            "Classification report:\n",
            "               precision    recall  f1-score   support\n",
            "\n",
            "           0       0.86      0.90      0.88      6767\n",
            "           1       0.65      0.57      0.61      2282\n",
            "\n",
            "    accuracy                           0.81      9049\n",
            "   macro avg       0.76      0.73      0.74      9049\n",
            "weighted avg       0.81      0.81      0.81      9049\n",
            "\n"
          ]
        }
      ]
    },
    {
      "cell_type": "markdown",
      "source": [
        "- accuracy ของข้อมูลนี้คือ 81%\n",
        "- classification report จาก precision และ recall จะเห็นได้ว่าโมเดลนี้ มีความแม่นยำในการทำนายclass 0 ดีกว่าการทำนาย\n",
        "class 1 ก็คือ การทำนายเงินเดือนที่น้อยกว่าหรือเท่ากับ 5 หมื่น มีความแม่นยำกว่า การทำนายเงินเดือนที่ ที่มากกว่า 5\n",
        "หมื่นดอลล่า\n",
        "โดยที่มีค่า f1-score สูงสุดที่ 0.88 สำหรับ class 0 และ 0.61 สำหรับ class 1\n"
      ],
      "metadata": {
        "id": "wZYIsLvf42_9"
      }
    },
    {
      "cell_type": "code",
      "source": [
        "scores = cross_val_score(knn, X_train, y_train, cv=10)\n",
        "print(f'Mean cross-validation score: {scores.mean():.2f}')"
      ],
      "metadata": {
        "colab": {
          "base_uri": "https://localhost:8080/"
        },
        "id": "HRymkL-5zqHE",
        "outputId": "4a6b9fa4-822a-47bd-b606-0da0fb7fec35"
      },
      "execution_count": 35,
      "outputs": [
        {
          "output_type": "stream",
          "name": "stdout",
          "text": [
            "Mean cross-validation score: 0.81\n"
          ]
        }
      ]
    },
    {
      "cell_type": "markdown",
      "source": [
        "ค่า Mean cross-validation score หรือ ค่าเฉลี่ยของประสิทธิภาพของโมเดลในแต่ละ fold มีค่า 81%"
      ],
      "metadata": {
        "id": "NZl-fYnL5AXF"
      }
    },
    {
      "cell_type": "markdown",
      "source": [
        "# สรุปผล\n",
        "สรุปผลจาก 3 Models (Decision tree, Naive Bayes, K-Nearest Neighbor)\n"
      ],
      "metadata": {
        "id": "Z0XnU6WjJJWU"
      }
    },
    {
      "cell_type": "markdown",
      "source": [
        "1. Decision tree \n",
        "    - Mean cross-validation = 79%\n",
        "    - Accuracy = 78%\n",
        "2. Naive Bayes\n",
        "    - Mean cross-validation = 78% \n",
        "    - Accuracy = 78%\n",
        "3. K-Nearest Neighbor\n",
        "    - Mean cross-validation = 81% \n",
        "    - Accuracy = 81%\n",
        "\n",
        " **ตัดสินใจเลือก K-Nearest Neighbor เนื่องจากมีค่า Mean cross-validation สูงที่สุด ซึ่งบ่งบอกว่า โมเดลนี้มีประสิทธิภาพมากที่สุด**\n"
      ],
      "metadata": {
        "id": "PBEnWWJiJulB"
      }
    },
    {
      "cell_type": "markdown",
      "source": [
        "# Association rules"
      ],
      "metadata": {
        "id": "1wsASp8mZCGj"
      }
    },
    {
      "cell_type": "markdown",
      "source": [
        "- พารามิเตอร์ use_colnames ซึ่งกำหนดเป็น True จะใช้ชื่อคอลัมน์ของข้อมูลเป็นชื่อ itemset แทนที่จะใช้ตัวเลข ซึ่งทำให้ผลลัพธ์ที่ได้ง่ายต่อการอ่านและใช้งานได้ง่ายขึ้น\n",
        "- การกำหนด metric=\"lift\" และ min_threshold=1 จะหมายความว่าเราจะสร้างกฎผสมที่มีค่า lift\n",
        "มากกว่าหรือเท่ากับ 1 เท่านั้น"
      ],
      "metadata": {
        "id": "7sFnQlR6uPtl"
      }
    },
    {
      "cell_type": "code",
      "source": [
        "# convert categorical variables into binary form\n",
        "df = pd.get_dummies(data, columns=['age', 'workclass', 'education', 'marital-status', 'occupation', 'relationship', 'race', 'sex',  'hours-per-week', 'native-country', 'salary'])\n",
        "\n",
        "# Generate frequent itemsets\n",
        "frequent_itemsets = apriori(df, min_support=0.15, use_colnames=True)\n",
        "\n",
        "# Create DataFrame with support and itemsets columns\n",
        "frequent_itemsets_df = pd.DataFrame(frequent_itemsets)\n",
        "\n",
        "# generate association rules\n",
        "rules = association_rules(frequent_itemsets_df.reset_index(), metric='lift', min_threshold=1)\n",
        "\n",
        "# sort the rules by lift in descending order\n",
        "rules = rules.sort_values(by='lift', ascending=False)\n",
        "\n",
        "# show useful columns only\n",
        "acc = rules[['antecedents', 'consequents', 'support', 'confidence', 'lift']]\n",
        "acc"
      ],
      "metadata": {
        "colab": {
          "base_uri": "https://localhost:8080/",
          "height": 423
        },
        "id": "VGH-P_jV6v4R",
        "outputId": "5d0d9f47-903f-4400-8cac-54b4613e6255"
      },
      "execution_count": 36,
      "outputs": [
        {
          "output_type": "execute_result",
          "data": {
            "text/plain": [
              "                                            antecedents  \\\n",
              "2264        (marital-status_2, salary_1, sex_1, race_4)   \n",
              "2309                (relationship_0, native-country_38)   \n",
              "2288       (marital-status_2, sex_1, native-country_38)   \n",
              "2285                 (relationship_0, salary_1, race_4)   \n",
              "2263  (marital-status_2, salary_1, sex_1, native-cou...   \n",
              "...                                                 ...   \n",
              "464                                   (sex_0, salary_0)   \n",
              "419                                            (race_4)   \n",
              "414                          (relationship_1, salary_0)   \n",
              "1315                                  (sex_1, salary_0)   \n",
              "1314                        (race_4, native-country_38)   \n",
              "\n",
              "                                       consequents   support  confidence  \\\n",
              "2264           (relationship_0, native-country_38)  0.165937    0.954788   \n",
              "2309   (marital-status_2, salary_1, sex_1, race_4)  0.165937    0.438458   \n",
              "2288            (relationship_0, salary_1, race_4)  0.165937    0.435293   \n",
              "2285  (marital-status_2, sex_1, native-country_38)  0.165937    0.957711   \n",
              "2263                      (relationship_0, race_4)  0.165937    0.940613   \n",
              "...                                            ...       ...         ...   \n",
              "464                            (native-country_38)  0.262184    0.912111   \n",
              "419                     (relationship_1, salary_0)  0.196804    0.228898   \n",
              "414                                       (race_4)  0.196804    0.859916   \n",
              "1315                   (race_4, native-country_38)  0.372290    0.802989   \n",
              "1314                             (sex_1, salary_0)  0.372290    0.463663   \n",
              "\n",
              "          lift  \n",
              "2264  2.522849  \n",
              "2309  2.522849  \n",
              "2288  2.512306  \n",
              "2285  2.512306  \n",
              "2263  2.505587  \n",
              "...        ...  \n",
              "464   1.000258  \n",
              "419   1.000146  \n",
              "414   1.000146  \n",
              "1315  1.000073  \n",
              "1314  1.000073  \n",
              "\n",
              "[2318 rows x 5 columns]"
            ],
            "text/html": [
              "\n",
              "  <div id=\"df-47fbf31e-297b-4cac-90f8-2c39ac3ba64a\">\n",
              "    <div class=\"colab-df-container\">\n",
              "      <div>\n",
              "<style scoped>\n",
              "    .dataframe tbody tr th:only-of-type {\n",
              "        vertical-align: middle;\n",
              "    }\n",
              "\n",
              "    .dataframe tbody tr th {\n",
              "        vertical-align: top;\n",
              "    }\n",
              "\n",
              "    .dataframe thead th {\n",
              "        text-align: right;\n",
              "    }\n",
              "</style>\n",
              "<table border=\"1\" class=\"dataframe\">\n",
              "  <thead>\n",
              "    <tr style=\"text-align: right;\">\n",
              "      <th></th>\n",
              "      <th>antecedents</th>\n",
              "      <th>consequents</th>\n",
              "      <th>support</th>\n",
              "      <th>confidence</th>\n",
              "      <th>lift</th>\n",
              "    </tr>\n",
              "  </thead>\n",
              "  <tbody>\n",
              "    <tr>\n",
              "      <th>2264</th>\n",
              "      <td>(marital-status_2, salary_1, sex_1, race_4)</td>\n",
              "      <td>(relationship_0, native-country_38)</td>\n",
              "      <td>0.165937</td>\n",
              "      <td>0.954788</td>\n",
              "      <td>2.522849</td>\n",
              "    </tr>\n",
              "    <tr>\n",
              "      <th>2309</th>\n",
              "      <td>(relationship_0, native-country_38)</td>\n",
              "      <td>(marital-status_2, salary_1, sex_1, race_4)</td>\n",
              "      <td>0.165937</td>\n",
              "      <td>0.438458</td>\n",
              "      <td>2.522849</td>\n",
              "    </tr>\n",
              "    <tr>\n",
              "      <th>2288</th>\n",
              "      <td>(marital-status_2, sex_1, native-country_38)</td>\n",
              "      <td>(relationship_0, salary_1, race_4)</td>\n",
              "      <td>0.165937</td>\n",
              "      <td>0.435293</td>\n",
              "      <td>2.512306</td>\n",
              "    </tr>\n",
              "    <tr>\n",
              "      <th>2285</th>\n",
              "      <td>(relationship_0, salary_1, race_4)</td>\n",
              "      <td>(marital-status_2, sex_1, native-country_38)</td>\n",
              "      <td>0.165937</td>\n",
              "      <td>0.957711</td>\n",
              "      <td>2.512306</td>\n",
              "    </tr>\n",
              "    <tr>\n",
              "      <th>2263</th>\n",
              "      <td>(marital-status_2, salary_1, sex_1, native-cou...</td>\n",
              "      <td>(relationship_0, race_4)</td>\n",
              "      <td>0.165937</td>\n",
              "      <td>0.940613</td>\n",
              "      <td>2.505587</td>\n",
              "    </tr>\n",
              "    <tr>\n",
              "      <th>...</th>\n",
              "      <td>...</td>\n",
              "      <td>...</td>\n",
              "      <td>...</td>\n",
              "      <td>...</td>\n",
              "      <td>...</td>\n",
              "    </tr>\n",
              "    <tr>\n",
              "      <th>464</th>\n",
              "      <td>(sex_0, salary_0)</td>\n",
              "      <td>(native-country_38)</td>\n",
              "      <td>0.262184</td>\n",
              "      <td>0.912111</td>\n",
              "      <td>1.000258</td>\n",
              "    </tr>\n",
              "    <tr>\n",
              "      <th>419</th>\n",
              "      <td>(race_4)</td>\n",
              "      <td>(relationship_1, salary_0)</td>\n",
              "      <td>0.196804</td>\n",
              "      <td>0.228898</td>\n",
              "      <td>1.000146</td>\n",
              "    </tr>\n",
              "    <tr>\n",
              "      <th>414</th>\n",
              "      <td>(relationship_1, salary_0)</td>\n",
              "      <td>(race_4)</td>\n",
              "      <td>0.196804</td>\n",
              "      <td>0.859916</td>\n",
              "      <td>1.000146</td>\n",
              "    </tr>\n",
              "    <tr>\n",
              "      <th>1315</th>\n",
              "      <td>(sex_1, salary_0)</td>\n",
              "      <td>(race_4, native-country_38)</td>\n",
              "      <td>0.372290</td>\n",
              "      <td>0.802989</td>\n",
              "      <td>1.000073</td>\n",
              "    </tr>\n",
              "    <tr>\n",
              "      <th>1314</th>\n",
              "      <td>(race_4, native-country_38)</td>\n",
              "      <td>(sex_1, salary_0)</td>\n",
              "      <td>0.372290</td>\n",
              "      <td>0.463663</td>\n",
              "      <td>1.000073</td>\n",
              "    </tr>\n",
              "  </tbody>\n",
              "</table>\n",
              "<p>2318 rows × 5 columns</p>\n",
              "</div>\n",
              "      <button class=\"colab-df-convert\" onclick=\"convertToInteractive('df-47fbf31e-297b-4cac-90f8-2c39ac3ba64a')\"\n",
              "              title=\"Convert this dataframe to an interactive table.\"\n",
              "              style=\"display:none;\">\n",
              "        \n",
              "  <svg xmlns=\"http://www.w3.org/2000/svg\" height=\"24px\"viewBox=\"0 0 24 24\"\n",
              "       width=\"24px\">\n",
              "    <path d=\"M0 0h24v24H0V0z\" fill=\"none\"/>\n",
              "    <path d=\"M18.56 5.44l.94 2.06.94-2.06 2.06-.94-2.06-.94-.94-2.06-.94 2.06-2.06.94zm-11 1L8.5 8.5l.94-2.06 2.06-.94-2.06-.94L8.5 2.5l-.94 2.06-2.06.94zm10 10l.94 2.06.94-2.06 2.06-.94-2.06-.94-.94-2.06-.94 2.06-2.06.94z\"/><path d=\"M17.41 7.96l-1.37-1.37c-.4-.4-.92-.59-1.43-.59-.52 0-1.04.2-1.43.59L10.3 9.45l-7.72 7.72c-.78.78-.78 2.05 0 2.83L4 21.41c.39.39.9.59 1.41.59.51 0 1.02-.2 1.41-.59l7.78-7.78 2.81-2.81c.8-.78.8-2.07 0-2.86zM5.41 20L4 18.59l7.72-7.72 1.47 1.35L5.41 20z\"/>\n",
              "  </svg>\n",
              "      </button>\n",
              "      \n",
              "  <style>\n",
              "    .colab-df-container {\n",
              "      display:flex;\n",
              "      flex-wrap:wrap;\n",
              "      gap: 12px;\n",
              "    }\n",
              "\n",
              "    .colab-df-convert {\n",
              "      background-color: #E8F0FE;\n",
              "      border: none;\n",
              "      border-radius: 50%;\n",
              "      cursor: pointer;\n",
              "      display: none;\n",
              "      fill: #1967D2;\n",
              "      height: 32px;\n",
              "      padding: 0 0 0 0;\n",
              "      width: 32px;\n",
              "    }\n",
              "\n",
              "    .colab-df-convert:hover {\n",
              "      background-color: #E2EBFA;\n",
              "      box-shadow: 0px 1px 2px rgba(60, 64, 67, 0.3), 0px 1px 3px 1px rgba(60, 64, 67, 0.15);\n",
              "      fill: #174EA6;\n",
              "    }\n",
              "\n",
              "    [theme=dark] .colab-df-convert {\n",
              "      background-color: #3B4455;\n",
              "      fill: #D2E3FC;\n",
              "    }\n",
              "\n",
              "    [theme=dark] .colab-df-convert:hover {\n",
              "      background-color: #434B5C;\n",
              "      box-shadow: 0px 1px 3px 1px rgba(0, 0, 0, 0.15);\n",
              "      filter: drop-shadow(0px 1px 2px rgba(0, 0, 0, 0.3));\n",
              "      fill: #FFFFFF;\n",
              "    }\n",
              "  </style>\n",
              "\n",
              "      <script>\n",
              "        const buttonEl =\n",
              "          document.querySelector('#df-47fbf31e-297b-4cac-90f8-2c39ac3ba64a button.colab-df-convert');\n",
              "        buttonEl.style.display =\n",
              "          google.colab.kernel.accessAllowed ? 'block' : 'none';\n",
              "\n",
              "        async function convertToInteractive(key) {\n",
              "          const element = document.querySelector('#df-47fbf31e-297b-4cac-90f8-2c39ac3ba64a');\n",
              "          const dataTable =\n",
              "            await google.colab.kernel.invokeFunction('convertToInteractive',\n",
              "                                                     [key], {});\n",
              "          if (!dataTable) return;\n",
              "\n",
              "          const docLinkHtml = 'Like what you see? Visit the ' +\n",
              "            '<a target=\"_blank\" href=https://colab.research.google.com/notebooks/data_table.ipynb>data table notebook</a>'\n",
              "            + ' to learn more about interactive tables.';\n",
              "          element.innerHTML = '';\n",
              "          dataTable['output_type'] = 'display_data';\n",
              "          await google.colab.output.renderOutput(dataTable, element);\n",
              "          const docLink = document.createElement('div');\n",
              "          docLink.innerHTML = docLinkHtml;\n",
              "          element.appendChild(docLink);\n",
              "        }\n",
              "      </script>\n",
              "    </div>\n",
              "  </div>\n",
              "  "
            ]
          },
          "metadata": {},
          "execution_count": 36
        }
      ]
    },
    {
      "cell_type": "markdown",
      "source": [
        "จาก output ข้างบนจะเห็นว่า row ที่ 2264 และ 2309 มีค่า lift เท่ากัน\n",
        "\n",
        "แต่เนื่องจาก row 2264 มีค่า confidence = 95.48% ซึ่งมากกว่าค่า confidence ของ row 2309 \n",
        "\n",
        "แปลว่าเหตุการณ์มีโอกาศเกิดขึ้นมากกว่า row 2309\n",
        "\n",
        "ดังนั้น row 2264 เป็นที่น่าสนใจที่สุด\n",
        "\n",
        "จาก row 2264 จะเห็นว่า ถ้า เป็นเพศชายผิวขาวที่แต่งงานแล้ว มีเงินเดือน มากกว่า 50,000$ต่อปี จะมีสถานะเป็นสามี และประเทศบ้านเกิดคือ USA\n",
        "\n",
        "จากข้อมูลข้างต้นสามารถนำไปใช้ประโยชน์ในทางธุรกิจได้ เช่น การคิดกลยุทธ์สำหรับเพศชายที่มีครอบครัวแล้ว และมีเงินเดือนมากกว่า 50,000$ ต่อปี"
      ],
      "metadata": {
        "id": "bkqi8o26LHLg"
      }
    },
    {
      "cell_type": "markdown",
      "source": [
        "# K-means clustering"
      ],
      "metadata": {
        "id": "WGZ997YhR26P"
      }
    },
    {
      "cell_type": "markdown",
      "source": [
        "## elbow method \n",
        "เป็นการหาค่า K ที่เหมาะสมโดยการ plot ค่า SSE (Sum of Squared Errors) ของแต่ละค่า K และหาจุดที่เกิด elbow ซึ่งเป็นจุดที่ค่า SSE เริ่มลดลงช้าลง ซึ่งจะช่วยในการเลือกค่า K ที่เหมาะสม"
      ],
      "metadata": {
        "id": "VOR6CfRbv4e5"
      }
    },
    {
      "cell_type": "code",
      "source": [
        "# standardize the data\n",
        "feature_array = X.values\n",
        "scaler = StandardScaler()\n",
        "subset_scaled = scaler.fit_transform(feature_array)\n",
        "\n",
        "# calculate SSE for a range of number of cluster\n",
        "sse = []\n",
        "for k in range(1, 11):\n",
        "    kmeans = KMeans(n_clusters=k, init='k-means++', random_state=42)\n",
        "    kmeans.fit(subset_scaled)\n",
        "    sse.append(kmeans.inertia_)\n",
        "\n",
        "# plot SSE for each value of K\n",
        "plt.style.use('ggplot')\n",
        "plt.plot(range(1, 11), sse)\n",
        "plt.xticks(range(1, 11))\n",
        "plt.xlabel(\"Number of Clusters\")\n",
        "plt.ylabel(\"SSE\")\n",
        "plt.show()"
      ],
      "metadata": {
        "id": "vBQG94J6R63S",
        "colab": {
          "base_uri": "https://localhost:8080/",
          "height": 282
        },
        "outputId": "102c9d3f-c137-4a55-de04-def28c011d44"
      },
      "execution_count": 37,
      "outputs": [
        {
          "output_type": "display_data",
          "data": {
            "text/plain": [
              "<Figure size 432x288 with 1 Axes>"
            ],
            "image/png": "[encoded data removed]"
          },
          "metadata": {}
        }
      ]
    },
    {
      "cell_type": "markdown",
      "source": [
        "จากกราฟ จะเห็นว่าจุด curve หรือ จุดศอก ของกราฟ คือ 2 \n",
        "\n",
        "ดังนั้นจึงกำหนด k ให้เท่ากับ 2"
      ],
      "metadata": {
        "id": "yMjIJ7Sz7TTm"
      }
    },
    {
      "cell_type": "markdown",
      "source": [
        "## Define , Train and Add column 'cluster'"
      ],
      "metadata": {
        "id": "tFx6xfim8_vM"
      }
    },
    {
      "cell_type": "markdown",
      "source": [
        "เพิ่มคอลัมน์ cluster ใน data เพื่อดูว่า ข้อมูล row ไหน อยู่ใน cluster ไหน"
      ],
      "metadata": {
        "id": "b4qbrd-Y9Zbw"
      }
    },
    {
      "cell_type": "code",
      "source": [
        "# set number of clusters\n",
        "k = 2\n",
        "kmeans = KMeans(n_clusters=k)\n",
        "\n",
        "# fit k-means clustering model\n",
        "kmeans.fit(subset_scaled)\n",
        "\n",
        "# get cluster labels\n",
        "data['cluster'] = kmeans.labels_"
      ],
      "metadata": {
        "id": "xd7MbtypqZoa",
        "colab": {
          "base_uri": "https://localhost:8080/"
        },
        "outputId": "68a3564a-92a1-4b07-97c2-141c0f729662"
      },
      "execution_count": 38,
      "outputs": [
        {
          "output_type": "stream",
          "name": "stderr",
          "text": [
            "<ipython-input-38-69d159c38d94>:9: SettingWithCopyWarning: \n",
            "A value is trying to be set on a copy of a slice from a DataFrame.\n",
            "Try using .loc[row_indexer,col_indexer] = value instead\n",
            "\n",
            "See the caveats in the documentation: https://pandas.pydata.org/pandas-docs/stable/user_guide/indexing.html#returning-a-view-versus-a-copy\n",
            "  data['cluster'] = kmeans.labels_\n"
          ]
        }
      ]
    },
    {
      "cell_type": "code",
      "source": [
        "data.head(5)"
      ],
      "metadata": {
        "id": "s6e-zzvDsJg6",
        "colab": {
          "base_uri": "https://localhost:8080/",
          "height": 206
        },
        "outputId": "ca91d05b-8a95-4de8-a507-93b8b12014f0"
      },
      "execution_count": 39,
      "outputs": [
        {
          "output_type": "execute_result",
          "data": {
            "text/plain": [
              "   age  workclass  education  marital-status  occupation  relationship  race  \\\n",
              "0   39          5          9               4           0             1     4   \n",
              "1   50          4          9               2           3             0     4   \n",
              "2   38          2         11               0           5             1     4   \n",
              "3   53          2          1               2           5             0     2   \n",
              "4   28          2          9               2           9             5     2   \n",
              "\n",
              "   sex  hours-per-week  native-country  salary  cluster  \n",
              "0    1              40              38       0        1  \n",
              "1    1              13              38       0        1  \n",
              "2    1              40              38       0        1  \n",
              "3    1              40              38       0        1  \n",
              "4    0              40               4       0        0  "
            ],
            "text/html": [
              "\n",
              "  <div id=\"df-794290c7-3743-4fe6-967f-7b00dc32d0bb\">\n",
              "    <div class=\"colab-df-container\">\n",
              "      <div>\n",
              "<style scoped>\n",
              "    .dataframe tbody tr th:only-of-type {\n",
              "        vertical-align: middle;\n",
              "    }\n",
              "\n",
              "    .dataframe tbody tr th {\n",
              "        vertical-align: top;\n",
              "    }\n",
              "\n",
              "    .dataframe thead th {\n",
              "        text-align: right;\n",
              "    }\n",
              "</style>\n",
              "<table border=\"1\" class=\"dataframe\">\n",
              "  <thead>\n",
              "    <tr style=\"text-align: right;\">\n",
              "      <th></th>\n",
              "      <th>age</th>\n",
              "      <th>workclass</th>\n",
              "      <th>education</th>\n",
              "      <th>marital-status</th>\n",
              "      <th>occupation</th>\n",
              "      <th>relationship</th>\n",
              "      <th>race</th>\n",
              "      <th>sex</th>\n",
              "      <th>hours-per-week</th>\n",
              "      <th>native-country</th>\n",
              "      <th>salary</th>\n",
              "      <th>cluster</th>\n",
              "    </tr>\n",
              "  </thead>\n",
              "  <tbody>\n",
              "    <tr>\n",
              "      <th>0</th>\n",
              "      <td>39</td>\n",
              "      <td>5</td>\n",
              "      <td>9</td>\n",
              "      <td>4</td>\n",
              "      <td>0</td>\n",
              "      <td>1</td>\n",
              "      <td>4</td>\n",
              "      <td>1</td>\n",
              "      <td>40</td>\n",
              "      <td>38</td>\n",
              "      <td>0</td>\n",
              "      <td>1</td>\n",
              "    </tr>\n",
              "    <tr>\n",
              "      <th>1</th>\n",
              "      <td>50</td>\n",
              "      <td>4</td>\n",
              "      <td>9</td>\n",
              "      <td>2</td>\n",
              "      <td>3</td>\n",
              "      <td>0</td>\n",
              "      <td>4</td>\n",
              "      <td>1</td>\n",
              "      <td>13</td>\n",
              "      <td>38</td>\n",
              "      <td>0</td>\n",
              "      <td>1</td>\n",
              "    </tr>\n",
              "    <tr>\n",
              "      <th>2</th>\n",
              "      <td>38</td>\n",
              "      <td>2</td>\n",
              "      <td>11</td>\n",
              "      <td>0</td>\n",
              "      <td>5</td>\n",
              "      <td>1</td>\n",
              "      <td>4</td>\n",
              "      <td>1</td>\n",
              "      <td>40</td>\n",
              "      <td>38</td>\n",
              "      <td>0</td>\n",
              "      <td>1</td>\n",
              "    </tr>\n",
              "    <tr>\n",
              "      <th>3</th>\n",
              "      <td>53</td>\n",
              "      <td>2</td>\n",
              "      <td>1</td>\n",
              "      <td>2</td>\n",
              "      <td>5</td>\n",
              "      <td>0</td>\n",
              "      <td>2</td>\n",
              "      <td>1</td>\n",
              "      <td>40</td>\n",
              "      <td>38</td>\n",
              "      <td>0</td>\n",
              "      <td>1</td>\n",
              "    </tr>\n",
              "    <tr>\n",
              "      <th>4</th>\n",
              "      <td>28</td>\n",
              "      <td>2</td>\n",
              "      <td>9</td>\n",
              "      <td>2</td>\n",
              "      <td>9</td>\n",
              "      <td>5</td>\n",
              "      <td>2</td>\n",
              "      <td>0</td>\n",
              "      <td>40</td>\n",
              "      <td>4</td>\n",
              "      <td>0</td>\n",
              "      <td>0</td>\n",
              "    </tr>\n",
              "  </tbody>\n",
              "</table>\n",
              "</div>\n",
              "      <button class=\"colab-df-convert\" onclick=\"convertToInteractive('df-794290c7-3743-4fe6-967f-7b00dc32d0bb')\"\n",
              "              title=\"Convert this dataframe to an interactive table.\"\n",
              "              style=\"display:none;\">\n",
              "        \n",
              "  <svg xmlns=\"http://www.w3.org/2000/svg\" height=\"24px\"viewBox=\"0 0 24 24\"\n",
              "       width=\"24px\">\n",
              "    <path d=\"M0 0h24v24H0V0z\" fill=\"none\"/>\n",
              "    <path d=\"M18.56 5.44l.94 2.06.94-2.06 2.06-.94-2.06-.94-.94-2.06-.94 2.06-2.06.94zm-11 1L8.5 8.5l.94-2.06 2.06-.94-2.06-.94L8.5 2.5l-.94 2.06-2.06.94zm10 10l.94 2.06.94-2.06 2.06-.94-2.06-.94-.94-2.06-.94 2.06-2.06.94z\"/><path d=\"M17.41 7.96l-1.37-1.37c-.4-.4-.92-.59-1.43-.59-.52 0-1.04.2-1.43.59L10.3 9.45l-7.72 7.72c-.78.78-.78 2.05 0 2.83L4 21.41c.39.39.9.59 1.41.59.51 0 1.02-.2 1.41-.59l7.78-7.78 2.81-2.81c.8-.78.8-2.07 0-2.86zM5.41 20L4 18.59l7.72-7.72 1.47 1.35L5.41 20z\"/>\n",
              "  </svg>\n",
              "      </button>\n",
              "      \n",
              "  <style>\n",
              "    .colab-df-container {\n",
              "      display:flex;\n",
              "      flex-wrap:wrap;\n",
              "      gap: 12px;\n",
              "    }\n",
              "\n",
              "    .colab-df-convert {\n",
              "      background-color: #E8F0FE;\n",
              "      border: none;\n",
              "      border-radius: 50%;\n",
              "      cursor: pointer;\n",
              "      display: none;\n",
              "      fill: #1967D2;\n",
              "      height: 32px;\n",
              "      padding: 0 0 0 0;\n",
              "      width: 32px;\n",
              "    }\n",
              "\n",
              "    .colab-df-convert:hover {\n",
              "      background-color: #E2EBFA;\n",
              "      box-shadow: 0px 1px 2px rgba(60, 64, 67, 0.3), 0px 1px 3px 1px rgba(60, 64, 67, 0.15);\n",
              "      fill: #174EA6;\n",
              "    }\n",
              "\n",
              "    [theme=dark] .colab-df-convert {\n",
              "      background-color: #3B4455;\n",
              "      fill: #D2E3FC;\n",
              "    }\n",
              "\n",
              "    [theme=dark] .colab-df-convert:hover {\n",
              "      background-color: #434B5C;\n",
              "      box-shadow: 0px 1px 3px 1px rgba(0, 0, 0, 0.15);\n",
              "      filter: drop-shadow(0px 1px 2px rgba(0, 0, 0, 0.3));\n",
              "      fill: #FFFFFF;\n",
              "    }\n",
              "  </style>\n",
              "\n",
              "      <script>\n",
              "        const buttonEl =\n",
              "          document.querySelector('#df-794290c7-3743-4fe6-967f-7b00dc32d0bb button.colab-df-convert');\n",
              "        buttonEl.style.display =\n",
              "          google.colab.kernel.accessAllowed ? 'block' : 'none';\n",
              "\n",
              "        async function convertToInteractive(key) {\n",
              "          const element = document.querySelector('#df-794290c7-3743-4fe6-967f-7b00dc32d0bb');\n",
              "          const dataTable =\n",
              "            await google.colab.kernel.invokeFunction('convertToInteractive',\n",
              "                                                     [key], {});\n",
              "          if (!dataTable) return;\n",
              "\n",
              "          const docLinkHtml = 'Like what you see? Visit the ' +\n",
              "            '<a target=\"_blank\" href=https://colab.research.google.com/notebooks/data_table.ipynb>data table notebook</a>'\n",
              "            + ' to learn more about interactive tables.';\n",
              "          element.innerHTML = '';\n",
              "          dataTable['output_type'] = 'display_data';\n",
              "          await google.colab.output.renderOutput(dataTable, element);\n",
              "          const docLink = document.createElement('div');\n",
              "          docLink.innerHTML = docLinkHtml;\n",
              "          element.appendChild(docLink);\n",
              "        }\n",
              "      </script>\n",
              "    </div>\n",
              "  </div>\n",
              "  "
            ]
          },
          "metadata": {},
          "execution_count": 39
        }
      ]
    },
    {
      "cell_type": "code",
      "source": [
        "data['cluster'].value_counts()"
      ],
      "metadata": {
        "id": "G-ktqm0Htg6v",
        "colab": {
          "base_uri": "https://localhost:8080/"
        },
        "outputId": "0e7417ea-277c-4c18-f963-0ebdd1cc2940"
      },
      "execution_count": 40,
      "outputs": [
        {
          "output_type": "execute_result",
          "data": {
            "text/plain": [
              "1    17864\n",
              "0    12298\n",
              "Name: cluster, dtype: int64"
            ]
          },
          "metadata": {},
          "execution_count": 40
        }
      ]
    },
    {
      "cell_type": "markdown",
      "source": [
        "จากการทำ clustering สามารถแบ่งกลุ่มข้อมูลที่คล้ายกันได้เป็น 2 กลุ่ม คือ 0,1\n",
        "\n",
        "โดย \n",
        "- กลุ่ม 0 มีจำนวนทั้งหมด 17,871 row\n",
        "- กลุ่ม 1 มีจำนวนทั้งหมด 12,291 row"
      ],
      "metadata": {
        "id": "a_0BCmG3NzIq"
      }
    },
    {
      "cell_type": "markdown",
      "source": [
        "แผนภาพ PCA "
      ],
      "metadata": {
        "id": "hPFPJrYF7n71"
      }
    },
    {
      "cell_type": "code",
      "source": [
        "from sklearn.decomposition import PCA\n",
        "\n",
        "# create PCA object\n",
        "pca = PCA(n_components=2)\n",
        "\n",
        "# fit and transform data\n",
        "principalComponents = pca.fit_transform(subset_scaled)\n",
        "\n",
        "# create dataframe with principal components and cluster labels\n",
        "principalDf = pd.DataFrame(data = principalComponents, columns = ['PC1', 'PC2'])\n",
        "principalDf['cluster'] = kmeans.labels_\n",
        "\n",
        "# plot the principal components colored by cluster\n",
        "fig = plt.figure(figsize = (10, 8))\n",
        "ax = fig.add_subplot(1,1,1) \n",
        "ax.set_xlabel('PC1', fontsize = 15)\n",
        "ax.set_ylabel('PC2', fontsize = 15)\n",
        "ax.set_title('2 component PCA', fontsize = 20)\n",
        "ax.set_facecolor('#0E1124') # เปลี่ยนสีพื้นหลัง\n",
        "targets = [0, 1]\n",
        "colors = ['#7286D3','#BCCEF8']\n",
        "for target, color in zip(targets,colors):\n",
        "    indicesToKeep = principalDf['cluster'] == target\n",
        "    ax.scatter(principalDf.loc[indicesToKeep, 'PC1']\n",
        "               , principalDf.loc[indicesToKeep, 'PC2']\n",
        "               , c = color\n",
        "               , s = 50)\n",
        "ax.legend(targets)\n",
        "ax.grid()"
      ],
      "metadata": {
        "id": "2HdaH9Q_x7xy",
        "colab": {
          "base_uri": "https://localhost:8080/",
          "height": 523
        },
        "outputId": "ae915c3f-dd76-4076-96a3-e888c4b81915"
      },
      "execution_count": 41,
      "outputs": [
        {
          "output_type": "display_data",
          "data": {
            "text/plain": [
              "<Figure size 720x576 with 1 Axes>"
            ],
            "image/png": "[encoded data removed]"
          },
          "metadata": {}
        }
      ]
    },
    {
      "cell_type": "markdown",
      "source": [
        "Visualization"
      ],
      "metadata": {
        "id": "jX1azkpe9_Nv"
      }
    },
    {
      "cell_type": "code",
      "source": [
        "c0 = data[data['cluster'] == 0]"
      ],
      "metadata": {
        "id": "LPdWLiJzSe2n"
      },
      "execution_count": 42,
      "outputs": []
    },
    {
      "cell_type": "code",
      "source": [
        "c1 = data[data['cluster'] == 1]"
      ],
      "metadata": {
        "id": "ZWoQ_m9xaNzs"
      },
      "execution_count": 43,
      "outputs": []
    },
    {
      "cell_type": "code",
      "source": [
        "width = 0.2 # ความกว้างของแท่ง\n",
        "\n",
        "plt.bar([1, 2],[c0['age'].mean(),c1['age'].mean()],width,color=['#BB8FCE'] ,label='age') \n",
        "\n",
        "plt.title('cluster age')\n",
        "plt.xticks([1,2], ['cluster 0','cluster 1'])\n",
        "plt.legend();"
      ],
      "metadata": {
        "colab": {
          "base_uri": "https://localhost:8080/",
          "height": 282
        },
        "id": "sFKSqjG9cqfL",
        "outputId": "87659a08-a290-4f01-b6d3-42942b0a663f"
      },
      "execution_count": 44,
      "outputs": [
        {
          "output_type": "display_data",
          "data": {
            "text/plain": [
              "<Figure size 432x288 with 1 Axes>"
            ],
            "image/png": "[encoded data removed]"
          },
          "metadata": {}
        }
      ]
    },
    {
      "cell_type": "code",
      "source": [
        "s0 = c0['sex'].value_counts().reset_index()"
      ],
      "metadata": {
        "id": "3fS8EvpajN7m"
      },
      "execution_count": 45,
      "outputs": []
    },
    {
      "cell_type": "code",
      "source": [
        "s1 = c1['sex'].value_counts().reset_index()"
      ],
      "metadata": {
        "id": "L6mJHaiFjbf_"
      },
      "execution_count": 46,
      "outputs": []
    },
    {
      "cell_type": "code",
      "source": [
        "width = 0.2\n",
        "\n",
        "plt.bar([0.9,1.1],[s0['sex'][0],s0['sex'][1]],width,color=['#FF8800','#DEA6D5']) # ส้ม\n",
        "plt.bar([1.9,2.1],[s1['sex'][0],s1['sex'][1]],width,color=['#FF8800','#DEA6D5']) # ม่วง\n",
        "\n",
        "plt.title('cluster sex')\n",
        "plt.ylabel('Number')\n",
        "plt.xticks([1,2], labels=['cluster 0','cluster 1'])\n",
        "plt.legend();\n",
        "plt.show();\n"
      ],
      "metadata": {
        "colab": {
          "base_uri": "https://localhost:8080/",
          "height": 319
        },
        "id": "CzBAgrOeg7Z7",
        "outputId": "fe66b31a-0ea0-4f56-9eb0-bd72596b2f6b"
      },
      "execution_count": 47,
      "outputs": [
        {
          "output_type": "stream",
          "name": "stderr",
          "text": [
            "WARNING:matplotlib.legend:No artists with labels found to put in legend.  Note that artists whose label start with an underscore are ignored when legend() is called with no argument.\n"
          ]
        },
        {
          "output_type": "display_data",
          "data": {
            "text/plain": [
              "<Figure size 432x288 with 1 Axes>"
            ],
            "image/png": "[encoded data removed]"
          },
          "metadata": {}
        }
      ]
    }
  ]
}