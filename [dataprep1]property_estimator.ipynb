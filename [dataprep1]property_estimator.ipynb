{
  "nbformat": 4,
  "nbformat_minor": 0,
  "metadata": {
    "colab": {
      "provenance": [],
      "toc_visible": true,
      "authorship_tag": "ABX9TyMQ7bGvejG6qMp1YL0H9+c0",
      "include_colab_link": true
    },
    "kernelspec": {
      "name": "python3",
      "display_name": "Python 3"
    },
    "language_info": {
      "name": "python"
    }
  },
  "cells": [
    {
      "cell_type": "markdown",
      "metadata": {
        "id": "view-in-github",
        "colab_type": "text"
      },
      "source": [
        "<a href=\"https://colab.research.google.com/github/oilnutttt/bsc_dpdm22/blob/main/%5Bdataprep1%5Dproperty_estimator.ipynb\" target=\"_parent\"><img src=\"https://colab.research.google.com/assets/colab-badge.svg\" alt=\"Open In Colab\"/></a>"
      ]
    },
    {
      "cell_type": "code",
      "execution_count": 107,
      "metadata": {
        "id": "TRcHrsEmZH-Z"
      },
      "outputs": [],
      "source": [
        "import pandas as pd\n",
        "import numpy as np\n",
        "from matplotlib import pyplot as plt\n",
        "import matplotlib"
      ]
    },
    {
      "cell_type": "code",
      "source": [
        "#from google.colab import drive \n",
        "#drive.mount('/content/drive')"
      ],
      "metadata": {
        "id": "G1ZMNELBZLJ7"
      },
      "execution_count": 108,
      "outputs": []
    },
    {
      "cell_type": "code",
      "source": [
        "#import os\n",
        "#os.chdir('/content/drive/MyDrive/BSC_dpdm22')"
      ],
      "metadata": {
        "id": "XOuKxsdSZ-tb"
      },
      "execution_count": 109,
      "outputs": []
    },
    {
      "cell_type": "code",
      "source": [
        "# open file\n",
        "#datahouse = pd.read_excel('คำตอบนักประเมิน.xlsx',sheet_name=0)\n",
        "#print(datahouse.shape) # shown number of (row, column)\n",
        "#datahouse.head()"
      ],
      "metadata": {
        "id": "FMH70eK3Z-zs"
      },
      "execution_count": 110,
      "outputs": []
    },
    {
      "cell_type": "markdown",
      "source": [
        "#สรุปข้อมูลของนักประเมินแต่ละคน โดยพิจารณาจาก ความมั่นใจในการประเมิน ประเมินราคาซื้อ-ขาย ให้คะแนนทรัพย์\n"
      ],
      "metadata": {
        "id": "85_Cu8_1cjnM"
      }
    },
    {
      "cell_type": "code",
      "source": [
        "link = 'https://docs.google.com/spreadsheets/d/17bOM-XlZ-swqCaPryFFxcjKT-nYHe8FZ/export?format=xlsx'"
      ],
      "metadata": {
        "id": "zrT5qWsNOznB"
      },
      "execution_count": 111,
      "outputs": []
    },
    {
      "cell_type": "markdown",
      "source": [
        "##House"
      ],
      "metadata": {
        "id": "ACV0UAP2ab5A"
      }
    },
    {
      "cell_type": "code",
      "source": [
        "datahouse = pd.read_excel(link,sheet_name='บ้าน')"
      ],
      "metadata": {
        "id": "-9Ulf-b_Pj4Z"
      },
      "execution_count": 112,
      "outputs": []
    },
    {
      "cell_type": "code",
      "source": [
        "datahouse['ID ผู้ประเมิน'].value_counts()"
      ],
      "metadata": {
        "id": "5MWRu5uTdUAW",
        "outputId": "48d1efd8-cf18-4dc7-8a9d-f72ddefc6110",
        "colab": {
          "base_uri": "https://localhost:8080/"
        }
      },
      "execution_count": 113,
      "outputs": [
        {
          "output_type": "execute_result",
          "data": {
            "text/plain": [
              "1    610\n",
              "2    610\n",
              "Name: ID ผู้ประเมิน, dtype: int64"
            ]
          },
          "metadata": {},
          "execution_count": 113
        }
      ]
    },
    {
      "cell_type": "code",
      "source": [
        "esthouse= datahouse[datahouse['ID ผู้ประเมิน']==1]"
      ],
      "metadata": {
        "id": "h5qlZLa3aOdz"
      },
      "execution_count": 114,
      "outputs": []
    },
    {
      "cell_type": "code",
      "source": [
        "data1 = esthouse[['ID ผู้ประเมิน','ความมั่นใจในการเมินราคาทรัพย์','ประเมินราคาซื้อ-ขาย','ให้คะแนนทรัพย์']]\n",
        "data1.head(5)"
      ],
      "metadata": {
        "id": "b7fj5ohad0kx",
        "outputId": "f9de658f-26bb-412c-f854-5edad6629ff1",
        "colab": {
          "base_uri": "https://localhost:8080/",
          "height": 206
        }
      },
      "execution_count": 115,
      "outputs": [
        {
          "output_type": "execute_result",
          "data": {
            "text/plain": [
              "   ID ผู้ประเมิน ความมั่นใจในการเมินราคาทรัพย์  ประเมินราคาซื้อ-ขาย  \\\n",
              "0              1                        มั่นใจ            2500000.0   \n",
              "2              1                        มั่นใจ            2200000.0   \n",
              "4              1                        มั่นใจ            5000000.0   \n",
              "6              1                        มั่นใจ            3500000.0   \n",
              "8              1                        มั่นใจ            2500000.0   \n",
              "\n",
              "                       ให้คะแนนทรัพย์  \n",
              "0   3 ขายได้ ใช้ระยะเวลา 7 - 12 เดือน  \n",
              "2  2 ขายได้ยาก ใช้ระยะเวลามากว่า 1 ปี  \n",
              "4   3 ขายได้ ใช้ระยะเวลา 7 - 12 เดือน  \n",
              "6  2 ขายได้ยาก ใช้ระยะเวลามากว่า 1 ปี  \n",
              "8   3 ขายได้ ใช้ระยะเวลา 7 - 12 เดือน  "
            ],
            "text/html": [
              "\n",
              "  <div id=\"df-05d95253-9888-44be-8e18-3b1dd75e3a0a\">\n",
              "    <div class=\"colab-df-container\">\n",
              "      <div>\n",
              "<style scoped>\n",
              "    .dataframe tbody tr th:only-of-type {\n",
              "        vertical-align: middle;\n",
              "    }\n",
              "\n",
              "    .dataframe tbody tr th {\n",
              "        vertical-align: top;\n",
              "    }\n",
              "\n",
              "    .dataframe thead th {\n",
              "        text-align: right;\n",
              "    }\n",
              "</style>\n",
              "<table border=\"1\" class=\"dataframe\">\n",
              "  <thead>\n",
              "    <tr style=\"text-align: right;\">\n",
              "      <th></th>\n",
              "      <th>ID ผู้ประเมิน</th>\n",
              "      <th>ความมั่นใจในการเมินราคาทรัพย์</th>\n",
              "      <th>ประเมินราคาซื้อ-ขาย</th>\n",
              "      <th>ให้คะแนนทรัพย์</th>\n",
              "    </tr>\n",
              "  </thead>\n",
              "  <tbody>\n",
              "    <tr>\n",
              "      <th>0</th>\n",
              "      <td>1</td>\n",
              "      <td>มั่นใจ</td>\n",
              "      <td>2500000.0</td>\n",
              "      <td>3 ขายได้ ใช้ระยะเวลา 7 - 12 เดือน</td>\n",
              "    </tr>\n",
              "    <tr>\n",
              "      <th>2</th>\n",
              "      <td>1</td>\n",
              "      <td>มั่นใจ</td>\n",
              "      <td>2200000.0</td>\n",
              "      <td>2 ขายได้ยาก ใช้ระยะเวลามากว่า 1 ปี</td>\n",
              "    </tr>\n",
              "    <tr>\n",
              "      <th>4</th>\n",
              "      <td>1</td>\n",
              "      <td>มั่นใจ</td>\n",
              "      <td>5000000.0</td>\n",
              "      <td>3 ขายได้ ใช้ระยะเวลา 7 - 12 เดือน</td>\n",
              "    </tr>\n",
              "    <tr>\n",
              "      <th>6</th>\n",
              "      <td>1</td>\n",
              "      <td>มั่นใจ</td>\n",
              "      <td>3500000.0</td>\n",
              "      <td>2 ขายได้ยาก ใช้ระยะเวลามากว่า 1 ปี</td>\n",
              "    </tr>\n",
              "    <tr>\n",
              "      <th>8</th>\n",
              "      <td>1</td>\n",
              "      <td>มั่นใจ</td>\n",
              "      <td>2500000.0</td>\n",
              "      <td>3 ขายได้ ใช้ระยะเวลา 7 - 12 เดือน</td>\n",
              "    </tr>\n",
              "  </tbody>\n",
              "</table>\n",
              "</div>\n",
              "      <button class=\"colab-df-convert\" onclick=\"convertToInteractive('df-05d95253-9888-44be-8e18-3b1dd75e3a0a')\"\n",
              "              title=\"Convert this dataframe to an interactive table.\"\n",
              "              style=\"display:none;\">\n",
              "        \n",
              "  <svg xmlns=\"http://www.w3.org/2000/svg\" height=\"24px\"viewBox=\"0 0 24 24\"\n",
              "       width=\"24px\">\n",
              "    <path d=\"M0 0h24v24H0V0z\" fill=\"none\"/>\n",
              "    <path d=\"M18.56 5.44l.94 2.06.94-2.06 2.06-.94-2.06-.94-.94-2.06-.94 2.06-2.06.94zm-11 1L8.5 8.5l.94-2.06 2.06-.94-2.06-.94L8.5 2.5l-.94 2.06-2.06.94zm10 10l.94 2.06.94-2.06 2.06-.94-2.06-.94-.94-2.06-.94 2.06-2.06.94z\"/><path d=\"M17.41 7.96l-1.37-1.37c-.4-.4-.92-.59-1.43-.59-.52 0-1.04.2-1.43.59L10.3 9.45l-7.72 7.72c-.78.78-.78 2.05 0 2.83L4 21.41c.39.39.9.59 1.41.59.51 0 1.02-.2 1.41-.59l7.78-7.78 2.81-2.81c.8-.78.8-2.07 0-2.86zM5.41 20L4 18.59l7.72-7.72 1.47 1.35L5.41 20z\"/>\n",
              "  </svg>\n",
              "      </button>\n",
              "      \n",
              "  <style>\n",
              "    .colab-df-container {\n",
              "      display:flex;\n",
              "      flex-wrap:wrap;\n",
              "      gap: 12px;\n",
              "    }\n",
              "\n",
              "    .colab-df-convert {\n",
              "      background-color: #E8F0FE;\n",
              "      border: none;\n",
              "      border-radius: 50%;\n",
              "      cursor: pointer;\n",
              "      display: none;\n",
              "      fill: #1967D2;\n",
              "      height: 32px;\n",
              "      padding: 0 0 0 0;\n",
              "      width: 32px;\n",
              "    }\n",
              "\n",
              "    .colab-df-convert:hover {\n",
              "      background-color: #E2EBFA;\n",
              "      box-shadow: 0px 1px 2px rgba(60, 64, 67, 0.3), 0px 1px 3px 1px rgba(60, 64, 67, 0.15);\n",
              "      fill: #174EA6;\n",
              "    }\n",
              "\n",
              "    [theme=dark] .colab-df-convert {\n",
              "      background-color: #3B4455;\n",
              "      fill: #D2E3FC;\n",
              "    }\n",
              "\n",
              "    [theme=dark] .colab-df-convert:hover {\n",
              "      background-color: #434B5C;\n",
              "      box-shadow: 0px 1px 3px 1px rgba(0, 0, 0, 0.15);\n",
              "      filter: drop-shadow(0px 1px 2px rgba(0, 0, 0, 0.3));\n",
              "      fill: #FFFFFF;\n",
              "    }\n",
              "  </style>\n",
              "\n",
              "      <script>\n",
              "        const buttonEl =\n",
              "          document.querySelector('#df-05d95253-9888-44be-8e18-3b1dd75e3a0a button.colab-df-convert');\n",
              "        buttonEl.style.display =\n",
              "          google.colab.kernel.accessAllowed ? 'block' : 'none';\n",
              "\n",
              "        async function convertToInteractive(key) {\n",
              "          const element = document.querySelector('#df-05d95253-9888-44be-8e18-3b1dd75e3a0a');\n",
              "          const dataTable =\n",
              "            await google.colab.kernel.invokeFunction('convertToInteractive',\n",
              "                                                     [key], {});\n",
              "          if (!dataTable) return;\n",
              "\n",
              "          const docLinkHtml = 'Like what you see? Visit the ' +\n",
              "            '<a target=\"_blank\" href=https://colab.research.google.com/notebooks/data_table.ipynb>data table notebook</a>'\n",
              "            + ' to learn more about interactive tables.';\n",
              "          element.innerHTML = '';\n",
              "          dataTable['output_type'] = 'display_data';\n",
              "          await google.colab.output.renderOutput(dataTable, element);\n",
              "          const docLink = document.createElement('div');\n",
              "          docLink.innerHTML = docLinkHtml;\n",
              "          element.appendChild(docLink);\n",
              "        }\n",
              "      </script>\n",
              "    </div>\n",
              "  </div>\n",
              "  "
            ]
          },
          "metadata": {},
          "execution_count": 115
        }
      ]
    },
    {
      "cell_type": "code",
      "source": [
        "esthouse.describe()"
      ],
      "metadata": {
        "id": "VuWNSubzaypT",
        "outputId": "4675753f-39a4-4d7a-de90-a0af01ada367",
        "colab": {
          "base_uri": "https://localhost:8080/",
          "height": 300
        }
      },
      "execution_count": 116,
      "outputs": [
        {
          "output_type": "execute_result",
          "data": {
            "text/plain": [
              "       ID ผู้ประเมิน    ราคาทรัพย์  ประเมินราคาซื้อ-ขาย\n",
              "count          610.0  6.100000e+02         6.090000e+02\n",
              "mean             1.0  3.382782e+06         3.240345e+06\n",
              "std              0.0  5.000758e+06         4.692873e+06\n",
              "min              1.0  2.600000e+05         2.200000e+05\n",
              "25%              1.0  1.492500e+06         1.500000e+06\n",
              "50%              1.0  2.540000e+06         2.500000e+06\n",
              "75%              1.0  4.000000e+06         4.000000e+06\n",
              "max              1.0  1.039350e+08         1.000000e+08"
            ],
            "text/html": [
              "\n",
              "  <div id=\"df-74614a31-fd26-4d2e-938f-845e79bb23d7\">\n",
              "    <div class=\"colab-df-container\">\n",
              "      <div>\n",
              "<style scoped>\n",
              "    .dataframe tbody tr th:only-of-type {\n",
              "        vertical-align: middle;\n",
              "    }\n",
              "\n",
              "    .dataframe tbody tr th {\n",
              "        vertical-align: top;\n",
              "    }\n",
              "\n",
              "    .dataframe thead th {\n",
              "        text-align: right;\n",
              "    }\n",
              "</style>\n",
              "<table border=\"1\" class=\"dataframe\">\n",
              "  <thead>\n",
              "    <tr style=\"text-align: right;\">\n",
              "      <th></th>\n",
              "      <th>ID ผู้ประเมิน</th>\n",
              "      <th>ราคาทรัพย์</th>\n",
              "      <th>ประเมินราคาซื้อ-ขาย</th>\n",
              "    </tr>\n",
              "  </thead>\n",
              "  <tbody>\n",
              "    <tr>\n",
              "      <th>count</th>\n",
              "      <td>610.0</td>\n",
              "      <td>6.100000e+02</td>\n",
              "      <td>6.090000e+02</td>\n",
              "    </tr>\n",
              "    <tr>\n",
              "      <th>mean</th>\n",
              "      <td>1.0</td>\n",
              "      <td>3.382782e+06</td>\n",
              "      <td>3.240345e+06</td>\n",
              "    </tr>\n",
              "    <tr>\n",
              "      <th>std</th>\n",
              "      <td>0.0</td>\n",
              "      <td>5.000758e+06</td>\n",
              "      <td>4.692873e+06</td>\n",
              "    </tr>\n",
              "    <tr>\n",
              "      <th>min</th>\n",
              "      <td>1.0</td>\n",
              "      <td>2.600000e+05</td>\n",
              "      <td>2.200000e+05</td>\n",
              "    </tr>\n",
              "    <tr>\n",
              "      <th>25%</th>\n",
              "      <td>1.0</td>\n",
              "      <td>1.492500e+06</td>\n",
              "      <td>1.500000e+06</td>\n",
              "    </tr>\n",
              "    <tr>\n",
              "      <th>50%</th>\n",
              "      <td>1.0</td>\n",
              "      <td>2.540000e+06</td>\n",
              "      <td>2.500000e+06</td>\n",
              "    </tr>\n",
              "    <tr>\n",
              "      <th>75%</th>\n",
              "      <td>1.0</td>\n",
              "      <td>4.000000e+06</td>\n",
              "      <td>4.000000e+06</td>\n",
              "    </tr>\n",
              "    <tr>\n",
              "      <th>max</th>\n",
              "      <td>1.0</td>\n",
              "      <td>1.039350e+08</td>\n",
              "      <td>1.000000e+08</td>\n",
              "    </tr>\n",
              "  </tbody>\n",
              "</table>\n",
              "</div>\n",
              "      <button class=\"colab-df-convert\" onclick=\"convertToInteractive('df-74614a31-fd26-4d2e-938f-845e79bb23d7')\"\n",
              "              title=\"Convert this dataframe to an interactive table.\"\n",
              "              style=\"display:none;\">\n",
              "        \n",
              "  <svg xmlns=\"http://www.w3.org/2000/svg\" height=\"24px\"viewBox=\"0 0 24 24\"\n",
              "       width=\"24px\">\n",
              "    <path d=\"M0 0h24v24H0V0z\" fill=\"none\"/>\n",
              "    <path d=\"M18.56 5.44l.94 2.06.94-2.06 2.06-.94-2.06-.94-.94-2.06-.94 2.06-2.06.94zm-11 1L8.5 8.5l.94-2.06 2.06-.94-2.06-.94L8.5 2.5l-.94 2.06-2.06.94zm10 10l.94 2.06.94-2.06 2.06-.94-2.06-.94-.94-2.06-.94 2.06-2.06.94z\"/><path d=\"M17.41 7.96l-1.37-1.37c-.4-.4-.92-.59-1.43-.59-.52 0-1.04.2-1.43.59L10.3 9.45l-7.72 7.72c-.78.78-.78 2.05 0 2.83L4 21.41c.39.39.9.59 1.41.59.51 0 1.02-.2 1.41-.59l7.78-7.78 2.81-2.81c.8-.78.8-2.07 0-2.86zM5.41 20L4 18.59l7.72-7.72 1.47 1.35L5.41 20z\"/>\n",
              "  </svg>\n",
              "      </button>\n",
              "      \n",
              "  <style>\n",
              "    .colab-df-container {\n",
              "      display:flex;\n",
              "      flex-wrap:wrap;\n",
              "      gap: 12px;\n",
              "    }\n",
              "\n",
              "    .colab-df-convert {\n",
              "      background-color: #E8F0FE;\n",
              "      border: none;\n",
              "      border-radius: 50%;\n",
              "      cursor: pointer;\n",
              "      display: none;\n",
              "      fill: #1967D2;\n",
              "      height: 32px;\n",
              "      padding: 0 0 0 0;\n",
              "      width: 32px;\n",
              "    }\n",
              "\n",
              "    .colab-df-convert:hover {\n",
              "      background-color: #E2EBFA;\n",
              "      box-shadow: 0px 1px 2px rgba(60, 64, 67, 0.3), 0px 1px 3px 1px rgba(60, 64, 67, 0.15);\n",
              "      fill: #174EA6;\n",
              "    }\n",
              "\n",
              "    [theme=dark] .colab-df-convert {\n",
              "      background-color: #3B4455;\n",
              "      fill: #D2E3FC;\n",
              "    }\n",
              "\n",
              "    [theme=dark] .colab-df-convert:hover {\n",
              "      background-color: #434B5C;\n",
              "      box-shadow: 0px 1px 3px 1px rgba(0, 0, 0, 0.15);\n",
              "      filter: drop-shadow(0px 1px 2px rgba(0, 0, 0, 0.3));\n",
              "      fill: #FFFFFF;\n",
              "    }\n",
              "  </style>\n",
              "\n",
              "      <script>\n",
              "        const buttonEl =\n",
              "          document.querySelector('#df-74614a31-fd26-4d2e-938f-845e79bb23d7 button.colab-df-convert');\n",
              "        buttonEl.style.display =\n",
              "          google.colab.kernel.accessAllowed ? 'block' : 'none';\n",
              "\n",
              "        async function convertToInteractive(key) {\n",
              "          const element = document.querySelector('#df-74614a31-fd26-4d2e-938f-845e79bb23d7');\n",
              "          const dataTable =\n",
              "            await google.colab.kernel.invokeFunction('convertToInteractive',\n",
              "                                                     [key], {});\n",
              "          if (!dataTable) return;\n",
              "\n",
              "          const docLinkHtml = 'Like what you see? Visit the ' +\n",
              "            '<a target=\"_blank\" href=https://colab.research.google.com/notebooks/data_table.ipynb>data table notebook</a>'\n",
              "            + ' to learn more about interactive tables.';\n",
              "          element.innerHTML = '';\n",
              "          dataTable['output_type'] = 'display_data';\n",
              "          await google.colab.output.renderOutput(dataTable, element);\n",
              "          const docLink = document.createElement('div');\n",
              "          docLink.innerHTML = docLinkHtml;\n",
              "          element.appendChild(docLink);\n",
              "        }\n",
              "      </script>\n",
              "    </div>\n",
              "  </div>\n",
              "  "
            ]
          },
          "metadata": {},
          "execution_count": 116
        }
      ]
    },
    {
      "cell_type": "code",
      "source": [
        "esthouse['ให้คะแนนทรัพย์'].value_counts()"
      ],
      "metadata": {
        "id": "9l6qFtYsbOII",
        "outputId": "2f40feb4-ff59-4d7a-e4f5-c0433501a330",
        "colab": {
          "base_uri": "https://localhost:8080/"
        }
      },
      "execution_count": 117,
      "outputs": [
        {
          "output_type": "execute_result",
          "data": {
            "text/plain": [
              "3 ขายได้ ใช้ระยะเวลา 7 - 12 เดือน     476\n",
              "2 ขายได้ยาก ใช้ระยะเวลามากว่า 1 ปี    126\n",
              "4 ขายได้ ใช้ระยะเวลา 4 - 6 เดือน        6\n",
              "1 ขายไม่ได้แน่นอน                       2\n",
              "Name: ให้คะแนนทรัพย์, dtype: int64"
            ]
          },
          "metadata": {},
          "execution_count": 117
        }
      ]
    },
    {
      "cell_type": "code",
      "source": [
        "esthouse['ความมั่นใจในการเมินราคาทรัพย์'].value_counts()"
      ],
      "metadata": {
        "colab": {
          "base_uri": "https://localhost:8080/"
        },
        "id": "kj4MRfqObebd",
        "outputId": "86f9fcbe-fa51-4002-ea45-a8901ab9c6e2"
      },
      "execution_count": 118,
      "outputs": [
        {
          "output_type": "execute_result",
          "data": {
            "text/plain": [
              "มั่นใจ    610\n",
              "Name: ความมั่นใจในการเมินราคาทรัพย์, dtype: int64"
            ]
          },
          "metadata": {},
          "execution_count": 118
        }
      ]
    },
    {
      "cell_type": "code",
      "source": [
        "esthouse2 = datahouse[datahouse['ID ผู้ประเมิน']==2]"
      ],
      "metadata": {
        "id": "K_0CG2LCeU55"
      },
      "execution_count": 119,
      "outputs": []
    },
    {
      "cell_type": "code",
      "source": [
        "data2 =esthouse2[['ID ผู้ประเมิน','ความมั่นใจในการเมินราคาทรัพย์','ประเมินราคาซื้อ-ขาย','ให้คะแนนทรัพย์']]\n",
        "data2.head(5)"
      ],
      "metadata": {
        "id": "q3MuJBOlecSP",
        "outputId": "c1718dd9-7f0f-479a-add4-3b5fd6245daf",
        "colab": {
          "base_uri": "https://localhost:8080/",
          "height": 206
        }
      },
      "execution_count": 120,
      "outputs": [
        {
          "output_type": "execute_result",
          "data": {
            "text/plain": [
              "   ID ผู้ประเมิน ความมั่นใจในการเมินราคาทรัพย์  ประเมินราคาซื้อ-ขาย  \\\n",
              "1              2                        มั่นใจ            2700000.0   \n",
              "3              2                        มั่นใจ            2400000.0   \n",
              "5              2                        มั่นใจ            9000000.0   \n",
              "7              2                        มั่นใจ            3700000.0   \n",
              "9              2                        มั่นใจ            2500000.0   \n",
              "\n",
              "                      ให้คะแนนทรัพย์  \n",
              "1   4 ขายได้ ใช้ระยะเวลา 4 - 6 เดือน  \n",
              "3  3 ขายได้ ใช้ระยะเวลา 7 - 12 เดือน  \n",
              "5  5 ขายง่าย ใช้ระยะเวลา 1 - 3 เดือน  \n",
              "7  3 ขายได้ ใช้ระยะเวลา 7 - 12 เดือน  \n",
              "9  3 ขายได้ ใช้ระยะเวลา 7 - 12 เดือน  "
            ],
            "text/html": [
              "\n",
              "  <div id=\"df-1bdf79c7-d1f4-48b4-a9cd-dea313b59fc5\">\n",
              "    <div class=\"colab-df-container\">\n",
              "      <div>\n",
              "<style scoped>\n",
              "    .dataframe tbody tr th:only-of-type {\n",
              "        vertical-align: middle;\n",
              "    }\n",
              "\n",
              "    .dataframe tbody tr th {\n",
              "        vertical-align: top;\n",
              "    }\n",
              "\n",
              "    .dataframe thead th {\n",
              "        text-align: right;\n",
              "    }\n",
              "</style>\n",
              "<table border=\"1\" class=\"dataframe\">\n",
              "  <thead>\n",
              "    <tr style=\"text-align: right;\">\n",
              "      <th></th>\n",
              "      <th>ID ผู้ประเมิน</th>\n",
              "      <th>ความมั่นใจในการเมินราคาทรัพย์</th>\n",
              "      <th>ประเมินราคาซื้อ-ขาย</th>\n",
              "      <th>ให้คะแนนทรัพย์</th>\n",
              "    </tr>\n",
              "  </thead>\n",
              "  <tbody>\n",
              "    <tr>\n",
              "      <th>1</th>\n",
              "      <td>2</td>\n",
              "      <td>มั่นใจ</td>\n",
              "      <td>2700000.0</td>\n",
              "      <td>4 ขายได้ ใช้ระยะเวลา 4 - 6 เดือน</td>\n",
              "    </tr>\n",
              "    <tr>\n",
              "      <th>3</th>\n",
              "      <td>2</td>\n",
              "      <td>มั่นใจ</td>\n",
              "      <td>2400000.0</td>\n",
              "      <td>3 ขายได้ ใช้ระยะเวลา 7 - 12 เดือน</td>\n",
              "    </tr>\n",
              "    <tr>\n",
              "      <th>5</th>\n",
              "      <td>2</td>\n",
              "      <td>มั่นใจ</td>\n",
              "      <td>9000000.0</td>\n",
              "      <td>5 ขายง่าย ใช้ระยะเวลา 1 - 3 เดือน</td>\n",
              "    </tr>\n",
              "    <tr>\n",
              "      <th>7</th>\n",
              "      <td>2</td>\n",
              "      <td>มั่นใจ</td>\n",
              "      <td>3700000.0</td>\n",
              "      <td>3 ขายได้ ใช้ระยะเวลา 7 - 12 เดือน</td>\n",
              "    </tr>\n",
              "    <tr>\n",
              "      <th>9</th>\n",
              "      <td>2</td>\n",
              "      <td>มั่นใจ</td>\n",
              "      <td>2500000.0</td>\n",
              "      <td>3 ขายได้ ใช้ระยะเวลา 7 - 12 เดือน</td>\n",
              "    </tr>\n",
              "  </tbody>\n",
              "</table>\n",
              "</div>\n",
              "      <button class=\"colab-df-convert\" onclick=\"convertToInteractive('df-1bdf79c7-d1f4-48b4-a9cd-dea313b59fc5')\"\n",
              "              title=\"Convert this dataframe to an interactive table.\"\n",
              "              style=\"display:none;\">\n",
              "        \n",
              "  <svg xmlns=\"http://www.w3.org/2000/svg\" height=\"24px\"viewBox=\"0 0 24 24\"\n",
              "       width=\"24px\">\n",
              "    <path d=\"M0 0h24v24H0V0z\" fill=\"none\"/>\n",
              "    <path d=\"M18.56 5.44l.94 2.06.94-2.06 2.06-.94-2.06-.94-.94-2.06-.94 2.06-2.06.94zm-11 1L8.5 8.5l.94-2.06 2.06-.94-2.06-.94L8.5 2.5l-.94 2.06-2.06.94zm10 10l.94 2.06.94-2.06 2.06-.94-2.06-.94-.94-2.06-.94 2.06-2.06.94z\"/><path d=\"M17.41 7.96l-1.37-1.37c-.4-.4-.92-.59-1.43-.59-.52 0-1.04.2-1.43.59L10.3 9.45l-7.72 7.72c-.78.78-.78 2.05 0 2.83L4 21.41c.39.39.9.59 1.41.59.51 0 1.02-.2 1.41-.59l7.78-7.78 2.81-2.81c.8-.78.8-2.07 0-2.86zM5.41 20L4 18.59l7.72-7.72 1.47 1.35L5.41 20z\"/>\n",
              "  </svg>\n",
              "      </button>\n",
              "      \n",
              "  <style>\n",
              "    .colab-df-container {\n",
              "      display:flex;\n",
              "      flex-wrap:wrap;\n",
              "      gap: 12px;\n",
              "    }\n",
              "\n",
              "    .colab-df-convert {\n",
              "      background-color: #E8F0FE;\n",
              "      border: none;\n",
              "      border-radius: 50%;\n",
              "      cursor: pointer;\n",
              "      display: none;\n",
              "      fill: #1967D2;\n",
              "      height: 32px;\n",
              "      padding: 0 0 0 0;\n",
              "      width: 32px;\n",
              "    }\n",
              "\n",
              "    .colab-df-convert:hover {\n",
              "      background-color: #E2EBFA;\n",
              "      box-shadow: 0px 1px 2px rgba(60, 64, 67, 0.3), 0px 1px 3px 1px rgba(60, 64, 67, 0.15);\n",
              "      fill: #174EA6;\n",
              "    }\n",
              "\n",
              "    [theme=dark] .colab-df-convert {\n",
              "      background-color: #3B4455;\n",
              "      fill: #D2E3FC;\n",
              "    }\n",
              "\n",
              "    [theme=dark] .colab-df-convert:hover {\n",
              "      background-color: #434B5C;\n",
              "      box-shadow: 0px 1px 3px 1px rgba(0, 0, 0, 0.15);\n",
              "      filter: drop-shadow(0px 1px 2px rgba(0, 0, 0, 0.3));\n",
              "      fill: #FFFFFF;\n",
              "    }\n",
              "  </style>\n",
              "\n",
              "      <script>\n",
              "        const buttonEl =\n",
              "          document.querySelector('#df-1bdf79c7-d1f4-48b4-a9cd-dea313b59fc5 button.colab-df-convert');\n",
              "        buttonEl.style.display =\n",
              "          google.colab.kernel.accessAllowed ? 'block' : 'none';\n",
              "\n",
              "        async function convertToInteractive(key) {\n",
              "          const element = document.querySelector('#df-1bdf79c7-d1f4-48b4-a9cd-dea313b59fc5');\n",
              "          const dataTable =\n",
              "            await google.colab.kernel.invokeFunction('convertToInteractive',\n",
              "                                                     [key], {});\n",
              "          if (!dataTable) return;\n",
              "\n",
              "          const docLinkHtml = 'Like what you see? Visit the ' +\n",
              "            '<a target=\"_blank\" href=https://colab.research.google.com/notebooks/data_table.ipynb>data table notebook</a>'\n",
              "            + ' to learn more about interactive tables.';\n",
              "          element.innerHTML = '';\n",
              "          dataTable['output_type'] = 'display_data';\n",
              "          await google.colab.output.renderOutput(dataTable, element);\n",
              "          const docLink = document.createElement('div');\n",
              "          docLink.innerHTML = docLinkHtml;\n",
              "          element.appendChild(docLink);\n",
              "        }\n",
              "      </script>\n",
              "    </div>\n",
              "  </div>\n",
              "  "
            ]
          },
          "metadata": {},
          "execution_count": 120
        }
      ]
    },
    {
      "cell_type": "code",
      "source": [
        "esthouse2.describe()"
      ],
      "metadata": {
        "id": "PzYfvlIMcqcs",
        "outputId": "01c4ac4b-393b-4500-972d-9ee43901c483",
        "colab": {
          "base_uri": "https://localhost:8080/",
          "height": 300
        }
      },
      "execution_count": 121,
      "outputs": [
        {
          "output_type": "execute_result",
          "data": {
            "text/plain": [
              "       ID ผู้ประเมิน    ราคาทรัพย์  ประเมินราคาซื้อ-ขาย\n",
              "count          610.0  6.100000e+02         4.980000e+02\n",
              "mean             2.0  3.369097e+06         3.449197e+06\n",
              "std              0.0  4.975575e+06         4.381048e+06\n",
              "min              2.0  2.600000e+05         2.500000e+05\n",
              "25%              2.0  1.467500e+06         1.892500e+06\n",
              "50%              2.0  2.530000e+06         2.600000e+06\n",
              "75%              2.0  4.067500e+06         4.200000e+06\n",
              "max              2.0  1.039350e+08         8.000000e+07"
            ],
            "text/html": [
              "\n",
              "  <div id=\"df-180d2152-5f4b-447a-90a2-0151a2d4e584\">\n",
              "    <div class=\"colab-df-container\">\n",
              "      <div>\n",
              "<style scoped>\n",
              "    .dataframe tbody tr th:only-of-type {\n",
              "        vertical-align: middle;\n",
              "    }\n",
              "\n",
              "    .dataframe tbody tr th {\n",
              "        vertical-align: top;\n",
              "    }\n",
              "\n",
              "    .dataframe thead th {\n",
              "        text-align: right;\n",
              "    }\n",
              "</style>\n",
              "<table border=\"1\" class=\"dataframe\">\n",
              "  <thead>\n",
              "    <tr style=\"text-align: right;\">\n",
              "      <th></th>\n",
              "      <th>ID ผู้ประเมิน</th>\n",
              "      <th>ราคาทรัพย์</th>\n",
              "      <th>ประเมินราคาซื้อ-ขาย</th>\n",
              "    </tr>\n",
              "  </thead>\n",
              "  <tbody>\n",
              "    <tr>\n",
              "      <th>count</th>\n",
              "      <td>610.0</td>\n",
              "      <td>6.100000e+02</td>\n",
              "      <td>4.980000e+02</td>\n",
              "    </tr>\n",
              "    <tr>\n",
              "      <th>mean</th>\n",
              "      <td>2.0</td>\n",
              "      <td>3.369097e+06</td>\n",
              "      <td>3.449197e+06</td>\n",
              "    </tr>\n",
              "    <tr>\n",
              "      <th>std</th>\n",
              "      <td>0.0</td>\n",
              "      <td>4.975575e+06</td>\n",
              "      <td>4.381048e+06</td>\n",
              "    </tr>\n",
              "    <tr>\n",
              "      <th>min</th>\n",
              "      <td>2.0</td>\n",
              "      <td>2.600000e+05</td>\n",
              "      <td>2.500000e+05</td>\n",
              "    </tr>\n",
              "    <tr>\n",
              "      <th>25%</th>\n",
              "      <td>2.0</td>\n",
              "      <td>1.467500e+06</td>\n",
              "      <td>1.892500e+06</td>\n",
              "    </tr>\n",
              "    <tr>\n",
              "      <th>50%</th>\n",
              "      <td>2.0</td>\n",
              "      <td>2.530000e+06</td>\n",
              "      <td>2.600000e+06</td>\n",
              "    </tr>\n",
              "    <tr>\n",
              "      <th>75%</th>\n",
              "      <td>2.0</td>\n",
              "      <td>4.067500e+06</td>\n",
              "      <td>4.200000e+06</td>\n",
              "    </tr>\n",
              "    <tr>\n",
              "      <th>max</th>\n",
              "      <td>2.0</td>\n",
              "      <td>1.039350e+08</td>\n",
              "      <td>8.000000e+07</td>\n",
              "    </tr>\n",
              "  </tbody>\n",
              "</table>\n",
              "</div>\n",
              "      <button class=\"colab-df-convert\" onclick=\"convertToInteractive('df-180d2152-5f4b-447a-90a2-0151a2d4e584')\"\n",
              "              title=\"Convert this dataframe to an interactive table.\"\n",
              "              style=\"display:none;\">\n",
              "        \n",
              "  <svg xmlns=\"http://www.w3.org/2000/svg\" height=\"24px\"viewBox=\"0 0 24 24\"\n",
              "       width=\"24px\">\n",
              "    <path d=\"M0 0h24v24H0V0z\" fill=\"none\"/>\n",
              "    <path d=\"M18.56 5.44l.94 2.06.94-2.06 2.06-.94-2.06-.94-.94-2.06-.94 2.06-2.06.94zm-11 1L8.5 8.5l.94-2.06 2.06-.94-2.06-.94L8.5 2.5l-.94 2.06-2.06.94zm10 10l.94 2.06.94-2.06 2.06-.94-2.06-.94-.94-2.06-.94 2.06-2.06.94z\"/><path d=\"M17.41 7.96l-1.37-1.37c-.4-.4-.92-.59-1.43-.59-.52 0-1.04.2-1.43.59L10.3 9.45l-7.72 7.72c-.78.78-.78 2.05 0 2.83L4 21.41c.39.39.9.59 1.41.59.51 0 1.02-.2 1.41-.59l7.78-7.78 2.81-2.81c.8-.78.8-2.07 0-2.86zM5.41 20L4 18.59l7.72-7.72 1.47 1.35L5.41 20z\"/>\n",
              "  </svg>\n",
              "      </button>\n",
              "      \n",
              "  <style>\n",
              "    .colab-df-container {\n",
              "      display:flex;\n",
              "      flex-wrap:wrap;\n",
              "      gap: 12px;\n",
              "    }\n",
              "\n",
              "    .colab-df-convert {\n",
              "      background-color: #E8F0FE;\n",
              "      border: none;\n",
              "      border-radius: 50%;\n",
              "      cursor: pointer;\n",
              "      display: none;\n",
              "      fill: #1967D2;\n",
              "      height: 32px;\n",
              "      padding: 0 0 0 0;\n",
              "      width: 32px;\n",
              "    }\n",
              "\n",
              "    .colab-df-convert:hover {\n",
              "      background-color: #E2EBFA;\n",
              "      box-shadow: 0px 1px 2px rgba(60, 64, 67, 0.3), 0px 1px 3px 1px rgba(60, 64, 67, 0.15);\n",
              "      fill: #174EA6;\n",
              "    }\n",
              "\n",
              "    [theme=dark] .colab-df-convert {\n",
              "      background-color: #3B4455;\n",
              "      fill: #D2E3FC;\n",
              "    }\n",
              "\n",
              "    [theme=dark] .colab-df-convert:hover {\n",
              "      background-color: #434B5C;\n",
              "      box-shadow: 0px 1px 3px 1px rgba(0, 0, 0, 0.15);\n",
              "      filter: drop-shadow(0px 1px 2px rgba(0, 0, 0, 0.3));\n",
              "      fill: #FFFFFF;\n",
              "    }\n",
              "  </style>\n",
              "\n",
              "      <script>\n",
              "        const buttonEl =\n",
              "          document.querySelector('#df-180d2152-5f4b-447a-90a2-0151a2d4e584 button.colab-df-convert');\n",
              "        buttonEl.style.display =\n",
              "          google.colab.kernel.accessAllowed ? 'block' : 'none';\n",
              "\n",
              "        async function convertToInteractive(key) {\n",
              "          const element = document.querySelector('#df-180d2152-5f4b-447a-90a2-0151a2d4e584');\n",
              "          const dataTable =\n",
              "            await google.colab.kernel.invokeFunction('convertToInteractive',\n",
              "                                                     [key], {});\n",
              "          if (!dataTable) return;\n",
              "\n",
              "          const docLinkHtml = 'Like what you see? Visit the ' +\n",
              "            '<a target=\"_blank\" href=https://colab.research.google.com/notebooks/data_table.ipynb>data table notebook</a>'\n",
              "            + ' to learn more about interactive tables.';\n",
              "          element.innerHTML = '';\n",
              "          dataTable['output_type'] = 'display_data';\n",
              "          await google.colab.output.renderOutput(dataTable, element);\n",
              "          const docLink = document.createElement('div');\n",
              "          docLink.innerHTML = docLinkHtml;\n",
              "          element.appendChild(docLink);\n",
              "        }\n",
              "      </script>\n",
              "    </div>\n",
              "  </div>\n",
              "  "
            ]
          },
          "metadata": {},
          "execution_count": 121
        }
      ]
    },
    {
      "cell_type": "code",
      "source": [
        "esthouse2['ให้คะแนนทรัพย์'].value_counts()"
      ],
      "metadata": {
        "colab": {
          "base_uri": "https://localhost:8080/"
        },
        "id": "ZAKRKr8Rcunc",
        "outputId": "8ad69dc0-ae6b-4d0d-d023-4dc31d87455e"
      },
      "execution_count": 122,
      "outputs": [
        {
          "output_type": "execute_result",
          "data": {
            "text/plain": [
              "3 ขายได้ ใช้ระยะเวลา 7 - 12 เดือน     367\n",
              "4 ขายได้ ใช้ระยะเวลา 4 - 6 เดือน      117\n",
              "2 ขายได้ยาก ใช้ระยะเวลามากว่า 1 ปี     14\n",
              "5 ขายง่าย ใช้ระยะเวลา 1 - 3 เดือน       1\n",
              "Name: ให้คะแนนทรัพย์, dtype: int64"
            ]
          },
          "metadata": {},
          "execution_count": 122
        }
      ]
    },
    {
      "cell_type": "code",
      "source": [
        "esthouse2['ความมั่นใจในการเมินราคาทรัพย์'].value_counts()"
      ],
      "metadata": {
        "colab": {
          "base_uri": "https://localhost:8080/"
        },
        "id": "rx6nlwOyhmN2",
        "outputId": "7868d7ba-e29c-4f5f-d222-257d82053c39"
      },
      "execution_count": 123,
      "outputs": [
        {
          "output_type": "execute_result",
          "data": {
            "text/plain": [
              "มั่นใจ       499\n",
              "ไม่มั่นใจ    111\n",
              "Name: ความมั่นใจในการเมินราคาทรัพย์, dtype: int64"
            ]
          },
          "metadata": {},
          "execution_count": 123
        }
      ]
    },
    {
      "cell_type": "markdown",
      "source": [
        "##Land"
      ],
      "metadata": {
        "id": "hMHmg69pfojr"
      }
    },
    {
      "cell_type": "code",
      "source": [
        "land = pd.read_excel(link,sheet_name='ที่ดิน')"
      ],
      "metadata": {
        "id": "DDp3j7fSgKX-"
      },
      "execution_count": 124,
      "outputs": []
    },
    {
      "cell_type": "code",
      "source": [
        "land['ID ผู้ประเมิน'].value_counts() "
      ],
      "metadata": {
        "colab": {
          "base_uri": "https://localhost:8080/"
        },
        "id": "cOtzsx4Ei13Y",
        "outputId": "42be5174-4d63-419b-ae41-30262fb53bfa"
      },
      "execution_count": 125,
      "outputs": [
        {
          "output_type": "execute_result",
          "data": {
            "text/plain": [
              "1    100\n",
              "2    100\n",
              "4     10\n",
              "Name: ID ผู้ประเมิน, dtype: int64"
            ]
          },
          "metadata": {},
          "execution_count": 125
        }
      ]
    },
    {
      "cell_type": "code",
      "source": [
        "estland = land[land['ID ผู้ประเมิน']==1]"
      ],
      "metadata": {
        "id": "jfs5JjuQjMWg"
      },
      "execution_count": 126,
      "outputs": []
    },
    {
      "cell_type": "code",
      "source": [
        "estland2 = land[land['ID ผู้ประเมิน']==2]"
      ],
      "metadata": {
        "id": "wwhMcbwvje1R"
      },
      "execution_count": 127,
      "outputs": []
    },
    {
      "cell_type": "markdown",
      "source": [
        "##Condo"
      ],
      "metadata": {
        "id": "_Z2S4Zvajk-Q"
      }
    },
    {
      "cell_type": "code",
      "source": [
        "condo = pd.read_excel(link,sheet_name='คอนโด')"
      ],
      "metadata": {
        "id": "UUQblGAWgsR_"
      },
      "execution_count": 128,
      "outputs": []
    },
    {
      "cell_type": "code",
      "source": [
        "condo['ID ผู้ประเมิน'].value_counts() "
      ],
      "metadata": {
        "id": "Yo_8dFByc0mL",
        "outputId": "e2841b7f-b19a-4259-cf8b-6d642528424a",
        "colab": {
          "base_uri": "https://localhost:8080/"
        }
      },
      "execution_count": 129,
      "outputs": [
        {
          "output_type": "execute_result",
          "data": {
            "text/plain": [
              "1    10\n",
              "Name: ID ผู้ประเมิน, dtype: int64"
            ]
          },
          "metadata": {},
          "execution_count": 129
        }
      ]
    },
    {
      "cell_type": "markdown",
      "source": [
        "##Town Home"
      ],
      "metadata": {
        "id": "T7MViLZlgl-O"
      }
    },
    {
      "cell_type": "code",
      "source": [
        "townhome = pd.read_excel(link,sheet_name='ทาวน์โฮม')"
      ],
      "metadata": {
        "id": "Qufys_hOg7KP"
      },
      "execution_count": 130,
      "outputs": []
    },
    {
      "cell_type": "code",
      "source": [
        "townhome['ID ผู้ประเมิน'].value_counts() "
      ],
      "metadata": {
        "id": "rgNDfK_Rg08L",
        "colab": {
          "base_uri": "https://localhost:8080/"
        },
        "outputId": "d4803ecc-d57e-4528-eb8a-e4a9ac4f4045"
      },
      "execution_count": 131,
      "outputs": [
        {
          "output_type": "execute_result",
          "data": {
            "text/plain": [
              "1    120\n",
              "2    120\n",
              "Name: ID ผู้ประเมิน, dtype: int64"
            ]
          },
          "metadata": {},
          "execution_count": 131
        }
      ]
    },
    {
      "cell_type": "code",
      "source": [
        "estth = townhome[townhome['ID ผู้ประเมิน']==1]"
      ],
      "metadata": {
        "id": "0PzON-wjhHW0"
      },
      "execution_count": 132,
      "outputs": []
    },
    {
      "cell_type": "code",
      "source": [
        "esttth2 =  townhome[townhome['ID ผู้ประเมิน']==2]"
      ],
      "metadata": {
        "id": "EcEt0M_phQ-D"
      },
      "execution_count": 133,
      "outputs": []
    },
    {
      "cell_type": "markdown",
      "source": [
        "##Shop house"
      ],
      "metadata": {
        "id": "o0DrCCzqhZ7i"
      }
    },
    {
      "cell_type": "code",
      "source": [
        "sh = pd.read_excel(link,sheet_name='อาคารพาณิชย์')"
      ],
      "metadata": {
        "id": "u7qnNdX-hcRg"
      },
      "execution_count": 134,
      "outputs": []
    },
    {
      "cell_type": "code",
      "source": [
        "sh['ID ผู้ประเมิน'].value_counts() "
      ],
      "metadata": {
        "id": "BhfEfik-mvxI",
        "outputId": "c4fd8014-615f-4f73-cf99-4e5cf07777a2",
        "colab": {
          "base_uri": "https://localhost:8080/"
        }
      },
      "execution_count": 135,
      "outputs": [
        {
          "output_type": "execute_result",
          "data": {
            "text/plain": [
              "1    100\n",
              "2    100\n",
              "Name: ID ผู้ประเมิน, dtype: int64"
            ]
          },
          "metadata": {},
          "execution_count": 135
        }
      ]
    },
    {
      "cell_type": "code",
      "source": [
        "estsh = sh[sh['ID ผู้ประเมิน']==1]"
      ],
      "metadata": {
        "id": "mEV7zezHmxcq"
      },
      "execution_count": 136,
      "outputs": []
    },
    {
      "cell_type": "code",
      "source": [
        "estsh2 =  sh[sh['ID ผู้ประเมิน']==2]"
      ],
      "metadata": {
        "id": "F_L5JhN3myre"
      },
      "execution_count": 137,
      "outputs": []
    },
    {
      "cell_type": "markdown",
      "source": [
        "##HW1"
      ],
      "metadata": {
        "id": "DE9MgintjA1S"
      }
    },
    {
      "cell_type": "markdown",
      "source": [
        "#เปรียบเทียบความแตกต่างในการประเมิณราคาทรัพย์แต่ละทรัพย์ของนักประเมินแต่ละคนและของราคาตั้งขาย"
      ],
      "metadata": {
        "id": "vcqew4vDhjUs"
      }
    },
    {
      "cell_type": "code",
      "source": [
        "from sklearn.metrics import mean_absolute_percentage_error as mape #mape"
      ],
      "metadata": {
        "id": "pYjasoryhnQw"
      },
      "execution_count": 138,
      "outputs": []
    },
    {
      "cell_type": "markdown",
      "source": [
        "#House"
      ],
      "metadata": {
        "id": "YqSlAD9bhqKS"
      }
    },
    {
      "cell_type": "code",
      "source": [
        "esthouse2['ประเมินโดย 1'] = esthouse2['post id'].map(esthouse.set_index('post id')['ประเมินราคาซื้อ-ขาย'])\n",
        "esthouse2.head(3)"
      ],
      "metadata": {
        "id": "QmvAgCN6huMF",
        "outputId": "f18d1661-81a8-45cd-9542-f081fcd38426",
        "colab": {
          "base_uri": "https://localhost:8080/",
          "height": 361
        }
      },
      "execution_count": 139,
      "outputs": [
        {
          "output_type": "stream",
          "name": "stderr",
          "text": [
            "<ipython-input-139-168f10528608>:1: SettingWithCopyWarning: \n",
            "A value is trying to be set on a copy of a slice from a DataFrame.\n",
            "Try using .loc[row_indexer,col_indexer] = value instead\n",
            "\n",
            "See the caveats in the documentation: https://pandas.pydata.org/pandas-docs/stable/user_guide/indexing.html#returning-a-view-versus-a-copy\n",
            "  esthouse2['ประเมินโดย 1'] = esthouse2['post id'].map(esthouse.set_index('post id')['ประเมินราคาซื้อ-ขาย'])\n"
          ]
        },
        {
          "output_type": "execute_result",
          "data": {
            "text/plain": [
              "   ID ผู้ประเมิน                              post id property_type  \\\n",
              "1              2   https://nayoo.co/khonkaen/posts/25    บ้านเดี่ยว   \n",
              "3              2   https://nayoo.co/khonkaen/posts/33    บ้านเดี่ยว   \n",
              "5              2  https://nayoo.co/khonkaen/posts/495    บ้านเดี่ยว   \n",
              "\n",
              "  ความมั่นใจในการเมินราคาทรัพย์  ราคาทรัพย์  ประเมินราคาซื้อ-ขาย  \\\n",
              "1                        มั่นใจ     2890000            2700000.0   \n",
              "3                        มั่นใจ     2600000            2400000.0   \n",
              "5                        มั่นใจ     6050000            9000000.0   \n",
              "\n",
              "                      ปัจจัยในการประเมินราคาซื้อ-ขาย  \\\n",
              "1  โครงการนี้ราคาเสนอขาย 2,500,000-3,000,000 บาท/...   \n",
              "3   ราคาเสนอขายประมาณ 2,200,000 - 2,500,000 บาท/หลัง   \n",
              "5  โซนนี้ราคาซื้อขาย ประมาณ 10,000-20,000 บาท/ตาร...   \n",
              "\n",
              "  เหตุผลไม่มั่นใจราคาประเมิน                     ให้คะแนนทรัพย์  ประเมินโดย 1  \n",
              "1                        NaN   4 ขายได้ ใช้ระยะเวลา 4 - 6 เดือน     2500000.0  \n",
              "3                        NaN  3 ขายได้ ใช้ระยะเวลา 7 - 12 เดือน     2200000.0  \n",
              "5                        NaN  5 ขายง่าย ใช้ระยะเวลา 1 - 3 เดือน     5000000.0  "
            ],
            "text/html": [
              "\n",
              "  <div id=\"df-8aec6c47-10ff-4485-85e7-beb5c332e9db\">\n",
              "    <div class=\"colab-df-container\">\n",
              "      <div>\n",
              "<style scoped>\n",
              "    .dataframe tbody tr th:only-of-type {\n",
              "        vertical-align: middle;\n",
              "    }\n",
              "\n",
              "    .dataframe tbody tr th {\n",
              "        vertical-align: top;\n",
              "    }\n",
              "\n",
              "    .dataframe thead th {\n",
              "        text-align: right;\n",
              "    }\n",
              "</style>\n",
              "<table border=\"1\" class=\"dataframe\">\n",
              "  <thead>\n",
              "    <tr style=\"text-align: right;\">\n",
              "      <th></th>\n",
              "      <th>ID ผู้ประเมิน</th>\n",
              "      <th>post id</th>\n",
              "      <th>property_type</th>\n",
              "      <th>ความมั่นใจในการเมินราคาทรัพย์</th>\n",
              "      <th>ราคาทรัพย์</th>\n",
              "      <th>ประเมินราคาซื้อ-ขาย</th>\n",
              "      <th>ปัจจัยในการประเมินราคาซื้อ-ขาย</th>\n",
              "      <th>เหตุผลไม่มั่นใจราคาประเมิน</th>\n",
              "      <th>ให้คะแนนทรัพย์</th>\n",
              "      <th>ประเมินโดย 1</th>\n",
              "    </tr>\n",
              "  </thead>\n",
              "  <tbody>\n",
              "    <tr>\n",
              "      <th>1</th>\n",
              "      <td>2</td>\n",
              "      <td>https://nayoo.co/khonkaen/posts/25</td>\n",
              "      <td>บ้านเดี่ยว</td>\n",
              "      <td>มั่นใจ</td>\n",
              "      <td>2890000</td>\n",
              "      <td>2700000.0</td>\n",
              "      <td>โครงการนี้ราคาเสนอขาย 2,500,000-3,000,000 บาท/...</td>\n",
              "      <td>NaN</td>\n",
              "      <td>4 ขายได้ ใช้ระยะเวลา 4 - 6 เดือน</td>\n",
              "      <td>2500000.0</td>\n",
              "    </tr>\n",
              "    <tr>\n",
              "      <th>3</th>\n",
              "      <td>2</td>\n",
              "      <td>https://nayoo.co/khonkaen/posts/33</td>\n",
              "      <td>บ้านเดี่ยว</td>\n",
              "      <td>มั่นใจ</td>\n",
              "      <td>2600000</td>\n",
              "      <td>2400000.0</td>\n",
              "      <td>ราคาเสนอขายประมาณ 2,200,000 - 2,500,000 บาท/หลัง</td>\n",
              "      <td>NaN</td>\n",
              "      <td>3 ขายได้ ใช้ระยะเวลา 7 - 12 เดือน</td>\n",
              "      <td>2200000.0</td>\n",
              "    </tr>\n",
              "    <tr>\n",
              "      <th>5</th>\n",
              "      <td>2</td>\n",
              "      <td>https://nayoo.co/khonkaen/posts/495</td>\n",
              "      <td>บ้านเดี่ยว</td>\n",
              "      <td>มั่นใจ</td>\n",
              "      <td>6050000</td>\n",
              "      <td>9000000.0</td>\n",
              "      <td>โซนนี้ราคาซื้อขาย ประมาณ 10,000-20,000 บาท/ตาร...</td>\n",
              "      <td>NaN</td>\n",
              "      <td>5 ขายง่าย ใช้ระยะเวลา 1 - 3 เดือน</td>\n",
              "      <td>5000000.0</td>\n",
              "    </tr>\n",
              "  </tbody>\n",
              "</table>\n",
              "</div>\n",
              "      <button class=\"colab-df-convert\" onclick=\"convertToInteractive('df-8aec6c47-10ff-4485-85e7-beb5c332e9db')\"\n",
              "              title=\"Convert this dataframe to an interactive table.\"\n",
              "              style=\"display:none;\">\n",
              "        \n",
              "  <svg xmlns=\"http://www.w3.org/2000/svg\" height=\"24px\"viewBox=\"0 0 24 24\"\n",
              "       width=\"24px\">\n",
              "    <path d=\"M0 0h24v24H0V0z\" fill=\"none\"/>\n",
              "    <path d=\"M18.56 5.44l.94 2.06.94-2.06 2.06-.94-2.06-.94-.94-2.06-.94 2.06-2.06.94zm-11 1L8.5 8.5l.94-2.06 2.06-.94-2.06-.94L8.5 2.5l-.94 2.06-2.06.94zm10 10l.94 2.06.94-2.06 2.06-.94-2.06-.94-.94-2.06-.94 2.06-2.06.94z\"/><path d=\"M17.41 7.96l-1.37-1.37c-.4-.4-.92-.59-1.43-.59-.52 0-1.04.2-1.43.59L10.3 9.45l-7.72 7.72c-.78.78-.78 2.05 0 2.83L4 21.41c.39.39.9.59 1.41.59.51 0 1.02-.2 1.41-.59l7.78-7.78 2.81-2.81c.8-.78.8-2.07 0-2.86zM5.41 20L4 18.59l7.72-7.72 1.47 1.35L5.41 20z\"/>\n",
              "  </svg>\n",
              "      </button>\n",
              "      \n",
              "  <style>\n",
              "    .colab-df-container {\n",
              "      display:flex;\n",
              "      flex-wrap:wrap;\n",
              "      gap: 12px;\n",
              "    }\n",
              "\n",
              "    .colab-df-convert {\n",
              "      background-color: #E8F0FE;\n",
              "      border: none;\n",
              "      border-radius: 50%;\n",
              "      cursor: pointer;\n",
              "      display: none;\n",
              "      fill: #1967D2;\n",
              "      height: 32px;\n",
              "      padding: 0 0 0 0;\n",
              "      width: 32px;\n",
              "    }\n",
              "\n",
              "    .colab-df-convert:hover {\n",
              "      background-color: #E2EBFA;\n",
              "      box-shadow: 0px 1px 2px rgba(60, 64, 67, 0.3), 0px 1px 3px 1px rgba(60, 64, 67, 0.15);\n",
              "      fill: #174EA6;\n",
              "    }\n",
              "\n",
              "    [theme=dark] .colab-df-convert {\n",
              "      background-color: #3B4455;\n",
              "      fill: #D2E3FC;\n",
              "    }\n",
              "\n",
              "    [theme=dark] .colab-df-convert:hover {\n",
              "      background-color: #434B5C;\n",
              "      box-shadow: 0px 1px 3px 1px rgba(0, 0, 0, 0.15);\n",
              "      filter: drop-shadow(0px 1px 2px rgba(0, 0, 0, 0.3));\n",
              "      fill: #FFFFFF;\n",
              "    }\n",
              "  </style>\n",
              "\n",
              "      <script>\n",
              "        const buttonEl =\n",
              "          document.querySelector('#df-8aec6c47-10ff-4485-85e7-beb5c332e9db button.colab-df-convert');\n",
              "        buttonEl.style.display =\n",
              "          google.colab.kernel.accessAllowed ? 'block' : 'none';\n",
              "\n",
              "        async function convertToInteractive(key) {\n",
              "          const element = document.querySelector('#df-8aec6c47-10ff-4485-85e7-beb5c332e9db');\n",
              "          const dataTable =\n",
              "            await google.colab.kernel.invokeFunction('convertToInteractive',\n",
              "                                                     [key], {});\n",
              "          if (!dataTable) return;\n",
              "\n",
              "          const docLinkHtml = 'Like what you see? Visit the ' +\n",
              "            '<a target=\"_blank\" href=https://colab.research.google.com/notebooks/data_table.ipynb>data table notebook</a>'\n",
              "            + ' to learn more about interactive tables.';\n",
              "          element.innerHTML = '';\n",
              "          dataTable['output_type'] = 'display_data';\n",
              "          await google.colab.output.renderOutput(dataTable, element);\n",
              "          const docLink = document.createElement('div');\n",
              "          docLink.innerHTML = docLinkHtml;\n",
              "          element.appendChild(docLink);\n",
              "        }\n",
              "      </script>\n",
              "    </div>\n",
              "  </div>\n",
              "  "
            ]
          },
          "metadata": {},
          "execution_count": 139
        }
      ]
    },
    {
      "cell_type": "code",
      "source": [
        "esthouse2.rename(columns={'ประเมินราคาซื้อ-ขาย' :'ประเมินโดย 2'}, inplace=True)"
      ],
      "metadata": {
        "id": "xLocgYL4h9_-",
        "outputId": "c5510677-5b78-4ccc-fb66-6b74895cd0d8",
        "colab": {
          "base_uri": "https://localhost:8080/"
        }
      },
      "execution_count": 140,
      "outputs": [
        {
          "output_type": "stream",
          "name": "stderr",
          "text": [
            "/usr/local/lib/python3.8/dist-packages/pandas/core/frame.py:5039: SettingWithCopyWarning: \n",
            "A value is trying to be set on a copy of a slice from a DataFrame\n",
            "\n",
            "See the caveats in the documentation: https://pandas.pydata.org/pandas-docs/stable/user_guide/indexing.html#returning-a-view-versus-a-copy\n",
            "  return super().rename(\n"
          ]
        }
      ]
    },
    {
      "cell_type": "code",
      "source": [
        "asshouse = esthouse2[['post id','ราคาทรัพย์','ประเมินโดย 1','ประเมินโดย 2']]\n",
        "asshouse = asshouse.dropna(subset=['ราคาทรัพย์','ประเมินโดย 1','ประเมินโดย 2'])\n",
        "asshouse\n",
        "asshouse"
      ],
      "metadata": {
        "id": "AelSWi7giCjV",
        "outputId": "2e2fa3f2-5bea-4fb0-dcdb-ee4bbb644b3e",
        "colab": {
          "base_uri": "https://localhost:8080/",
          "height": 424
        }
      },
      "execution_count": 141,
      "outputs": [
        {
          "output_type": "execute_result",
          "data": {
            "text/plain": [
              "                                   post id  ราคาทรัพย์  ประเมินโดย 1  \\\n",
              "1       https://nayoo.co/khonkaen/posts/25     2890000     2500000.0   \n",
              "3       https://nayoo.co/khonkaen/posts/33     2600000     2200000.0   \n",
              "5      https://nayoo.co/khonkaen/posts/495     6050000     5000000.0   \n",
              "7      https://nayoo.co/khonkaen/posts/564     4400000     3500000.0   \n",
              "9      https://nayoo.co/khonkaen/posts/566     2750000     2500000.0   \n",
              "...                                    ...         ...           ...   \n",
              "1210  https://nayoo.co/khonkaen/posts/6255      260000      550000.0   \n",
              "1212  https://nayoo.co/khonkaen/posts/6256      610000      700000.0   \n",
              "1214  https://nayoo.co/khonkaen/posts/6257      295000      500000.0   \n",
              "1216  https://nayoo.co/khonkaen/posts/6258      615000      600000.0   \n",
              "1218  https://nayoo.co/khonkaen/posts/6260      620000      750000.0   \n",
              "\n",
              "      ประเมินโดย 2  \n",
              "1        2700000.0  \n",
              "3        2400000.0  \n",
              "5        9000000.0  \n",
              "7        3700000.0  \n",
              "9        2500000.0  \n",
              "...            ...  \n",
              "1210      300000.0  \n",
              "1212      500000.0  \n",
              "1214      300000.0  \n",
              "1216      500000.0  \n",
              "1218      700000.0  \n",
              "\n",
              "[498 rows x 4 columns]"
            ],
            "text/html": [
              "\n",
              "  <div id=\"df-4a706027-1fbb-43a8-9b35-47b9a519758f\">\n",
              "    <div class=\"colab-df-container\">\n",
              "      <div>\n",
              "<style scoped>\n",
              "    .dataframe tbody tr th:only-of-type {\n",
              "        vertical-align: middle;\n",
              "    }\n",
              "\n",
              "    .dataframe tbody tr th {\n",
              "        vertical-align: top;\n",
              "    }\n",
              "\n",
              "    .dataframe thead th {\n",
              "        text-align: right;\n",
              "    }\n",
              "</style>\n",
              "<table border=\"1\" class=\"dataframe\">\n",
              "  <thead>\n",
              "    <tr style=\"text-align: right;\">\n",
              "      <th></th>\n",
              "      <th>post id</th>\n",
              "      <th>ราคาทรัพย์</th>\n",
              "      <th>ประเมินโดย 1</th>\n",
              "      <th>ประเมินโดย 2</th>\n",
              "    </tr>\n",
              "  </thead>\n",
              "  <tbody>\n",
              "    <tr>\n",
              "      <th>1</th>\n",
              "      <td>https://nayoo.co/khonkaen/posts/25</td>\n",
              "      <td>2890000</td>\n",
              "      <td>2500000.0</td>\n",
              "      <td>2700000.0</td>\n",
              "    </tr>\n",
              "    <tr>\n",
              "      <th>3</th>\n",
              "      <td>https://nayoo.co/khonkaen/posts/33</td>\n",
              "      <td>2600000</td>\n",
              "      <td>2200000.0</td>\n",
              "      <td>2400000.0</td>\n",
              "    </tr>\n",
              "    <tr>\n",
              "      <th>5</th>\n",
              "      <td>https://nayoo.co/khonkaen/posts/495</td>\n",
              "      <td>6050000</td>\n",
              "      <td>5000000.0</td>\n",
              "      <td>9000000.0</td>\n",
              "    </tr>\n",
              "    <tr>\n",
              "      <th>7</th>\n",
              "      <td>https://nayoo.co/khonkaen/posts/564</td>\n",
              "      <td>4400000</td>\n",
              "      <td>3500000.0</td>\n",
              "      <td>3700000.0</td>\n",
              "    </tr>\n",
              "    <tr>\n",
              "      <th>9</th>\n",
              "      <td>https://nayoo.co/khonkaen/posts/566</td>\n",
              "      <td>2750000</td>\n",
              "      <td>2500000.0</td>\n",
              "      <td>2500000.0</td>\n",
              "    </tr>\n",
              "    <tr>\n",
              "      <th>...</th>\n",
              "      <td>...</td>\n",
              "      <td>...</td>\n",
              "      <td>...</td>\n",
              "      <td>...</td>\n",
              "    </tr>\n",
              "    <tr>\n",
              "      <th>1210</th>\n",
              "      <td>https://nayoo.co/khonkaen/posts/6255</td>\n",
              "      <td>260000</td>\n",
              "      <td>550000.0</td>\n",
              "      <td>300000.0</td>\n",
              "    </tr>\n",
              "    <tr>\n",
              "      <th>1212</th>\n",
              "      <td>https://nayoo.co/khonkaen/posts/6256</td>\n",
              "      <td>610000</td>\n",
              "      <td>700000.0</td>\n",
              "      <td>500000.0</td>\n",
              "    </tr>\n",
              "    <tr>\n",
              "      <th>1214</th>\n",
              "      <td>https://nayoo.co/khonkaen/posts/6257</td>\n",
              "      <td>295000</td>\n",
              "      <td>500000.0</td>\n",
              "      <td>300000.0</td>\n",
              "    </tr>\n",
              "    <tr>\n",
              "      <th>1216</th>\n",
              "      <td>https://nayoo.co/khonkaen/posts/6258</td>\n",
              "      <td>615000</td>\n",
              "      <td>600000.0</td>\n",
              "      <td>500000.0</td>\n",
              "    </tr>\n",
              "    <tr>\n",
              "      <th>1218</th>\n",
              "      <td>https://nayoo.co/khonkaen/posts/6260</td>\n",
              "      <td>620000</td>\n",
              "      <td>750000.0</td>\n",
              "      <td>700000.0</td>\n",
              "    </tr>\n",
              "  </tbody>\n",
              "</table>\n",
              "<p>498 rows × 4 columns</p>\n",
              "</div>\n",
              "      <button class=\"colab-df-convert\" onclick=\"convertToInteractive('df-4a706027-1fbb-43a8-9b35-47b9a519758f')\"\n",
              "              title=\"Convert this dataframe to an interactive table.\"\n",
              "              style=\"display:none;\">\n",
              "        \n",
              "  <svg xmlns=\"http://www.w3.org/2000/svg\" height=\"24px\"viewBox=\"0 0 24 24\"\n",
              "       width=\"24px\">\n",
              "    <path d=\"M0 0h24v24H0V0z\" fill=\"none\"/>\n",
              "    <path d=\"M18.56 5.44l.94 2.06.94-2.06 2.06-.94-2.06-.94-.94-2.06-.94 2.06-2.06.94zm-11 1L8.5 8.5l.94-2.06 2.06-.94-2.06-.94L8.5 2.5l-.94 2.06-2.06.94zm10 10l.94 2.06.94-2.06 2.06-.94-2.06-.94-.94-2.06-.94 2.06-2.06.94z\"/><path d=\"M17.41 7.96l-1.37-1.37c-.4-.4-.92-.59-1.43-.59-.52 0-1.04.2-1.43.59L10.3 9.45l-7.72 7.72c-.78.78-.78 2.05 0 2.83L4 21.41c.39.39.9.59 1.41.59.51 0 1.02-.2 1.41-.59l7.78-7.78 2.81-2.81c.8-.78.8-2.07 0-2.86zM5.41 20L4 18.59l7.72-7.72 1.47 1.35L5.41 20z\"/>\n",
              "  </svg>\n",
              "      </button>\n",
              "      \n",
              "  <style>\n",
              "    .colab-df-container {\n",
              "      display:flex;\n",
              "      flex-wrap:wrap;\n",
              "      gap: 12px;\n",
              "    }\n",
              "\n",
              "    .colab-df-convert {\n",
              "      background-color: #E8F0FE;\n",
              "      border: none;\n",
              "      border-radius: 50%;\n",
              "      cursor: pointer;\n",
              "      display: none;\n",
              "      fill: #1967D2;\n",
              "      height: 32px;\n",
              "      padding: 0 0 0 0;\n",
              "      width: 32px;\n",
              "    }\n",
              "\n",
              "    .colab-df-convert:hover {\n",
              "      background-color: #E2EBFA;\n",
              "      box-shadow: 0px 1px 2px rgba(60, 64, 67, 0.3), 0px 1px 3px 1px rgba(60, 64, 67, 0.15);\n",
              "      fill: #174EA6;\n",
              "    }\n",
              "\n",
              "    [theme=dark] .colab-df-convert {\n",
              "      background-color: #3B4455;\n",
              "      fill: #D2E3FC;\n",
              "    }\n",
              "\n",
              "    [theme=dark] .colab-df-convert:hover {\n",
              "      background-color: #434B5C;\n",
              "      box-shadow: 0px 1px 3px 1px rgba(0, 0, 0, 0.15);\n",
              "      filter: drop-shadow(0px 1px 2px rgba(0, 0, 0, 0.3));\n",
              "      fill: #FFFFFF;\n",
              "    }\n",
              "  </style>\n",
              "\n",
              "      <script>\n",
              "        const buttonEl =\n",
              "          document.querySelector('#df-4a706027-1fbb-43a8-9b35-47b9a519758f button.colab-df-convert');\n",
              "        buttonEl.style.display =\n",
              "          google.colab.kernel.accessAllowed ? 'block' : 'none';\n",
              "\n",
              "        async function convertToInteractive(key) {\n",
              "          const element = document.querySelector('#df-4a706027-1fbb-43a8-9b35-47b9a519758f');\n",
              "          const dataTable =\n",
              "            await google.colab.kernel.invokeFunction('convertToInteractive',\n",
              "                                                     [key], {});\n",
              "          if (!dataTable) return;\n",
              "\n",
              "          const docLinkHtml = 'Like what you see? Visit the ' +\n",
              "            '<a target=\"_blank\" href=https://colab.research.google.com/notebooks/data_table.ipynb>data table notebook</a>'\n",
              "            + ' to learn more about interactive tables.';\n",
              "          element.innerHTML = '';\n",
              "          dataTable['output_type'] = 'display_data';\n",
              "          await google.colab.output.renderOutput(dataTable, element);\n",
              "          const docLink = document.createElement('div');\n",
              "          docLink.innerHTML = docLinkHtml;\n",
              "          element.appendChild(docLink);\n",
              "        }\n",
              "      </script>\n",
              "    </div>\n",
              "  </div>\n",
              "  "
            ]
          },
          "metadata": {},
          "execution_count": 141
        }
      ]
    },
    {
      "cell_type": "markdown",
      "source": [
        "check missing"
      ],
      "metadata": {
        "id": "WN9CBx_iihTc"
      }
    },
    {
      "cell_type": "code",
      "source": [
        "asshouse.isnull().any()"
      ],
      "metadata": {
        "id": "R6jhbBJ2inzo",
        "outputId": "bf830ef9-f76a-4a8b-9239-b1d4b824b667",
        "colab": {
          "base_uri": "https://localhost:8080/"
        }
      },
      "execution_count": 142,
      "outputs": [
        {
          "output_type": "execute_result",
          "data": {
            "text/plain": [
              "post id         False\n",
              "ราคาทรัพย์      False\n",
              "ประเมินโดย 1    False\n",
              "ประเมินโดย 2    False\n",
              "dtype: bool"
            ]
          },
          "metadata": {},
          "execution_count": 142
        }
      ]
    },
    {
      "cell_type": "markdown",
      "source": [
        "##Mape house"
      ],
      "metadata": {
        "id": "MoIxl3gOitDi"
      }
    },
    {
      "cell_type": "code",
      "source": [
        "actual_h = asshouse[['ราคาทรัพย์']]\n",
        "pred_1h = asshouse[['ประเมินโดย 1']]\n",
        "pred_2h= asshouse[['ประเมินโดย 2']]"
      ],
      "metadata": {
        "id": "BSeyDQ7LiwFz"
      },
      "execution_count": 143,
      "outputs": []
    },
    {
      "cell_type": "code",
      "source": [
        "mph1 = mape(actual_h,pred_1h)\n",
        "mph2 = mape(actual_h,pred_2h)\n",
        "mph12 = mape(pred_1h,pred_2h)"
      ],
      "metadata": {
        "id": "XvShi3XHi1Zq"
      },
      "execution_count": 144,
      "outputs": []
    },
    {
      "cell_type": "code",
      "source": [
        "print(f' MAPE ราคาทรัพย์กับผู้ประเมินคนที่ 1 คือ {mph1:.2f}\\n MAPE ราคาทรัพย์กับผู้ประเมินคนที่ 2 คือ {mph2:.2f}\\n MAPE ราคาตั้งขายของผู้ประเมินคนที่ 1 กับ ผู้ประเมินคนที่ 2 คือ {mph12:.2f}')"
      ],
      "metadata": {
        "id": "XrHUuq87jJOu",
        "outputId": "6e9de8d9-ee36-45fd-92ae-139db43e725c",
        "colab": {
          "base_uri": "https://localhost:8080/"
        }
      },
      "execution_count": 145,
      "outputs": [
        {
          "output_type": "stream",
          "name": "stdout",
          "text": [
            " MAPE ราคาทรัพย์กับผู้ประเมินคนที่ 1 คือ 0.12\n",
            " MAPE ราคาทรัพย์กับผู้ประเมินคนที่ 2 คือ 0.14\n",
            " MAPE ราคาตั้งขายของผู้ประเมินคนที่ 1 กับ ผู้ประเมินคนที่ 2 คือ 0.17\n"
          ]
        }
      ]
    },
    {
      "cell_type": "markdown",
      "source": [
        "#Land"
      ],
      "metadata": {
        "id": "MMhrPL_mjQ4j"
      }
    },
    {
      "cell_type": "code",
      "source": [
        "estland2['ประเมินโดย 1'] = estland2['post id'].map(estland.set_index('post id')['ประเมินราคาซื้อ-ขาย'])"
      ],
      "metadata": {
        "id": "H8kGDUa3jS-z",
        "outputId": "8b92d347-1140-479d-e933-1962a9ece756",
        "colab": {
          "base_uri": "https://localhost:8080/"
        }
      },
      "execution_count": 146,
      "outputs": [
        {
          "output_type": "stream",
          "name": "stderr",
          "text": [
            "<ipython-input-146-28262e369d4c>:1: SettingWithCopyWarning: \n",
            "A value is trying to be set on a copy of a slice from a DataFrame.\n",
            "Try using .loc[row_indexer,col_indexer] = value instead\n",
            "\n",
            "See the caveats in the documentation: https://pandas.pydata.org/pandas-docs/stable/user_guide/indexing.html#returning-a-view-versus-a-copy\n",
            "  estland2['ประเมินโดย 1'] = estland2['post id'].map(estland.set_index('post id')['ประเมินราคาซื้อ-ขาย'])\n"
          ]
        }
      ]
    },
    {
      "cell_type": "code",
      "source": [
        "estland2.rename(columns={'ประเมินราคาซื้อ-ขาย' :'ประเมินโดย 2'}, inplace=True)"
      ],
      "metadata": {
        "id": "kR4aGXswjUyt",
        "outputId": "3679c6c9-cf4f-440f-917b-e6d687209291",
        "colab": {
          "base_uri": "https://localhost:8080/"
        }
      },
      "execution_count": 147,
      "outputs": [
        {
          "output_type": "stream",
          "name": "stderr",
          "text": [
            "/usr/local/lib/python3.8/dist-packages/pandas/core/frame.py:5039: SettingWithCopyWarning: \n",
            "A value is trying to be set on a copy of a slice from a DataFrame\n",
            "\n",
            "See the caveats in the documentation: https://pandas.pydata.org/pandas-docs/stable/user_guide/indexing.html#returning-a-view-versus-a-copy\n",
            "  return super().rename(\n"
          ]
        }
      ]
    },
    {
      "cell_type": "code",
      "source": [
        "assland = estland2[['post id','ราคาทรัพย์','ประเมินโดย 1','ประเมินโดย 2']]\n",
        "assland"
      ],
      "metadata": {
        "id": "_p3zX91FjWVw",
        "outputId": "e6c34e93-bf38-4585-eeb8-7bb742ba2865",
        "colab": {
          "base_uri": "https://localhost:8080/",
          "height": 424
        }
      },
      "execution_count": 148,
      "outputs": [
        {
          "output_type": "execute_result",
          "data": {
            "text/plain": [
              "                                   post id  ราคาทรัพย์  ประเมินโดย 1  \\\n",
              "1     https://nayoo.co/khonkaen/posts/1033     2800000     1800000.0   \n",
              "4     https://nayoo.co/khonkaen/posts/1711    14900000     8000000.0   \n",
              "7     https://nayoo.co/khonkaen/posts/1726    90000000    18000000.0   \n",
              "10    https://nayoo.co/khonkaen/posts/1732    65000000    35000000.0   \n",
              "13    https://nayoo.co/khonkaen/posts/1866     3000000     2200000.0   \n",
              "..                                     ...         ...           ...   \n",
              "200  https://nayoo.co/khonkaen/posts/14539     5000000     4000000.0   \n",
              "202  https://nayoo.co/khonkaen/posts/16072      750000      500000.0   \n",
              "204  https://nayoo.co/khonkaen/posts/17093     2650000     2000000.0   \n",
              "206  https://nayoo.co/khonkaen/posts/17112     1300000     1500000.0   \n",
              "208  https://nayoo.co/khonkaen/posts/17145     3000000     2500000.0   \n",
              "\n",
              "     ประเมินโดย 2  \n",
              "1       2000000.0  \n",
              "4      12000000.0  \n",
              "7      70000000.0  \n",
              "10     60000000.0  \n",
              "13      2500000.0  \n",
              "..            ...  \n",
              "200     4000000.0  \n",
              "202      750000.0  \n",
              "204     2500000.0  \n",
              "206     1500000.0  \n",
              "208     2800000.0  \n",
              "\n",
              "[100 rows x 4 columns]"
            ],
            "text/html": [
              "\n",
              "  <div id=\"df-daea8925-2b52-4593-9b88-fd56d76e8244\">\n",
              "    <div class=\"colab-df-container\">\n",
              "      <div>\n",
              "<style scoped>\n",
              "    .dataframe tbody tr th:only-of-type {\n",
              "        vertical-align: middle;\n",
              "    }\n",
              "\n",
              "    .dataframe tbody tr th {\n",
              "        vertical-align: top;\n",
              "    }\n",
              "\n",
              "    .dataframe thead th {\n",
              "        text-align: right;\n",
              "    }\n",
              "</style>\n",
              "<table border=\"1\" class=\"dataframe\">\n",
              "  <thead>\n",
              "    <tr style=\"text-align: right;\">\n",
              "      <th></th>\n",
              "      <th>post id</th>\n",
              "      <th>ราคาทรัพย์</th>\n",
              "      <th>ประเมินโดย 1</th>\n",
              "      <th>ประเมินโดย 2</th>\n",
              "    </tr>\n",
              "  </thead>\n",
              "  <tbody>\n",
              "    <tr>\n",
              "      <th>1</th>\n",
              "      <td>https://nayoo.co/khonkaen/posts/1033</td>\n",
              "      <td>2800000</td>\n",
              "      <td>1800000.0</td>\n",
              "      <td>2000000.0</td>\n",
              "    </tr>\n",
              "    <tr>\n",
              "      <th>4</th>\n",
              "      <td>https://nayoo.co/khonkaen/posts/1711</td>\n",
              "      <td>14900000</td>\n",
              "      <td>8000000.0</td>\n",
              "      <td>12000000.0</td>\n",
              "    </tr>\n",
              "    <tr>\n",
              "      <th>7</th>\n",
              "      <td>https://nayoo.co/khonkaen/posts/1726</td>\n",
              "      <td>90000000</td>\n",
              "      <td>18000000.0</td>\n",
              "      <td>70000000.0</td>\n",
              "    </tr>\n",
              "    <tr>\n",
              "      <th>10</th>\n",
              "      <td>https://nayoo.co/khonkaen/posts/1732</td>\n",
              "      <td>65000000</td>\n",
              "      <td>35000000.0</td>\n",
              "      <td>60000000.0</td>\n",
              "    </tr>\n",
              "    <tr>\n",
              "      <th>13</th>\n",
              "      <td>https://nayoo.co/khonkaen/posts/1866</td>\n",
              "      <td>3000000</td>\n",
              "      <td>2200000.0</td>\n",
              "      <td>2500000.0</td>\n",
              "    </tr>\n",
              "    <tr>\n",
              "      <th>...</th>\n",
              "      <td>...</td>\n",
              "      <td>...</td>\n",
              "      <td>...</td>\n",
              "      <td>...</td>\n",
              "    </tr>\n",
              "    <tr>\n",
              "      <th>200</th>\n",
              "      <td>https://nayoo.co/khonkaen/posts/14539</td>\n",
              "      <td>5000000</td>\n",
              "      <td>4000000.0</td>\n",
              "      <td>4000000.0</td>\n",
              "    </tr>\n",
              "    <tr>\n",
              "      <th>202</th>\n",
              "      <td>https://nayoo.co/khonkaen/posts/16072</td>\n",
              "      <td>750000</td>\n",
              "      <td>500000.0</td>\n",
              "      <td>750000.0</td>\n",
              "    </tr>\n",
              "    <tr>\n",
              "      <th>204</th>\n",
              "      <td>https://nayoo.co/khonkaen/posts/17093</td>\n",
              "      <td>2650000</td>\n",
              "      <td>2000000.0</td>\n",
              "      <td>2500000.0</td>\n",
              "    </tr>\n",
              "    <tr>\n",
              "      <th>206</th>\n",
              "      <td>https://nayoo.co/khonkaen/posts/17112</td>\n",
              "      <td>1300000</td>\n",
              "      <td>1500000.0</td>\n",
              "      <td>1500000.0</td>\n",
              "    </tr>\n",
              "    <tr>\n",
              "      <th>208</th>\n",
              "      <td>https://nayoo.co/khonkaen/posts/17145</td>\n",
              "      <td>3000000</td>\n",
              "      <td>2500000.0</td>\n",
              "      <td>2800000.0</td>\n",
              "    </tr>\n",
              "  </tbody>\n",
              "</table>\n",
              "<p>100 rows × 4 columns</p>\n",
              "</div>\n",
              "      <button class=\"colab-df-convert\" onclick=\"convertToInteractive('df-daea8925-2b52-4593-9b88-fd56d76e8244')\"\n",
              "              title=\"Convert this dataframe to an interactive table.\"\n",
              "              style=\"display:none;\">\n",
              "        \n",
              "  <svg xmlns=\"http://www.w3.org/2000/svg\" height=\"24px\"viewBox=\"0 0 24 24\"\n",
              "       width=\"24px\">\n",
              "    <path d=\"M0 0h24v24H0V0z\" fill=\"none\"/>\n",
              "    <path d=\"M18.56 5.44l.94 2.06.94-2.06 2.06-.94-2.06-.94-.94-2.06-.94 2.06-2.06.94zm-11 1L8.5 8.5l.94-2.06 2.06-.94-2.06-.94L8.5 2.5l-.94 2.06-2.06.94zm10 10l.94 2.06.94-2.06 2.06-.94-2.06-.94-.94-2.06-.94 2.06-2.06.94z\"/><path d=\"M17.41 7.96l-1.37-1.37c-.4-.4-.92-.59-1.43-.59-.52 0-1.04.2-1.43.59L10.3 9.45l-7.72 7.72c-.78.78-.78 2.05 0 2.83L4 21.41c.39.39.9.59 1.41.59.51 0 1.02-.2 1.41-.59l7.78-7.78 2.81-2.81c.8-.78.8-2.07 0-2.86zM5.41 20L4 18.59l7.72-7.72 1.47 1.35L5.41 20z\"/>\n",
              "  </svg>\n",
              "      </button>\n",
              "      \n",
              "  <style>\n",
              "    .colab-df-container {\n",
              "      display:flex;\n",
              "      flex-wrap:wrap;\n",
              "      gap: 12px;\n",
              "    }\n",
              "\n",
              "    .colab-df-convert {\n",
              "      background-color: #E8F0FE;\n",
              "      border: none;\n",
              "      border-radius: 50%;\n",
              "      cursor: pointer;\n",
              "      display: none;\n",
              "      fill: #1967D2;\n",
              "      height: 32px;\n",
              "      padding: 0 0 0 0;\n",
              "      width: 32px;\n",
              "    }\n",
              "\n",
              "    .colab-df-convert:hover {\n",
              "      background-color: #E2EBFA;\n",
              "      box-shadow: 0px 1px 2px rgba(60, 64, 67, 0.3), 0px 1px 3px 1px rgba(60, 64, 67, 0.15);\n",
              "      fill: #174EA6;\n",
              "    }\n",
              "\n",
              "    [theme=dark] .colab-df-convert {\n",
              "      background-color: #3B4455;\n",
              "      fill: #D2E3FC;\n",
              "    }\n",
              "\n",
              "    [theme=dark] .colab-df-convert:hover {\n",
              "      background-color: #434B5C;\n",
              "      box-shadow: 0px 1px 3px 1px rgba(0, 0, 0, 0.15);\n",
              "      filter: drop-shadow(0px 1px 2px rgba(0, 0, 0, 0.3));\n",
              "      fill: #FFFFFF;\n",
              "    }\n",
              "  </style>\n",
              "\n",
              "      <script>\n",
              "        const buttonEl =\n",
              "          document.querySelector('#df-daea8925-2b52-4593-9b88-fd56d76e8244 button.colab-df-convert');\n",
              "        buttonEl.style.display =\n",
              "          google.colab.kernel.accessAllowed ? 'block' : 'none';\n",
              "\n",
              "        async function convertToInteractive(key) {\n",
              "          const element = document.querySelector('#df-daea8925-2b52-4593-9b88-fd56d76e8244');\n",
              "          const dataTable =\n",
              "            await google.colab.kernel.invokeFunction('convertToInteractive',\n",
              "                                                     [key], {});\n",
              "          if (!dataTable) return;\n",
              "\n",
              "          const docLinkHtml = 'Like what you see? Visit the ' +\n",
              "            '<a target=\"_blank\" href=https://colab.research.google.com/notebooks/data_table.ipynb>data table notebook</a>'\n",
              "            + ' to learn more about interactive tables.';\n",
              "          element.innerHTML = '';\n",
              "          dataTable['output_type'] = 'display_data';\n",
              "          await google.colab.output.renderOutput(dataTable, element);\n",
              "          const docLink = document.createElement('div');\n",
              "          docLink.innerHTML = docLinkHtml;\n",
              "          element.appendChild(docLink);\n",
              "        }\n",
              "      </script>\n",
              "    </div>\n",
              "  </div>\n",
              "  "
            ]
          },
          "metadata": {},
          "execution_count": 148
        }
      ]
    },
    {
      "cell_type": "markdown",
      "source": [
        "check missing"
      ],
      "metadata": {
        "id": "XDxLILGUjvmB"
      }
    },
    {
      "cell_type": "code",
      "source": [
        "assland.isnull().any()"
      ],
      "metadata": {
        "id": "JckYP1mBjyIr",
        "outputId": "a3e0723a-7040-4362-9f6f-0624bcee3846",
        "colab": {
          "base_uri": "https://localhost:8080/"
        }
      },
      "execution_count": 149,
      "outputs": [
        {
          "output_type": "execute_result",
          "data": {
            "text/plain": [
              "post id         False\n",
              "ราคาทรัพย์      False\n",
              "ประเมินโดย 1    False\n",
              "ประเมินโดย 2    False\n",
              "dtype: bool"
            ]
          },
          "metadata": {},
          "execution_count": 149
        }
      ]
    },
    {
      "cell_type": "markdown",
      "source": [
        "##Mape land"
      ],
      "metadata": {
        "id": "FFrwFPQyj9Xa"
      }
    },
    {
      "cell_type": "code",
      "source": [
        "actual_l = assland[['ราคาทรัพย์']]\n",
        "pred_1l = assland[['ประเมินโดย 1']]\n",
        "pred_2l = assland[['ประเมินโดย 2']]"
      ],
      "metadata": {
        "id": "LpFtz1Ukj_RG"
      },
      "execution_count": 150,
      "outputs": []
    },
    {
      "cell_type": "code",
      "source": [
        "mpl1 = mape(actual_l,pred_1l)\n",
        "mpl2 = mape(actual_l,pred_2l)\n",
        "mpl12 = mape(pred_1l,pred_2l)"
      ],
      "metadata": {
        "id": "n_zvxNA-kDhZ"
      },
      "execution_count": 151,
      "outputs": []
    },
    {
      "cell_type": "code",
      "source": [
        "print(f' MAPE ราคาทรัพย์กับผู้ประเมินคนที่ 1 คือ {mpl1:.2f}\\n MAPE ราคาทรัพย์กับผู้ประเมินคนที่ 2 คือ {mpl2:.2f}\\n MAPE ราคาตั้งขายของผู้ประเมินคนที่ 1 กับ ผู้ประเมินคนที่ 2 คือ {mpl12:.2f}')"
      ],
      "metadata": {
        "id": "vXiGbjJ9kFif",
        "outputId": "acaf46d1-6c58-412a-ac43-2f1e9cea6a05",
        "colab": {
          "base_uri": "https://localhost:8080/"
        }
      },
      "execution_count": 152,
      "outputs": [
        {
          "output_type": "stream",
          "name": "stdout",
          "text": [
            " MAPE ราคาทรัพย์กับผู้ประเมินคนที่ 1 คือ 0.41\n",
            " MAPE ราคาทรัพย์กับผู้ประเมินคนที่ 2 คือ 0.40\n",
            " MAPE ราคาตั้งขายของผู้ประเมินคนที่ 1 กับ ผู้ประเมินคนที่ 2 คือ 0.74\n"
          ]
        }
      ]
    },
    {
      "cell_type": "markdown",
      "source": [
        "#Condo"
      ],
      "metadata": {
        "id": "7v-QWhzgkX30"
      }
    },
    {
      "cell_type": "code",
      "source": [
        "condo.rename(columns={'ประเมินราคาซื้อ-ขาย' :'ประเมินโดย 1'}, inplace=True)"
      ],
      "metadata": {
        "id": "0R5cZN4GkZm_"
      },
      "execution_count": 153,
      "outputs": []
    },
    {
      "cell_type": "code",
      "source": [
        "asscondo = condo[['post id','ราคาทรัพย์','ประเมินโดย 1']]\n",
        "asscondo"
      ],
      "metadata": {
        "id": "V--_fdI_khYD",
        "outputId": "152a2902-8da4-49b9-a203-baddf74bebf9",
        "colab": {
          "base_uri": "https://localhost:8080/",
          "height": 363
        }
      },
      "execution_count": 154,
      "outputs": [
        {
          "output_type": "execute_result",
          "data": {
            "text/plain": [
              "   post id  ราคาทรัพย์  ประเมินโดย 1\n",
              "0     32.0     3500000     3500000.0\n",
              "1     36.0     1930000     2200000.0\n",
              "2    603.0     2438000     2800000.0\n",
              "3   1395.0     1600000     2300000.0\n",
              "4   1443.0     1860000     1800000.0\n",
              "5   1609.0     1490000     1500000.0\n",
              "6   1640.0     1280000     1600000.0\n",
              "7   1641.0     4290000     2700000.0\n",
              "8   1650.0     1700000     1550000.0\n",
              "9   1840.0     3790000     2800000.0"
            ],
            "text/html": [
              "\n",
              "  <div id=\"df-41181c24-78d4-4bf4-8ad1-7805184b75bc\">\n",
              "    <div class=\"colab-df-container\">\n",
              "      <div>\n",
              "<style scoped>\n",
              "    .dataframe tbody tr th:only-of-type {\n",
              "        vertical-align: middle;\n",
              "    }\n",
              "\n",
              "    .dataframe tbody tr th {\n",
              "        vertical-align: top;\n",
              "    }\n",
              "\n",
              "    .dataframe thead th {\n",
              "        text-align: right;\n",
              "    }\n",
              "</style>\n",
              "<table border=\"1\" class=\"dataframe\">\n",
              "  <thead>\n",
              "    <tr style=\"text-align: right;\">\n",
              "      <th></th>\n",
              "      <th>post id</th>\n",
              "      <th>ราคาทรัพย์</th>\n",
              "      <th>ประเมินโดย 1</th>\n",
              "    </tr>\n",
              "  </thead>\n",
              "  <tbody>\n",
              "    <tr>\n",
              "      <th>0</th>\n",
              "      <td>32.0</td>\n",
              "      <td>3500000</td>\n",
              "      <td>3500000.0</td>\n",
              "    </tr>\n",
              "    <tr>\n",
              "      <th>1</th>\n",
              "      <td>36.0</td>\n",
              "      <td>1930000</td>\n",
              "      <td>2200000.0</td>\n",
              "    </tr>\n",
              "    <tr>\n",
              "      <th>2</th>\n",
              "      <td>603.0</td>\n",
              "      <td>2438000</td>\n",
              "      <td>2800000.0</td>\n",
              "    </tr>\n",
              "    <tr>\n",
              "      <th>3</th>\n",
              "      <td>1395.0</td>\n",
              "      <td>1600000</td>\n",
              "      <td>2300000.0</td>\n",
              "    </tr>\n",
              "    <tr>\n",
              "      <th>4</th>\n",
              "      <td>1443.0</td>\n",
              "      <td>1860000</td>\n",
              "      <td>1800000.0</td>\n",
              "    </tr>\n",
              "    <tr>\n",
              "      <th>5</th>\n",
              "      <td>1609.0</td>\n",
              "      <td>1490000</td>\n",
              "      <td>1500000.0</td>\n",
              "    </tr>\n",
              "    <tr>\n",
              "      <th>6</th>\n",
              "      <td>1640.0</td>\n",
              "      <td>1280000</td>\n",
              "      <td>1600000.0</td>\n",
              "    </tr>\n",
              "    <tr>\n",
              "      <th>7</th>\n",
              "      <td>1641.0</td>\n",
              "      <td>4290000</td>\n",
              "      <td>2700000.0</td>\n",
              "    </tr>\n",
              "    <tr>\n",
              "      <th>8</th>\n",
              "      <td>1650.0</td>\n",
              "      <td>1700000</td>\n",
              "      <td>1550000.0</td>\n",
              "    </tr>\n",
              "    <tr>\n",
              "      <th>9</th>\n",
              "      <td>1840.0</td>\n",
              "      <td>3790000</td>\n",
              "      <td>2800000.0</td>\n",
              "    </tr>\n",
              "  </tbody>\n",
              "</table>\n",
              "</div>\n",
              "      <button class=\"colab-df-convert\" onclick=\"convertToInteractive('df-41181c24-78d4-4bf4-8ad1-7805184b75bc')\"\n",
              "              title=\"Convert this dataframe to an interactive table.\"\n",
              "              style=\"display:none;\">\n",
              "        \n",
              "  <svg xmlns=\"http://www.w3.org/2000/svg\" height=\"24px\"viewBox=\"0 0 24 24\"\n",
              "       width=\"24px\">\n",
              "    <path d=\"M0 0h24v24H0V0z\" fill=\"none\"/>\n",
              "    <path d=\"M18.56 5.44l.94 2.06.94-2.06 2.06-.94-2.06-.94-.94-2.06-.94 2.06-2.06.94zm-11 1L8.5 8.5l.94-2.06 2.06-.94-2.06-.94L8.5 2.5l-.94 2.06-2.06.94zm10 10l.94 2.06.94-2.06 2.06-.94-2.06-.94-.94-2.06-.94 2.06-2.06.94z\"/><path d=\"M17.41 7.96l-1.37-1.37c-.4-.4-.92-.59-1.43-.59-.52 0-1.04.2-1.43.59L10.3 9.45l-7.72 7.72c-.78.78-.78 2.05 0 2.83L4 21.41c.39.39.9.59 1.41.59.51 0 1.02-.2 1.41-.59l7.78-7.78 2.81-2.81c.8-.78.8-2.07 0-2.86zM5.41 20L4 18.59l7.72-7.72 1.47 1.35L5.41 20z\"/>\n",
              "  </svg>\n",
              "      </button>\n",
              "      \n",
              "  <style>\n",
              "    .colab-df-container {\n",
              "      display:flex;\n",
              "      flex-wrap:wrap;\n",
              "      gap: 12px;\n",
              "    }\n",
              "\n",
              "    .colab-df-convert {\n",
              "      background-color: #E8F0FE;\n",
              "      border: none;\n",
              "      border-radius: 50%;\n",
              "      cursor: pointer;\n",
              "      display: none;\n",
              "      fill: #1967D2;\n",
              "      height: 32px;\n",
              "      padding: 0 0 0 0;\n",
              "      width: 32px;\n",
              "    }\n",
              "\n",
              "    .colab-df-convert:hover {\n",
              "      background-color: #E2EBFA;\n",
              "      box-shadow: 0px 1px 2px rgba(60, 64, 67, 0.3), 0px 1px 3px 1px rgba(60, 64, 67, 0.15);\n",
              "      fill: #174EA6;\n",
              "    }\n",
              "\n",
              "    [theme=dark] .colab-df-convert {\n",
              "      background-color: #3B4455;\n",
              "      fill: #D2E3FC;\n",
              "    }\n",
              "\n",
              "    [theme=dark] .colab-df-convert:hover {\n",
              "      background-color: #434B5C;\n",
              "      box-shadow: 0px 1px 3px 1px rgba(0, 0, 0, 0.15);\n",
              "      filter: drop-shadow(0px 1px 2px rgba(0, 0, 0, 0.3));\n",
              "      fill: #FFFFFF;\n",
              "    }\n",
              "  </style>\n",
              "\n",
              "      <script>\n",
              "        const buttonEl =\n",
              "          document.querySelector('#df-41181c24-78d4-4bf4-8ad1-7805184b75bc button.colab-df-convert');\n",
              "        buttonEl.style.display =\n",
              "          google.colab.kernel.accessAllowed ? 'block' : 'none';\n",
              "\n",
              "        async function convertToInteractive(key) {\n",
              "          const element = document.querySelector('#df-41181c24-78d4-4bf4-8ad1-7805184b75bc');\n",
              "          const dataTable =\n",
              "            await google.colab.kernel.invokeFunction('convertToInteractive',\n",
              "                                                     [key], {});\n",
              "          if (!dataTable) return;\n",
              "\n",
              "          const docLinkHtml = 'Like what you see? Visit the ' +\n",
              "            '<a target=\"_blank\" href=https://colab.research.google.com/notebooks/data_table.ipynb>data table notebook</a>'\n",
              "            + ' to learn more about interactive tables.';\n",
              "          element.innerHTML = '';\n",
              "          dataTable['output_type'] = 'display_data';\n",
              "          await google.colab.output.renderOutput(dataTable, element);\n",
              "          const docLink = document.createElement('div');\n",
              "          docLink.innerHTML = docLinkHtml;\n",
              "          element.appendChild(docLink);\n",
              "        }\n",
              "      </script>\n",
              "    </div>\n",
              "  </div>\n",
              "  "
            ]
          },
          "metadata": {},
          "execution_count": 154
        }
      ]
    },
    {
      "cell_type": "markdown",
      "source": [
        "check missing"
      ],
      "metadata": {
        "id": "tZTszEDfkv5U"
      }
    },
    {
      "cell_type": "code",
      "source": [
        "asscondo.isnull().any()"
      ],
      "metadata": {
        "id": "qdP-9thNko9X",
        "outputId": "54234e76-9847-470b-f40b-57a4eebd8c32",
        "colab": {
          "base_uri": "https://localhost:8080/"
        }
      },
      "execution_count": 155,
      "outputs": [
        {
          "output_type": "execute_result",
          "data": {
            "text/plain": [
              "post id         False\n",
              "ราคาทรัพย์      False\n",
              "ประเมินโดย 1    False\n",
              "dtype: bool"
            ]
          },
          "metadata": {},
          "execution_count": 155
        }
      ]
    },
    {
      "cell_type": "markdown",
      "source": [
        "##Mape condo"
      ],
      "metadata": {
        "id": "ayKO4soEky_y"
      }
    },
    {
      "cell_type": "code",
      "source": [
        "actual_c = asscondo[['ราคาทรัพย์']]\n",
        "pred_1c = asscondo[['ประเมินโดย 1']]"
      ],
      "metadata": {
        "id": "N4vwA69hk0hc"
      },
      "execution_count": 156,
      "outputs": []
    },
    {
      "cell_type": "code",
      "source": [
        "mpc1 = mape(actual_c,pred_1c)"
      ],
      "metadata": {
        "id": "qf8_7oDrk7h4"
      },
      "execution_count": 157,
      "outputs": []
    },
    {
      "cell_type": "code",
      "source": [
        "print(f' MAPE ราคาทรัพย์กับผู้ประเมินคนที่ 1 คือ {mpc1:.2f}')"
      ],
      "metadata": {
        "id": "Ft1YGMwwk7-A",
        "outputId": "efe70dd5-c740-46b2-e49d-4f5ee9799c29",
        "colab": {
          "base_uri": "https://localhost:8080/"
        }
      },
      "execution_count": 158,
      "outputs": [
        {
          "output_type": "stream",
          "name": "stdout",
          "text": [
            " MAPE ราคาทรัพย์กับผู้ประเมินคนที่ 1 คือ 0.17\n"
          ]
        }
      ]
    },
    {
      "cell_type": "markdown",
      "source": [
        "#Town home"
      ],
      "metadata": {
        "id": "G6PCdpaJk_ID"
      }
    },
    {
      "cell_type": "code",
      "source": [
        "esttth2['ประเมินโดย 1'] = esttth2['post id'].map(estth.set_index('post id')['ประเมินราคาซื้อ-ขาย'])\n",
        "esttth2.head(3)"
      ],
      "metadata": {
        "id": "C3WzT22QlBZ-",
        "outputId": "b3c270f9-d26d-4423-f992-4a745d73d6eb",
        "colab": {
          "base_uri": "https://localhost:8080/",
          "height": 396
        }
      },
      "execution_count": 159,
      "outputs": [
        {
          "output_type": "stream",
          "name": "stderr",
          "text": [
            "<ipython-input-159-c632c9fcb114>:1: SettingWithCopyWarning: \n",
            "A value is trying to be set on a copy of a slice from a DataFrame.\n",
            "Try using .loc[row_indexer,col_indexer] = value instead\n",
            "\n",
            "See the caveats in the documentation: https://pandas.pydata.org/pandas-docs/stable/user_guide/indexing.html#returning-a-view-versus-a-copy\n",
            "  esttth2['ประเมินโดย 1'] = esttth2['post id'].map(estth.set_index('post id')['ประเมินราคาซื้อ-ขาย'])\n"
          ]
        },
        {
          "output_type": "execute_result",
          "data": {
            "text/plain": [
              "   ID ผู้ประเมิน                              post id property_type  \\\n",
              "1              2  https://nayoo.co/khonkaen/posts/548      ทาวน์โฮม   \n",
              "3              2  https://nayoo.co/khonkaen/posts/549      ทาวน์โฮม   \n",
              "5              2  https://nayoo.co/khonkaen/posts/579      ทาวน์โฮม   \n",
              "\n",
              "  ความมั่นใจในการเมินราคาทรัพย์  ราคาทรัพย์  ประเมินราคาซื้อ-ขาย  \\\n",
              "1                        มั่นใจ     1045000            1500000.0   \n",
              "3                        มั่นใจ      935000            1500000.0   \n",
              "5                        มั่นใจ     2520000            4000000.0   \n",
              "\n",
              "  ปัจจัยในการประเมินราคาซื้อ-ขาย  เหตุผลไม่มั่นใจราคาประเมิน  \\\n",
              "1      ราคาซื้อขาย 1-2 ล้าน/คูหา                         NaN   \n",
              "3      ราคาเสนอขาย 1-2 ล้าน/คูหา                         NaN   \n",
              "5   ราคาเสนอขาย 3-5 ล้านบาท/คูหา                         NaN   \n",
              "\n",
              "                      ให้คะแนนทรัพย์  Unnamed: 9  Unnamed: 10  Unnamed: 11  \\\n",
              "1                  1 ขายไม่ได้แน่นอน         NaN          NaN          NaN   \n",
              "3                  1 ขายไม่ได้แน่นอน         NaN          NaN          NaN   \n",
              "5  3 ขายได้ ใช้ระยะเวลา 7 - 12 เดือน         NaN          NaN          NaN   \n",
              "\n",
              "   Unnamed: 12  ประเมินโดย 1  \n",
              "1          NaN      700000.0  \n",
              "3          NaN      700000.0  \n",
              "5          NaN     3500000.0  "
            ],
            "text/html": [
              "\n",
              "  <div id=\"df-cb5d492e-4c4a-44f1-b4d6-bd1bcb0193e6\">\n",
              "    <div class=\"colab-df-container\">\n",
              "      <div>\n",
              "<style scoped>\n",
              "    .dataframe tbody tr th:only-of-type {\n",
              "        vertical-align: middle;\n",
              "    }\n",
              "\n",
              "    .dataframe tbody tr th {\n",
              "        vertical-align: top;\n",
              "    }\n",
              "\n",
              "    .dataframe thead th {\n",
              "        text-align: right;\n",
              "    }\n",
              "</style>\n",
              "<table border=\"1\" class=\"dataframe\">\n",
              "  <thead>\n",
              "    <tr style=\"text-align: right;\">\n",
              "      <th></th>\n",
              "      <th>ID ผู้ประเมิน</th>\n",
              "      <th>post id</th>\n",
              "      <th>property_type</th>\n",
              "      <th>ความมั่นใจในการเมินราคาทรัพย์</th>\n",
              "      <th>ราคาทรัพย์</th>\n",
              "      <th>ประเมินราคาซื้อ-ขาย</th>\n",
              "      <th>ปัจจัยในการประเมินราคาซื้อ-ขาย</th>\n",
              "      <th>เหตุผลไม่มั่นใจราคาประเมิน</th>\n",
              "      <th>ให้คะแนนทรัพย์</th>\n",
              "      <th>Unnamed: 9</th>\n",
              "      <th>Unnamed: 10</th>\n",
              "      <th>Unnamed: 11</th>\n",
              "      <th>Unnamed: 12</th>\n",
              "      <th>ประเมินโดย 1</th>\n",
              "    </tr>\n",
              "  </thead>\n",
              "  <tbody>\n",
              "    <tr>\n",
              "      <th>1</th>\n",
              "      <td>2</td>\n",
              "      <td>https://nayoo.co/khonkaen/posts/548</td>\n",
              "      <td>ทาวน์โฮม</td>\n",
              "      <td>มั่นใจ</td>\n",
              "      <td>1045000</td>\n",
              "      <td>1500000.0</td>\n",
              "      <td>ราคาซื้อขาย 1-2 ล้าน/คูหา</td>\n",
              "      <td>NaN</td>\n",
              "      <td>1 ขายไม่ได้แน่นอน</td>\n",
              "      <td>NaN</td>\n",
              "      <td>NaN</td>\n",
              "      <td>NaN</td>\n",
              "      <td>NaN</td>\n",
              "      <td>700000.0</td>\n",
              "    </tr>\n",
              "    <tr>\n",
              "      <th>3</th>\n",
              "      <td>2</td>\n",
              "      <td>https://nayoo.co/khonkaen/posts/549</td>\n",
              "      <td>ทาวน์โฮม</td>\n",
              "      <td>มั่นใจ</td>\n",
              "      <td>935000</td>\n",
              "      <td>1500000.0</td>\n",
              "      <td>ราคาเสนอขาย 1-2 ล้าน/คูหา</td>\n",
              "      <td>NaN</td>\n",
              "      <td>1 ขายไม่ได้แน่นอน</td>\n",
              "      <td>NaN</td>\n",
              "      <td>NaN</td>\n",
              "      <td>NaN</td>\n",
              "      <td>NaN</td>\n",
              "      <td>700000.0</td>\n",
              "    </tr>\n",
              "    <tr>\n",
              "      <th>5</th>\n",
              "      <td>2</td>\n",
              "      <td>https://nayoo.co/khonkaen/posts/579</td>\n",
              "      <td>ทาวน์โฮม</td>\n",
              "      <td>มั่นใจ</td>\n",
              "      <td>2520000</td>\n",
              "      <td>4000000.0</td>\n",
              "      <td>ราคาเสนอขาย 3-5 ล้านบาท/คูหา</td>\n",
              "      <td>NaN</td>\n",
              "      <td>3 ขายได้ ใช้ระยะเวลา 7 - 12 เดือน</td>\n",
              "      <td>NaN</td>\n",
              "      <td>NaN</td>\n",
              "      <td>NaN</td>\n",
              "      <td>NaN</td>\n",
              "      <td>3500000.0</td>\n",
              "    </tr>\n",
              "  </tbody>\n",
              "</table>\n",
              "</div>\n",
              "      <button class=\"colab-df-convert\" onclick=\"convertToInteractive('df-cb5d492e-4c4a-44f1-b4d6-bd1bcb0193e6')\"\n",
              "              title=\"Convert this dataframe to an interactive table.\"\n",
              "              style=\"display:none;\">\n",
              "        \n",
              "  <svg xmlns=\"http://www.w3.org/2000/svg\" height=\"24px\"viewBox=\"0 0 24 24\"\n",
              "       width=\"24px\">\n",
              "    <path d=\"M0 0h24v24H0V0z\" fill=\"none\"/>\n",
              "    <path d=\"M18.56 5.44l.94 2.06.94-2.06 2.06-.94-2.06-.94-.94-2.06-.94 2.06-2.06.94zm-11 1L8.5 8.5l.94-2.06 2.06-.94-2.06-.94L8.5 2.5l-.94 2.06-2.06.94zm10 10l.94 2.06.94-2.06 2.06-.94-2.06-.94-.94-2.06-.94 2.06-2.06.94z\"/><path d=\"M17.41 7.96l-1.37-1.37c-.4-.4-.92-.59-1.43-.59-.52 0-1.04.2-1.43.59L10.3 9.45l-7.72 7.72c-.78.78-.78 2.05 0 2.83L4 21.41c.39.39.9.59 1.41.59.51 0 1.02-.2 1.41-.59l7.78-7.78 2.81-2.81c.8-.78.8-2.07 0-2.86zM5.41 20L4 18.59l7.72-7.72 1.47 1.35L5.41 20z\"/>\n",
              "  </svg>\n",
              "      </button>\n",
              "      \n",
              "  <style>\n",
              "    .colab-df-container {\n",
              "      display:flex;\n",
              "      flex-wrap:wrap;\n",
              "      gap: 12px;\n",
              "    }\n",
              "\n",
              "    .colab-df-convert {\n",
              "      background-color: #E8F0FE;\n",
              "      border: none;\n",
              "      border-radius: 50%;\n",
              "      cursor: pointer;\n",
              "      display: none;\n",
              "      fill: #1967D2;\n",
              "      height: 32px;\n",
              "      padding: 0 0 0 0;\n",
              "      width: 32px;\n",
              "    }\n",
              "\n",
              "    .colab-df-convert:hover {\n",
              "      background-color: #E2EBFA;\n",
              "      box-shadow: 0px 1px 2px rgba(60, 64, 67, 0.3), 0px 1px 3px 1px rgba(60, 64, 67, 0.15);\n",
              "      fill: #174EA6;\n",
              "    }\n",
              "\n",
              "    [theme=dark] .colab-df-convert {\n",
              "      background-color: #3B4455;\n",
              "      fill: #D2E3FC;\n",
              "    }\n",
              "\n",
              "    [theme=dark] .colab-df-convert:hover {\n",
              "      background-color: #434B5C;\n",
              "      box-shadow: 0px 1px 3px 1px rgba(0, 0, 0, 0.15);\n",
              "      filter: drop-shadow(0px 1px 2px rgba(0, 0, 0, 0.3));\n",
              "      fill: #FFFFFF;\n",
              "    }\n",
              "  </style>\n",
              "\n",
              "      <script>\n",
              "        const buttonEl =\n",
              "          document.querySelector('#df-cb5d492e-4c4a-44f1-b4d6-bd1bcb0193e6 button.colab-df-convert');\n",
              "        buttonEl.style.display =\n",
              "          google.colab.kernel.accessAllowed ? 'block' : 'none';\n",
              "\n",
              "        async function convertToInteractive(key) {\n",
              "          const element = document.querySelector('#df-cb5d492e-4c4a-44f1-b4d6-bd1bcb0193e6');\n",
              "          const dataTable =\n",
              "            await google.colab.kernel.invokeFunction('convertToInteractive',\n",
              "                                                     [key], {});\n",
              "          if (!dataTable) return;\n",
              "\n",
              "          const docLinkHtml = 'Like what you see? Visit the ' +\n",
              "            '<a target=\"_blank\" href=https://colab.research.google.com/notebooks/data_table.ipynb>data table notebook</a>'\n",
              "            + ' to learn more about interactive tables.';\n",
              "          element.innerHTML = '';\n",
              "          dataTable['output_type'] = 'display_data';\n",
              "          await google.colab.output.renderOutput(dataTable, element);\n",
              "          const docLink = document.createElement('div');\n",
              "          docLink.innerHTML = docLinkHtml;\n",
              "          element.appendChild(docLink);\n",
              "        }\n",
              "      </script>\n",
              "    </div>\n",
              "  </div>\n",
              "  "
            ]
          },
          "metadata": {},
          "execution_count": 159
        }
      ]
    },
    {
      "cell_type": "code",
      "source": [
        "esttth2.rename(columns={'ประเมินราคาซื้อ-ขาย' :'ประเมินโดย 2'}, inplace=True);"
      ],
      "metadata": {
        "id": "uFWkNzPAldBa",
        "outputId": "59709572-2753-4de3-904a-cdeec505aff8",
        "colab": {
          "base_uri": "https://localhost:8080/"
        }
      },
      "execution_count": 160,
      "outputs": [
        {
          "output_type": "stream",
          "name": "stderr",
          "text": [
            "/usr/local/lib/python3.8/dist-packages/pandas/core/frame.py:5039: SettingWithCopyWarning: \n",
            "A value is trying to be set on a copy of a slice from a DataFrame\n",
            "\n",
            "See the caveats in the documentation: https://pandas.pydata.org/pandas-docs/stable/user_guide/indexing.html#returning-a-view-versus-a-copy\n",
            "  return super().rename(\n"
          ]
        }
      ]
    },
    {
      "cell_type": "code",
      "source": [
        "assth = esttth2[['post id','ราคาทรัพย์','ประเมินโดย 1','ประเมินโดย 2']]\n",
        "assth"
      ],
      "metadata": {
        "id": "obMRN39nloLa",
        "outputId": "ab1829db-86bd-40fb-b051-6bb5539c58cd",
        "colab": {
          "base_uri": "https://localhost:8080/",
          "height": 424
        }
      },
      "execution_count": 161,
      "outputs": [
        {
          "output_type": "execute_result",
          "data": {
            "text/plain": [
              "                                   post id  ราคาทรัพย์  ประเมินโดย 1  \\\n",
              "1      https://nayoo.co/khonkaen/posts/548     1045000      700000.0   \n",
              "3      https://nayoo.co/khonkaen/posts/549      935000      700000.0   \n",
              "5      https://nayoo.co/khonkaen/posts/579     2520000     3500000.0   \n",
              "7      https://nayoo.co/khonkaen/posts/580     3850000     3500000.0   \n",
              "9      https://nayoo.co/khonkaen/posts/582      544000     1000000.0   \n",
              "..                                     ...         ...           ...   \n",
              "235  https://nayoo.co/khonkaen/posts/18547     1105000     1000000.0   \n",
              "236  https://nayoo.co/khonkaen/posts/18551     1440000     1500000.0   \n",
              "237  https://nayoo.co/khonkaen/posts/19434     2000000     1600000.0   \n",
              "238  https://nayoo.co/khonkaen/posts/19501     1790000     1600000.0   \n",
              "239  https://nayoo.co/khonkaen/posts/20367     1590000     1700000.0   \n",
              "\n",
              "     ประเมินโดย 2  \n",
              "1       1500000.0  \n",
              "3       1500000.0  \n",
              "5       4000000.0  \n",
              "7       3200000.0  \n",
              "9        800000.0  \n",
              "..            ...  \n",
              "235     1200000.0  \n",
              "236     1700000.0  \n",
              "237     1900000.0  \n",
              "238     1700000.0  \n",
              "239     1700000.0  \n",
              "\n",
              "[120 rows x 4 columns]"
            ],
            "text/html": [
              "\n",
              "  <div id=\"df-7b03d627-dbf9-4403-ab56-86d134b9c9ae\">\n",
              "    <div class=\"colab-df-container\">\n",
              "      <div>\n",
              "<style scoped>\n",
              "    .dataframe tbody tr th:only-of-type {\n",
              "        vertical-align: middle;\n",
              "    }\n",
              "\n",
              "    .dataframe tbody tr th {\n",
              "        vertical-align: top;\n",
              "    }\n",
              "\n",
              "    .dataframe thead th {\n",
              "        text-align: right;\n",
              "    }\n",
              "</style>\n",
              "<table border=\"1\" class=\"dataframe\">\n",
              "  <thead>\n",
              "    <tr style=\"text-align: right;\">\n",
              "      <th></th>\n",
              "      <th>post id</th>\n",
              "      <th>ราคาทรัพย์</th>\n",
              "      <th>ประเมินโดย 1</th>\n",
              "      <th>ประเมินโดย 2</th>\n",
              "    </tr>\n",
              "  </thead>\n",
              "  <tbody>\n",
              "    <tr>\n",
              "      <th>1</th>\n",
              "      <td>https://nayoo.co/khonkaen/posts/548</td>\n",
              "      <td>1045000</td>\n",
              "      <td>700000.0</td>\n",
              "      <td>1500000.0</td>\n",
              "    </tr>\n",
              "    <tr>\n",
              "      <th>3</th>\n",
              "      <td>https://nayoo.co/khonkaen/posts/549</td>\n",
              "      <td>935000</td>\n",
              "      <td>700000.0</td>\n",
              "      <td>1500000.0</td>\n",
              "    </tr>\n",
              "    <tr>\n",
              "      <th>5</th>\n",
              "      <td>https://nayoo.co/khonkaen/posts/579</td>\n",
              "      <td>2520000</td>\n",
              "      <td>3500000.0</td>\n",
              "      <td>4000000.0</td>\n",
              "    </tr>\n",
              "    <tr>\n",
              "      <th>7</th>\n",
              "      <td>https://nayoo.co/khonkaen/posts/580</td>\n",
              "      <td>3850000</td>\n",
              "      <td>3500000.0</td>\n",
              "      <td>3200000.0</td>\n",
              "    </tr>\n",
              "    <tr>\n",
              "      <th>9</th>\n",
              "      <td>https://nayoo.co/khonkaen/posts/582</td>\n",
              "      <td>544000</td>\n",
              "      <td>1000000.0</td>\n",
              "      <td>800000.0</td>\n",
              "    </tr>\n",
              "    <tr>\n",
              "      <th>...</th>\n",
              "      <td>...</td>\n",
              "      <td>...</td>\n",
              "      <td>...</td>\n",
              "      <td>...</td>\n",
              "    </tr>\n",
              "    <tr>\n",
              "      <th>235</th>\n",
              "      <td>https://nayoo.co/khonkaen/posts/18547</td>\n",
              "      <td>1105000</td>\n",
              "      <td>1000000.0</td>\n",
              "      <td>1200000.0</td>\n",
              "    </tr>\n",
              "    <tr>\n",
              "      <th>236</th>\n",
              "      <td>https://nayoo.co/khonkaen/posts/18551</td>\n",
              "      <td>1440000</td>\n",
              "      <td>1500000.0</td>\n",
              "      <td>1700000.0</td>\n",
              "    </tr>\n",
              "    <tr>\n",
              "      <th>237</th>\n",
              "      <td>https://nayoo.co/khonkaen/posts/19434</td>\n",
              "      <td>2000000</td>\n",
              "      <td>1600000.0</td>\n",
              "      <td>1900000.0</td>\n",
              "    </tr>\n",
              "    <tr>\n",
              "      <th>238</th>\n",
              "      <td>https://nayoo.co/khonkaen/posts/19501</td>\n",
              "      <td>1790000</td>\n",
              "      <td>1600000.0</td>\n",
              "      <td>1700000.0</td>\n",
              "    </tr>\n",
              "    <tr>\n",
              "      <th>239</th>\n",
              "      <td>https://nayoo.co/khonkaen/posts/20367</td>\n",
              "      <td>1590000</td>\n",
              "      <td>1700000.0</td>\n",
              "      <td>1700000.0</td>\n",
              "    </tr>\n",
              "  </tbody>\n",
              "</table>\n",
              "<p>120 rows × 4 columns</p>\n",
              "</div>\n",
              "      <button class=\"colab-df-convert\" onclick=\"convertToInteractive('df-7b03d627-dbf9-4403-ab56-86d134b9c9ae')\"\n",
              "              title=\"Convert this dataframe to an interactive table.\"\n",
              "              style=\"display:none;\">\n",
              "        \n",
              "  <svg xmlns=\"http://www.w3.org/2000/svg\" height=\"24px\"viewBox=\"0 0 24 24\"\n",
              "       width=\"24px\">\n",
              "    <path d=\"M0 0h24v24H0V0z\" fill=\"none\"/>\n",
              "    <path d=\"M18.56 5.44l.94 2.06.94-2.06 2.06-.94-2.06-.94-.94-2.06-.94 2.06-2.06.94zm-11 1L8.5 8.5l.94-2.06 2.06-.94-2.06-.94L8.5 2.5l-.94 2.06-2.06.94zm10 10l.94 2.06.94-2.06 2.06-.94-2.06-.94-.94-2.06-.94 2.06-2.06.94z\"/><path d=\"M17.41 7.96l-1.37-1.37c-.4-.4-.92-.59-1.43-.59-.52 0-1.04.2-1.43.59L10.3 9.45l-7.72 7.72c-.78.78-.78 2.05 0 2.83L4 21.41c.39.39.9.59 1.41.59.51 0 1.02-.2 1.41-.59l7.78-7.78 2.81-2.81c.8-.78.8-2.07 0-2.86zM5.41 20L4 18.59l7.72-7.72 1.47 1.35L5.41 20z\"/>\n",
              "  </svg>\n",
              "      </button>\n",
              "      \n",
              "  <style>\n",
              "    .colab-df-container {\n",
              "      display:flex;\n",
              "      flex-wrap:wrap;\n",
              "      gap: 12px;\n",
              "    }\n",
              "\n",
              "    .colab-df-convert {\n",
              "      background-color: #E8F0FE;\n",
              "      border: none;\n",
              "      border-radius: 50%;\n",
              "      cursor: pointer;\n",
              "      display: none;\n",
              "      fill: #1967D2;\n",
              "      height: 32px;\n",
              "      padding: 0 0 0 0;\n",
              "      width: 32px;\n",
              "    }\n",
              "\n",
              "    .colab-df-convert:hover {\n",
              "      background-color: #E2EBFA;\n",
              "      box-shadow: 0px 1px 2px rgba(60, 64, 67, 0.3), 0px 1px 3px 1px rgba(60, 64, 67, 0.15);\n",
              "      fill: #174EA6;\n",
              "    }\n",
              "\n",
              "    [theme=dark] .colab-df-convert {\n",
              "      background-color: #3B4455;\n",
              "      fill: #D2E3FC;\n",
              "    }\n",
              "\n",
              "    [theme=dark] .colab-df-convert:hover {\n",
              "      background-color: #434B5C;\n",
              "      box-shadow: 0px 1px 3px 1px rgba(0, 0, 0, 0.15);\n",
              "      filter: drop-shadow(0px 1px 2px rgba(0, 0, 0, 0.3));\n",
              "      fill: #FFFFFF;\n",
              "    }\n",
              "  </style>\n",
              "\n",
              "      <script>\n",
              "        const buttonEl =\n",
              "          document.querySelector('#df-7b03d627-dbf9-4403-ab56-86d134b9c9ae button.colab-df-convert');\n",
              "        buttonEl.style.display =\n",
              "          google.colab.kernel.accessAllowed ? 'block' : 'none';\n",
              "\n",
              "        async function convertToInteractive(key) {\n",
              "          const element = document.querySelector('#df-7b03d627-dbf9-4403-ab56-86d134b9c9ae');\n",
              "          const dataTable =\n",
              "            await google.colab.kernel.invokeFunction('convertToInteractive',\n",
              "                                                     [key], {});\n",
              "          if (!dataTable) return;\n",
              "\n",
              "          const docLinkHtml = 'Like what you see? Visit the ' +\n",
              "            '<a target=\"_blank\" href=https://colab.research.google.com/notebooks/data_table.ipynb>data table notebook</a>'\n",
              "            + ' to learn more about interactive tables.';\n",
              "          element.innerHTML = '';\n",
              "          dataTable['output_type'] = 'display_data';\n",
              "          await google.colab.output.renderOutput(dataTable, element);\n",
              "          const docLink = document.createElement('div');\n",
              "          docLink.innerHTML = docLinkHtml;\n",
              "          element.appendChild(docLink);\n",
              "        }\n",
              "      </script>\n",
              "    </div>\n",
              "  </div>\n",
              "  "
            ]
          },
          "metadata": {},
          "execution_count": 161
        }
      ]
    },
    {
      "cell_type": "markdown",
      "source": [
        "check missing"
      ],
      "metadata": {
        "id": "mUQ8CQs_lzug"
      }
    },
    {
      "cell_type": "code",
      "source": [
        "assth.isnull().any()"
      ],
      "metadata": {
        "id": "Syk3HbpYl0tN",
        "outputId": "ff1b4895-fa78-49ab-cacc-40742bade01a",
        "colab": {
          "base_uri": "https://localhost:8080/"
        }
      },
      "execution_count": 162,
      "outputs": [
        {
          "output_type": "execute_result",
          "data": {
            "text/plain": [
              "post id         False\n",
              "ราคาทรัพย์      False\n",
              "ประเมินโดย 1    False\n",
              "ประเมินโดย 2    False\n",
              "dtype: bool"
            ]
          },
          "metadata": {},
          "execution_count": 162
        }
      ]
    },
    {
      "cell_type": "markdown",
      "source": [
        "##Mape town home"
      ],
      "metadata": {
        "id": "ivSW7RfAl30P"
      }
    },
    {
      "cell_type": "code",
      "source": [
        "actual_th = assth[['ราคาทรัพย์']]\n",
        "pred_1th = assth[['ประเมินโดย 1']]\n",
        "pred_2th = assth[['ประเมินโดย 2']]"
      ],
      "metadata": {
        "id": "5oy7Hn2Cl5Et"
      },
      "execution_count": 163,
      "outputs": []
    },
    {
      "cell_type": "code",
      "source": [
        "mpth1 = mape(actual_th,pred_1th)\n",
        "mpth2 = mape(actual_th,pred_2th)\n",
        "mpth12 = mape(pred_1th,pred_2th)"
      ],
      "metadata": {
        "id": "309QNPwzl69j"
      },
      "execution_count": 164,
      "outputs": []
    },
    {
      "cell_type": "code",
      "source": [
        "print(f' MAPE ราคาทรัพย์กับผู้ประเมินคนที่ 1 คือ {mpth1:.2f}\\n MAPE ราคาทรัพย์กับผู้ประเมินคนที่ 2 คือ {mpth2:.2f}\\n MAPE ราคาตั้งขายของผู้ประเมินคนที่ 1 กับ ผู้ประเมินคนที่ 2 คือ {mpth12:.2f}')"
      ],
      "metadata": {
        "id": "-JKhpDl_l7uh",
        "outputId": "5327349e-93f9-4b45-eef5-ce51ee1258f0",
        "colab": {
          "base_uri": "https://localhost:8080/"
        }
      },
      "execution_count": 165,
      "outputs": [
        {
          "output_type": "stream",
          "name": "stdout",
          "text": [
            " MAPE ราคาทรัพย์กับผู้ประเมินคนที่ 1 คือ 0.12\n",
            " MAPE ราคาทรัพย์กับผู้ประเมินคนที่ 2 คือ 0.09\n",
            " MAPE ราคาตั้งขายของผู้ประเมินคนที่ 1 กับ ผู้ประเมินคนที่ 2 คือ 0.11\n"
          ]
        }
      ]
    },
    {
      "cell_type": "markdown",
      "source": [
        "#Shop house"
      ],
      "metadata": {
        "id": "sHRsFOsHl-5w"
      }
    },
    {
      "cell_type": "code",
      "source": [
        "estsh2['ประเมินโดย 1'] = estsh2['post id'].map(estsh.set_index('post id')['ประเมินราคาซื้อ-ขาย'])\n",
        "estsh2.head(3)"
      ],
      "metadata": {
        "id": "pk-tWiLjmBjM",
        "outputId": "7ffedea1-a65a-491b-ee3a-ddbd4b33e63f",
        "colab": {
          "base_uri": "https://localhost:8080/",
          "height": 361
        }
      },
      "execution_count": 166,
      "outputs": [
        {
          "output_type": "stream",
          "name": "stderr",
          "text": [
            "<ipython-input-166-949b7b381f56>:1: SettingWithCopyWarning: \n",
            "A value is trying to be set on a copy of a slice from a DataFrame.\n",
            "Try using .loc[row_indexer,col_indexer] = value instead\n",
            "\n",
            "See the caveats in the documentation: https://pandas.pydata.org/pandas-docs/stable/user_guide/indexing.html#returning-a-view-versus-a-copy\n",
            "  estsh2['ประเมินโดย 1'] = estsh2['post id'].map(estsh.set_index('post id')['ประเมินราคาซื้อ-ขาย'])\n"
          ]
        },
        {
          "output_type": "execute_result",
          "data": {
            "text/plain": [
              "   ID ผู้ประเมิน                             post id          property_type  \\\n",
              "1              2   https://nayoo.co/khonkaen/posts/6  อาคารพาณิชย์/สำนักงาน   \n",
              "3              2  https://nayoo.co/khonkaen/posts/17  อาคารพาณิชย์/สำนักงาน   \n",
              "5              2  https://nayoo.co/khonkaen/posts/21  อาคารพาณิชย์/สำนักงาน   \n",
              "\n",
              "  ความมั่นใจในการเมินราคาทรัพย์  ราคาทรัพย์  ประเมินราคาซื้อ-ขาย  \\\n",
              "1                        มั่นใจ     6600000            8000000.0   \n",
              "3                        มั่นใจ    11400000           12000000.0   \n",
              "5                        มั่นใจ    22500000           20000000.0   \n",
              "\n",
              "             ปัจจัยในการประเมินราคาซื้อ-ขาย เหตุผลไม่มั่นใจราคาประเมิน  \\\n",
              "1  ราคาเสนอขาย 4,000,000-6,000,000 บาท/คูหา                        NaN   \n",
              "3            ราคาเสนอขาย 4 - 5 ล้านบาท/คูหา                        NaN   \n",
              "5            ราคาเสนอขาย 6-8 ล้านบาท / คูหา                        NaN   \n",
              "\n",
              "                       ให้คะแนนทรัพย์  ประเมินโดย 1  \n",
              "1    4 ขายได้ ใช้ระยะเวลา 4 - 6 เดือน     6000000.0  \n",
              "3  2 ขายได้ยาก ใช้ระยะเวลามากว่า 1 ปี    12000000.0  \n",
              "5   3 ขายได้ ใช้ระยะเวลา 7 - 12 เดือน    13500000.0  "
            ],
            "text/html": [
              "\n",
              "  <div id=\"df-8396e8f9-9c5c-4463-b073-53a1172c5f2e\">\n",
              "    <div class=\"colab-df-container\">\n",
              "      <div>\n",
              "<style scoped>\n",
              "    .dataframe tbody tr th:only-of-type {\n",
              "        vertical-align: middle;\n",
              "    }\n",
              "\n",
              "    .dataframe tbody tr th {\n",
              "        vertical-align: top;\n",
              "    }\n",
              "\n",
              "    .dataframe thead th {\n",
              "        text-align: right;\n",
              "    }\n",
              "</style>\n",
              "<table border=\"1\" class=\"dataframe\">\n",
              "  <thead>\n",
              "    <tr style=\"text-align: right;\">\n",
              "      <th></th>\n",
              "      <th>ID ผู้ประเมิน</th>\n",
              "      <th>post id</th>\n",
              "      <th>property_type</th>\n",
              "      <th>ความมั่นใจในการเมินราคาทรัพย์</th>\n",
              "      <th>ราคาทรัพย์</th>\n",
              "      <th>ประเมินราคาซื้อ-ขาย</th>\n",
              "      <th>ปัจจัยในการประเมินราคาซื้อ-ขาย</th>\n",
              "      <th>เหตุผลไม่มั่นใจราคาประเมิน</th>\n",
              "      <th>ให้คะแนนทรัพย์</th>\n",
              "      <th>ประเมินโดย 1</th>\n",
              "    </tr>\n",
              "  </thead>\n",
              "  <tbody>\n",
              "    <tr>\n",
              "      <th>1</th>\n",
              "      <td>2</td>\n",
              "      <td>https://nayoo.co/khonkaen/posts/6</td>\n",
              "      <td>อาคารพาณิชย์/สำนักงาน</td>\n",
              "      <td>มั่นใจ</td>\n",
              "      <td>6600000</td>\n",
              "      <td>8000000.0</td>\n",
              "      <td>ราคาเสนอขาย 4,000,000-6,000,000 บาท/คูหา</td>\n",
              "      <td>NaN</td>\n",
              "      <td>4 ขายได้ ใช้ระยะเวลา 4 - 6 เดือน</td>\n",
              "      <td>6000000.0</td>\n",
              "    </tr>\n",
              "    <tr>\n",
              "      <th>3</th>\n",
              "      <td>2</td>\n",
              "      <td>https://nayoo.co/khonkaen/posts/17</td>\n",
              "      <td>อาคารพาณิชย์/สำนักงาน</td>\n",
              "      <td>มั่นใจ</td>\n",
              "      <td>11400000</td>\n",
              "      <td>12000000.0</td>\n",
              "      <td>ราคาเสนอขาย 4 - 5 ล้านบาท/คูหา</td>\n",
              "      <td>NaN</td>\n",
              "      <td>2 ขายได้ยาก ใช้ระยะเวลามากว่า 1 ปี</td>\n",
              "      <td>12000000.0</td>\n",
              "    </tr>\n",
              "    <tr>\n",
              "      <th>5</th>\n",
              "      <td>2</td>\n",
              "      <td>https://nayoo.co/khonkaen/posts/21</td>\n",
              "      <td>อาคารพาณิชย์/สำนักงาน</td>\n",
              "      <td>มั่นใจ</td>\n",
              "      <td>22500000</td>\n",
              "      <td>20000000.0</td>\n",
              "      <td>ราคาเสนอขาย 6-8 ล้านบาท / คูหา</td>\n",
              "      <td>NaN</td>\n",
              "      <td>3 ขายได้ ใช้ระยะเวลา 7 - 12 เดือน</td>\n",
              "      <td>13500000.0</td>\n",
              "    </tr>\n",
              "  </tbody>\n",
              "</table>\n",
              "</div>\n",
              "      <button class=\"colab-df-convert\" onclick=\"convertToInteractive('df-8396e8f9-9c5c-4463-b073-53a1172c5f2e')\"\n",
              "              title=\"Convert this dataframe to an interactive table.\"\n",
              "              style=\"display:none;\">\n",
              "        \n",
              "  <svg xmlns=\"http://www.w3.org/2000/svg\" height=\"24px\"viewBox=\"0 0 24 24\"\n",
              "       width=\"24px\">\n",
              "    <path d=\"M0 0h24v24H0V0z\" fill=\"none\"/>\n",
              "    <path d=\"M18.56 5.44l.94 2.06.94-2.06 2.06-.94-2.06-.94-.94-2.06-.94 2.06-2.06.94zm-11 1L8.5 8.5l.94-2.06 2.06-.94-2.06-.94L8.5 2.5l-.94 2.06-2.06.94zm10 10l.94 2.06.94-2.06 2.06-.94-2.06-.94-.94-2.06-.94 2.06-2.06.94z\"/><path d=\"M17.41 7.96l-1.37-1.37c-.4-.4-.92-.59-1.43-.59-.52 0-1.04.2-1.43.59L10.3 9.45l-7.72 7.72c-.78.78-.78 2.05 0 2.83L4 21.41c.39.39.9.59 1.41.59.51 0 1.02-.2 1.41-.59l7.78-7.78 2.81-2.81c.8-.78.8-2.07 0-2.86zM5.41 20L4 18.59l7.72-7.72 1.47 1.35L5.41 20z\"/>\n",
              "  </svg>\n",
              "      </button>\n",
              "      \n",
              "  <style>\n",
              "    .colab-df-container {\n",
              "      display:flex;\n",
              "      flex-wrap:wrap;\n",
              "      gap: 12px;\n",
              "    }\n",
              "\n",
              "    .colab-df-convert {\n",
              "      background-color: #E8F0FE;\n",
              "      border: none;\n",
              "      border-radius: 50%;\n",
              "      cursor: pointer;\n",
              "      display: none;\n",
              "      fill: #1967D2;\n",
              "      height: 32px;\n",
              "      padding: 0 0 0 0;\n",
              "      width: 32px;\n",
              "    }\n",
              "\n",
              "    .colab-df-convert:hover {\n",
              "      background-color: #E2EBFA;\n",
              "      box-shadow: 0px 1px 2px rgba(60, 64, 67, 0.3), 0px 1px 3px 1px rgba(60, 64, 67, 0.15);\n",
              "      fill: #174EA6;\n",
              "    }\n",
              "\n",
              "    [theme=dark] .colab-df-convert {\n",
              "      background-color: #3B4455;\n",
              "      fill: #D2E3FC;\n",
              "    }\n",
              "\n",
              "    [theme=dark] .colab-df-convert:hover {\n",
              "      background-color: #434B5C;\n",
              "      box-shadow: 0px 1px 3px 1px rgba(0, 0, 0, 0.15);\n",
              "      filter: drop-shadow(0px 1px 2px rgba(0, 0, 0, 0.3));\n",
              "      fill: #FFFFFF;\n",
              "    }\n",
              "  </style>\n",
              "\n",
              "      <script>\n",
              "        const buttonEl =\n",
              "          document.querySelector('#df-8396e8f9-9c5c-4463-b073-53a1172c5f2e button.colab-df-convert');\n",
              "        buttonEl.style.display =\n",
              "          google.colab.kernel.accessAllowed ? 'block' : 'none';\n",
              "\n",
              "        async function convertToInteractive(key) {\n",
              "          const element = document.querySelector('#df-8396e8f9-9c5c-4463-b073-53a1172c5f2e');\n",
              "          const dataTable =\n",
              "            await google.colab.kernel.invokeFunction('convertToInteractive',\n",
              "                                                     [key], {});\n",
              "          if (!dataTable) return;\n",
              "\n",
              "          const docLinkHtml = 'Like what you see? Visit the ' +\n",
              "            '<a target=\"_blank\" href=https://colab.research.google.com/notebooks/data_table.ipynb>data table notebook</a>'\n",
              "            + ' to learn more about interactive tables.';\n",
              "          element.innerHTML = '';\n",
              "          dataTable['output_type'] = 'display_data';\n",
              "          await google.colab.output.renderOutput(dataTable, element);\n",
              "          const docLink = document.createElement('div');\n",
              "          docLink.innerHTML = docLinkHtml;\n",
              "          element.appendChild(docLink);\n",
              "        }\n",
              "      </script>\n",
              "    </div>\n",
              "  </div>\n",
              "  "
            ]
          },
          "metadata": {},
          "execution_count": 166
        }
      ]
    },
    {
      "cell_type": "code",
      "source": [
        "estsh2.rename(columns={'ประเมินราคาซื้อ-ขาย' :'ประเมินโดย 2'}, inplace=True);"
      ],
      "metadata": {
        "id": "Md9wE52-nA7b",
        "outputId": "5c18e1c4-b10e-42ab-d91a-45df5086d726",
        "colab": {
          "base_uri": "https://localhost:8080/"
        }
      },
      "execution_count": 167,
      "outputs": [
        {
          "output_type": "stream",
          "name": "stderr",
          "text": [
            "/usr/local/lib/python3.8/dist-packages/pandas/core/frame.py:5039: SettingWithCopyWarning: \n",
            "A value is trying to be set on a copy of a slice from a DataFrame\n",
            "\n",
            "See the caveats in the documentation: https://pandas.pydata.org/pandas-docs/stable/user_guide/indexing.html#returning-a-view-versus-a-copy\n",
            "  return super().rename(\n"
          ]
        }
      ]
    },
    {
      "cell_type": "code",
      "source": [
        "asssh = estsh2[['post id','ราคาทรัพย์','ประเมินโดย 1','ประเมินโดย 2']]\n",
        "asssh = asssh.dropna(subset=['ราคาทรัพย์','ประเมินโดย 1','ประเมินโดย 2'])\n",
        "asssh"
      ],
      "metadata": {
        "id": "VstLkS-1nEpR",
        "outputId": "3c76a354-915d-42cc-d4c9-5382bacebbcf",
        "colab": {
          "base_uri": "https://localhost:8080/",
          "height": 424
        }
      },
      "execution_count": 168,
      "outputs": [
        {
          "output_type": "execute_result",
          "data": {
            "text/plain": [
              "                                  post id  ราคาทรัพย์  ประเมินโดย 1  \\\n",
              "1       https://nayoo.co/khonkaen/posts/6     6600000     6000000.0   \n",
              "3      https://nayoo.co/khonkaen/posts/17    11400000    12000000.0   \n",
              "5      https://nayoo.co/khonkaen/posts/21    22500000    13500000.0   \n",
              "7      https://nayoo.co/khonkaen/posts/22     3500000     4000000.0   \n",
              "9      https://nayoo.co/khonkaen/posts/24     3900000     2200000.0   \n",
              "..                                    ...         ...           ...   \n",
              "183  https://nayoo.co/khonkaen/posts/6168     2652000     3000000.0   \n",
              "185  https://nayoo.co/khonkaen/posts/6169     3851000     3800000.0   \n",
              "187  https://nayoo.co/khonkaen/posts/6176     3410000     3200000.0   \n",
              "191  https://nayoo.co/khonkaen/posts/7137     3900000     3600000.0   \n",
              "199  https://nayoo.co/khonkaen/posts/7705     2200000     2500000.0   \n",
              "\n",
              "     ประเมินโดย 2  \n",
              "1       8000000.0  \n",
              "3      12000000.0  \n",
              "5      20000000.0  \n",
              "7       4000000.0  \n",
              "9       3000000.0  \n",
              "..            ...  \n",
              "183     2700000.0  \n",
              "185     4000000.0  \n",
              "187     3500000.0  \n",
              "191     4000000.0  \n",
              "199     2000000.0  \n",
              "\n",
              "[91 rows x 4 columns]"
            ],
            "text/html": [
              "\n",
              "  <div id=\"df-83efdd80-34f2-4324-8e96-12d0a0026846\">\n",
              "    <div class=\"colab-df-container\">\n",
              "      <div>\n",
              "<style scoped>\n",
              "    .dataframe tbody tr th:only-of-type {\n",
              "        vertical-align: middle;\n",
              "    }\n",
              "\n",
              "    .dataframe tbody tr th {\n",
              "        vertical-align: top;\n",
              "    }\n",
              "\n",
              "    .dataframe thead th {\n",
              "        text-align: right;\n",
              "    }\n",
              "</style>\n",
              "<table border=\"1\" class=\"dataframe\">\n",
              "  <thead>\n",
              "    <tr style=\"text-align: right;\">\n",
              "      <th></th>\n",
              "      <th>post id</th>\n",
              "      <th>ราคาทรัพย์</th>\n",
              "      <th>ประเมินโดย 1</th>\n",
              "      <th>ประเมินโดย 2</th>\n",
              "    </tr>\n",
              "  </thead>\n",
              "  <tbody>\n",
              "    <tr>\n",
              "      <th>1</th>\n",
              "      <td>https://nayoo.co/khonkaen/posts/6</td>\n",
              "      <td>6600000</td>\n",
              "      <td>6000000.0</td>\n",
              "      <td>8000000.0</td>\n",
              "    </tr>\n",
              "    <tr>\n",
              "      <th>3</th>\n",
              "      <td>https://nayoo.co/khonkaen/posts/17</td>\n",
              "      <td>11400000</td>\n",
              "      <td>12000000.0</td>\n",
              "      <td>12000000.0</td>\n",
              "    </tr>\n",
              "    <tr>\n",
              "      <th>5</th>\n",
              "      <td>https://nayoo.co/khonkaen/posts/21</td>\n",
              "      <td>22500000</td>\n",
              "      <td>13500000.0</td>\n",
              "      <td>20000000.0</td>\n",
              "    </tr>\n",
              "    <tr>\n",
              "      <th>7</th>\n",
              "      <td>https://nayoo.co/khonkaen/posts/22</td>\n",
              "      <td>3500000</td>\n",
              "      <td>4000000.0</td>\n",
              "      <td>4000000.0</td>\n",
              "    </tr>\n",
              "    <tr>\n",
              "      <th>9</th>\n",
              "      <td>https://nayoo.co/khonkaen/posts/24</td>\n",
              "      <td>3900000</td>\n",
              "      <td>2200000.0</td>\n",
              "      <td>3000000.0</td>\n",
              "    </tr>\n",
              "    <tr>\n",
              "      <th>...</th>\n",
              "      <td>...</td>\n",
              "      <td>...</td>\n",
              "      <td>...</td>\n",
              "      <td>...</td>\n",
              "    </tr>\n",
              "    <tr>\n",
              "      <th>183</th>\n",
              "      <td>https://nayoo.co/khonkaen/posts/6168</td>\n",
              "      <td>2652000</td>\n",
              "      <td>3000000.0</td>\n",
              "      <td>2700000.0</td>\n",
              "    </tr>\n",
              "    <tr>\n",
              "      <th>185</th>\n",
              "      <td>https://nayoo.co/khonkaen/posts/6169</td>\n",
              "      <td>3851000</td>\n",
              "      <td>3800000.0</td>\n",
              "      <td>4000000.0</td>\n",
              "    </tr>\n",
              "    <tr>\n",
              "      <th>187</th>\n",
              "      <td>https://nayoo.co/khonkaen/posts/6176</td>\n",
              "      <td>3410000</td>\n",
              "      <td>3200000.0</td>\n",
              "      <td>3500000.0</td>\n",
              "    </tr>\n",
              "    <tr>\n",
              "      <th>191</th>\n",
              "      <td>https://nayoo.co/khonkaen/posts/7137</td>\n",
              "      <td>3900000</td>\n",
              "      <td>3600000.0</td>\n",
              "      <td>4000000.0</td>\n",
              "    </tr>\n",
              "    <tr>\n",
              "      <th>199</th>\n",
              "      <td>https://nayoo.co/khonkaen/posts/7705</td>\n",
              "      <td>2200000</td>\n",
              "      <td>2500000.0</td>\n",
              "      <td>2000000.0</td>\n",
              "    </tr>\n",
              "  </tbody>\n",
              "</table>\n",
              "<p>91 rows × 4 columns</p>\n",
              "</div>\n",
              "      <button class=\"colab-df-convert\" onclick=\"convertToInteractive('df-83efdd80-34f2-4324-8e96-12d0a0026846')\"\n",
              "              title=\"Convert this dataframe to an interactive table.\"\n",
              "              style=\"display:none;\">\n",
              "        \n",
              "  <svg xmlns=\"http://www.w3.org/2000/svg\" height=\"24px\"viewBox=\"0 0 24 24\"\n",
              "       width=\"24px\">\n",
              "    <path d=\"M0 0h24v24H0V0z\" fill=\"none\"/>\n",
              "    <path d=\"M18.56 5.44l.94 2.06.94-2.06 2.06-.94-2.06-.94-.94-2.06-.94 2.06-2.06.94zm-11 1L8.5 8.5l.94-2.06 2.06-.94-2.06-.94L8.5 2.5l-.94 2.06-2.06.94zm10 10l.94 2.06.94-2.06 2.06-.94-2.06-.94-.94-2.06-.94 2.06-2.06.94z\"/><path d=\"M17.41 7.96l-1.37-1.37c-.4-.4-.92-.59-1.43-.59-.52 0-1.04.2-1.43.59L10.3 9.45l-7.72 7.72c-.78.78-.78 2.05 0 2.83L4 21.41c.39.39.9.59 1.41.59.51 0 1.02-.2 1.41-.59l7.78-7.78 2.81-2.81c.8-.78.8-2.07 0-2.86zM5.41 20L4 18.59l7.72-7.72 1.47 1.35L5.41 20z\"/>\n",
              "  </svg>\n",
              "      </button>\n",
              "      \n",
              "  <style>\n",
              "    .colab-df-container {\n",
              "      display:flex;\n",
              "      flex-wrap:wrap;\n",
              "      gap: 12px;\n",
              "    }\n",
              "\n",
              "    .colab-df-convert {\n",
              "      background-color: #E8F0FE;\n",
              "      border: none;\n",
              "      border-radius: 50%;\n",
              "      cursor: pointer;\n",
              "      display: none;\n",
              "      fill: #1967D2;\n",
              "      height: 32px;\n",
              "      padding: 0 0 0 0;\n",
              "      width: 32px;\n",
              "    }\n",
              "\n",
              "    .colab-df-convert:hover {\n",
              "      background-color: #E2EBFA;\n",
              "      box-shadow: 0px 1px 2px rgba(60, 64, 67, 0.3), 0px 1px 3px 1px rgba(60, 64, 67, 0.15);\n",
              "      fill: #174EA6;\n",
              "    }\n",
              "\n",
              "    [theme=dark] .colab-df-convert {\n",
              "      background-color: #3B4455;\n",
              "      fill: #D2E3FC;\n",
              "    }\n",
              "\n",
              "    [theme=dark] .colab-df-convert:hover {\n",
              "      background-color: #434B5C;\n",
              "      box-shadow: 0px 1px 3px 1px rgba(0, 0, 0, 0.15);\n",
              "      filter: drop-shadow(0px 1px 2px rgba(0, 0, 0, 0.3));\n",
              "      fill: #FFFFFF;\n",
              "    }\n",
              "  </style>\n",
              "\n",
              "      <script>\n",
              "        const buttonEl =\n",
              "          document.querySelector('#df-83efdd80-34f2-4324-8e96-12d0a0026846 button.colab-df-convert');\n",
              "        buttonEl.style.display =\n",
              "          google.colab.kernel.accessAllowed ? 'block' : 'none';\n",
              "\n",
              "        async function convertToInteractive(key) {\n",
              "          const element = document.querySelector('#df-83efdd80-34f2-4324-8e96-12d0a0026846');\n",
              "          const dataTable =\n",
              "            await google.colab.kernel.invokeFunction('convertToInteractive',\n",
              "                                                     [key], {});\n",
              "          if (!dataTable) return;\n",
              "\n",
              "          const docLinkHtml = 'Like what you see? Visit the ' +\n",
              "            '<a target=\"_blank\" href=https://colab.research.google.com/notebooks/data_table.ipynb>data table notebook</a>'\n",
              "            + ' to learn more about interactive tables.';\n",
              "          element.innerHTML = '';\n",
              "          dataTable['output_type'] = 'display_data';\n",
              "          await google.colab.output.renderOutput(dataTable, element);\n",
              "          const docLink = document.createElement('div');\n",
              "          docLink.innerHTML = docLinkHtml;\n",
              "          element.appendChild(docLink);\n",
              "        }\n",
              "      </script>\n",
              "    </div>\n",
              "  </div>\n",
              "  "
            ]
          },
          "metadata": {},
          "execution_count": 168
        }
      ]
    },
    {
      "cell_type": "markdown",
      "source": [
        "check missing"
      ],
      "metadata": {
        "id": "SQ7mr3FdnKPI"
      }
    },
    {
      "cell_type": "code",
      "source": [
        "asssh.isnull().any()"
      ],
      "metadata": {
        "id": "xuyqG1ylnLjX",
        "outputId": "46d44e96-6530-4e47-834c-7721b8d684ab",
        "colab": {
          "base_uri": "https://localhost:8080/"
        }
      },
      "execution_count": 169,
      "outputs": [
        {
          "output_type": "execute_result",
          "data": {
            "text/plain": [
              "post id         False\n",
              "ราคาทรัพย์      False\n",
              "ประเมินโดย 1    False\n",
              "ประเมินโดย 2    False\n",
              "dtype: bool"
            ]
          },
          "metadata": {},
          "execution_count": 169
        }
      ]
    },
    {
      "cell_type": "markdown",
      "source": [
        "##Mape shop house"
      ],
      "metadata": {
        "id": "10v9603gnPo7"
      }
    },
    {
      "cell_type": "code",
      "source": [
        "actual_sh = asssh[['ราคาทรัพย์']]\n",
        "pred_1sh = asssh[['ประเมินโดย 1']]\n",
        "pred_2sh = asssh[['ประเมินโดย 2']]"
      ],
      "metadata": {
        "id": "K6FYqD0vnQsC"
      },
      "execution_count": 170,
      "outputs": []
    },
    {
      "cell_type": "code",
      "source": [
        "mpsh1 = mape(actual_sh,pred_1sh)\n",
        "mpsh2 = mape(actual_sh,pred_2sh)\n",
        "mpsh12 = mape(pred_1sh,pred_2sh)"
      ],
      "metadata": {
        "id": "0vUQAZmTnR4z"
      },
      "execution_count": 171,
      "outputs": []
    },
    {
      "cell_type": "code",
      "source": [
        "print(f' MAPE ราคาทรัพย์กับผู้ประเมินคนที่ 1 คือ {mpsh1:.2f}\\n MAPE ราคาทรัพย์กับผู้ประเมินคนที่ 2 คือ {mpsh2:.2f}\\n MAPE ราคาตั้งขายของผู้ประเมินคนที่ 1 กับ ผู้ประเมินคนที่ 2 คือ {mpsh12:.2f}')"
      ],
      "metadata": {
        "id": "ctwRX2OGnUDt",
        "outputId": "d1e920b6-ff85-4b5a-e792-e79cc754c78c",
        "colab": {
          "base_uri": "https://localhost:8080/"
        }
      },
      "execution_count": 172,
      "outputs": [
        {
          "output_type": "stream",
          "name": "stdout",
          "text": [
            " MAPE ราคาทรัพย์กับผู้ประเมินคนที่ 1 คือ 0.12\n",
            " MAPE ราคาทรัพย์กับผู้ประเมินคนที่ 2 คือ 0.11\n",
            " MAPE ราคาตั้งขายของผู้ประเมินคนที่ 1 กับ ผู้ประเมินคนที่ 2 คือ 0.13\n"
          ]
        }
      ]
    },
    {
      "cell_type": "markdown",
      "source": [
        "# HW2"
      ],
      "metadata": {
        "id": "Kprpw89CCuU2"
      }
    },
    {
      "cell_type": "markdown",
      "source": [
        "# เขียน function ตรวจสอบค่าที่เติม 0 ผิด"
      ],
      "metadata": {
        "id": "HdcWwnF3xSa2"
      }
    },
    {
      "cell_type": "markdown",
      "source": [
        "Check1 = list()\n",
        "for row in ass_h.iterrows() :\n",
        "    print(row)"
      ],
      "metadata": {
        "id": "rCYLBADCxdCy"
      }
    },
    {
      "cell_type": "code",
      "source": [
        "max(10,2)"
      ],
      "metadata": {
        "id": "TXQxtklMFqH0",
        "outputId": "61bb9c89-eb75-4b71-9074-c59e33dd9642",
        "colab": {
          "base_uri": "https://localhost:8080/"
        }
      },
      "execution_count": 173,
      "outputs": [
        {
          "output_type": "execute_result",
          "data": {
            "text/plain": [
              "10"
            ]
          },
          "metadata": {},
          "execution_count": 173
        }
      ]
    },
    {
      "cell_type": "code",
      "source": [
        "def check_v(in1,in2):\n",
        "    return max(in1/in2,in2/in1)"
      ],
      "metadata": {
        "id": "v6Sa_VJrxdCx"
      },
      "execution_count": 174,
      "outputs": []
    },
    {
      "cell_type": "code",
      "source": [
        "check_v(100,12)"
      ],
      "metadata": {
        "id": "lnxFB4JTK2Dp",
        "outputId": "20acfbf2-a9b9-439e-adb4-f20b37bedbb9",
        "colab": {
          "base_uri": "https://localhost:8080/"
        }
      },
      "execution_count": 175,
      "outputs": [
        {
          "output_type": "execute_result",
          "data": {
            "text/plain": [
              "8.333333333333334"
            ]
          },
          "metadata": {},
          "execution_count": 175
        }
      ]
    },
    {
      "cell_type": "code",
      "source": [
        "check_v(100,1200)"
      ],
      "metadata": {
        "id": "ksqlA3TtK7W5",
        "outputId": "0ae69502-c316-4f40-f73f-391bbfc0c838",
        "colab": {
          "base_uri": "https://localhost:8080/"
        }
      },
      "execution_count": 176,
      "outputs": [
        {
          "output_type": "execute_result",
          "data": {
            "text/plain": [
              "12.0"
            ]
          },
          "metadata": {},
          "execution_count": 176
        }
      ]
    },
    {
      "cell_type": "markdown",
      "source": [
        "# สร้าง column ใหม่ ลงในตาราง home โดย ค่าใน column คือค่า จาก function check(ราคาตั้งขาย,ราคาประเมิน1)"
      ],
      "metadata": {
        "id": "Wskkq4-aPj1b"
      }
    },
    {
      "cell_type": "code",
      "source": [
        "link = 'https://docs.google.com/spreadsheets/d/1RRNwRBBhoAruuy1pSOk-H-T427hUaixz1Y35zbzGv4Y/export?format=xlsx'"
      ],
      "metadata": {
        "id": "xEWpIdtNjRc0"
      },
      "execution_count": 177,
      "outputs": []
    },
    {
      "cell_type": "markdown",
      "source": [
        "## House"
      ],
      "metadata": {
        "id": "Px-OanYGxoue"
      }
    },
    {
      "cell_type": "code",
      "source": [
        "asshouse['Check1'] = asshouse.apply(lambda x:check_v(x['ราคาทรัพย์'],x['ประเมินโดย 1']), axis = 1)\n",
        "asshouse['Check2'] = asshouse.apply(lambda x:check_v(x['ราคาทรัพย์'],x['ประเมินโดย 2']), axis = 1)"
      ],
      "metadata": {
        "id": "9eOhc1ykDwh4"
      },
      "execution_count": 178,
      "outputs": []
    },
    {
      "cell_type": "code",
      "source": [
        "asshouse.sort_values(by=['Check1'], ascending=False)"
      ],
      "metadata": {
        "id": "FEVcKUccxdCy",
        "outputId": "ecf4603e-f357-46a1-e854-d4aa23aad963",
        "colab": {
          "base_uri": "https://localhost:8080/",
          "height": 424
        }
      },
      "execution_count": 179,
      "outputs": [
        {
          "output_type": "execute_result",
          "data": {
            "text/plain": [
              "                                   post id  ราคาทรัพย์  ประเมินโดย 1  \\\n",
              "802   https://nayoo.co/khonkaen/posts/3208    23900000     2300000.0   \n",
              "1070  https://nayoo.co/khonkaen/posts/6037     1450000     3500000.0   \n",
              "228    https://nayoo.co/khonkaen/posts/525     1933000      830000.0   \n",
              "1210  https://nayoo.co/khonkaen/posts/6255      260000      550000.0   \n",
              "767   https://nayoo.co/khonkaen/posts/2321      465000      900000.0   \n",
              "...                                    ...         ...           ...   \n",
              "266    https://nayoo.co/khonkaen/posts/585     3300000     3300000.0   \n",
              "63    https://nayoo.co/khonkaen/posts/2033     1200000     1200000.0   \n",
              "652   https://nayoo.co/khonkaen/posts/2256     2000000     2000000.0   \n",
              "43    https://nayoo.co/khonkaen/posts/1128     4200000     4200000.0   \n",
              "928   https://nayoo.co/khonkaen/posts/3819     2500000     2500000.0   \n",
              "\n",
              "      ประเมินโดย 2     Check1     Check2  \n",
              "802      2200000.0  10.391304  10.863636  \n",
              "1070     3000000.0   2.413793   2.068966  \n",
              "228      2200000.0   2.328916   1.138127  \n",
              "1210      300000.0   2.115385   1.153846  \n",
              "767       400000.0   1.935484   1.162500  \n",
              "...            ...        ...        ...  \n",
              "266      3500000.0   1.000000   1.060606  \n",
              "63       1000000.0   1.000000   1.200000  \n",
              "652      2200000.0   1.000000   1.100000  \n",
              "43       5000000.0   1.000000   1.190476  \n",
              "928      2900000.0   1.000000   1.160000  \n",
              "\n",
              "[498 rows x 6 columns]"
            ],
            "text/html": [
              "\n",
              "  <div id=\"df-c2b6a446-c2cb-4527-b41a-d14cb680305f\">\n",
              "    <div class=\"colab-df-container\">\n",
              "      <div>\n",
              "<style scoped>\n",
              "    .dataframe tbody tr th:only-of-type {\n",
              "        vertical-align: middle;\n",
              "    }\n",
              "\n",
              "    .dataframe tbody tr th {\n",
              "        vertical-align: top;\n",
              "    }\n",
              "\n",
              "    .dataframe thead th {\n",
              "        text-align: right;\n",
              "    }\n",
              "</style>\n",
              "<table border=\"1\" class=\"dataframe\">\n",
              "  <thead>\n",
              "    <tr style=\"text-align: right;\">\n",
              "      <th></th>\n",
              "      <th>post id</th>\n",
              "      <th>ราคาทรัพย์</th>\n",
              "      <th>ประเมินโดย 1</th>\n",
              "      <th>ประเมินโดย 2</th>\n",
              "      <th>Check1</th>\n",
              "      <th>Check2</th>\n",
              "    </tr>\n",
              "  </thead>\n",
              "  <tbody>\n",
              "    <tr>\n",
              "      <th>802</th>\n",
              "      <td>https://nayoo.co/khonkaen/posts/3208</td>\n",
              "      <td>23900000</td>\n",
              "      <td>2300000.0</td>\n",
              "      <td>2200000.0</td>\n",
              "      <td>10.391304</td>\n",
              "      <td>10.863636</td>\n",
              "    </tr>\n",
              "    <tr>\n",
              "      <th>1070</th>\n",
              "      <td>https://nayoo.co/khonkaen/posts/6037</td>\n",
              "      <td>1450000</td>\n",
              "      <td>3500000.0</td>\n",
              "      <td>3000000.0</td>\n",
              "      <td>2.413793</td>\n",
              "      <td>2.068966</td>\n",
              "    </tr>\n",
              "    <tr>\n",
              "      <th>228</th>\n",
              "      <td>https://nayoo.co/khonkaen/posts/525</td>\n",
              "      <td>1933000</td>\n",
              "      <td>830000.0</td>\n",
              "      <td>2200000.0</td>\n",
              "      <td>2.328916</td>\n",
              "      <td>1.138127</td>\n",
              "    </tr>\n",
              "    <tr>\n",
              "      <th>1210</th>\n",
              "      <td>https://nayoo.co/khonkaen/posts/6255</td>\n",
              "      <td>260000</td>\n",
              "      <td>550000.0</td>\n",
              "      <td>300000.0</td>\n",
              "      <td>2.115385</td>\n",
              "      <td>1.153846</td>\n",
              "    </tr>\n",
              "    <tr>\n",
              "      <th>767</th>\n",
              "      <td>https://nayoo.co/khonkaen/posts/2321</td>\n",
              "      <td>465000</td>\n",
              "      <td>900000.0</td>\n",
              "      <td>400000.0</td>\n",
              "      <td>1.935484</td>\n",
              "      <td>1.162500</td>\n",
              "    </tr>\n",
              "    <tr>\n",
              "      <th>...</th>\n",
              "      <td>...</td>\n",
              "      <td>...</td>\n",
              "      <td>...</td>\n",
              "      <td>...</td>\n",
              "      <td>...</td>\n",
              "      <td>...</td>\n",
              "    </tr>\n",
              "    <tr>\n",
              "      <th>266</th>\n",
              "      <td>https://nayoo.co/khonkaen/posts/585</td>\n",
              "      <td>3300000</td>\n",
              "      <td>3300000.0</td>\n",
              "      <td>3500000.0</td>\n",
              "      <td>1.000000</td>\n",
              "      <td>1.060606</td>\n",
              "    </tr>\n",
              "    <tr>\n",
              "      <th>63</th>\n",
              "      <td>https://nayoo.co/khonkaen/posts/2033</td>\n",
              "      <td>1200000</td>\n",
              "      <td>1200000.0</td>\n",
              "      <td>1000000.0</td>\n",
              "      <td>1.000000</td>\n",
              "      <td>1.200000</td>\n",
              "    </tr>\n",
              "    <tr>\n",
              "      <th>652</th>\n",
              "      <td>https://nayoo.co/khonkaen/posts/2256</td>\n",
              "      <td>2000000</td>\n",
              "      <td>2000000.0</td>\n",
              "      <td>2200000.0</td>\n",
              "      <td>1.000000</td>\n",
              "      <td>1.100000</td>\n",
              "    </tr>\n",
              "    <tr>\n",
              "      <th>43</th>\n",
              "      <td>https://nayoo.co/khonkaen/posts/1128</td>\n",
              "      <td>4200000</td>\n",
              "      <td>4200000.0</td>\n",
              "      <td>5000000.0</td>\n",
              "      <td>1.000000</td>\n",
              "      <td>1.190476</td>\n",
              "    </tr>\n",
              "    <tr>\n",
              "      <th>928</th>\n",
              "      <td>https://nayoo.co/khonkaen/posts/3819</td>\n",
              "      <td>2500000</td>\n",
              "      <td>2500000.0</td>\n",
              "      <td>2900000.0</td>\n",
              "      <td>1.000000</td>\n",
              "      <td>1.160000</td>\n",
              "    </tr>\n",
              "  </tbody>\n",
              "</table>\n",
              "<p>498 rows × 6 columns</p>\n",
              "</div>\n",
              "      <button class=\"colab-df-convert\" onclick=\"convertToInteractive('df-c2b6a446-c2cb-4527-b41a-d14cb680305f')\"\n",
              "              title=\"Convert this dataframe to an interactive table.\"\n",
              "              style=\"display:none;\">\n",
              "        \n",
              "  <svg xmlns=\"http://www.w3.org/2000/svg\" height=\"24px\"viewBox=\"0 0 24 24\"\n",
              "       width=\"24px\">\n",
              "    <path d=\"M0 0h24v24H0V0z\" fill=\"none\"/>\n",
              "    <path d=\"M18.56 5.44l.94 2.06.94-2.06 2.06-.94-2.06-.94-.94-2.06-.94 2.06-2.06.94zm-11 1L8.5 8.5l.94-2.06 2.06-.94-2.06-.94L8.5 2.5l-.94 2.06-2.06.94zm10 10l.94 2.06.94-2.06 2.06-.94-2.06-.94-.94-2.06-.94 2.06-2.06.94z\"/><path d=\"M17.41 7.96l-1.37-1.37c-.4-.4-.92-.59-1.43-.59-.52 0-1.04.2-1.43.59L10.3 9.45l-7.72 7.72c-.78.78-.78 2.05 0 2.83L4 21.41c.39.39.9.59 1.41.59.51 0 1.02-.2 1.41-.59l7.78-7.78 2.81-2.81c.8-.78.8-2.07 0-2.86zM5.41 20L4 18.59l7.72-7.72 1.47 1.35L5.41 20z\"/>\n",
              "  </svg>\n",
              "      </button>\n",
              "      \n",
              "  <style>\n",
              "    .colab-df-container {\n",
              "      display:flex;\n",
              "      flex-wrap:wrap;\n",
              "      gap: 12px;\n",
              "    }\n",
              "\n",
              "    .colab-df-convert {\n",
              "      background-color: #E8F0FE;\n",
              "      border: none;\n",
              "      border-radius: 50%;\n",
              "      cursor: pointer;\n",
              "      display: none;\n",
              "      fill: #1967D2;\n",
              "      height: 32px;\n",
              "      padding: 0 0 0 0;\n",
              "      width: 32px;\n",
              "    }\n",
              "\n",
              "    .colab-df-convert:hover {\n",
              "      background-color: #E2EBFA;\n",
              "      box-shadow: 0px 1px 2px rgba(60, 64, 67, 0.3), 0px 1px 3px 1px rgba(60, 64, 67, 0.15);\n",
              "      fill: #174EA6;\n",
              "    }\n",
              "\n",
              "    [theme=dark] .colab-df-convert {\n",
              "      background-color: #3B4455;\n",
              "      fill: #D2E3FC;\n",
              "    }\n",
              "\n",
              "    [theme=dark] .colab-df-convert:hover {\n",
              "      background-color: #434B5C;\n",
              "      box-shadow: 0px 1px 3px 1px rgba(0, 0, 0, 0.15);\n",
              "      filter: drop-shadow(0px 1px 2px rgba(0, 0, 0, 0.3));\n",
              "      fill: #FFFFFF;\n",
              "    }\n",
              "  </style>\n",
              "\n",
              "      <script>\n",
              "        const buttonEl =\n",
              "          document.querySelector('#df-c2b6a446-c2cb-4527-b41a-d14cb680305f button.colab-df-convert');\n",
              "        buttonEl.style.display =\n",
              "          google.colab.kernel.accessAllowed ? 'block' : 'none';\n",
              "\n",
              "        async function convertToInteractive(key) {\n",
              "          const element = document.querySelector('#df-c2b6a446-c2cb-4527-b41a-d14cb680305f');\n",
              "          const dataTable =\n",
              "            await google.colab.kernel.invokeFunction('convertToInteractive',\n",
              "                                                     [key], {});\n",
              "          if (!dataTable) return;\n",
              "\n",
              "          const docLinkHtml = 'Like what you see? Visit the ' +\n",
              "            '<a target=\"_blank\" href=https://colab.research.google.com/notebooks/data_table.ipynb>data table notebook</a>'\n",
              "            + ' to learn more about interactive tables.';\n",
              "          element.innerHTML = '';\n",
              "          dataTable['output_type'] = 'display_data';\n",
              "          await google.colab.output.renderOutput(dataTable, element);\n",
              "          const docLink = document.createElement('div');\n",
              "          docLink.innerHTML = docLinkHtml;\n",
              "          element.appendChild(docLink);\n",
              "        }\n",
              "      </script>\n",
              "    </div>\n",
              "  </div>\n",
              "  "
            ]
          },
          "metadata": {},
          "execution_count": 179
        }
      ]
    },
    {
      "cell_type": "code",
      "source": [
        "asshouse.sort_values(by=['Check2'], ascending=False)"
      ],
      "metadata": {
        "id": "czmsTrgyD6fH",
        "outputId": "fb0037ca-a0e8-42a7-fb82-70e2d2a67b97",
        "colab": {
          "base_uri": "https://localhost:8080/",
          "height": 424
        }
      },
      "execution_count": 180,
      "outputs": [
        {
          "output_type": "execute_result",
          "data": {
            "text/plain": [
              "                                    post id  ราคาทรัพย์  ประเมินโดย 1  \\\n",
              "802    https://nayoo.co/khonkaen/posts/3208    23900000     2300000.0   \n",
              "544    https://nayoo.co/khonkaen/posts/1619     2850000     2500000.0   \n",
              "292     https://nayoo.co/khonkaen/posts/622     8019000     7900000.0   \n",
              "75        https://nayoo.co/khonkaen/posts/1      390000      600000.0   \n",
              "1070   https://nayoo.co/khonkaen/posts/6037     1450000     3500000.0   \n",
              "...                                     ...         ...           ...   \n",
              "806    https://nayoo.co/khonkaen/posts/3210     2390000     2500000.0   \n",
              "169   https://nayoo.co/khonkaen/posts/11264     6500000     5600000.0   \n",
              "763    https://nayoo.co/khonkaen/posts/2319     1200000     1200000.0   \n",
              "1149   https://nayoo.co/khonkaen/posts/6096     2200000     2200000.0   \n",
              "564    https://nayoo.co/khonkaen/posts/1834     1700000     1500000.0   \n",
              "\n",
              "      ประเมินโดย 2     Check1     Check2  \n",
              "802      2200000.0  10.391304  10.863636  \n",
              "544     29000000.0   1.140000  10.175439  \n",
              "292     80000000.0   1.015063   9.976306  \n",
              "75       1300000.0   1.538462   3.333333  \n",
              "1070     3000000.0   2.413793   2.068966  \n",
              "...            ...        ...        ...  \n",
              "806      2390000.0   1.046025   1.000000  \n",
              "169      6500000.0   1.160714   1.000000  \n",
              "763      1200000.0   1.000000   1.000000  \n",
              "1149     2200000.0   1.000000   1.000000  \n",
              "564      1700000.0   1.133333   1.000000  \n",
              "\n",
              "[498 rows x 6 columns]"
            ],
            "text/html": [
              "\n",
              "  <div id=\"df-8774080a-6e19-4961-9c07-f76c6be09aaa\">\n",
              "    <div class=\"colab-df-container\">\n",
              "      <div>\n",
              "<style scoped>\n",
              "    .dataframe tbody tr th:only-of-type {\n",
              "        vertical-align: middle;\n",
              "    }\n",
              "\n",
              "    .dataframe tbody tr th {\n",
              "        vertical-align: top;\n",
              "    }\n",
              "\n",
              "    .dataframe thead th {\n",
              "        text-align: right;\n",
              "    }\n",
              "</style>\n",
              "<table border=\"1\" class=\"dataframe\">\n",
              "  <thead>\n",
              "    <tr style=\"text-align: right;\">\n",
              "      <th></th>\n",
              "      <th>post id</th>\n",
              "      <th>ราคาทรัพย์</th>\n",
              "      <th>ประเมินโดย 1</th>\n",
              "      <th>ประเมินโดย 2</th>\n",
              "      <th>Check1</th>\n",
              "      <th>Check2</th>\n",
              "    </tr>\n",
              "  </thead>\n",
              "  <tbody>\n",
              "    <tr>\n",
              "      <th>802</th>\n",
              "      <td>https://nayoo.co/khonkaen/posts/3208</td>\n",
              "      <td>23900000</td>\n",
              "      <td>2300000.0</td>\n",
              "      <td>2200000.0</td>\n",
              "      <td>10.391304</td>\n",
              "      <td>10.863636</td>\n",
              "    </tr>\n",
              "    <tr>\n",
              "      <th>544</th>\n",
              "      <td>https://nayoo.co/khonkaen/posts/1619</td>\n",
              "      <td>2850000</td>\n",
              "      <td>2500000.0</td>\n",
              "      <td>29000000.0</td>\n",
              "      <td>1.140000</td>\n",
              "      <td>10.175439</td>\n",
              "    </tr>\n",
              "    <tr>\n",
              "      <th>292</th>\n",
              "      <td>https://nayoo.co/khonkaen/posts/622</td>\n",
              "      <td>8019000</td>\n",
              "      <td>7900000.0</td>\n",
              "      <td>80000000.0</td>\n",
              "      <td>1.015063</td>\n",
              "      <td>9.976306</td>\n",
              "    </tr>\n",
              "    <tr>\n",
              "      <th>75</th>\n",
              "      <td>https://nayoo.co/khonkaen/posts/1</td>\n",
              "      <td>390000</td>\n",
              "      <td>600000.0</td>\n",
              "      <td>1300000.0</td>\n",
              "      <td>1.538462</td>\n",
              "      <td>3.333333</td>\n",
              "    </tr>\n",
              "    <tr>\n",
              "      <th>1070</th>\n",
              "      <td>https://nayoo.co/khonkaen/posts/6037</td>\n",
              "      <td>1450000</td>\n",
              "      <td>3500000.0</td>\n",
              "      <td>3000000.0</td>\n",
              "      <td>2.413793</td>\n",
              "      <td>2.068966</td>\n",
              "    </tr>\n",
              "    <tr>\n",
              "      <th>...</th>\n",
              "      <td>...</td>\n",
              "      <td>...</td>\n",
              "      <td>...</td>\n",
              "      <td>...</td>\n",
              "      <td>...</td>\n",
              "      <td>...</td>\n",
              "    </tr>\n",
              "    <tr>\n",
              "      <th>806</th>\n",
              "      <td>https://nayoo.co/khonkaen/posts/3210</td>\n",
              "      <td>2390000</td>\n",
              "      <td>2500000.0</td>\n",
              "      <td>2390000.0</td>\n",
              "      <td>1.046025</td>\n",
              "      <td>1.000000</td>\n",
              "    </tr>\n",
              "    <tr>\n",
              "      <th>169</th>\n",
              "      <td>https://nayoo.co/khonkaen/posts/11264</td>\n",
              "      <td>6500000</td>\n",
              "      <td>5600000.0</td>\n",
              "      <td>6500000.0</td>\n",
              "      <td>1.160714</td>\n",
              "      <td>1.000000</td>\n",
              "    </tr>\n",
              "    <tr>\n",
              "      <th>763</th>\n",
              "      <td>https://nayoo.co/khonkaen/posts/2319</td>\n",
              "      <td>1200000</td>\n",
              "      <td>1200000.0</td>\n",
              "      <td>1200000.0</td>\n",
              "      <td>1.000000</td>\n",
              "      <td>1.000000</td>\n",
              "    </tr>\n",
              "    <tr>\n",
              "      <th>1149</th>\n",
              "      <td>https://nayoo.co/khonkaen/posts/6096</td>\n",
              "      <td>2200000</td>\n",
              "      <td>2200000.0</td>\n",
              "      <td>2200000.0</td>\n",
              "      <td>1.000000</td>\n",
              "      <td>1.000000</td>\n",
              "    </tr>\n",
              "    <tr>\n",
              "      <th>564</th>\n",
              "      <td>https://nayoo.co/khonkaen/posts/1834</td>\n",
              "      <td>1700000</td>\n",
              "      <td>1500000.0</td>\n",
              "      <td>1700000.0</td>\n",
              "      <td>1.133333</td>\n",
              "      <td>1.000000</td>\n",
              "    </tr>\n",
              "  </tbody>\n",
              "</table>\n",
              "<p>498 rows × 6 columns</p>\n",
              "</div>\n",
              "      <button class=\"colab-df-convert\" onclick=\"convertToInteractive('df-8774080a-6e19-4961-9c07-f76c6be09aaa')\"\n",
              "              title=\"Convert this dataframe to an interactive table.\"\n",
              "              style=\"display:none;\">\n",
              "        \n",
              "  <svg xmlns=\"http://www.w3.org/2000/svg\" height=\"24px\"viewBox=\"0 0 24 24\"\n",
              "       width=\"24px\">\n",
              "    <path d=\"M0 0h24v24H0V0z\" fill=\"none\"/>\n",
              "    <path d=\"M18.56 5.44l.94 2.06.94-2.06 2.06-.94-2.06-.94-.94-2.06-.94 2.06-2.06.94zm-11 1L8.5 8.5l.94-2.06 2.06-.94-2.06-.94L8.5 2.5l-.94 2.06-2.06.94zm10 10l.94 2.06.94-2.06 2.06-.94-2.06-.94-.94-2.06-.94 2.06-2.06.94z\"/><path d=\"M17.41 7.96l-1.37-1.37c-.4-.4-.92-.59-1.43-.59-.52 0-1.04.2-1.43.59L10.3 9.45l-7.72 7.72c-.78.78-.78 2.05 0 2.83L4 21.41c.39.39.9.59 1.41.59.51 0 1.02-.2 1.41-.59l7.78-7.78 2.81-2.81c.8-.78.8-2.07 0-2.86zM5.41 20L4 18.59l7.72-7.72 1.47 1.35L5.41 20z\"/>\n",
              "  </svg>\n",
              "      </button>\n",
              "      \n",
              "  <style>\n",
              "    .colab-df-container {\n",
              "      display:flex;\n",
              "      flex-wrap:wrap;\n",
              "      gap: 12px;\n",
              "    }\n",
              "\n",
              "    .colab-df-convert {\n",
              "      background-color: #E8F0FE;\n",
              "      border: none;\n",
              "      border-radius: 50%;\n",
              "      cursor: pointer;\n",
              "      display: none;\n",
              "      fill: #1967D2;\n",
              "      height: 32px;\n",
              "      padding: 0 0 0 0;\n",
              "      width: 32px;\n",
              "    }\n",
              "\n",
              "    .colab-df-convert:hover {\n",
              "      background-color: #E2EBFA;\n",
              "      box-shadow: 0px 1px 2px rgba(60, 64, 67, 0.3), 0px 1px 3px 1px rgba(60, 64, 67, 0.15);\n",
              "      fill: #174EA6;\n",
              "    }\n",
              "\n",
              "    [theme=dark] .colab-df-convert {\n",
              "      background-color: #3B4455;\n",
              "      fill: #D2E3FC;\n",
              "    }\n",
              "\n",
              "    [theme=dark] .colab-df-convert:hover {\n",
              "      background-color: #434B5C;\n",
              "      box-shadow: 0px 1px 3px 1px rgba(0, 0, 0, 0.15);\n",
              "      filter: drop-shadow(0px 1px 2px rgba(0, 0, 0, 0.3));\n",
              "      fill: #FFFFFF;\n",
              "    }\n",
              "  </style>\n",
              "\n",
              "      <script>\n",
              "        const buttonEl =\n",
              "          document.querySelector('#df-8774080a-6e19-4961-9c07-f76c6be09aaa button.colab-df-convert');\n",
              "        buttonEl.style.display =\n",
              "          google.colab.kernel.accessAllowed ? 'block' : 'none';\n",
              "\n",
              "        async function convertToInteractive(key) {\n",
              "          const element = document.querySelector('#df-8774080a-6e19-4961-9c07-f76c6be09aaa');\n",
              "          const dataTable =\n",
              "            await google.colab.kernel.invokeFunction('convertToInteractive',\n",
              "                                                     [key], {});\n",
              "          if (!dataTable) return;\n",
              "\n",
              "          const docLinkHtml = 'Like what you see? Visit the ' +\n",
              "            '<a target=\"_blank\" href=https://colab.research.google.com/notebooks/data_table.ipynb>data table notebook</a>'\n",
              "            + ' to learn more about interactive tables.';\n",
              "          element.innerHTML = '';\n",
              "          dataTable['output_type'] = 'display_data';\n",
              "          await google.colab.output.renderOutput(dataTable, element);\n",
              "          const docLink = document.createElement('div');\n",
              "          docLink.innerHTML = docLinkHtml;\n",
              "          element.appendChild(docLink);\n",
              "        }\n",
              "      </script>\n",
              "    </div>\n",
              "  </div>\n",
              "  "
            ]
          },
          "metadata": {},
          "execution_count": 180
        }
      ]
    },
    {
      "cell_type": "markdown",
      "source": [
        "### Mape House\n",
        "\n"
      ],
      "metadata": {
        "id": "6o0C6YPJsQYp"
      }
    },
    {
      "cell_type": "code",
      "source": [
        "datahousen = pd.read_excel(link,sheet_name='บ้าน')\n",
        "pm1 = datahousen[datahousen['ID ผู้ประเมิน']==1]\n",
        "pm1 = pm1.dropna(subset=['ราคาทรัพย์','ประเมินราคาซื้อ-ขาย'])\n",
        "pm2 = datahousen[datahousen['ID ผู้ประเมิน']==2]\n",
        "pm2 = pm2.dropna(subset=['ราคาทรัพย์','ประเมินราคาซื้อ-ขาย'])\n",
        "pm1MAPE = mape(pm1['ประเมินราคาซื้อ-ขาย'],pd.to_numeric(pm1['ราคาทรัพย์']))\n",
        "pm2MAPE = mape(pm2['ประเมินราคาซื้อ-ขาย'],pd.to_numeric(pm2['ราคาทรัพย์']))\n",
        "print(f'ความแตกต่างระหว่างราคาประกาศขายและราคาประเมินของ\\nบ้าน\\nนักประเมิน คนที่ 1 = {pm1MAPE*100:.2f}%\\nนักประเมิน คนที่ 2 = {pm2MAPE*100:.2f}%')\n",
        "pm2['ประเมิน2'] = pm2['post id'].map(pm1.set_index('post id')['ประเมินราคาซื้อ-ขาย'])\n",
        "pm2_d = pm2.dropna(subset=['ประเมินราคาซื้อ-ขาย','ประเมิน2','ราคาทรัพย์'])\n",
        "one2two = mape(pm2_d['ประเมินราคาซื้อ-ขาย'],pm2_d['ประเมิน2'])\n",
        "two2one = mape(pm2_d['ประเมิน2'],pm2_d['ประเมินราคาซื้อ-ขาย'])\n",
        "print(f'ความผิดพลาดระหว่างนักประเมินทั้ง {((one2two)+(two2one))*50:.2f}%')\n",
        "print(f'จำนวนทรัพย์ทั้งหมด {len(pm2_d)} ทรัพย์')"
      ],
      "metadata": {
        "id": "fMua5eaCsS1b",
        "outputId": "bb85d8e7-fb3b-4778-e86b-67575a5a01fb",
        "colab": {
          "base_uri": "https://localhost:8080/"
        }
      },
      "execution_count": 181,
      "outputs": [
        {
          "output_type": "stream",
          "name": "stdout",
          "text": [
            "ความแตกต่างระหว่างราคาประกาศขายและราคาประเมินของ\n",
            "บ้าน\n",
            "นักประเมิน คนที่ 1 = 12.97%\n",
            "นักประเมิน คนที่ 2 = 8.82%\n",
            "ความผิดพลาดระหว่างนักประเมินทั้ง 12.45%\n",
            "จำนวนทรัพย์ทั้งหมด 497 ทรัพย์\n"
          ]
        }
      ]
    },
    {
      "cell_type": "markdown",
      "source": [
        "## Land"
      ],
      "metadata": {
        "id": "Kzew5AVqOB0Z"
      }
    },
    {
      "cell_type": "code",
      "source": [
        "assland['Check1'] = assland.apply(lambda x:check_v(x['ราคาทรัพย์'],x['ประเมินโดย 1']), axis = 1)\n",
        "assland['Check2'] = assland.apply(lambda x:check_v(x['ราคาทรัพย์'],x['ประเมินโดย 2']), axis = 1)"
      ],
      "metadata": {
        "id": "bHWmuvFgENox",
        "colab": {
          "base_uri": "https://localhost:8080/"
        },
        "outputId": "582093f9-3400-409f-83a7-314e9d43f9fd"
      },
      "execution_count": 182,
      "outputs": [
        {
          "output_type": "stream",
          "name": "stderr",
          "text": [
            "<ipython-input-182-1e95f7aff8a0>:1: SettingWithCopyWarning: \n",
            "A value is trying to be set on a copy of a slice from a DataFrame.\n",
            "Try using .loc[row_indexer,col_indexer] = value instead\n",
            "\n",
            "See the caveats in the documentation: https://pandas.pydata.org/pandas-docs/stable/user_guide/indexing.html#returning-a-view-versus-a-copy\n",
            "  assland['Check1'] = assland.apply(lambda x:check_v(x['ราคาทรัพย์'],x['ประเมินโดย 1']), axis = 1)\n",
            "<ipython-input-182-1e95f7aff8a0>:2: SettingWithCopyWarning: \n",
            "A value is trying to be set on a copy of a slice from a DataFrame.\n",
            "Try using .loc[row_indexer,col_indexer] = value instead\n",
            "\n",
            "See the caveats in the documentation: https://pandas.pydata.org/pandas-docs/stable/user_guide/indexing.html#returning-a-view-versus-a-copy\n",
            "  assland['Check2'] = assland.apply(lambda x:check_v(x['ราคาทรัพย์'],x['ประเมินโดย 2']), axis = 1)\n"
          ]
        }
      ]
    },
    {
      "cell_type": "code",
      "source": [
        "assland.sort_values(by=['Check1'], ascending=False)"
      ],
      "metadata": {
        "id": "lE-djjxjOVn-",
        "outputId": "76e6e724-655a-46cb-8ea2-e26bf09516fe",
        "colab": {
          "base_uri": "https://localhost:8080/",
          "height": 424
        }
      },
      "execution_count": 183,
      "outputs": [
        {
          "output_type": "execute_result",
          "data": {
            "text/plain": [
              "                                   post id  ราคาทรัพย์  ประเมินโดย 1  \\\n",
              "194  https://nayoo.co/khonkaen/posts/13702    90000000     4500000.0   \n",
              "112   https://nayoo.co/khonkaen/posts/7955     2600000    32000000.0   \n",
              "47    https://nayoo.co/khonkaen/posts/7349   245000000    24000000.0   \n",
              "58    https://nayoo.co/khonkaen/posts/9203   120000000    14000000.0   \n",
              "7     https://nayoo.co/khonkaen/posts/1726    90000000    18000000.0   \n",
              "..                                     ...         ...           ...   \n",
              "182   https://nayoo.co/khonkaen/posts/9598     3900000     4000000.0   \n",
              "78    https://nayoo.co/khonkaen/posts/3447      980000     1000000.0   \n",
              "100   https://nayoo.co/khonkaen/posts/1663     1485000     1500000.0   \n",
              "122  https://nayoo.co/khonkaen/posts/12762      650000      650000.0   \n",
              "130   https://nayoo.co/khonkaen/posts/1599     2500000     2500000.0   \n",
              "\n",
              "     ประเมินโดย 2     Check1     Check2  \n",
              "194    75000000.0  20.000000   1.200000  \n",
              "112     2000000.0  12.307692   1.300000  \n",
              "47     18000000.0  10.208333  13.611111  \n",
              "58     11000000.0   8.571429  10.909091  \n",
              "7      70000000.0   5.000000   1.285714  \n",
              "..            ...        ...        ...  \n",
              "182     4000000.0   1.025641   1.025641  \n",
              "78       800000.0   1.020408   1.225000  \n",
              "100     1200000.0   1.010101   1.237500  \n",
              "122      700000.0   1.000000   1.076923  \n",
              "130     2200000.0   1.000000   1.136364  \n",
              "\n",
              "[100 rows x 6 columns]"
            ],
            "text/html": [
              "\n",
              "  <div id=\"df-c1b0521a-e69a-4510-83ca-4404658e5fff\">\n",
              "    <div class=\"colab-df-container\">\n",
              "      <div>\n",
              "<style scoped>\n",
              "    .dataframe tbody tr th:only-of-type {\n",
              "        vertical-align: middle;\n",
              "    }\n",
              "\n",
              "    .dataframe tbody tr th {\n",
              "        vertical-align: top;\n",
              "    }\n",
              "\n",
              "    .dataframe thead th {\n",
              "        text-align: right;\n",
              "    }\n",
              "</style>\n",
              "<table border=\"1\" class=\"dataframe\">\n",
              "  <thead>\n",
              "    <tr style=\"text-align: right;\">\n",
              "      <th></th>\n",
              "      <th>post id</th>\n",
              "      <th>ราคาทรัพย์</th>\n",
              "      <th>ประเมินโดย 1</th>\n",
              "      <th>ประเมินโดย 2</th>\n",
              "      <th>Check1</th>\n",
              "      <th>Check2</th>\n",
              "    </tr>\n",
              "  </thead>\n",
              "  <tbody>\n",
              "    <tr>\n",
              "      <th>194</th>\n",
              "      <td>https://nayoo.co/khonkaen/posts/13702</td>\n",
              "      <td>90000000</td>\n",
              "      <td>4500000.0</td>\n",
              "      <td>75000000.0</td>\n",
              "      <td>20.000000</td>\n",
              "      <td>1.200000</td>\n",
              "    </tr>\n",
              "    <tr>\n",
              "      <th>112</th>\n",
              "      <td>https://nayoo.co/khonkaen/posts/7955</td>\n",
              "      <td>2600000</td>\n",
              "      <td>32000000.0</td>\n",
              "      <td>2000000.0</td>\n",
              "      <td>12.307692</td>\n",
              "      <td>1.300000</td>\n",
              "    </tr>\n",
              "    <tr>\n",
              "      <th>47</th>\n",
              "      <td>https://nayoo.co/khonkaen/posts/7349</td>\n",
              "      <td>245000000</td>\n",
              "      <td>24000000.0</td>\n",
              "      <td>18000000.0</td>\n",
              "      <td>10.208333</td>\n",
              "      <td>13.611111</td>\n",
              "    </tr>\n",
              "    <tr>\n",
              "      <th>58</th>\n",
              "      <td>https://nayoo.co/khonkaen/posts/9203</td>\n",
              "      <td>120000000</td>\n",
              "      <td>14000000.0</td>\n",
              "      <td>11000000.0</td>\n",
              "      <td>8.571429</td>\n",
              "      <td>10.909091</td>\n",
              "    </tr>\n",
              "    <tr>\n",
              "      <th>7</th>\n",
              "      <td>https://nayoo.co/khonkaen/posts/1726</td>\n",
              "      <td>90000000</td>\n",
              "      <td>18000000.0</td>\n",
              "      <td>70000000.0</td>\n",
              "      <td>5.000000</td>\n",
              "      <td>1.285714</td>\n",
              "    </tr>\n",
              "    <tr>\n",
              "      <th>...</th>\n",
              "      <td>...</td>\n",
              "      <td>...</td>\n",
              "      <td>...</td>\n",
              "      <td>...</td>\n",
              "      <td>...</td>\n",
              "      <td>...</td>\n",
              "    </tr>\n",
              "    <tr>\n",
              "      <th>182</th>\n",
              "      <td>https://nayoo.co/khonkaen/posts/9598</td>\n",
              "      <td>3900000</td>\n",
              "      <td>4000000.0</td>\n",
              "      <td>4000000.0</td>\n",
              "      <td>1.025641</td>\n",
              "      <td>1.025641</td>\n",
              "    </tr>\n",
              "    <tr>\n",
              "      <th>78</th>\n",
              "      <td>https://nayoo.co/khonkaen/posts/3447</td>\n",
              "      <td>980000</td>\n",
              "      <td>1000000.0</td>\n",
              "      <td>800000.0</td>\n",
              "      <td>1.020408</td>\n",
              "      <td>1.225000</td>\n",
              "    </tr>\n",
              "    <tr>\n",
              "      <th>100</th>\n",
              "      <td>https://nayoo.co/khonkaen/posts/1663</td>\n",
              "      <td>1485000</td>\n",
              "      <td>1500000.0</td>\n",
              "      <td>1200000.0</td>\n",
              "      <td>1.010101</td>\n",
              "      <td>1.237500</td>\n",
              "    </tr>\n",
              "    <tr>\n",
              "      <th>122</th>\n",
              "      <td>https://nayoo.co/khonkaen/posts/12762</td>\n",
              "      <td>650000</td>\n",
              "      <td>650000.0</td>\n",
              "      <td>700000.0</td>\n",
              "      <td>1.000000</td>\n",
              "      <td>1.076923</td>\n",
              "    </tr>\n",
              "    <tr>\n",
              "      <th>130</th>\n",
              "      <td>https://nayoo.co/khonkaen/posts/1599</td>\n",
              "      <td>2500000</td>\n",
              "      <td>2500000.0</td>\n",
              "      <td>2200000.0</td>\n",
              "      <td>1.000000</td>\n",
              "      <td>1.136364</td>\n",
              "    </tr>\n",
              "  </tbody>\n",
              "</table>\n",
              "<p>100 rows × 6 columns</p>\n",
              "</div>\n",
              "      <button class=\"colab-df-convert\" onclick=\"convertToInteractive('df-c1b0521a-e69a-4510-83ca-4404658e5fff')\"\n",
              "              title=\"Convert this dataframe to an interactive table.\"\n",
              "              style=\"display:none;\">\n",
              "        \n",
              "  <svg xmlns=\"http://www.w3.org/2000/svg\" height=\"24px\"viewBox=\"0 0 24 24\"\n",
              "       width=\"24px\">\n",
              "    <path d=\"M0 0h24v24H0V0z\" fill=\"none\"/>\n",
              "    <path d=\"M18.56 5.44l.94 2.06.94-2.06 2.06-.94-2.06-.94-.94-2.06-.94 2.06-2.06.94zm-11 1L8.5 8.5l.94-2.06 2.06-.94-2.06-.94L8.5 2.5l-.94 2.06-2.06.94zm10 10l.94 2.06.94-2.06 2.06-.94-2.06-.94-.94-2.06-.94 2.06-2.06.94z\"/><path d=\"M17.41 7.96l-1.37-1.37c-.4-.4-.92-.59-1.43-.59-.52 0-1.04.2-1.43.59L10.3 9.45l-7.72 7.72c-.78.78-.78 2.05 0 2.83L4 21.41c.39.39.9.59 1.41.59.51 0 1.02-.2 1.41-.59l7.78-7.78 2.81-2.81c.8-.78.8-2.07 0-2.86zM5.41 20L4 18.59l7.72-7.72 1.47 1.35L5.41 20z\"/>\n",
              "  </svg>\n",
              "      </button>\n",
              "      \n",
              "  <style>\n",
              "    .colab-df-container {\n",
              "      display:flex;\n",
              "      flex-wrap:wrap;\n",
              "      gap: 12px;\n",
              "    }\n",
              "\n",
              "    .colab-df-convert {\n",
              "      background-color: #E8F0FE;\n",
              "      border: none;\n",
              "      border-radius: 50%;\n",
              "      cursor: pointer;\n",
              "      display: none;\n",
              "      fill: #1967D2;\n",
              "      height: 32px;\n",
              "      padding: 0 0 0 0;\n",
              "      width: 32px;\n",
              "    }\n",
              "\n",
              "    .colab-df-convert:hover {\n",
              "      background-color: #E2EBFA;\n",
              "      box-shadow: 0px 1px 2px rgba(60, 64, 67, 0.3), 0px 1px 3px 1px rgba(60, 64, 67, 0.15);\n",
              "      fill: #174EA6;\n",
              "    }\n",
              "\n",
              "    [theme=dark] .colab-df-convert {\n",
              "      background-color: #3B4455;\n",
              "      fill: #D2E3FC;\n",
              "    }\n",
              "\n",
              "    [theme=dark] .colab-df-convert:hover {\n",
              "      background-color: #434B5C;\n",
              "      box-shadow: 0px 1px 3px 1px rgba(0, 0, 0, 0.15);\n",
              "      filter: drop-shadow(0px 1px 2px rgba(0, 0, 0, 0.3));\n",
              "      fill: #FFFFFF;\n",
              "    }\n",
              "  </style>\n",
              "\n",
              "      <script>\n",
              "        const buttonEl =\n",
              "          document.querySelector('#df-c1b0521a-e69a-4510-83ca-4404658e5fff button.colab-df-convert');\n",
              "        buttonEl.style.display =\n",
              "          google.colab.kernel.accessAllowed ? 'block' : 'none';\n",
              "\n",
              "        async function convertToInteractive(key) {\n",
              "          const element = document.querySelector('#df-c1b0521a-e69a-4510-83ca-4404658e5fff');\n",
              "          const dataTable =\n",
              "            await google.colab.kernel.invokeFunction('convertToInteractive',\n",
              "                                                     [key], {});\n",
              "          if (!dataTable) return;\n",
              "\n",
              "          const docLinkHtml = 'Like what you see? Visit the ' +\n",
              "            '<a target=\"_blank\" href=https://colab.research.google.com/notebooks/data_table.ipynb>data table notebook</a>'\n",
              "            + ' to learn more about interactive tables.';\n",
              "          element.innerHTML = '';\n",
              "          dataTable['output_type'] = 'display_data';\n",
              "          await google.colab.output.renderOutput(dataTable, element);\n",
              "          const docLink = document.createElement('div');\n",
              "          docLink.innerHTML = docLinkHtml;\n",
              "          element.appendChild(docLink);\n",
              "        }\n",
              "      </script>\n",
              "    </div>\n",
              "  </div>\n",
              "  "
            ]
          },
          "metadata": {},
          "execution_count": 183
        }
      ]
    },
    {
      "cell_type": "code",
      "source": [
        "assland.sort_values(by=['Check2'], ascending=False)"
      ],
      "metadata": {
        "id": "bNHigT8XObQE",
        "outputId": "04100509-af8d-4f55-9627-b038a52838e6",
        "colab": {
          "base_uri": "https://localhost:8080/",
          "height": 424
        }
      },
      "execution_count": 184,
      "outputs": [
        {
          "output_type": "execute_result",
          "data": {
            "text/plain": [
              "                                   post id  ราคาทรัพย์  ประเมินโดย 1  \\\n",
              "47    https://nayoo.co/khonkaen/posts/7349   245000000    24000000.0   \n",
              "58    https://nayoo.co/khonkaen/posts/9203   120000000    14000000.0   \n",
              "148   https://nayoo.co/khonkaen/posts/3561     7374550     6000000.0   \n",
              "188  https://nayoo.co/khonkaen/posts/12250     2300000     2500000.0   \n",
              "144   https://nayoo.co/khonkaen/posts/3341     1700000     1600000.0   \n",
              "..                                     ...         ...           ...   \n",
              "104   https://nayoo.co/khonkaen/posts/1921     8080000     2800000.0   \n",
              "60   https://nayoo.co/khonkaen/posts/12607     7990000    10000000.0   \n",
              "202  https://nayoo.co/khonkaen/posts/16072      750000      500000.0   \n",
              "158   https://nayoo.co/khonkaen/posts/6732     3500000     2800000.0   \n",
              "37    https://nayoo.co/khonkaen/posts/3305    14000000    12000000.0   \n",
              "\n",
              "     ประเมินโดย 2     Check1     Check2  \n",
              "47     18000000.0  10.208333  13.611111  \n",
              "58     11000000.0   8.571429  10.909091  \n",
              "148    80000000.0   1.229092  10.848120  \n",
              "188    24000000.0   1.086957  10.434783  \n",
              "144     9000000.0   1.062500   5.294118  \n",
              "..            ...        ...        ...  \n",
              "104     8000000.0   2.885714   1.010000  \n",
              "60      8000000.0   1.251564   1.001252  \n",
              "202      750000.0   1.500000   1.000000  \n",
              "158     3500000.0   1.250000   1.000000  \n",
              "37     14000000.0   1.166667   1.000000  \n",
              "\n",
              "[100 rows x 6 columns]"
            ],
            "text/html": [
              "\n",
              "  <div id=\"df-ed117e05-de95-4cd8-bf05-938ad56810ab\">\n",
              "    <div class=\"colab-df-container\">\n",
              "      <div>\n",
              "<style scoped>\n",
              "    .dataframe tbody tr th:only-of-type {\n",
              "        vertical-align: middle;\n",
              "    }\n",
              "\n",
              "    .dataframe tbody tr th {\n",
              "        vertical-align: top;\n",
              "    }\n",
              "\n",
              "    .dataframe thead th {\n",
              "        text-align: right;\n",
              "    }\n",
              "</style>\n",
              "<table border=\"1\" class=\"dataframe\">\n",
              "  <thead>\n",
              "    <tr style=\"text-align: right;\">\n",
              "      <th></th>\n",
              "      <th>post id</th>\n",
              "      <th>ราคาทรัพย์</th>\n",
              "      <th>ประเมินโดย 1</th>\n",
              "      <th>ประเมินโดย 2</th>\n",
              "      <th>Check1</th>\n",
              "      <th>Check2</th>\n",
              "    </tr>\n",
              "  </thead>\n",
              "  <tbody>\n",
              "    <tr>\n",
              "      <th>47</th>\n",
              "      <td>https://nayoo.co/khonkaen/posts/7349</td>\n",
              "      <td>245000000</td>\n",
              "      <td>24000000.0</td>\n",
              "      <td>18000000.0</td>\n",
              "      <td>10.208333</td>\n",
              "      <td>13.611111</td>\n",
              "    </tr>\n",
              "    <tr>\n",
              "      <th>58</th>\n",
              "      <td>https://nayoo.co/khonkaen/posts/9203</td>\n",
              "      <td>120000000</td>\n",
              "      <td>14000000.0</td>\n",
              "      <td>11000000.0</td>\n",
              "      <td>8.571429</td>\n",
              "      <td>10.909091</td>\n",
              "    </tr>\n",
              "    <tr>\n",
              "      <th>148</th>\n",
              "      <td>https://nayoo.co/khonkaen/posts/3561</td>\n",
              "      <td>7374550</td>\n",
              "      <td>6000000.0</td>\n",
              "      <td>80000000.0</td>\n",
              "      <td>1.229092</td>\n",
              "      <td>10.848120</td>\n",
              "    </tr>\n",
              "    <tr>\n",
              "      <th>188</th>\n",
              "      <td>https://nayoo.co/khonkaen/posts/12250</td>\n",
              "      <td>2300000</td>\n",
              "      <td>2500000.0</td>\n",
              "      <td>24000000.0</td>\n",
              "      <td>1.086957</td>\n",
              "      <td>10.434783</td>\n",
              "    </tr>\n",
              "    <tr>\n",
              "      <th>144</th>\n",
              "      <td>https://nayoo.co/khonkaen/posts/3341</td>\n",
              "      <td>1700000</td>\n",
              "      <td>1600000.0</td>\n",
              "      <td>9000000.0</td>\n",
              "      <td>1.062500</td>\n",
              "      <td>5.294118</td>\n",
              "    </tr>\n",
              "    <tr>\n",
              "      <th>...</th>\n",
              "      <td>...</td>\n",
              "      <td>...</td>\n",
              "      <td>...</td>\n",
              "      <td>...</td>\n",
              "      <td>...</td>\n",
              "      <td>...</td>\n",
              "    </tr>\n",
              "    <tr>\n",
              "      <th>104</th>\n",
              "      <td>https://nayoo.co/khonkaen/posts/1921</td>\n",
              "      <td>8080000</td>\n",
              "      <td>2800000.0</td>\n",
              "      <td>8000000.0</td>\n",
              "      <td>2.885714</td>\n",
              "      <td>1.010000</td>\n",
              "    </tr>\n",
              "    <tr>\n",
              "      <th>60</th>\n",
              "      <td>https://nayoo.co/khonkaen/posts/12607</td>\n",
              "      <td>7990000</td>\n",
              "      <td>10000000.0</td>\n",
              "      <td>8000000.0</td>\n",
              "      <td>1.251564</td>\n",
              "      <td>1.001252</td>\n",
              "    </tr>\n",
              "    <tr>\n",
              "      <th>202</th>\n",
              "      <td>https://nayoo.co/khonkaen/posts/16072</td>\n",
              "      <td>750000</td>\n",
              "      <td>500000.0</td>\n",
              "      <td>750000.0</td>\n",
              "      <td>1.500000</td>\n",
              "      <td>1.000000</td>\n",
              "    </tr>\n",
              "    <tr>\n",
              "      <th>158</th>\n",
              "      <td>https://nayoo.co/khonkaen/posts/6732</td>\n",
              "      <td>3500000</td>\n",
              "      <td>2800000.0</td>\n",
              "      <td>3500000.0</td>\n",
              "      <td>1.250000</td>\n",
              "      <td>1.000000</td>\n",
              "    </tr>\n",
              "    <tr>\n",
              "      <th>37</th>\n",
              "      <td>https://nayoo.co/khonkaen/posts/3305</td>\n",
              "      <td>14000000</td>\n",
              "      <td>12000000.0</td>\n",
              "      <td>14000000.0</td>\n",
              "      <td>1.166667</td>\n",
              "      <td>1.000000</td>\n",
              "    </tr>\n",
              "  </tbody>\n",
              "</table>\n",
              "<p>100 rows × 6 columns</p>\n",
              "</div>\n",
              "      <button class=\"colab-df-convert\" onclick=\"convertToInteractive('df-ed117e05-de95-4cd8-bf05-938ad56810ab')\"\n",
              "              title=\"Convert this dataframe to an interactive table.\"\n",
              "              style=\"display:none;\">\n",
              "        \n",
              "  <svg xmlns=\"http://www.w3.org/2000/svg\" height=\"24px\"viewBox=\"0 0 24 24\"\n",
              "       width=\"24px\">\n",
              "    <path d=\"M0 0h24v24H0V0z\" fill=\"none\"/>\n",
              "    <path d=\"M18.56 5.44l.94 2.06.94-2.06 2.06-.94-2.06-.94-.94-2.06-.94 2.06-2.06.94zm-11 1L8.5 8.5l.94-2.06 2.06-.94-2.06-.94L8.5 2.5l-.94 2.06-2.06.94zm10 10l.94 2.06.94-2.06 2.06-.94-2.06-.94-.94-2.06-.94 2.06-2.06.94z\"/><path d=\"M17.41 7.96l-1.37-1.37c-.4-.4-.92-.59-1.43-.59-.52 0-1.04.2-1.43.59L10.3 9.45l-7.72 7.72c-.78.78-.78 2.05 0 2.83L4 21.41c.39.39.9.59 1.41.59.51 0 1.02-.2 1.41-.59l7.78-7.78 2.81-2.81c.8-.78.8-2.07 0-2.86zM5.41 20L4 18.59l7.72-7.72 1.47 1.35L5.41 20z\"/>\n",
              "  </svg>\n",
              "      </button>\n",
              "      \n",
              "  <style>\n",
              "    .colab-df-container {\n",
              "      display:flex;\n",
              "      flex-wrap:wrap;\n",
              "      gap: 12px;\n",
              "    }\n",
              "\n",
              "    .colab-df-convert {\n",
              "      background-color: #E8F0FE;\n",
              "      border: none;\n",
              "      border-radius: 50%;\n",
              "      cursor: pointer;\n",
              "      display: none;\n",
              "      fill: #1967D2;\n",
              "      height: 32px;\n",
              "      padding: 0 0 0 0;\n",
              "      width: 32px;\n",
              "    }\n",
              "\n",
              "    .colab-df-convert:hover {\n",
              "      background-color: #E2EBFA;\n",
              "      box-shadow: 0px 1px 2px rgba(60, 64, 67, 0.3), 0px 1px 3px 1px rgba(60, 64, 67, 0.15);\n",
              "      fill: #174EA6;\n",
              "    }\n",
              "\n",
              "    [theme=dark] .colab-df-convert {\n",
              "      background-color: #3B4455;\n",
              "      fill: #D2E3FC;\n",
              "    }\n",
              "\n",
              "    [theme=dark] .colab-df-convert:hover {\n",
              "      background-color: #434B5C;\n",
              "      box-shadow: 0px 1px 3px 1px rgba(0, 0, 0, 0.15);\n",
              "      filter: drop-shadow(0px 1px 2px rgba(0, 0, 0, 0.3));\n",
              "      fill: #FFFFFF;\n",
              "    }\n",
              "  </style>\n",
              "\n",
              "      <script>\n",
              "        const buttonEl =\n",
              "          document.querySelector('#df-ed117e05-de95-4cd8-bf05-938ad56810ab button.colab-df-convert');\n",
              "        buttonEl.style.display =\n",
              "          google.colab.kernel.accessAllowed ? 'block' : 'none';\n",
              "\n",
              "        async function convertToInteractive(key) {\n",
              "          const element = document.querySelector('#df-ed117e05-de95-4cd8-bf05-938ad56810ab');\n",
              "          const dataTable =\n",
              "            await google.colab.kernel.invokeFunction('convertToInteractive',\n",
              "                                                     [key], {});\n",
              "          if (!dataTable) return;\n",
              "\n",
              "          const docLinkHtml = 'Like what you see? Visit the ' +\n",
              "            '<a target=\"_blank\" href=https://colab.research.google.com/notebooks/data_table.ipynb>data table notebook</a>'\n",
              "            + ' to learn more about interactive tables.';\n",
              "          element.innerHTML = '';\n",
              "          dataTable['output_type'] = 'display_data';\n",
              "          await google.colab.output.renderOutput(dataTable, element);\n",
              "          const docLink = document.createElement('div');\n",
              "          docLink.innerHTML = docLinkHtml;\n",
              "          element.appendChild(docLink);\n",
              "        }\n",
              "      </script>\n",
              "    </div>\n",
              "  </div>\n",
              "  "
            ]
          },
          "metadata": {},
          "execution_count": 184
        }
      ]
    },
    {
      "cell_type": "markdown",
      "source": [
        "### Mape Land"
      ],
      "metadata": {
        "id": "lDAr_oe1tW7l"
      }
    },
    {
      "cell_type": "code",
      "source": [
        "landn = pd.read_excel(link,sheet_name='ที่ดิน')\n",
        "pml1 = landn[landn['ID ผู้ประเมิน']==1]\n",
        "pml1 = pml1.dropna(subset=['ราคาทรัพย์','ประเมินราคาซื้อ-ขาย'])\n",
        "pml2 = landn[landn['ID ผู้ประเมิน']==2]\n",
        "pml2 = pml2.dropna(subset=['ราคาทรัพย์','ประเมินราคาซื้อ-ขาย'])\n",
        "pml1MAPE = mape(pml1['ประเมินราคาซื้อ-ขาย'],pd.to_numeric(pml1['ราคาทรัพย์']))\n",
        "pml2MAPE = mape(pml2['ประเมินราคาซื้อ-ขาย'],pd.to_numeric(pml2['ราคาทรัพย์']))\n",
        "print(f'ความแตกต่างระหว่างราคาประกาศขายและราคาประเมินของ\\nบ้าน\\nนักประเมิน คนที่ 1 = {pml1MAPE*100:.2f}%\\nนักประเมิน คนที่ 2 = {pml2MAPE*100:.2f}%')\n",
        "pml2['ประเมิน2'] = pml2['post id'].map(pml1.set_index('post id')['ประเมินราคาซื้อ-ขาย'])\n",
        "pm2_l = pml2.dropna(subset=['ประเมินราคาซื้อ-ขาย','ประเมิน2','ราคาทรัพย์'])\n",
        "one2twol = mape(pm2_l['ประเมินราคาซื้อ-ขาย'],pm2_l['ประเมิน2'])\n",
        "two2onel = mape(pm2_l['ประเมิน2'],pm2_l['ประเมินราคาซื้อ-ขาย'])\n",
        "print(f'ความผิดพลาดระหว่างนักประเมินทั้ง {((one2twol)+(two2onel))*50:.2f}%')\n",
        "print(f'จำนวนทรัพย์ทั้งหมด {len(pm2_l)} ทรัพย์')"
      ],
      "metadata": {
        "id": "lktmXKUJs8Ri",
        "outputId": "9ce61046-5eef-4751-be7f-ced488dbc50a",
        "colab": {
          "base_uri": "https://localhost:8080/"
        }
      },
      "execution_count": 185,
      "outputs": [
        {
          "output_type": "stream",
          "name": "stdout",
          "text": [
            "ความแตกต่างระหว่างราคาประกาศขายและราคาประเมินของ\n",
            "บ้าน\n",
            "นักประเมิน คนที่ 1 = 45.13%\n",
            "นักประเมิน คนที่ 2 = 19.89%\n",
            "ความผิดพลาดระหว่างนักประเมินทั้ง 32.23%\n",
            "จำนวนทรัพย์ทั้งหมด 98 ทรัพย์\n"
          ]
        }
      ]
    },
    {
      "cell_type": "markdown",
      "source": [
        "## Condo"
      ],
      "metadata": {
        "id": "sPEGufzzeTvf"
      }
    },
    {
      "cell_type": "code",
      "source": [
        "asscondo['Check1']=asscondo.apply(lambda x:check_v(x['ราคาทรัพย์'],x['ประเมินโดย 1']),axis=1)"
      ],
      "metadata": {
        "id": "0zcGEphheTCf",
        "colab": {
          "base_uri": "https://localhost:8080/"
        },
        "outputId": "055c3779-802a-4627-b64d-b263aeb68168"
      },
      "execution_count": 186,
      "outputs": [
        {
          "output_type": "stream",
          "name": "stderr",
          "text": [
            "<ipython-input-186-164284384120>:1: SettingWithCopyWarning: \n",
            "A value is trying to be set on a copy of a slice from a DataFrame.\n",
            "Try using .loc[row_indexer,col_indexer] = value instead\n",
            "\n",
            "See the caveats in the documentation: https://pandas.pydata.org/pandas-docs/stable/user_guide/indexing.html#returning-a-view-versus-a-copy\n",
            "  asscondo['Check1']=asscondo.apply(lambda x:check_v(x['ราคาทรัพย์'],x['ประเมินโดย 1']),axis=1)\n"
          ]
        }
      ]
    },
    {
      "cell_type": "code",
      "source": [
        "asscondo.sort_values(by=['Check1'], ascending=False)"
      ],
      "metadata": {
        "id": "7d2ixN2yekI7",
        "outputId": "f98cb30d-72e5-4e9d-b4f1-c1a416d37127",
        "colab": {
          "base_uri": "https://localhost:8080/",
          "height": 363
        }
      },
      "execution_count": 187,
      "outputs": [
        {
          "output_type": "execute_result",
          "data": {
            "text/plain": [
              "   post id  ราคาทรัพย์  ประเมินโดย 1    Check1\n",
              "7   1641.0     4290000     2700000.0  1.588889\n",
              "3   1395.0     1600000     2300000.0  1.437500\n",
              "9   1840.0     3790000     2800000.0  1.353571\n",
              "6   1640.0     1280000     1600000.0  1.250000\n",
              "2    603.0     2438000     2800000.0  1.148482\n",
              "1     36.0     1930000     2200000.0  1.139896\n",
              "8   1650.0     1700000     1550000.0  1.096774\n",
              "4   1443.0     1860000     1800000.0  1.033333\n",
              "5   1609.0     1490000     1500000.0  1.006711\n",
              "0     32.0     3500000     3500000.0  1.000000"
            ],
            "text/html": [
              "\n",
              "  <div id=\"df-1e37bbac-8ef0-4ef5-b68f-5648aba38913\">\n",
              "    <div class=\"colab-df-container\">\n",
              "      <div>\n",
              "<style scoped>\n",
              "    .dataframe tbody tr th:only-of-type {\n",
              "        vertical-align: middle;\n",
              "    }\n",
              "\n",
              "    .dataframe tbody tr th {\n",
              "        vertical-align: top;\n",
              "    }\n",
              "\n",
              "    .dataframe thead th {\n",
              "        text-align: right;\n",
              "    }\n",
              "</style>\n",
              "<table border=\"1\" class=\"dataframe\">\n",
              "  <thead>\n",
              "    <tr style=\"text-align: right;\">\n",
              "      <th></th>\n",
              "      <th>post id</th>\n",
              "      <th>ราคาทรัพย์</th>\n",
              "      <th>ประเมินโดย 1</th>\n",
              "      <th>Check1</th>\n",
              "    </tr>\n",
              "  </thead>\n",
              "  <tbody>\n",
              "    <tr>\n",
              "      <th>7</th>\n",
              "      <td>1641.0</td>\n",
              "      <td>4290000</td>\n",
              "      <td>2700000.0</td>\n",
              "      <td>1.588889</td>\n",
              "    </tr>\n",
              "    <tr>\n",
              "      <th>3</th>\n",
              "      <td>1395.0</td>\n",
              "      <td>1600000</td>\n",
              "      <td>2300000.0</td>\n",
              "      <td>1.437500</td>\n",
              "    </tr>\n",
              "    <tr>\n",
              "      <th>9</th>\n",
              "      <td>1840.0</td>\n",
              "      <td>3790000</td>\n",
              "      <td>2800000.0</td>\n",
              "      <td>1.353571</td>\n",
              "    </tr>\n",
              "    <tr>\n",
              "      <th>6</th>\n",
              "      <td>1640.0</td>\n",
              "      <td>1280000</td>\n",
              "      <td>1600000.0</td>\n",
              "      <td>1.250000</td>\n",
              "    </tr>\n",
              "    <tr>\n",
              "      <th>2</th>\n",
              "      <td>603.0</td>\n",
              "      <td>2438000</td>\n",
              "      <td>2800000.0</td>\n",
              "      <td>1.148482</td>\n",
              "    </tr>\n",
              "    <tr>\n",
              "      <th>1</th>\n",
              "      <td>36.0</td>\n",
              "      <td>1930000</td>\n",
              "      <td>2200000.0</td>\n",
              "      <td>1.139896</td>\n",
              "    </tr>\n",
              "    <tr>\n",
              "      <th>8</th>\n",
              "      <td>1650.0</td>\n",
              "      <td>1700000</td>\n",
              "      <td>1550000.0</td>\n",
              "      <td>1.096774</td>\n",
              "    </tr>\n",
              "    <tr>\n",
              "      <th>4</th>\n",
              "      <td>1443.0</td>\n",
              "      <td>1860000</td>\n",
              "      <td>1800000.0</td>\n",
              "      <td>1.033333</td>\n",
              "    </tr>\n",
              "    <tr>\n",
              "      <th>5</th>\n",
              "      <td>1609.0</td>\n",
              "      <td>1490000</td>\n",
              "      <td>1500000.0</td>\n",
              "      <td>1.006711</td>\n",
              "    </tr>\n",
              "    <tr>\n",
              "      <th>0</th>\n",
              "      <td>32.0</td>\n",
              "      <td>3500000</td>\n",
              "      <td>3500000.0</td>\n",
              "      <td>1.000000</td>\n",
              "    </tr>\n",
              "  </tbody>\n",
              "</table>\n",
              "</div>\n",
              "      <button class=\"colab-df-convert\" onclick=\"convertToInteractive('df-1e37bbac-8ef0-4ef5-b68f-5648aba38913')\"\n",
              "              title=\"Convert this dataframe to an interactive table.\"\n",
              "              style=\"display:none;\">\n",
              "        \n",
              "  <svg xmlns=\"http://www.w3.org/2000/svg\" height=\"24px\"viewBox=\"0 0 24 24\"\n",
              "       width=\"24px\">\n",
              "    <path d=\"M0 0h24v24H0V0z\" fill=\"none\"/>\n",
              "    <path d=\"M18.56 5.44l.94 2.06.94-2.06 2.06-.94-2.06-.94-.94-2.06-.94 2.06-2.06.94zm-11 1L8.5 8.5l.94-2.06 2.06-.94-2.06-.94L8.5 2.5l-.94 2.06-2.06.94zm10 10l.94 2.06.94-2.06 2.06-.94-2.06-.94-.94-2.06-.94 2.06-2.06.94z\"/><path d=\"M17.41 7.96l-1.37-1.37c-.4-.4-.92-.59-1.43-.59-.52 0-1.04.2-1.43.59L10.3 9.45l-7.72 7.72c-.78.78-.78 2.05 0 2.83L4 21.41c.39.39.9.59 1.41.59.51 0 1.02-.2 1.41-.59l7.78-7.78 2.81-2.81c.8-.78.8-2.07 0-2.86zM5.41 20L4 18.59l7.72-7.72 1.47 1.35L5.41 20z\"/>\n",
              "  </svg>\n",
              "      </button>\n",
              "      \n",
              "  <style>\n",
              "    .colab-df-container {\n",
              "      display:flex;\n",
              "      flex-wrap:wrap;\n",
              "      gap: 12px;\n",
              "    }\n",
              "\n",
              "    .colab-df-convert {\n",
              "      background-color: #E8F0FE;\n",
              "      border: none;\n",
              "      border-radius: 50%;\n",
              "      cursor: pointer;\n",
              "      display: none;\n",
              "      fill: #1967D2;\n",
              "      height: 32px;\n",
              "      padding: 0 0 0 0;\n",
              "      width: 32px;\n",
              "    }\n",
              "\n",
              "    .colab-df-convert:hover {\n",
              "      background-color: #E2EBFA;\n",
              "      box-shadow: 0px 1px 2px rgba(60, 64, 67, 0.3), 0px 1px 3px 1px rgba(60, 64, 67, 0.15);\n",
              "      fill: #174EA6;\n",
              "    }\n",
              "\n",
              "    [theme=dark] .colab-df-convert {\n",
              "      background-color: #3B4455;\n",
              "      fill: #D2E3FC;\n",
              "    }\n",
              "\n",
              "    [theme=dark] .colab-df-convert:hover {\n",
              "      background-color: #434B5C;\n",
              "      box-shadow: 0px 1px 3px 1px rgba(0, 0, 0, 0.15);\n",
              "      filter: drop-shadow(0px 1px 2px rgba(0, 0, 0, 0.3));\n",
              "      fill: #FFFFFF;\n",
              "    }\n",
              "  </style>\n",
              "\n",
              "      <script>\n",
              "        const buttonEl =\n",
              "          document.querySelector('#df-1e37bbac-8ef0-4ef5-b68f-5648aba38913 button.colab-df-convert');\n",
              "        buttonEl.style.display =\n",
              "          google.colab.kernel.accessAllowed ? 'block' : 'none';\n",
              "\n",
              "        async function convertToInteractive(key) {\n",
              "          const element = document.querySelector('#df-1e37bbac-8ef0-4ef5-b68f-5648aba38913');\n",
              "          const dataTable =\n",
              "            await google.colab.kernel.invokeFunction('convertToInteractive',\n",
              "                                                     [key], {});\n",
              "          if (!dataTable) return;\n",
              "\n",
              "          const docLinkHtml = 'Like what you see? Visit the ' +\n",
              "            '<a target=\"_blank\" href=https://colab.research.google.com/notebooks/data_table.ipynb>data table notebook</a>'\n",
              "            + ' to learn more about interactive tables.';\n",
              "          element.innerHTML = '';\n",
              "          dataTable['output_type'] = 'display_data';\n",
              "          await google.colab.output.renderOutput(dataTable, element);\n",
              "          const docLink = document.createElement('div');\n",
              "          docLink.innerHTML = docLinkHtml;\n",
              "          element.appendChild(docLink);\n",
              "        }\n",
              "      </script>\n",
              "    </div>\n",
              "  </div>\n",
              "  "
            ]
          },
          "metadata": {},
          "execution_count": 187
        }
      ]
    },
    {
      "cell_type": "markdown",
      "source": [
        "### Mape Condo"
      ],
      "metadata": {
        "id": "G7kNAnuZux6o"
      }
    },
    {
      "cell_type": "code",
      "source": [
        "condon = pd.read_excel(link,sheet_name='คอนโด')\n",
        "pmc1 = condon[condon['ID ผู้ประเมิน']==1]\n",
        "pmc1 = pmc1.dropna(subset=['ราคาทรัพย์','ประเมินราคาซื้อ-ขาย'])\n",
        "\n",
        "pmc1MAPE = mape(pmc1['ประเมินราคาซื้อ-ขาย'],pd.to_numeric(pmc1['ราคาทรัพย์']))\n",
        "\n",
        "print(f'ความแตกต่างระหว่างราคาประกาศขายและราคาประเมินของ\\nบ้าน\\nนักประเมิน คนที่ 1 = {pmc1MAPE*100:.2f}%')\n",
        "\n",
        "\n",
        "print(f'จำนวนทรัพย์ทั้งหมด {len(pmc1)} ทรัพย์')"
      ],
      "metadata": {
        "id": "3JWenruTuzjS",
        "outputId": "5a467461-f938-4b1d-eb0e-167b12d514b8",
        "colab": {
          "base_uri": "https://localhost:8080/"
        }
      },
      "execution_count": 188,
      "outputs": [
        {
          "output_type": "stream",
          "name": "stdout",
          "text": [
            "ความแตกต่างระหว่างราคาประกาศขายและราคาประเมินของ\n",
            "บ้าน\n",
            "นักประเมิน คนที่ 1 = 18.36%\n",
            "จำนวนทรัพย์ทั้งหมด 10 ทรัพย์\n"
          ]
        }
      ]
    },
    {
      "cell_type": "markdown",
      "source": [
        "## Town home"
      ],
      "metadata": {
        "id": "h-OASwknOfm9"
      }
    },
    {
      "cell_type": "code",
      "source": [
        "assth['Check1']=assth.apply(lambda x:check_v(x['ราคาทรัพย์'],x['ประเมินโดย 1']),axis=1)\n",
        "assth['Check2']=assth.apply(lambda x:check_v(x['ราคาทรัพย์'],x['ประเมินโดย 2']),axis=1)"
      ],
      "metadata": {
        "id": "ovwnbOdAOcOM",
        "colab": {
          "base_uri": "https://localhost:8080/"
        },
        "outputId": "17973bc3-dd77-4815-c9fb-50ed902da409"
      },
      "execution_count": 189,
      "outputs": [
        {
          "output_type": "stream",
          "name": "stderr",
          "text": [
            "<ipython-input-189-1a1b9beeb70c>:1: SettingWithCopyWarning: \n",
            "A value is trying to be set on a copy of a slice from a DataFrame.\n",
            "Try using .loc[row_indexer,col_indexer] = value instead\n",
            "\n",
            "See the caveats in the documentation: https://pandas.pydata.org/pandas-docs/stable/user_guide/indexing.html#returning-a-view-versus-a-copy\n",
            "  assth['Check1']=assth.apply(lambda x:check_v(x['ราคาทรัพย์'],x['ประเมินโดย 1']),axis=1)\n",
            "<ipython-input-189-1a1b9beeb70c>:2: SettingWithCopyWarning: \n",
            "A value is trying to be set on a copy of a slice from a DataFrame.\n",
            "Try using .loc[row_indexer,col_indexer] = value instead\n",
            "\n",
            "See the caveats in the documentation: https://pandas.pydata.org/pandas-docs/stable/user_guide/indexing.html#returning-a-view-versus-a-copy\n",
            "  assth['Check2']=assth.apply(lambda x:check_v(x['ราคาทรัพย์'],x['ประเมินโดย 2']),axis=1)\n"
          ]
        }
      ]
    },
    {
      "cell_type": "code",
      "source": [
        "assth.sort_values(by=['Check1'], ascending=False)"
      ],
      "metadata": {
        "id": "mrDZnHUmO3t6",
        "outputId": "8b71410d-01a3-4f1e-c220-fd04afd4a4a7",
        "colab": {
          "base_uri": "https://localhost:8080/",
          "height": 424
        }
      },
      "execution_count": 190,
      "outputs": [
        {
          "output_type": "execute_result",
          "data": {
            "text/plain": [
              "                                   post id  ราคาทรัพย์  ประเมินโดย 1  \\\n",
              "176   https://nayoo.co/khonkaen/posts/3528     2190000      350000.0   \n",
              "9      https://nayoo.co/khonkaen/posts/582      544000     1000000.0   \n",
              "206  https://nayoo.co/khonkaen/posts/17507     1085000      650000.0   \n",
              "216  https://nayoo.co/khonkaen/posts/17535      840000     1300000.0   \n",
              "1      https://nayoo.co/khonkaen/posts/548     1045000      700000.0   \n",
              "..                                     ...         ...           ...   \n",
              "162   https://nayoo.co/khonkaen/posts/2242     1610000     1600000.0   \n",
              "228  https://nayoo.co/khonkaen/posts/17923     1990000     2000000.0   \n",
              "167   https://nayoo.co/khonkaen/posts/2829     2490000     2500000.0   \n",
              "200  https://nayoo.co/khonkaen/posts/13411     3200000     3200000.0   \n",
              "203  https://nayoo.co/khonkaen/posts/17503     1500000     1500000.0   \n",
              "\n",
              "     ประเมินโดย 2    Check1    Check2  \n",
              "176      400000.0  6.257143  5.475000  \n",
              "9        800000.0  1.838235  1.470588  \n",
              "206      700000.0  1.669231  1.550000  \n",
              "216     1000000.0  1.547619  1.190476  \n",
              "1       1500000.0  1.492857  1.435407  \n",
              "..            ...       ...       ...  \n",
              "162     1600000.0  1.006250  1.006250  \n",
              "228     2200000.0  1.005025  1.105528  \n",
              "167     2300000.0  1.004016  1.082609  \n",
              "200     3200000.0  1.000000  1.000000  \n",
              "203     1300000.0  1.000000  1.153846  \n",
              "\n",
              "[120 rows x 6 columns]"
            ],
            "text/html": [
              "\n",
              "  <div id=\"df-ba14b236-42de-4a54-8488-8ee2da46cc4b\">\n",
              "    <div class=\"colab-df-container\">\n",
              "      <div>\n",
              "<style scoped>\n",
              "    .dataframe tbody tr th:only-of-type {\n",
              "        vertical-align: middle;\n",
              "    }\n",
              "\n",
              "    .dataframe tbody tr th {\n",
              "        vertical-align: top;\n",
              "    }\n",
              "\n",
              "    .dataframe thead th {\n",
              "        text-align: right;\n",
              "    }\n",
              "</style>\n",
              "<table border=\"1\" class=\"dataframe\">\n",
              "  <thead>\n",
              "    <tr style=\"text-align: right;\">\n",
              "      <th></th>\n",
              "      <th>post id</th>\n",
              "      <th>ราคาทรัพย์</th>\n",
              "      <th>ประเมินโดย 1</th>\n",
              "      <th>ประเมินโดย 2</th>\n",
              "      <th>Check1</th>\n",
              "      <th>Check2</th>\n",
              "    </tr>\n",
              "  </thead>\n",
              "  <tbody>\n",
              "    <tr>\n",
              "      <th>176</th>\n",
              "      <td>https://nayoo.co/khonkaen/posts/3528</td>\n",
              "      <td>2190000</td>\n",
              "      <td>350000.0</td>\n",
              "      <td>400000.0</td>\n",
              "      <td>6.257143</td>\n",
              "      <td>5.475000</td>\n",
              "    </tr>\n",
              "    <tr>\n",
              "      <th>9</th>\n",
              "      <td>https://nayoo.co/khonkaen/posts/582</td>\n",
              "      <td>544000</td>\n",
              "      <td>1000000.0</td>\n",
              "      <td>800000.0</td>\n",
              "      <td>1.838235</td>\n",
              "      <td>1.470588</td>\n",
              "    </tr>\n",
              "    <tr>\n",
              "      <th>206</th>\n",
              "      <td>https://nayoo.co/khonkaen/posts/17507</td>\n",
              "      <td>1085000</td>\n",
              "      <td>650000.0</td>\n",
              "      <td>700000.0</td>\n",
              "      <td>1.669231</td>\n",
              "      <td>1.550000</td>\n",
              "    </tr>\n",
              "    <tr>\n",
              "      <th>216</th>\n",
              "      <td>https://nayoo.co/khonkaen/posts/17535</td>\n",
              "      <td>840000</td>\n",
              "      <td>1300000.0</td>\n",
              "      <td>1000000.0</td>\n",
              "      <td>1.547619</td>\n",
              "      <td>1.190476</td>\n",
              "    </tr>\n",
              "    <tr>\n",
              "      <th>1</th>\n",
              "      <td>https://nayoo.co/khonkaen/posts/548</td>\n",
              "      <td>1045000</td>\n",
              "      <td>700000.0</td>\n",
              "      <td>1500000.0</td>\n",
              "      <td>1.492857</td>\n",
              "      <td>1.435407</td>\n",
              "    </tr>\n",
              "    <tr>\n",
              "      <th>...</th>\n",
              "      <td>...</td>\n",
              "      <td>...</td>\n",
              "      <td>...</td>\n",
              "      <td>...</td>\n",
              "      <td>...</td>\n",
              "      <td>...</td>\n",
              "    </tr>\n",
              "    <tr>\n",
              "      <th>162</th>\n",
              "      <td>https://nayoo.co/khonkaen/posts/2242</td>\n",
              "      <td>1610000</td>\n",
              "      <td>1600000.0</td>\n",
              "      <td>1600000.0</td>\n",
              "      <td>1.006250</td>\n",
              "      <td>1.006250</td>\n",
              "    </tr>\n",
              "    <tr>\n",
              "      <th>228</th>\n",
              "      <td>https://nayoo.co/khonkaen/posts/17923</td>\n",
              "      <td>1990000</td>\n",
              "      <td>2000000.0</td>\n",
              "      <td>2200000.0</td>\n",
              "      <td>1.005025</td>\n",
              "      <td>1.105528</td>\n",
              "    </tr>\n",
              "    <tr>\n",
              "      <th>167</th>\n",
              "      <td>https://nayoo.co/khonkaen/posts/2829</td>\n",
              "      <td>2490000</td>\n",
              "      <td>2500000.0</td>\n",
              "      <td>2300000.0</td>\n",
              "      <td>1.004016</td>\n",
              "      <td>1.082609</td>\n",
              "    </tr>\n",
              "    <tr>\n",
              "      <th>200</th>\n",
              "      <td>https://nayoo.co/khonkaen/posts/13411</td>\n",
              "      <td>3200000</td>\n",
              "      <td>3200000.0</td>\n",
              "      <td>3200000.0</td>\n",
              "      <td>1.000000</td>\n",
              "      <td>1.000000</td>\n",
              "    </tr>\n",
              "    <tr>\n",
              "      <th>203</th>\n",
              "      <td>https://nayoo.co/khonkaen/posts/17503</td>\n",
              "      <td>1500000</td>\n",
              "      <td>1500000.0</td>\n",
              "      <td>1300000.0</td>\n",
              "      <td>1.000000</td>\n",
              "      <td>1.153846</td>\n",
              "    </tr>\n",
              "  </tbody>\n",
              "</table>\n",
              "<p>120 rows × 6 columns</p>\n",
              "</div>\n",
              "      <button class=\"colab-df-convert\" onclick=\"convertToInteractive('df-ba14b236-42de-4a54-8488-8ee2da46cc4b')\"\n",
              "              title=\"Convert this dataframe to an interactive table.\"\n",
              "              style=\"display:none;\">\n",
              "        \n",
              "  <svg xmlns=\"http://www.w3.org/2000/svg\" height=\"24px\"viewBox=\"0 0 24 24\"\n",
              "       width=\"24px\">\n",
              "    <path d=\"M0 0h24v24H0V0z\" fill=\"none\"/>\n",
              "    <path d=\"M18.56 5.44l.94 2.06.94-2.06 2.06-.94-2.06-.94-.94-2.06-.94 2.06-2.06.94zm-11 1L8.5 8.5l.94-2.06 2.06-.94-2.06-.94L8.5 2.5l-.94 2.06-2.06.94zm10 10l.94 2.06.94-2.06 2.06-.94-2.06-.94-.94-2.06-.94 2.06-2.06.94z\"/><path d=\"M17.41 7.96l-1.37-1.37c-.4-.4-.92-.59-1.43-.59-.52 0-1.04.2-1.43.59L10.3 9.45l-7.72 7.72c-.78.78-.78 2.05 0 2.83L4 21.41c.39.39.9.59 1.41.59.51 0 1.02-.2 1.41-.59l7.78-7.78 2.81-2.81c.8-.78.8-2.07 0-2.86zM5.41 20L4 18.59l7.72-7.72 1.47 1.35L5.41 20z\"/>\n",
              "  </svg>\n",
              "      </button>\n",
              "      \n",
              "  <style>\n",
              "    .colab-df-container {\n",
              "      display:flex;\n",
              "      flex-wrap:wrap;\n",
              "      gap: 12px;\n",
              "    }\n",
              "\n",
              "    .colab-df-convert {\n",
              "      background-color: #E8F0FE;\n",
              "      border: none;\n",
              "      border-radius: 50%;\n",
              "      cursor: pointer;\n",
              "      display: none;\n",
              "      fill: #1967D2;\n",
              "      height: 32px;\n",
              "      padding: 0 0 0 0;\n",
              "      width: 32px;\n",
              "    }\n",
              "\n",
              "    .colab-df-convert:hover {\n",
              "      background-color: #E2EBFA;\n",
              "      box-shadow: 0px 1px 2px rgba(60, 64, 67, 0.3), 0px 1px 3px 1px rgba(60, 64, 67, 0.15);\n",
              "      fill: #174EA6;\n",
              "    }\n",
              "\n",
              "    [theme=dark] .colab-df-convert {\n",
              "      background-color: #3B4455;\n",
              "      fill: #D2E3FC;\n",
              "    }\n",
              "\n",
              "    [theme=dark] .colab-df-convert:hover {\n",
              "      background-color: #434B5C;\n",
              "      box-shadow: 0px 1px 3px 1px rgba(0, 0, 0, 0.15);\n",
              "      filter: drop-shadow(0px 1px 2px rgba(0, 0, 0, 0.3));\n",
              "      fill: #FFFFFF;\n",
              "    }\n",
              "  </style>\n",
              "\n",
              "      <script>\n",
              "        const buttonEl =\n",
              "          document.querySelector('#df-ba14b236-42de-4a54-8488-8ee2da46cc4b button.colab-df-convert');\n",
              "        buttonEl.style.display =\n",
              "          google.colab.kernel.accessAllowed ? 'block' : 'none';\n",
              "\n",
              "        async function convertToInteractive(key) {\n",
              "          const element = document.querySelector('#df-ba14b236-42de-4a54-8488-8ee2da46cc4b');\n",
              "          const dataTable =\n",
              "            await google.colab.kernel.invokeFunction('convertToInteractive',\n",
              "                                                     [key], {});\n",
              "          if (!dataTable) return;\n",
              "\n",
              "          const docLinkHtml = 'Like what you see? Visit the ' +\n",
              "            '<a target=\"_blank\" href=https://colab.research.google.com/notebooks/data_table.ipynb>data table notebook</a>'\n",
              "            + ' to learn more about interactive tables.';\n",
              "          element.innerHTML = '';\n",
              "          dataTable['output_type'] = 'display_data';\n",
              "          await google.colab.output.renderOutput(dataTable, element);\n",
              "          const docLink = document.createElement('div');\n",
              "          docLink.innerHTML = docLinkHtml;\n",
              "          element.appendChild(docLink);\n",
              "        }\n",
              "      </script>\n",
              "    </div>\n",
              "  </div>\n",
              "  "
            ]
          },
          "metadata": {},
          "execution_count": 190
        }
      ]
    },
    {
      "cell_type": "code",
      "source": [
        "assth.sort_values(by=['Check2'], ascending=False)"
      ],
      "metadata": {
        "id": "d2qvlEwUO4Dx",
        "outputId": "8dae2f05-b8b4-4393-ce41-4665a7c3db4a",
        "colab": {
          "base_uri": "https://localhost:8080/",
          "height": 424
        }
      },
      "execution_count": 191,
      "outputs": [
        {
          "output_type": "execute_result",
          "data": {
            "text/plain": [
              "                                   post id  ราคาทรัพย์  ประเมินโดย 1  \\\n",
              "176   https://nayoo.co/khonkaen/posts/3528     2190000      350000.0   \n",
              "234  https://nayoo.co/khonkaen/posts/18090     2850000     2800000.0   \n",
              "3      https://nayoo.co/khonkaen/posts/549      935000      700000.0   \n",
              "5      https://nayoo.co/khonkaen/posts/579     2520000     3500000.0   \n",
              "206  https://nayoo.co/khonkaen/posts/17507     1085000      650000.0   \n",
              "..                                     ...         ...           ...   \n",
              "202  https://nayoo.co/khonkaen/posts/15111     2200000     2500000.0   \n",
              "209  https://nayoo.co/khonkaen/posts/17511     1700000     1500000.0   \n",
              "212  https://nayoo.co/khonkaen/posts/17516     1800000     1700000.0   \n",
              "213  https://nayoo.co/khonkaen/posts/17518     1200000     1100000.0   \n",
              "152   https://nayoo.co/khonkaen/posts/2011     1100000      900000.0   \n",
              "\n",
              "     ประเมินโดย 2    Check1    Check2  \n",
              "176      400000.0  6.257143  5.475000  \n",
              "234     1500000.0  1.017857  1.900000  \n",
              "3       1500000.0  1.335714  1.604278  \n",
              "5       4000000.0  1.388889  1.587302  \n",
              "206      700000.0  1.669231  1.550000  \n",
              "..            ...       ...       ...  \n",
              "202     2200000.0  1.136364  1.000000  \n",
              "209     1700000.0  1.133333  1.000000  \n",
              "212     1800000.0  1.058824  1.000000  \n",
              "213     1200000.0  1.090909  1.000000  \n",
              "152     1100000.0  1.222222  1.000000  \n",
              "\n",
              "[120 rows x 6 columns]"
            ],
            "text/html": [
              "\n",
              "  <div id=\"df-cc2fb318-10d4-4d42-81a6-4a482d784396\">\n",
              "    <div class=\"colab-df-container\">\n",
              "      <div>\n",
              "<style scoped>\n",
              "    .dataframe tbody tr th:only-of-type {\n",
              "        vertical-align: middle;\n",
              "    }\n",
              "\n",
              "    .dataframe tbody tr th {\n",
              "        vertical-align: top;\n",
              "    }\n",
              "\n",
              "    .dataframe thead th {\n",
              "        text-align: right;\n",
              "    }\n",
              "</style>\n",
              "<table border=\"1\" class=\"dataframe\">\n",
              "  <thead>\n",
              "    <tr style=\"text-align: right;\">\n",
              "      <th></th>\n",
              "      <th>post id</th>\n",
              "      <th>ราคาทรัพย์</th>\n",
              "      <th>ประเมินโดย 1</th>\n",
              "      <th>ประเมินโดย 2</th>\n",
              "      <th>Check1</th>\n",
              "      <th>Check2</th>\n",
              "    </tr>\n",
              "  </thead>\n",
              "  <tbody>\n",
              "    <tr>\n",
              "      <th>176</th>\n",
              "      <td>https://nayoo.co/khonkaen/posts/3528</td>\n",
              "      <td>2190000</td>\n",
              "      <td>350000.0</td>\n",
              "      <td>400000.0</td>\n",
              "      <td>6.257143</td>\n",
              "      <td>5.475000</td>\n",
              "    </tr>\n",
              "    <tr>\n",
              "      <th>234</th>\n",
              "      <td>https://nayoo.co/khonkaen/posts/18090</td>\n",
              "      <td>2850000</td>\n",
              "      <td>2800000.0</td>\n",
              "      <td>1500000.0</td>\n",
              "      <td>1.017857</td>\n",
              "      <td>1.900000</td>\n",
              "    </tr>\n",
              "    <tr>\n",
              "      <th>3</th>\n",
              "      <td>https://nayoo.co/khonkaen/posts/549</td>\n",
              "      <td>935000</td>\n",
              "      <td>700000.0</td>\n",
              "      <td>1500000.0</td>\n",
              "      <td>1.335714</td>\n",
              "      <td>1.604278</td>\n",
              "    </tr>\n",
              "    <tr>\n",
              "      <th>5</th>\n",
              "      <td>https://nayoo.co/khonkaen/posts/579</td>\n",
              "      <td>2520000</td>\n",
              "      <td>3500000.0</td>\n",
              "      <td>4000000.0</td>\n",
              "      <td>1.388889</td>\n",
              "      <td>1.587302</td>\n",
              "    </tr>\n",
              "    <tr>\n",
              "      <th>206</th>\n",
              "      <td>https://nayoo.co/khonkaen/posts/17507</td>\n",
              "      <td>1085000</td>\n",
              "      <td>650000.0</td>\n",
              "      <td>700000.0</td>\n",
              "      <td>1.669231</td>\n",
              "      <td>1.550000</td>\n",
              "    </tr>\n",
              "    <tr>\n",
              "      <th>...</th>\n",
              "      <td>...</td>\n",
              "      <td>...</td>\n",
              "      <td>...</td>\n",
              "      <td>...</td>\n",
              "      <td>...</td>\n",
              "      <td>...</td>\n",
              "    </tr>\n",
              "    <tr>\n",
              "      <th>202</th>\n",
              "      <td>https://nayoo.co/khonkaen/posts/15111</td>\n",
              "      <td>2200000</td>\n",
              "      <td>2500000.0</td>\n",
              "      <td>2200000.0</td>\n",
              "      <td>1.136364</td>\n",
              "      <td>1.000000</td>\n",
              "    </tr>\n",
              "    <tr>\n",
              "      <th>209</th>\n",
              "      <td>https://nayoo.co/khonkaen/posts/17511</td>\n",
              "      <td>1700000</td>\n",
              "      <td>1500000.0</td>\n",
              "      <td>1700000.0</td>\n",
              "      <td>1.133333</td>\n",
              "      <td>1.000000</td>\n",
              "    </tr>\n",
              "    <tr>\n",
              "      <th>212</th>\n",
              "      <td>https://nayoo.co/khonkaen/posts/17516</td>\n",
              "      <td>1800000</td>\n",
              "      <td>1700000.0</td>\n",
              "      <td>1800000.0</td>\n",
              "      <td>1.058824</td>\n",
              "      <td>1.000000</td>\n",
              "    </tr>\n",
              "    <tr>\n",
              "      <th>213</th>\n",
              "      <td>https://nayoo.co/khonkaen/posts/17518</td>\n",
              "      <td>1200000</td>\n",
              "      <td>1100000.0</td>\n",
              "      <td>1200000.0</td>\n",
              "      <td>1.090909</td>\n",
              "      <td>1.000000</td>\n",
              "    </tr>\n",
              "    <tr>\n",
              "      <th>152</th>\n",
              "      <td>https://nayoo.co/khonkaen/posts/2011</td>\n",
              "      <td>1100000</td>\n",
              "      <td>900000.0</td>\n",
              "      <td>1100000.0</td>\n",
              "      <td>1.222222</td>\n",
              "      <td>1.000000</td>\n",
              "    </tr>\n",
              "  </tbody>\n",
              "</table>\n",
              "<p>120 rows × 6 columns</p>\n",
              "</div>\n",
              "      <button class=\"colab-df-convert\" onclick=\"convertToInteractive('df-cc2fb318-10d4-4d42-81a6-4a482d784396')\"\n",
              "              title=\"Convert this dataframe to an interactive table.\"\n",
              "              style=\"display:none;\">\n",
              "        \n",
              "  <svg xmlns=\"http://www.w3.org/2000/svg\" height=\"24px\"viewBox=\"0 0 24 24\"\n",
              "       width=\"24px\">\n",
              "    <path d=\"M0 0h24v24H0V0z\" fill=\"none\"/>\n",
              "    <path d=\"M18.56 5.44l.94 2.06.94-2.06 2.06-.94-2.06-.94-.94-2.06-.94 2.06-2.06.94zm-11 1L8.5 8.5l.94-2.06 2.06-.94-2.06-.94L8.5 2.5l-.94 2.06-2.06.94zm10 10l.94 2.06.94-2.06 2.06-.94-2.06-.94-.94-2.06-.94 2.06-2.06.94z\"/><path d=\"M17.41 7.96l-1.37-1.37c-.4-.4-.92-.59-1.43-.59-.52 0-1.04.2-1.43.59L10.3 9.45l-7.72 7.72c-.78.78-.78 2.05 0 2.83L4 21.41c.39.39.9.59 1.41.59.51 0 1.02-.2 1.41-.59l7.78-7.78 2.81-2.81c.8-.78.8-2.07 0-2.86zM5.41 20L4 18.59l7.72-7.72 1.47 1.35L5.41 20z\"/>\n",
              "  </svg>\n",
              "      </button>\n",
              "      \n",
              "  <style>\n",
              "    .colab-df-container {\n",
              "      display:flex;\n",
              "      flex-wrap:wrap;\n",
              "      gap: 12px;\n",
              "    }\n",
              "\n",
              "    .colab-df-convert {\n",
              "      background-color: #E8F0FE;\n",
              "      border: none;\n",
              "      border-radius: 50%;\n",
              "      cursor: pointer;\n",
              "      display: none;\n",
              "      fill: #1967D2;\n",
              "      height: 32px;\n",
              "      padding: 0 0 0 0;\n",
              "      width: 32px;\n",
              "    }\n",
              "\n",
              "    .colab-df-convert:hover {\n",
              "      background-color: #E2EBFA;\n",
              "      box-shadow: 0px 1px 2px rgba(60, 64, 67, 0.3), 0px 1px 3px 1px rgba(60, 64, 67, 0.15);\n",
              "      fill: #174EA6;\n",
              "    }\n",
              "\n",
              "    [theme=dark] .colab-df-convert {\n",
              "      background-color: #3B4455;\n",
              "      fill: #D2E3FC;\n",
              "    }\n",
              "\n",
              "    [theme=dark] .colab-df-convert:hover {\n",
              "      background-color: #434B5C;\n",
              "      box-shadow: 0px 1px 3px 1px rgba(0, 0, 0, 0.15);\n",
              "      filter: drop-shadow(0px 1px 2px rgba(0, 0, 0, 0.3));\n",
              "      fill: #FFFFFF;\n",
              "    }\n",
              "  </style>\n",
              "\n",
              "      <script>\n",
              "        const buttonEl =\n",
              "          document.querySelector('#df-cc2fb318-10d4-4d42-81a6-4a482d784396 button.colab-df-convert');\n",
              "        buttonEl.style.display =\n",
              "          google.colab.kernel.accessAllowed ? 'block' : 'none';\n",
              "\n",
              "        async function convertToInteractive(key) {\n",
              "          const element = document.querySelector('#df-cc2fb318-10d4-4d42-81a6-4a482d784396');\n",
              "          const dataTable =\n",
              "            await google.colab.kernel.invokeFunction('convertToInteractive',\n",
              "                                                     [key], {});\n",
              "          if (!dataTable) return;\n",
              "\n",
              "          const docLinkHtml = 'Like what you see? Visit the ' +\n",
              "            '<a target=\"_blank\" href=https://colab.research.google.com/notebooks/data_table.ipynb>data table notebook</a>'\n",
              "            + ' to learn more about interactive tables.';\n",
              "          element.innerHTML = '';\n",
              "          dataTable['output_type'] = 'display_data';\n",
              "          await google.colab.output.renderOutput(dataTable, element);\n",
              "          const docLink = document.createElement('div');\n",
              "          docLink.innerHTML = docLinkHtml;\n",
              "          element.appendChild(docLink);\n",
              "        }\n",
              "      </script>\n",
              "    </div>\n",
              "  </div>\n",
              "  "
            ]
          },
          "metadata": {},
          "execution_count": 191
        }
      ]
    },
    {
      "cell_type": "markdown",
      "source": [
        "### Mape Town home"
      ],
      "metadata": {
        "id": "wxwjpltLstvb"
      }
    },
    {
      "cell_type": "code",
      "source": [
        "townhomen = pd.read_excel(link,sheet_name='ทาวน์โฮม')\n",
        "idt1 = townhomen[townhomen['ID ผู้ประเมิน']==1]\n",
        "idt1 = idt1.dropna(subset=['ราคาทรัพย์','ประเมินราคาซื้อ-ขาย'])\n",
        "idt2 = townhomen[townhomen['ID ผู้ประเมิน']==2]\n",
        "idt2 = idt2.dropna(subset=['ราคาทรัพย์','ประเมินราคาซื้อ-ขาย'])\n",
        "idt1MAPE = mape(idt1['ประเมินราคาซื้อ-ขาย'],pd.to_numeric(idt1['ราคาทรัพย์']))\n",
        "idt2MAPE = mape(idt2['ประเมินราคาซื้อ-ขาย'],pd.to_numeric(idt2['ราคาทรัพย์']))\n",
        "print(f'ความแตกต่างระหว่างราคาประกาศขายและราคาประเมินของ\\nบ้าน\\nนักประเมิน คนที่ 1 = {idt1MAPE*100:.2f}%\\nนักประเมิน คนที่ 2 = {idt2MAPE*100:.2f}%')\n",
        "idt2['ประเมิน2'] = idt2['post id'].map(idt1.set_index('post id')['ประเมินราคาซื้อ-ขาย'])\n",
        "id2_t = idt2.dropna(subset=['ประเมินราคาซื้อ-ขาย','ประเมิน2','ราคาทรัพย์'])\n",
        "one2twot = mape(id2_t['ประเมินราคาซื้อ-ขาย'],id2_t['ประเมิน2'])\n",
        "two2onet = mape(id2_t['ประเมิน2'],id2_t['ประเมินราคาซื้อ-ขาย'])\n",
        "print(f'ความผิดพลาดระหว่างนักประเมินทั้ง {((one2twot)+(two2onet))*50:.2f}%')\n",
        "print(f'จำนวนทรัพย์ทั้งหมด {len(id2_t)} ทรัพย์')"
      ],
      "metadata": {
        "id": "J3nnO9QIstK0",
        "outputId": "b5429deb-04ae-4bbb-d1ac-3d2d0ffb7d8b",
        "colab": {
          "base_uri": "https://localhost:8080/"
        }
      },
      "execution_count": 192,
      "outputs": [
        {
          "output_type": "stream",
          "name": "stdout",
          "text": [
            "ความแตกต่างระหว่างราคาประกาศขายและราคาประเมินของ\n",
            "บ้าน\n",
            "นักประเมิน คนที่ 1 = 15.26%\n",
            "นักประเมิน คนที่ 2 = 12.20%\n",
            "ความผิดพลาดระหว่างนักประเมินทั้ง 10.92%\n",
            "จำนวนทรัพย์ทั้งหมด 120 ทรัพย์\n"
          ]
        }
      ]
    },
    {
      "cell_type": "markdown",
      "source": [
        "## Shop house"
      ],
      "metadata": {
        "id": "M1EMTHtfPGIW"
      }
    },
    {
      "cell_type": "code",
      "source": [
        "asssh['Check1']=asssh.apply(lambda x:check_v(x['ราคาทรัพย์'],x['ประเมินโดย 1']),axis=1)\n",
        "asssh['Check2']=asssh.apply(lambda x:check_v(x['ราคาทรัพย์'],x['ประเมินโดย 2']),axis=1)"
      ],
      "metadata": {
        "id": "w1JW_ONeO7u9"
      },
      "execution_count": 193,
      "outputs": []
    },
    {
      "cell_type": "code",
      "source": [
        "asssh.sort_values(by=['Check1'], ascending=False)"
      ],
      "metadata": {
        "id": "ZBCimZZePLr9",
        "outputId": "665a479c-95b8-41ad-842d-9618f4bee165",
        "colab": {
          "base_uri": "https://localhost:8080/",
          "height": 424
        }
      },
      "execution_count": 194,
      "outputs": [
        {
          "output_type": "execute_result",
          "data": {
            "text/plain": [
              "                                  post id  ราคาทรัพย์  ประเมินโดย 1  \\\n",
              "9      https://nayoo.co/khonkaen/posts/24     3900000     2200000.0   \n",
              "5      https://nayoo.co/khonkaen/posts/21    22500000    13500000.0   \n",
              "169  https://nayoo.co/khonkaen/posts/6043     2240000     3500000.0   \n",
              "87    https://nayoo.co/khonkaen/posts/707     1450000     2200000.0   \n",
              "81    https://nayoo.co/khonkaen/posts/701     1925000     2700000.0   \n",
              "..                                    ...         ...           ...   \n",
              "61    https://nayoo.co/khonkaen/posts/643     4180000     4200000.0   \n",
              "65    https://nayoo.co/khonkaen/posts/651     2200000     2200000.0   \n",
              "161  https://nayoo.co/khonkaen/posts/5995     3000000     3000000.0   \n",
              "177  https://nayoo.co/khonkaen/posts/6123     2200000     2200000.0   \n",
              "17    https://nayoo.co/khonkaen/posts/498     7000000     7000000.0   \n",
              "\n",
              "     ประเมินโดย 2    Check1    Check2  \n",
              "9       3000000.0  1.772727  1.300000  \n",
              "5      20000000.0  1.666667  1.125000  \n",
              "169     3000000.0  1.562500  1.339286  \n",
              "87      3200000.0  1.517241  2.206897  \n",
              "81      2000000.0  1.402597  1.038961  \n",
              "..            ...       ...       ...  \n",
              "61      4200000.0  1.004785  1.004785  \n",
              "65      2000000.0  1.000000  1.100000  \n",
              "161     6000000.0  1.000000  2.000000  \n",
              "177     2200000.0  1.000000  1.000000  \n",
              "17      8000000.0  1.000000  1.142857  \n",
              "\n",
              "[91 rows x 6 columns]"
            ],
            "text/html": [
              "\n",
              "  <div id=\"df-d7d873af-393d-4c7d-b890-ca6b91cbf154\">\n",
              "    <div class=\"colab-df-container\">\n",
              "      <div>\n",
              "<style scoped>\n",
              "    .dataframe tbody tr th:only-of-type {\n",
              "        vertical-align: middle;\n",
              "    }\n",
              "\n",
              "    .dataframe tbody tr th {\n",
              "        vertical-align: top;\n",
              "    }\n",
              "\n",
              "    .dataframe thead th {\n",
              "        text-align: right;\n",
              "    }\n",
              "</style>\n",
              "<table border=\"1\" class=\"dataframe\">\n",
              "  <thead>\n",
              "    <tr style=\"text-align: right;\">\n",
              "      <th></th>\n",
              "      <th>post id</th>\n",
              "      <th>ราคาทรัพย์</th>\n",
              "      <th>ประเมินโดย 1</th>\n",
              "      <th>ประเมินโดย 2</th>\n",
              "      <th>Check1</th>\n",
              "      <th>Check2</th>\n",
              "    </tr>\n",
              "  </thead>\n",
              "  <tbody>\n",
              "    <tr>\n",
              "      <th>9</th>\n",
              "      <td>https://nayoo.co/khonkaen/posts/24</td>\n",
              "      <td>3900000</td>\n",
              "      <td>2200000.0</td>\n",
              "      <td>3000000.0</td>\n",
              "      <td>1.772727</td>\n",
              "      <td>1.300000</td>\n",
              "    </tr>\n",
              "    <tr>\n",
              "      <th>5</th>\n",
              "      <td>https://nayoo.co/khonkaen/posts/21</td>\n",
              "      <td>22500000</td>\n",
              "      <td>13500000.0</td>\n",
              "      <td>20000000.0</td>\n",
              "      <td>1.666667</td>\n",
              "      <td>1.125000</td>\n",
              "    </tr>\n",
              "    <tr>\n",
              "      <th>169</th>\n",
              "      <td>https://nayoo.co/khonkaen/posts/6043</td>\n",
              "      <td>2240000</td>\n",
              "      <td>3500000.0</td>\n",
              "      <td>3000000.0</td>\n",
              "      <td>1.562500</td>\n",
              "      <td>1.339286</td>\n",
              "    </tr>\n",
              "    <tr>\n",
              "      <th>87</th>\n",
              "      <td>https://nayoo.co/khonkaen/posts/707</td>\n",
              "      <td>1450000</td>\n",
              "      <td>2200000.0</td>\n",
              "      <td>3200000.0</td>\n",
              "      <td>1.517241</td>\n",
              "      <td>2.206897</td>\n",
              "    </tr>\n",
              "    <tr>\n",
              "      <th>81</th>\n",
              "      <td>https://nayoo.co/khonkaen/posts/701</td>\n",
              "      <td>1925000</td>\n",
              "      <td>2700000.0</td>\n",
              "      <td>2000000.0</td>\n",
              "      <td>1.402597</td>\n",
              "      <td>1.038961</td>\n",
              "    </tr>\n",
              "    <tr>\n",
              "      <th>...</th>\n",
              "      <td>...</td>\n",
              "      <td>...</td>\n",
              "      <td>...</td>\n",
              "      <td>...</td>\n",
              "      <td>...</td>\n",
              "      <td>...</td>\n",
              "    </tr>\n",
              "    <tr>\n",
              "      <th>61</th>\n",
              "      <td>https://nayoo.co/khonkaen/posts/643</td>\n",
              "      <td>4180000</td>\n",
              "      <td>4200000.0</td>\n",
              "      <td>4200000.0</td>\n",
              "      <td>1.004785</td>\n",
              "      <td>1.004785</td>\n",
              "    </tr>\n",
              "    <tr>\n",
              "      <th>65</th>\n",
              "      <td>https://nayoo.co/khonkaen/posts/651</td>\n",
              "      <td>2200000</td>\n",
              "      <td>2200000.0</td>\n",
              "      <td>2000000.0</td>\n",
              "      <td>1.000000</td>\n",
              "      <td>1.100000</td>\n",
              "    </tr>\n",
              "    <tr>\n",
              "      <th>161</th>\n",
              "      <td>https://nayoo.co/khonkaen/posts/5995</td>\n",
              "      <td>3000000</td>\n",
              "      <td>3000000.0</td>\n",
              "      <td>6000000.0</td>\n",
              "      <td>1.000000</td>\n",
              "      <td>2.000000</td>\n",
              "    </tr>\n",
              "    <tr>\n",
              "      <th>177</th>\n",
              "      <td>https://nayoo.co/khonkaen/posts/6123</td>\n",
              "      <td>2200000</td>\n",
              "      <td>2200000.0</td>\n",
              "      <td>2200000.0</td>\n",
              "      <td>1.000000</td>\n",
              "      <td>1.000000</td>\n",
              "    </tr>\n",
              "    <tr>\n",
              "      <th>17</th>\n",
              "      <td>https://nayoo.co/khonkaen/posts/498</td>\n",
              "      <td>7000000</td>\n",
              "      <td>7000000.0</td>\n",
              "      <td>8000000.0</td>\n",
              "      <td>1.000000</td>\n",
              "      <td>1.142857</td>\n",
              "    </tr>\n",
              "  </tbody>\n",
              "</table>\n",
              "<p>91 rows × 6 columns</p>\n",
              "</div>\n",
              "      <button class=\"colab-df-convert\" onclick=\"convertToInteractive('df-d7d873af-393d-4c7d-b890-ca6b91cbf154')\"\n",
              "              title=\"Convert this dataframe to an interactive table.\"\n",
              "              style=\"display:none;\">\n",
              "        \n",
              "  <svg xmlns=\"http://www.w3.org/2000/svg\" height=\"24px\"viewBox=\"0 0 24 24\"\n",
              "       width=\"24px\">\n",
              "    <path d=\"M0 0h24v24H0V0z\" fill=\"none\"/>\n",
              "    <path d=\"M18.56 5.44l.94 2.06.94-2.06 2.06-.94-2.06-.94-.94-2.06-.94 2.06-2.06.94zm-11 1L8.5 8.5l.94-2.06 2.06-.94-2.06-.94L8.5 2.5l-.94 2.06-2.06.94zm10 10l.94 2.06.94-2.06 2.06-.94-2.06-.94-.94-2.06-.94 2.06-2.06.94z\"/><path d=\"M17.41 7.96l-1.37-1.37c-.4-.4-.92-.59-1.43-.59-.52 0-1.04.2-1.43.59L10.3 9.45l-7.72 7.72c-.78.78-.78 2.05 0 2.83L4 21.41c.39.39.9.59 1.41.59.51 0 1.02-.2 1.41-.59l7.78-7.78 2.81-2.81c.8-.78.8-2.07 0-2.86zM5.41 20L4 18.59l7.72-7.72 1.47 1.35L5.41 20z\"/>\n",
              "  </svg>\n",
              "      </button>\n",
              "      \n",
              "  <style>\n",
              "    .colab-df-container {\n",
              "      display:flex;\n",
              "      flex-wrap:wrap;\n",
              "      gap: 12px;\n",
              "    }\n",
              "\n",
              "    .colab-df-convert {\n",
              "      background-color: #E8F0FE;\n",
              "      border: none;\n",
              "      border-radius: 50%;\n",
              "      cursor: pointer;\n",
              "      display: none;\n",
              "      fill: #1967D2;\n",
              "      height: 32px;\n",
              "      padding: 0 0 0 0;\n",
              "      width: 32px;\n",
              "    }\n",
              "\n",
              "    .colab-df-convert:hover {\n",
              "      background-color: #E2EBFA;\n",
              "      box-shadow: 0px 1px 2px rgba(60, 64, 67, 0.3), 0px 1px 3px 1px rgba(60, 64, 67, 0.15);\n",
              "      fill: #174EA6;\n",
              "    }\n",
              "\n",
              "    [theme=dark] .colab-df-convert {\n",
              "      background-color: #3B4455;\n",
              "      fill: #D2E3FC;\n",
              "    }\n",
              "\n",
              "    [theme=dark] .colab-df-convert:hover {\n",
              "      background-color: #434B5C;\n",
              "      box-shadow: 0px 1px 3px 1px rgba(0, 0, 0, 0.15);\n",
              "      filter: drop-shadow(0px 1px 2px rgba(0, 0, 0, 0.3));\n",
              "      fill: #FFFFFF;\n",
              "    }\n",
              "  </style>\n",
              "\n",
              "      <script>\n",
              "        const buttonEl =\n",
              "          document.querySelector('#df-d7d873af-393d-4c7d-b890-ca6b91cbf154 button.colab-df-convert');\n",
              "        buttonEl.style.display =\n",
              "          google.colab.kernel.accessAllowed ? 'block' : 'none';\n",
              "\n",
              "        async function convertToInteractive(key) {\n",
              "          const element = document.querySelector('#df-d7d873af-393d-4c7d-b890-ca6b91cbf154');\n",
              "          const dataTable =\n",
              "            await google.colab.kernel.invokeFunction('convertToInteractive',\n",
              "                                                     [key], {});\n",
              "          if (!dataTable) return;\n",
              "\n",
              "          const docLinkHtml = 'Like what you see? Visit the ' +\n",
              "            '<a target=\"_blank\" href=https://colab.research.google.com/notebooks/data_table.ipynb>data table notebook</a>'\n",
              "            + ' to learn more about interactive tables.';\n",
              "          element.innerHTML = '';\n",
              "          dataTable['output_type'] = 'display_data';\n",
              "          await google.colab.output.renderOutput(dataTable, element);\n",
              "          const docLink = document.createElement('div');\n",
              "          docLink.innerHTML = docLinkHtml;\n",
              "          element.appendChild(docLink);\n",
              "        }\n",
              "      </script>\n",
              "    </div>\n",
              "  </div>\n",
              "  "
            ]
          },
          "metadata": {},
          "execution_count": 194
        }
      ]
    },
    {
      "cell_type": "code",
      "source": [
        "asssh.sort_values(by=['Check2'], ascending=False)"
      ],
      "metadata": {
        "id": "E6AqtmF2PNmN",
        "outputId": "f3decfeb-3207-4767-c816-1f299e25c2a7",
        "colab": {
          "base_uri": "https://localhost:8080/",
          "height": 424
        }
      },
      "execution_count": 195,
      "outputs": [
        {
          "output_type": "execute_result",
          "data": {
            "text/plain": [
              "                                  post id  ราคาทรัพย์  ประเมินโดย 1  \\\n",
              "163  https://nayoo.co/khonkaen/posts/6009     2250000     2700000.0   \n",
              "87    https://nayoo.co/khonkaen/posts/707     1450000     2200000.0   \n",
              "161  https://nayoo.co/khonkaen/posts/5995     3000000     3000000.0   \n",
              "49    https://nayoo.co/khonkaen/posts/602     2520000     3300000.0   \n",
              "169  https://nayoo.co/khonkaen/posts/6043     2240000     3500000.0   \n",
              "..                                    ...         ...           ...   \n",
              "121  https://nayoo.co/khonkaen/posts/2180     5000000     4000000.0   \n",
              "109  https://nayoo.co/khonkaen/posts/1885     3500000     3400000.0   \n",
              "107  https://nayoo.co/khonkaen/posts/1858     1500000     2000000.0   \n",
              "101  https://nayoo.co/khonkaen/posts/1614     2500000     2700000.0   \n",
              "127  https://nayoo.co/khonkaen/posts/2247     1900000     2500000.0   \n",
              "\n",
              "     ประเมินโดย 2    Check1    Check2  \n",
              "163     5000000.0  1.200000  2.222222  \n",
              "87      3200000.0  1.517241  2.206897  \n",
              "161     6000000.0  1.000000  2.000000  \n",
              "49      3500000.0  1.309524  1.388889  \n",
              "169     3000000.0  1.562500  1.339286  \n",
              "..            ...       ...       ...  \n",
              "121     5000000.0  1.250000  1.000000  \n",
              "109     3500000.0  1.029412  1.000000  \n",
              "107     1500000.0  1.333333  1.000000  \n",
              "101     2500000.0  1.080000  1.000000  \n",
              "127     1900000.0  1.315789  1.000000  \n",
              "\n",
              "[91 rows x 6 columns]"
            ],
            "text/html": [
              "\n",
              "  <div id=\"df-bd3c8c61-4d02-4e74-a062-d68e8a92b004\">\n",
              "    <div class=\"colab-df-container\">\n",
              "      <div>\n",
              "<style scoped>\n",
              "    .dataframe tbody tr th:only-of-type {\n",
              "        vertical-align: middle;\n",
              "    }\n",
              "\n",
              "    .dataframe tbody tr th {\n",
              "        vertical-align: top;\n",
              "    }\n",
              "\n",
              "    .dataframe thead th {\n",
              "        text-align: right;\n",
              "    }\n",
              "</style>\n",
              "<table border=\"1\" class=\"dataframe\">\n",
              "  <thead>\n",
              "    <tr style=\"text-align: right;\">\n",
              "      <th></th>\n",
              "      <th>post id</th>\n",
              "      <th>ราคาทรัพย์</th>\n",
              "      <th>ประเมินโดย 1</th>\n",
              "      <th>ประเมินโดย 2</th>\n",
              "      <th>Check1</th>\n",
              "      <th>Check2</th>\n",
              "    </tr>\n",
              "  </thead>\n",
              "  <tbody>\n",
              "    <tr>\n",
              "      <th>163</th>\n",
              "      <td>https://nayoo.co/khonkaen/posts/6009</td>\n",
              "      <td>2250000</td>\n",
              "      <td>2700000.0</td>\n",
              "      <td>5000000.0</td>\n",
              "      <td>1.200000</td>\n",
              "      <td>2.222222</td>\n",
              "    </tr>\n",
              "    <tr>\n",
              "      <th>87</th>\n",
              "      <td>https://nayoo.co/khonkaen/posts/707</td>\n",
              "      <td>1450000</td>\n",
              "      <td>2200000.0</td>\n",
              "      <td>3200000.0</td>\n",
              "      <td>1.517241</td>\n",
              "      <td>2.206897</td>\n",
              "    </tr>\n",
              "    <tr>\n",
              "      <th>161</th>\n",
              "      <td>https://nayoo.co/khonkaen/posts/5995</td>\n",
              "      <td>3000000</td>\n",
              "      <td>3000000.0</td>\n",
              "      <td>6000000.0</td>\n",
              "      <td>1.000000</td>\n",
              "      <td>2.000000</td>\n",
              "    </tr>\n",
              "    <tr>\n",
              "      <th>49</th>\n",
              "      <td>https://nayoo.co/khonkaen/posts/602</td>\n",
              "      <td>2520000</td>\n",
              "      <td>3300000.0</td>\n",
              "      <td>3500000.0</td>\n",
              "      <td>1.309524</td>\n",
              "      <td>1.388889</td>\n",
              "    </tr>\n",
              "    <tr>\n",
              "      <th>169</th>\n",
              "      <td>https://nayoo.co/khonkaen/posts/6043</td>\n",
              "      <td>2240000</td>\n",
              "      <td>3500000.0</td>\n",
              "      <td>3000000.0</td>\n",
              "      <td>1.562500</td>\n",
              "      <td>1.339286</td>\n",
              "    </tr>\n",
              "    <tr>\n",
              "      <th>...</th>\n",
              "      <td>...</td>\n",
              "      <td>...</td>\n",
              "      <td>...</td>\n",
              "      <td>...</td>\n",
              "      <td>...</td>\n",
              "      <td>...</td>\n",
              "    </tr>\n",
              "    <tr>\n",
              "      <th>121</th>\n",
              "      <td>https://nayoo.co/khonkaen/posts/2180</td>\n",
              "      <td>5000000</td>\n",
              "      <td>4000000.0</td>\n",
              "      <td>5000000.0</td>\n",
              "      <td>1.250000</td>\n",
              "      <td>1.000000</td>\n",
              "    </tr>\n",
              "    <tr>\n",
              "      <th>109</th>\n",
              "      <td>https://nayoo.co/khonkaen/posts/1885</td>\n",
              "      <td>3500000</td>\n",
              "      <td>3400000.0</td>\n",
              "      <td>3500000.0</td>\n",
              "      <td>1.029412</td>\n",
              "      <td>1.000000</td>\n",
              "    </tr>\n",
              "    <tr>\n",
              "      <th>107</th>\n",
              "      <td>https://nayoo.co/khonkaen/posts/1858</td>\n",
              "      <td>1500000</td>\n",
              "      <td>2000000.0</td>\n",
              "      <td>1500000.0</td>\n",
              "      <td>1.333333</td>\n",
              "      <td>1.000000</td>\n",
              "    </tr>\n",
              "    <tr>\n",
              "      <th>101</th>\n",
              "      <td>https://nayoo.co/khonkaen/posts/1614</td>\n",
              "      <td>2500000</td>\n",
              "      <td>2700000.0</td>\n",
              "      <td>2500000.0</td>\n",
              "      <td>1.080000</td>\n",
              "      <td>1.000000</td>\n",
              "    </tr>\n",
              "    <tr>\n",
              "      <th>127</th>\n",
              "      <td>https://nayoo.co/khonkaen/posts/2247</td>\n",
              "      <td>1900000</td>\n",
              "      <td>2500000.0</td>\n",
              "      <td>1900000.0</td>\n",
              "      <td>1.315789</td>\n",
              "      <td>1.000000</td>\n",
              "    </tr>\n",
              "  </tbody>\n",
              "</table>\n",
              "<p>91 rows × 6 columns</p>\n",
              "</div>\n",
              "      <button class=\"colab-df-convert\" onclick=\"convertToInteractive('df-bd3c8c61-4d02-4e74-a062-d68e8a92b004')\"\n",
              "              title=\"Convert this dataframe to an interactive table.\"\n",
              "              style=\"display:none;\">\n",
              "        \n",
              "  <svg xmlns=\"http://www.w3.org/2000/svg\" height=\"24px\"viewBox=\"0 0 24 24\"\n",
              "       width=\"24px\">\n",
              "    <path d=\"M0 0h24v24H0V0z\" fill=\"none\"/>\n",
              "    <path d=\"M18.56 5.44l.94 2.06.94-2.06 2.06-.94-2.06-.94-.94-2.06-.94 2.06-2.06.94zm-11 1L8.5 8.5l.94-2.06 2.06-.94-2.06-.94L8.5 2.5l-.94 2.06-2.06.94zm10 10l.94 2.06.94-2.06 2.06-.94-2.06-.94-.94-2.06-.94 2.06-2.06.94z\"/><path d=\"M17.41 7.96l-1.37-1.37c-.4-.4-.92-.59-1.43-.59-.52 0-1.04.2-1.43.59L10.3 9.45l-7.72 7.72c-.78.78-.78 2.05 0 2.83L4 21.41c.39.39.9.59 1.41.59.51 0 1.02-.2 1.41-.59l7.78-7.78 2.81-2.81c.8-.78.8-2.07 0-2.86zM5.41 20L4 18.59l7.72-7.72 1.47 1.35L5.41 20z\"/>\n",
              "  </svg>\n",
              "      </button>\n",
              "      \n",
              "  <style>\n",
              "    .colab-df-container {\n",
              "      display:flex;\n",
              "      flex-wrap:wrap;\n",
              "      gap: 12px;\n",
              "    }\n",
              "\n",
              "    .colab-df-convert {\n",
              "      background-color: #E8F0FE;\n",
              "      border: none;\n",
              "      border-radius: 50%;\n",
              "      cursor: pointer;\n",
              "      display: none;\n",
              "      fill: #1967D2;\n",
              "      height: 32px;\n",
              "      padding: 0 0 0 0;\n",
              "      width: 32px;\n",
              "    }\n",
              "\n",
              "    .colab-df-convert:hover {\n",
              "      background-color: #E2EBFA;\n",
              "      box-shadow: 0px 1px 2px rgba(60, 64, 67, 0.3), 0px 1px 3px 1px rgba(60, 64, 67, 0.15);\n",
              "      fill: #174EA6;\n",
              "    }\n",
              "\n",
              "    [theme=dark] .colab-df-convert {\n",
              "      background-color: #3B4455;\n",
              "      fill: #D2E3FC;\n",
              "    }\n",
              "\n",
              "    [theme=dark] .colab-df-convert:hover {\n",
              "      background-color: #434B5C;\n",
              "      box-shadow: 0px 1px 3px 1px rgba(0, 0, 0, 0.15);\n",
              "      filter: drop-shadow(0px 1px 2px rgba(0, 0, 0, 0.3));\n",
              "      fill: #FFFFFF;\n",
              "    }\n",
              "  </style>\n",
              "\n",
              "      <script>\n",
              "        const buttonEl =\n",
              "          document.querySelector('#df-bd3c8c61-4d02-4e74-a062-d68e8a92b004 button.colab-df-convert');\n",
              "        buttonEl.style.display =\n",
              "          google.colab.kernel.accessAllowed ? 'block' : 'none';\n",
              "\n",
              "        async function convertToInteractive(key) {\n",
              "          const element = document.querySelector('#df-bd3c8c61-4d02-4e74-a062-d68e8a92b004');\n",
              "          const dataTable =\n",
              "            await google.colab.kernel.invokeFunction('convertToInteractive',\n",
              "                                                     [key], {});\n",
              "          if (!dataTable) return;\n",
              "\n",
              "          const docLinkHtml = 'Like what you see? Visit the ' +\n",
              "            '<a target=\"_blank\" href=https://colab.research.google.com/notebooks/data_table.ipynb>data table notebook</a>'\n",
              "            + ' to learn more about interactive tables.';\n",
              "          element.innerHTML = '';\n",
              "          dataTable['output_type'] = 'display_data';\n",
              "          await google.colab.output.renderOutput(dataTable, element);\n",
              "          const docLink = document.createElement('div');\n",
              "          docLink.innerHTML = docLinkHtml;\n",
              "          element.appendChild(docLink);\n",
              "        }\n",
              "      </script>\n",
              "    </div>\n",
              "  </div>\n",
              "  "
            ]
          },
          "metadata": {},
          "execution_count": 195
        }
      ]
    },
    {
      "cell_type": "markdown",
      "source": [
        "### Mape Shop house"
      ],
      "metadata": {
        "id": "mEKg6M2Vu_AO"
      }
    },
    {
      "cell_type": "code",
      "source": [
        "shn = pd.read_excel(link,sheet_name='อาคารพาณิชย์')\n",
        "pms1 = shn[shn['ID ผู้ประเมิน']==1]\n",
        "pms1 = pms1.dropna(subset=['ราคาทรัพย์','ประเมินราคาซื้อ-ขาย'])\n",
        "pms2 = shn[shn['ID ผู้ประเมิน']==2]\n",
        "pms2 = pms2.dropna(subset=['ราคาทรัพย์','ประเมินราคาซื้อ-ขาย'])\n",
        "pms1MAPE = mape(pms1['ประเมินราคาซื้อ-ขาย'],pd.to_numeric(pms1['ราคาทรัพย์']))\n",
        "pms2MAPE = mape(pms2['ประเมินราคาซื้อ-ขาย'],pd.to_numeric(pms2['ราคาทรัพย์']))\n",
        "print(f'ความแตกต่างระหว่างราคาประกาศขายและราคาประเมินของ\\nบ้าน\\nนักประเมิน คนที่ 1 = {pms1MAPE*100:.2f}%\\nนักประเมิน คนที่ 2 = {pms2MAPE*100:.2f}%')\n",
        "pms2['ประเมิน2'] = pms2['post id'].map(pms1.set_index('post id')['ประเมินราคาซื้อ-ขาย'])\n",
        "pm2_s = pms2.dropna(subset=['ประเมินราคาซื้อ-ขาย','ประเมิน2','ราคาทรัพย์'])\n",
        "one2twos = mape(pm2_s['ประเมินราคาซื้อ-ขาย'],pm2_s['ประเมิน2'])\n",
        "two2ones = mape(pm2_s['ประเมิน2'],pm2_s['ประเมินราคาซื้อ-ขาย'])\n",
        "print(f'ความผิดพลาดระหว่างนักประเมินทั้ง {((one2twos)+(two2ones))*50:.2f}%')\n",
        "print(f'จำนวนทรัพย์ทั้งหมด {len(pm2_s)} ทรัพย์')"
      ],
      "metadata": {
        "id": "z5T_dOXyPRqG",
        "outputId": "a62fea8e-7d0e-4bf1-e29d-ff8be619440f",
        "colab": {
          "base_uri": "https://localhost:8080/"
        }
      },
      "execution_count": 196,
      "outputs": [
        {
          "output_type": "stream",
          "name": "stdout",
          "text": [
            "ความแตกต่างระหว่างราคาประกาศขายและราคาประเมินของ\n",
            "บ้าน\n",
            "นักประเมิน คนที่ 1 = 20.25%\n",
            "นักประเมิน คนที่ 2 = 9.49%\n",
            "ความผิดพลาดระหว่างนักประเมินทั้ง 12.53%\n",
            "จำนวนทรัพย์ทั้งหมด 91 ทรัพย์\n"
          ]
        }
      ]
    },
    {
      "cell_type": "markdown",
      "source": [],
      "metadata": {
        "id": "YL2oO8M8jBCt"
      }
    },
    {
      "cell_type": "markdown",
      "source": [
        "# HW3"
      ],
      "metadata": {
        "id": "_TA16PQjdsY1"
      }
    },
    {
      "cell_type": "markdown",
      "source": [
        "#visualize แสดงความสัมพันธ์ ราคา(ตั้งขายและประเมิน)-ความมั่นใจ-ให้คะแนนทรัพย์"
      ],
      "metadata": {
        "id": "yZkRzNfddtjK"
      }
    },
    {
      "cell_type": "code",
      "source": [
        "import pandas as pd\n",
        "from matplotlib import pyplot as plt\n",
        "import matplotlib\n",
        "import seaborn as sns\n",
        "from matplotlib.pyplot import figure"
      ],
      "metadata": {
        "id": "DusoTe_jdyZj"
      },
      "execution_count": 197,
      "outputs": []
    },
    {
      "cell_type": "code",
      "source": [
        "!wget -q https://github.com/Phonbopit/sarabun-webfont/raw/master/fonts/thsarabunnew-webfont.ttf\n",
        "matplotlib.font_manager.fontManager.addfont('thsarabunnew-webfont.ttf')\n",
        "matplotlib.rc('font', family='TH Sarabun New')"
      ],
      "metadata": {
        "id": "iy-GNluBBCca"
      },
      "execution_count": 198,
      "outputs": []
    },
    {
      "cell_type": "code",
      "source": [
        "est_list = [datahousen,landn,condon,townhomen,shn]  # List of your dataframes\n",
        "all_est = pd.concat(est_list)\n",
        "all_est.shape\n",
        "all_est_old = all_est"
      ],
      "metadata": {
        "id": "7C_zRI5RTfAF"
      },
      "execution_count": 199,
      "outputs": []
    },
    {
      "cell_type": "code",
      "source": [
        "all = all_est[['ID ผู้ประเมิน','ความมั่นใจในการเมินราคาทรัพย์', 'ราคาทรัพย์', 'ประเมินราคาซื้อ-ขาย',  'ให้คะแนนทรัพย์']]"
      ],
      "metadata": {
        "id": "rY6-k2acYp8P"
      },
      "execution_count": 200,
      "outputs": []
    },
    {
      "cell_type": "code",
      "source": [
        "all_est1 = all_est[all_est['ID ผู้ประเมิน']==1]\n",
        "all_est2 = all_est[all_est['ID ผู้ประเมิน']==2]"
      ],
      "metadata": {
        "id": "zqqlQMQKZCJe"
      },
      "execution_count": 201,
      "outputs": []
    },
    {
      "cell_type": "code",
      "source": [
        "all_est_score = all_est.pivot_table('post id',index='ให้คะแนนทรัพย์',columns='property_type',aggfunc='count').reset_index().fillna(0)"
      ],
      "metadata": {
        "id": "7bdut-nxW2V3"
      },
      "execution_count": 202,
      "outputs": []
    },
    {
      "cell_type": "code",
      "source": [
        "all_est_con = all_est.pivot_table('post id',index='property_type',columns='ความมั่นใจในการเมินราคาทรัพย์',aggfunc='count').reset_index().fillna(0)"
      ],
      "metadata": {
        "id": "fQF-ZLXnaahg"
      },
      "execution_count": 203,
      "outputs": []
    },
    {
      "cell_type": "markdown",
      "source": [
        "## ราคาทรัพย์และการประเมินราคา"
      ],
      "metadata": {
        "id": "aytVEvYXEUwr"
      }
    },
    {
      "cell_type": "code",
      "source": [
        "plt.plot(all['ราคาทรัพย์'], linestyle='-', linewidth=7, color='royalblue', label='ราคาทรัพย์')\n",
        "plt.plot(all_est1['ประเมินราคาซื้อ-ขาย'], linestyle='-', linewidth=5 , color='lightcoral', label='นักประเมินคนที่ 1')\n",
        "plt.plot(all_est2['ประเมินราคาซื้อ-ขาย'], linestyle='-',linewidth=2 , color='yellowgreen',  label='นักประเมินคนที่ 2')\n",
        "plt.title('ราคาทรัพย์และการประเมินราคา')"
      ],
      "metadata": {
        "colab": {
          "base_uri": "https://localhost:8080/",
          "height": 625
        },
        "id": "TZbma49iZyoe",
        "outputId": "edd3aff7-6de1-4896-aa2f-08dfafe8ad93"
      },
      "execution_count": 204,
      "outputs": [
        {
          "output_type": "execute_result",
          "data": {
            "text/plain": [
              "Text(0.5, 1.0, 'ราคาทรัพย์และการประเมินราคา')"
            ]
          },
          "metadata": {},
          "execution_count": 204
        },
        {
          "output_type": "display_data",
          "data": {
            "text/plain": [
              "<Figure size 720x720 with 1 Axes>"
            ],
            "image/png": "[encoded data removed]"
          },
          "metadata": {
            "needs_background": "light"
          }
        }
      ]
    },
    {
      "cell_type": "markdown",
      "source": [
        "## ความมั่นใจในการประเมิน"
      ],
      "metadata": {
        "id": "h6VMVTE4AiRU"
      }
    },
    {
      "cell_type": "code",
      "source": [
        "allc = all.groupby(['ID ผู้ประเมิน','ความมั่นใจในการเมินราคาทรัพย์'])[['ความมั่นใจในการเมินราคาทรัพย์']].count().iloc[:2]"
      ],
      "metadata": {
        "id": "N0aX473rZT8D"
      },
      "execution_count": 205,
      "outputs": []
    },
    {
      "cell_type": "code",
      "source": [
        "plt.rcParams['figure.figsize']=[16,8]\n",
        "plt.suptitle('ความมั่นใจในการประเมินราคาทรัพย์สินต่างๆ', fontsize = 20)\n",
        "\n",
        "plt.barh([1,2],allc['ความมั่นใจในการเมินราคาทรัพย์'],color=['#94B49F','#DF7861']) \n",
        "plt.yticks([1,2],['est1','est2'])\n",
        "plt.title('Home')"
      ],
      "metadata": {
        "colab": {
          "base_uri": "https://localhost:8080/",
          "height": 556
        },
        "id": "RDRKSi-tZeSG",
        "outputId": "a45eb11c-22ac-41a3-f50e-5377c619986d"
      },
      "execution_count": 211,
      "outputs": [
        {
          "output_type": "execute_result",
          "data": {
            "text/plain": [
              "Text(0.5, 1.0, 'Home')"
            ]
          },
          "metadata": {},
          "execution_count": 211
        },
        {
          "output_type": "display_data",
          "data": {
            "text/plain": [
              "<Figure size 1152x576 with 1 Axes>"
            ],
            "image/png": "[encoded data removed]"
          },
          "metadata": {
            "needs_background": "light"
          }
        }
      ]
    },
    {
      "cell_type": "code",
      "source": [
        "matplotlib.rcParams['figure.figsize']=[10,10]\n",
        "name = all_est_score.reset_index()['ให้คะแนนทรัพย์']\n",
        "aaa = all_est_score['คอนโด']\n",
        "bbb = all_est_score['ทาวน์โฮม']\n",
        "ccc = all_est_score['ที่ดิน']\n",
        "ddd = all_est_score['บ้านเดี่ยว']\n",
        "eee = all_est_score['บ้านแฝด']\n",
        "fff = all_est_score['อาคารพาณิชย์/สำนักงาน']\n",
        "x = np.arange(len(aaa))\n",
        "x2=x\n",
        "w=0.2\n",
        "plt.bar(x,aaa,width=w,color='pink',label='SepalLength')\n",
        "x=x+w\n",
        "plt.bar(x,bbb,width=w,color='powderblue',alpha = 0.9,label='SepalWidth')\n",
        "x=x+w\n",
        "plt.bar(x,ccc,width=w,color='plum',alpha = 0.72,label='PetalLength')\n",
        "x=x+w\n",
        "plt.bar(x,ddd,width=w,color='lightgreen',alpha = 0.9,label='PetalWidth')\n",
        "x=x+w\n",
        "plt.bar(x,eee,width=w,color='silver',alpha = 0.9,label='PetalWidth')\n",
        "x=x+w\n",
        "plt.bar(x,fff,width=w,color='beige',alpha = 0.9,label='PetalWidth')\n",
        "plt.xticks(x2+(w+(w/2)),name,rotation=90)\n",
        "plt.legend();\n"
      ],
      "metadata": {
        "colab": {
          "base_uri": "https://localhost:8080/",
          "height": 731
        },
        "id": "N2E3b6p4XKgO",
        "outputId": "1ed24060-6a7c-41ef-9eb0-6945fca13bfc"
      },
      "execution_count": 207,
      "outputs": [
        {
          "output_type": "display_data",
          "data": {
            "text/plain": [
              "<Figure size 720x720 with 1 Axes>"
            ],
            "image/png": "[encoded data removed]"
          },
          "metadata": {
            "needs_background": "light"
          }
        }
      ]
    },
    {
      "cell_type": "markdown",
      "source": [
        "## ความมั่นใจกับสินทรัพย์"
      ],
      "metadata": {
        "id": "-EA71-bzcnGZ"
      }
    },
    {
      "cell_type": "code",
      "source": [
        "# width of the bars\n",
        "barWidth = 0.3\n",
        " \n",
        "# Choose the height of the blue bars\n",
        "bars1 = all_est_con['มั่นใจ']\n",
        " \n",
        "# Choose the height of the cyan bars\n",
        "bars2 = all_est_con['ไม่มั่นใจ']\n",
        " \n",
        "# The x position of bars\n",
        "r1 = np.arange(len(bars1))\n",
        "r2 = [x + barWidth for x in r1]\n",
        " \n",
        "# Create blue bars\n",
        "plt.bar(r1, bars1, width = barWidth, color = 'purple', edgecolor = 'black',capsize=5, label='มั่นใจ')\n",
        " \n",
        "# Create cyan bars\n",
        "plt.bar(r2, bars2, width = barWidth, color = 'red', edgecolor = 'black',capsize=5, label='ไม่มั่นใจ')\n",
        " \n",
        "# general layout\n",
        "plt.xticks([(r + 0.45) - barWidth for r in range(len(bars1))], ['คอนโด','ทาวน์โฮม','ที่ดิน','บ้านเดี่ยว','บ้านแฝด','อาคารพาณิชย์/สำนักงาน'])\n",
        "plt.ylabel('count')\n",
        "plt.xlabel('ความมั่นใจในการเมินราคาทรัพย์')\n",
        "plt.title('ความมั่นใจในการเมินราคาทรัพย์ของสินทรัพย์แต่ละชนิด')\n",
        "plt.legend();\n",
        " \n",
        "# Show graphic\n",
        "plt.show()"
      ],
      "metadata": {
        "colab": {
          "base_uri": "https://localhost:8080/",
          "height": 519
        },
        "id": "YDIEGcpraTF-",
        "outputId": "00f917c1-f25e-41e7-b0bf-f96d8d4cf37f"
      },
      "execution_count": 215,
      "outputs": [
        {
          "output_type": "display_data",
          "data": {
            "text/plain": [
              "<Figure size 1152x576 with 1 Axes>"
            ],
            "image/png": "[encoded data removed]"
          },
          "metadata": {
            "needs_background": "light"
          }
        }
      ]
    }
  ]
}